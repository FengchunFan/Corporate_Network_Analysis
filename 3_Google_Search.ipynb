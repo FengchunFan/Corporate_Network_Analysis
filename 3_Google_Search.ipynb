{
 "cells": [
  {
   "cell_type": "markdown",
   "metadata": {
    "id": "Had8QAc-utG4"
   },
   "source": [
    "Objective:\n",
    "* Go through the list of the target corporate's partners\n",
    "* Make every combination of two partners\n",
    "* Google search the combination\n",
    "* Determine if both partners in one combination appear on the same page"
   ]
  },
  {
   "cell_type": "markdown",
   "metadata": {
    "id": "r8_ZyYD6nQoE"
   },
   "source": [
    "Mainly utilized library:\n",
    "* google search through python: https://pypi.org/project/googlesearch-python/\n",
    "* python ip rotator: https://pypi.org/project/requests-ip-rotator/\n",
    "* AWS web service: https://aws.amazon.com/console/"
   ]
  },
  {
   "cell_type": "markdown",
   "metadata": {
    "id": "dZZP3LXau834"
   },
   "source": [
    "# Load Libraries"
   ]
  },
  {
   "cell_type": "code",
   "execution_count": 1,
   "metadata": {
    "colab": {
     "base_uri": "https://localhost:8080/"
    },
    "executionInfo": {
     "elapsed": 18539,
     "status": "ok",
     "timestamp": 1743055853839,
     "user": {
      "displayName": "Fengchun Fan",
      "userId": "16607154835906475343"
     },
     "user_tz": 420
    },
    "id": "15-nVoF21CGy",
    "outputId": "50372f8e-791d-4fad-f870-f69a27c1aee8"
   },
   "outputs": [
    {
     "name": "stdout",
     "output_type": "stream",
     "text": [
      "Requirement already satisfied: requests in /usr/local/lib/python3.11/dist-packages (2.32.3)\n",
      "Requirement already satisfied: charset-normalizer<4,>=2 in /usr/local/lib/python3.11/dist-packages (from requests) (3.4.1)\n",
      "Requirement already satisfied: idna<4,>=2.5 in /usr/local/lib/python3.11/dist-packages (from requests) (3.10)\n",
      "Requirement already satisfied: urllib3<3,>=1.21.1 in /usr/local/lib/python3.11/dist-packages (from requests) (2.3.0)\n",
      "Requirement already satisfied: certifi>=2017.4.17 in /usr/local/lib/python3.11/dist-packages (from requests) (2025.1.31)\n",
      "Collecting requests-ip-rotator\n",
      "  Downloading requests_ip_rotator-1.0.14-py3-none-any.whl.metadata (8.8 kB)\n",
      "Requirement already satisfied: requests in /usr/local/lib/python3.11/dist-packages (from requests-ip-rotator) (2.32.3)\n",
      "Collecting boto3 (from requests-ip-rotator)\n",
      "  Downloading boto3-1.37.21-py3-none-any.whl.metadata (6.7 kB)\n",
      "Collecting botocore<1.38.0,>=1.37.21 (from boto3->requests-ip-rotator)\n",
      "  Downloading botocore-1.37.21-py3-none-any.whl.metadata (5.7 kB)\n",
      "Collecting jmespath<2.0.0,>=0.7.1 (from boto3->requests-ip-rotator)\n",
      "  Downloading jmespath-1.0.1-py3-none-any.whl.metadata (7.6 kB)\n",
      "Collecting s3transfer<0.12.0,>=0.11.0 (from boto3->requests-ip-rotator)\n",
      "  Downloading s3transfer-0.11.4-py3-none-any.whl.metadata (1.7 kB)\n",
      "Requirement already satisfied: charset-normalizer<4,>=2 in /usr/local/lib/python3.11/dist-packages (from requests->requests-ip-rotator) (3.4.1)\n",
      "Requirement already satisfied: idna<4,>=2.5 in /usr/local/lib/python3.11/dist-packages (from requests->requests-ip-rotator) (3.10)\n",
      "Requirement already satisfied: urllib3<3,>=1.21.1 in /usr/local/lib/python3.11/dist-packages (from requests->requests-ip-rotator) (2.3.0)\n",
      "Requirement already satisfied: certifi>=2017.4.17 in /usr/local/lib/python3.11/dist-packages (from requests->requests-ip-rotator) (2025.1.31)\n",
      "Requirement already satisfied: python-dateutil<3.0.0,>=2.1 in /usr/local/lib/python3.11/dist-packages (from botocore<1.38.0,>=1.37.21->boto3->requests-ip-rotator) (2.8.2)\n",
      "Requirement already satisfied: six>=1.5 in /usr/local/lib/python3.11/dist-packages (from python-dateutil<3.0.0,>=2.1->botocore<1.38.0,>=1.37.21->boto3->requests-ip-rotator) (1.17.0)\n",
      "Downloading requests_ip_rotator-1.0.14-py3-none-any.whl (20 kB)\n",
      "Downloading boto3-1.37.21-py3-none-any.whl (139 kB)\n",
      "\u001b[2K   \u001b[90m━━━━━━━━━━━━━━━━━━━━━━━━━━━━━━━━━━━━━━━━\u001b[0m \u001b[32m139.6/139.6 kB\u001b[0m \u001b[31m5.7 MB/s\u001b[0m eta \u001b[36m0:00:00\u001b[0m\n",
      "\u001b[?25hDownloading botocore-1.37.21-py3-none-any.whl (13.4 MB)\n",
      "\u001b[2K   \u001b[90m━━━━━━━━━━━━━━━━━━━━━━━━━━━━━━━━━━━━━━━━\u001b[0m \u001b[32m13.4/13.4 MB\u001b[0m \u001b[31m49.9 MB/s\u001b[0m eta \u001b[36m0:00:00\u001b[0m\n",
      "\u001b[?25hDownloading jmespath-1.0.1-py3-none-any.whl (20 kB)\n",
      "Downloading s3transfer-0.11.4-py3-none-any.whl (84 kB)\n",
      "\u001b[2K   \u001b[90m━━━━━━━━━━━━━━━━━━━━━━━━━━━━━━━━━━━━━━━━\u001b[0m \u001b[32m84.4/84.4 kB\u001b[0m \u001b[31m5.3 MB/s\u001b[0m eta \u001b[36m0:00:00\u001b[0m\n",
      "\u001b[?25hInstalling collected packages: jmespath, botocore, s3transfer, boto3, requests-ip-rotator\n",
      "Successfully installed boto3-1.37.21 botocore-1.37.21 jmespath-1.0.1 requests-ip-rotator-1.0.14 s3transfer-0.11.4\n"
     ]
    }
   ],
   "source": [
    "# Python google search package\n",
    "# !pip install googlesearch-python\n",
    "\n",
    "# Install requests\n",
    "!pip install requests\n",
    "\n",
    "# Install requests-ip-rotator\n",
    "!pip3 install requests-ip-rotator"
   ]
  },
  {
   "cell_type": "code",
   "execution_count": 2,
   "metadata": {
    "executionInfo": {
     "elapsed": 1204,
     "status": "ok",
     "timestamp": 1743055855056,
     "user": {
      "displayName": "Fengchun Fan",
      "userId": "16607154835906475343"
     },
     "user_tz": 420
    },
    "id": "MsD0K0OFvCJX"
   },
   "outputs": [],
   "source": [
    "# Regular Python Data analyze library\n",
    "import pandas as pd\n",
    "import random\n",
    "\n",
    "# Use to create iterative combinations\n",
    "# import itertools\n",
    "\n",
    "# Google search library\n",
    "# reference: https://pypi.org/project/googlesearch-python/\n",
    "# We have copied the full code in\n",
    "# from googlesearch import search\n",
    "\n",
    "# Web Request\n",
    "import requests\n",
    "\n",
    "# Progress Bar\n",
    "from tqdm import tqdm\n",
    "\n",
    "# Requests-ip-rotator to rotate IP\n",
    "# Aim to avoid 429 HTTP error\n",
    "# Reference: https://github.com/Ge0rg3/requests-ip-rotator\n",
    "from requests_ip_rotator import ApiGateway\n",
    "\n",
    "# Add request error handler\n",
    "from requests.exceptions import HTTPError, ReadTimeout\n",
    "\n",
    "# Import Math\n",
    "import math\n",
    "\n",
    "# Import Regular Expression\n",
    "import re"
   ]
  },
  {
   "cell_type": "markdown",
   "metadata": {
    "id": "bzX4uKkuvAdn"
   },
   "source": [
    "# Prepare Data"
   ]
  },
  {
   "cell_type": "markdown",
   "metadata": {
    "id": "QuD84fSrn_tz"
   },
   "source": [
    "Load in the CSV file containing information about the target corporate's sponsors"
   ]
  },
  {
   "cell_type": "code",
   "execution_count": null,
   "metadata": {
    "colab": {
     "base_uri": "https://localhost:8080/"
    },
    "executionInfo": {
     "elapsed": 28,
     "status": "ok",
     "timestamp": 1743055857353,
     "user": {
      "displayName": "Fengchun Fan",
      "userId": "16607154835906475343"
     },
     "user_tz": 420
    },
    "id": "HkOq6wPGn8nH",
    "outputId": "c88fc246-411a-4367-fca7-e24b955ec5bd"
   },
   "outputs": [
    {
     "name": "stdout",
     "output_type": "stream",
     "text": [
      "Stripped all leading/trailing spaces from string attributes.\n"
     ]
    }
   ],
   "source": [
    "# Load CSV into a Data Pool DataFrame\n",
    "# Change encoding from 'utf-8' to 'latin1' to avoid invalid continuation byte\n",
    "df_pool = pd.read_csv('')\n",
    "\n",
    "# Apply .strip() to all string values in the DataFrame using apply with a lambda function\n",
    "df_pool = df_pool.apply(lambda col: col.map(lambda x: x.strip() if isinstance(x, str) else x))\n",
    "\n",
    "# Now all string values in df_pool will have leading/trailing spaces removed\n",
    "print(\"Stripped all leading/trailing spaces from string attributes.\")"
   ]
  },
  {
   "cell_type": "code",
   "execution_count": null,
   "metadata": {
    "colab": {
     "base_uri": "https://localhost:8080/",
     "height": 610
    },
    "executionInfo": {
     "elapsed": 129,
     "status": "ok",
     "timestamp": 1743055857493,
     "user": {
      "displayName": "Fengchun Fan",
      "userId": "16607154835906475343"
     },
     "user_tz": 420
    },
    "id": "KzKdIt1Lv8pM",
    "outputId": "34a52b9c-ef59-4a87-c3c1-96a9d620698f"
   },
   "outputs": [],
   "source": [
    "# Check dataframe\n",
    "df_pool"
   ]
  },
  {
   "cell_type": "markdown",
   "metadata": {
    "id": "t-A3b1LpwWVt"
   },
   "source": [
    "Now we need to do a filtering, if we will only be focusing on a specific aspect of the dataset.\\\n",
    "For example, the sponsors in state \"MN\" only."
   ]
  },
  {
   "cell_type": "code",
   "execution_count": 5,
   "metadata": {
    "executionInfo": {
     "elapsed": 6,
     "status": "ok",
     "timestamp": 1743055857501,
     "user": {
      "displayName": "Fengchun Fan",
      "userId": "16607154835906475343"
     },
     "user_tz": 420
    },
    "id": "c_bGhTVzwU4h"
   },
   "outputs": [],
   "source": [
    "# Filter the df based on specific needs\n",
    "# df_target = df_pool[df_pool['State'] == 'MN']\n",
    "# df_target = df_pool[df_pool['Type'] == 'npo']\n",
    "\n",
    "# Reset the index of the filtered DataFrame and drop the old index\n",
    "# df_target = df_target.reset_index(drop=True)\n",
    "\n",
    "# If wanting to examine whole data pool, use this line and comment out all previous lines in this cell\n",
    "df_target = df_pool"
   ]
  },
  {
   "cell_type": "code",
   "execution_count": 6,
   "metadata": {
    "executionInfo": {
     "elapsed": 26,
     "status": "ok",
     "timestamp": 1743055857533,
     "user": {
      "displayName": "Fengchun Fan",
      "userId": "16607154835906475343"
     },
     "user_tz": 420
    },
    "id": "GE3OpeOxqgWR"
   },
   "outputs": [],
   "source": [
    "# We dont need any duplications\n",
    "df_target = df_target.drop_duplicates(subset='Sponsors')\n",
    "df_target.reset_index(drop=True, inplace=True)"
   ]
  },
  {
   "cell_type": "code",
   "execution_count": null,
   "metadata": {
    "colab": {
     "base_uri": "https://localhost:8080/",
     "height": 610
    },
    "executionInfo": {
     "elapsed": 15,
     "status": "ok",
     "timestamp": 1743055857549,
     "user": {
      "displayName": "Fengchun Fan",
      "userId": "16607154835906475343"
     },
     "user_tz": 420
    },
    "id": "HY9y3-WKxHTp",
    "outputId": "c57e0c3a-350b-4728-a0fa-4954e4aefe12"
   },
   "outputs": [],
   "source": [
    "# Check target dataframe\n",
    "df_target"
   ]
  },
  {
   "cell_type": "markdown",
   "metadata": {
    "id": "Og3Af7P4xm0-"
   },
   "source": [
    "# Make Combinations of corporate partners"
   ]
  },
  {
   "cell_type": "code",
   "execution_count": 8,
   "metadata": {
    "colab": {
     "base_uri": "https://localhost:8080/"
    },
    "executionInfo": {
     "elapsed": 42,
     "status": "ok",
     "timestamp": 1743055883498,
     "user": {
      "displayName": "Fengchun Fan",
      "userId": "16607154835906475343"
     },
     "user_tz": 420
    },
    "id": "bdwDpryIxpPB",
    "outputId": "d1593ac1-ee82-48b0-c0ad-137d7384c612"
   },
   "outputs": [
    {
     "name": "stdout",
     "output_type": "stream",
     "text": [
      "Unique number of Sponsors: 14\n"
     ]
    }
   ],
   "source": [
    "# Make a list of selected sponsors\n",
    "# Make sure they are unique\n",
    "Sponsor_list = df_target['Sponsors'].tolist()\n",
    "print(\"Unique number of Sponsors:\", len(Sponsor_list))"
   ]
  },
  {
   "cell_type": "code",
   "execution_count": 9,
   "metadata": {
    "executionInfo": {
     "elapsed": 1,
     "status": "ok",
     "timestamp": 1743055883500,
     "user": {
      "displayName": "Fengchun Fan",
      "userId": "16607154835906475343"
     },
     "user_tz": 420
    },
    "id": "TBx5vZzyQuTC"
   },
   "outputs": [],
   "source": [
    "# We can use a small portion of the Sponsor list for testing purposes\n",
    "# Sponsor_list = Sponsor_list[:30]\n",
    "# Sponsor_list"
   ]
  },
  {
   "cell_type": "code",
   "execution_count": 10,
   "metadata": {
    "executionInfo": {
     "elapsed": 2,
     "status": "ok",
     "timestamp": 1743055883502,
     "user": {
      "displayName": "Fengchun Fan",
      "userId": "16607154835906475343"
     },
     "user_tz": 420
    },
    "id": "Xik49cq3zfx2"
   },
   "outputs": [],
   "source": [
    "# Use iteration tool to create every combination of two partners\n",
    "# Sponsor_combinations = list(itertools.combinations(Sponsor_list, 2))\n",
    "\n",
    "# Maually create every combination of two partners\n",
    "Sponsor_combinations = []\n",
    "for i in range(len(Sponsor_list)):\n",
    "  for j in range(i + 1, len(Sponsor_list)):\n",
    "    Sponsor_combinations.append((Sponsor_list[i], Sponsor_list[j]))"
   ]
  },
  {
   "cell_type": "code",
   "execution_count": 11,
   "metadata": {
    "colab": {
     "base_uri": "https://localhost:8080/"
    },
    "executionInfo": {
     "elapsed": 5,
     "status": "ok",
     "timestamp": 1743055883508,
     "user": {
      "displayName": "Fengchun Fan",
      "userId": "16607154835906475343"
     },
     "user_tz": 420
    },
    "id": "yJwxZAPc0F82",
    "outputId": "37a32eef-b751-42e4-b295-538cdbc381a7"
   },
   "outputs": [
    {
     "name": "stdout",
     "output_type": "stream",
     "text": [
      "Sponsor list length: 14\n",
      "First Combination: ('Access to Capital for Entrepreneurs', 'Advanced System Development')\n",
      "Last Combination: ('University of Georgia Small Business Development Center', 'bip ventures')\n",
      "Total number of Combinations: 91\n"
     ]
    }
   ],
   "source": [
    "# Check if the list is successfully created\n",
    "print(\"Sponsor list length:\", len(Sponsor_list))\n",
    "print(\"First Combination:\", Sponsor_combinations[0])\n",
    "print(\"Last Combination:\", Sponsor_combinations[len(Sponsor_combinations) - 1])\n",
    "print(\"Total number of Combinations:\", len(Sponsor_combinations))"
   ]
  },
  {
   "cell_type": "markdown",
   "metadata": {
    "id": "5PsD5OEqd6MQ"
   },
   "source": [
    "# Modify code from original python library: googlesearch-python\n",
    "\n",
    "original website: https://pypi.org/project/googlesearch-python/#description \\\n",
    "original code: https://github.com/Nv7-GitHub/googlesearch"
   ]
  },
  {
   "cell_type": "code",
   "execution_count": 12,
   "metadata": {
    "executionInfo": {
     "elapsed": 15,
     "status": "ok",
     "timestamp": 1743055910430,
     "user": {
      "displayName": "Fengchun Fan",
      "userId": "16607154835906475343"
     },
     "user_tz": 420
    },
    "id": "_8HH-nPwRVan"
   },
   "outputs": [],
   "source": [
    "import random\n",
    "\n",
    "def get_useragent():\n",
    "    \"\"\"\n",
    "    Generates a random user agent string mimicking the format of various software versions.\n",
    "\n",
    "    The user agent string is composed of:\n",
    "    - Lynx version: Lynx/x.y.z where x is 2-3, y is 8-9, and z is 0-2\n",
    "    - libwww version: libwww-FM/x.y where x is 2-3 and y is 13-15\n",
    "    - SSL-MM version: SSL-MM/x.y where x is 1-2 and y is 3-5\n",
    "    - OpenSSL version: OpenSSL/x.y.z where x is 1-3, y is 0-4, and z is 0-9\n",
    "\n",
    "    Returns:\n",
    "        str: A randomly generated user agent string.\n",
    "    \"\"\"\n",
    "    lynx_version = f\"Lynx/{random.randint(2, 3)}.{random.randint(8, 9)}.{random.randint(0, 2)}\"\n",
    "    libwww_version = f\"libwww-FM/{random.randint(2, 3)}.{random.randint(13, 15)}\"\n",
    "    ssl_mm_version = f\"SSL-MM/{random.randint(1, 2)}.{random.randint(3, 5)}\"\n",
    "    openssl_version = f\"OpenSSL/{random.randint(1, 3)}.{random.randint(0, 4)}.{random.randint(0, 9)}\"\n",
    "    return f\"{lynx_version} {libwww_version} {ssl_mm_version} {openssl_version}\""
   ]
  },
  {
   "cell_type": "code",
   "execution_count": 13,
   "metadata": {
    "executionInfo": {
     "elapsed": 368,
     "status": "ok",
     "timestamp": 1743055910812,
     "user": {
      "displayName": "Fengchun Fan",
      "userId": "16607154835906475343"
     },
     "user_tz": 420
    },
    "id": "O8PnEU58RHD2"
   },
   "outputs": [],
   "source": [
    "\"\"\"googlesearch is a Python library for searching Google, easily.\"\"\"\n",
    "from time import sleep\n",
    "from bs4 import BeautifulSoup\n",
    "from requests import get\n",
    "from urllib.parse import unquote # to decode the url\n",
    "\n",
    "\n",
    "def _req(term, results, lang, start, proxies, timeout, safe, ssl_verify, region):\n",
    "    resp = session.get(\n",
    "        url=\"https://www.google.com/search\",\n",
    "        headers={\n",
    "            \"User-Agent\": get_useragent(),\n",
    "            \"Accept\": \"*/*\"\n",
    "        },\n",
    "        params={\n",
    "            \"q\": term,\n",
    "            \"num\": results + 2,  # Prevents multiple requests\n",
    "            \"hl\": lang,\n",
    "            \"start\": start,\n",
    "            \"safe\": safe,\n",
    "            \"gl\": region,\n",
    "        },\n",
    "        proxies=proxies,\n",
    "        timeout=timeout,\n",
    "        verify=ssl_verify,\n",
    "        cookies = {\n",
    "            'CONSENT': 'PENDING+987', # Bypasses the consent page\n",
    "            'SOCS': 'CAESHAgBEhIaAB',\n",
    "        }\n",
    "    )\n",
    "    resp.raise_for_status()\n",
    "    return resp\n",
    "\n",
    "\n",
    "class SearchResult:\n",
    "    def __init__(self, url, title, description):\n",
    "        self.url = url\n",
    "        self.title = title\n",
    "        self.description = description\n",
    "\n",
    "    def __repr__(self):\n",
    "        return f\"SearchResult(url={self.url}, title={self.title}, description={self.description})\"\n",
    "\n",
    "\n",
    "def search(term, num_results=10, lang=\"en\", proxy=None, advanced=False, sleep_interval=0, timeout=5, safe=\"active\", ssl_verify=None, region=None, start_num=0, unique=False):\n",
    "    \"\"\"Search the Google search engine\"\"\"\n",
    "\n",
    "    # Proxy setup\n",
    "    proxies = {\"https\": proxy, \"http\": proxy} if proxy and (proxy.startswith(\"https\") or proxy.startswith(\"http\") or proxy.startswith(\"socks5\")) else None\n",
    "\n",
    "    start = start_num\n",
    "    fetched_results = 0  # Keep track of the total fetched results\n",
    "    fetched_links = set() # to keep track of links that are already seen previously\n",
    "\n",
    "    while fetched_results < num_results:\n",
    "        # Send request\n",
    "        resp = _req(term, num_results - start,\n",
    "                    lang, start, proxies, timeout, safe, ssl_verify, region)\n",
    "\n",
    "        # put in file - comment for debugging purpose\n",
    "        # with open('google.html', 'w') as f:\n",
    "        #     f.write(resp.text)\n",
    "\n",
    "        # Parse\n",
    "        soup = BeautifulSoup(resp.text, \"html.parser\")\n",
    "        result_block = soup.find_all(\"div\", class_=\"ezO2md\")\n",
    "        new_results = 0  # Keep track of new results in this iteration\n",
    "\n",
    "        for result in result_block:\n",
    "            # Find the link tag within the result block\n",
    "            link_tag = result.find(\"a\", href=True)\n",
    "            # Find the title tag within the link tag\n",
    "            title_tag = link_tag.find(\"span\", class_=\"CVA68e\") if link_tag else None\n",
    "            # Find the description tag within the result block\n",
    "            description_tag = result.find(\"span\", class_=\"FrIlee\")\n",
    "\n",
    "            # Check if all necessary tags are found\n",
    "            if link_tag and title_tag and description_tag:\n",
    "                # Extract and decode the link URL\n",
    "                link = unquote(link_tag[\"href\"].split(\"&\")[0].replace(\"/url?q=\", \"\")) if link_tag else \"\"\n",
    "            # Extract and decode the link URL\n",
    "            link = unquote(link_tag[\"href\"].split(\"&\")[0].replace(\"/url?q=\", \"\")) if link_tag else \"\"\n",
    "            # Check if the link has already been fetched and if unique results are required\n",
    "            if link in fetched_links and unique:\n",
    "                continue  # Skip this result if the link is not unique\n",
    "            # Add the link to the set of fetched links\n",
    "            fetched_links.add(link)\n",
    "            # Extract the title text\n",
    "            title = title_tag.text if title_tag else \"\"\n",
    "            # Extract the description text\n",
    "            description = description_tag.text if description_tag else \"\"\n",
    "            # Increment the count of fetched results\n",
    "            fetched_results += 1\n",
    "            # Increment the count of new results in this iteration\n",
    "            new_results += 1\n",
    "            # Yield the result based on the advanced flag\n",
    "            if advanced:\n",
    "                yield SearchResult(link, title, description)  # Yield a SearchResult object\n",
    "            else:\n",
    "                yield link  # Yield only the link\n",
    "\n",
    "            if fetched_results >= num_results:\n",
    "                break  # Stop if we have fetched the desired number of results\n",
    "\n",
    "        if new_results == 0:\n",
    "            #If you want to have printed to your screen that the desired amount of queries can not been fulfilled, uncomment the line below:\n",
    "            #print(f\"Only {fetched_results} results found for query requiring {num_results} results. Moving on to the next query.\")\n",
    "            break  # Break the loop if no new results were found in this iteration\n",
    "\n",
    "        start += 10  # Prepare for the next set of results\n",
    "        sleep(sleep_interval)"
   ]
  },
  {
   "cell_type": "markdown",
   "metadata": {
    "id": "u9jzvSiJ00wx"
   },
   "source": [
    "# Prepare information per Sponsor"
   ]
  },
  {
   "cell_type": "markdown",
   "metadata": {
    "id": "urEbTMxgHIPJ"
   },
   "source": [
    "For each combination pair, google search the query through googlesearch-python \\\n",
    "Reference: https://pypi.org/project/googlesearch-python/"
   ]
  },
  {
   "cell_type": "code",
   "execution_count": 14,
   "metadata": {
    "executionInfo": {
     "elapsed": 15,
     "status": "ok",
     "timestamp": 1743055910826,
     "user": {
      "displayName": "Fengchun Fan",
      "userId": "16607154835906475343"
     },
     "user_tz": 420
    },
    "id": "F6PiMl7yoVbg"
   },
   "outputs": [],
   "source": [
    "# Helper function to check NAN\n",
    "def is_nan(value):\n",
    "  \"\"\"Check if the given value is NaN.\"\"\"\n",
    "  return isinstance(value, float) and math.isnan(value)"
   ]
  },
  {
   "cell_type": "code",
   "execution_count": 15,
   "metadata": {
    "executionInfo": {
     "elapsed": 40,
     "status": "ok",
     "timestamp": 1743055910873,
     "user": {
      "displayName": "Fengchun Fan",
      "userId": "16607154835906475343"
     },
     "user_tz": 420
    },
    "id": "V3j4VhJspssP"
   },
   "outputs": [],
   "source": [
    "# Let's create two dictionaries\n",
    "# Dicionary 1, Key: company name, Value: its home url\n",
    "Sponsor_urls = {}\n",
    "# Dicionary 2, Key: company name, Value: its possible short name\n",
    "Sponsor_shortnames = {}\n",
    "# Dictionary 3, Key: company name, Value: its domain\n",
    "Sponsor_domains = {}"
   ]
  },
  {
   "cell_type": "code",
   "execution_count": 16,
   "metadata": {
    "executionInfo": {
     "elapsed": 1,
     "status": "ok",
     "timestamp": 1743055910875,
     "user": {
      "displayName": "Fengchun Fan",
      "userId": "16607154835906475343"
     },
     "user_tz": 420
    },
    "id": "8bQrJ_Z6qVz-"
   },
   "outputs": [],
   "source": [
    "# Iterate through each row in the DataFrame\n",
    "for idx, row in df_target.iterrows():\n",
    "  company_name = row['Sponsors']\n",
    "  Sponsor_urls[company_name] = row['Sponsor_URL']\n",
    "  Sponsor_shortnames[company_name] = row['Sponsor_Shortname']\n",
    "  Sponsor_domains[company_name] = row['Sponsor_Domain']"
   ]
  },
  {
   "cell_type": "markdown",
   "metadata": {
    "id": "EJk3quIoItbY"
   },
   "source": [
    "# Google Search the Combinations and Determine if Both Partners in one Combination Appear on the Same Page"
   ]
  },
  {
   "cell_type": "markdown",
   "metadata": {
    "id": "uUFgW2N9nr34"
   },
   "source": [
    "Issue:\n",
    "* (Unsolved) Google autofilling \"suggested\" searching results\n",
    "* (Solved) Google's 429 Client Error: giving too many request at a certain timestance. Unfortunately we don't know the exact timestance and request rate, can only be temporarily prevented or delayed by adding sleep().\n",
    "  * Cannot be solved using rolling proxy\n",
    "  * Solved via rotate-ip library with modified googlesearch library\n",
    "* (Solved) Amazon Web API ReadTimeout Error"
   ]
  },
  {
   "cell_type": "code",
   "execution_count": null,
   "metadata": {
    "colab": {
     "base_uri": "https://localhost:8080/"
    },
    "executionInfo": {
     "elapsed": 4335,
     "status": "ok",
     "timestamp": 1743056032615,
     "user": {
      "displayName": "Fengchun Fan",
      "userId": "16607154835906475343"
     },
     "user_tz": 420
    },
    "id": "3KfFvwEWkmgN",
    "outputId": "b08e85a8-d9c4-42db-9b07-a0c90de4e343"
   },
   "outputs": [
    {
     "name": "stdout",
     "output_type": "stream",
     "text": [
      "Starting API gateways in 10 regions.\n",
      "Using 10 endpoints with name 'https://www.google.com - IP Rotate API' (10 new).\n"
     ]
    }
   ],
   "source": [
    "# Create gateway object and initialise in AWS\n",
    "gateway = ApiGateway(\"https://www.google.com\",\n",
    "                     access_key_id=\"\",\n",
    "                     access_key_secret=\"\")\n",
    "gateway.start()\n",
    "\n",
    "# Assign gateway to session\n",
    "session = requests.Session()\n",
    "session.mount(\"https://www.google.com\", gateway)"
   ]
  },
  {
   "cell_type": "code",
   "execution_count": null,
   "metadata": {},
   "outputs": [],
   "source": [
    "target = \"\""
   ]
  },
  {
   "cell_type": "code",
   "execution_count": null,
   "metadata": {
    "colab": {
     "base_uri": "https://localhost:8080/"
    },
    "executionInfo": {
     "elapsed": 162154,
     "status": "ok",
     "timestamp": 1743056194772,
     "user": {
      "displayName": "Fengchun Fan",
      "userId": "16607154835906475343"
     },
     "user_tz": 420
    },
    "id": "A7qj4K2W02yU",
    "outputId": "8fd1e9b9-24c1-424c-f8ff-eef2b570e08e"
   },
   "outputs": [
    {
     "name": "stderr",
     "output_type": "stream",
     "text": [
      "Processing combinations:   2%|▏         | 2/91 [00:02<01:31,  1.02s/it]"
     ]
    },
    {
     "name": "stdout",
     "output_type": "stream",
     "text": [
      "429 Too Many Requests detected, will restart soon\n",
      "429 Too Many Requests detected, will restart soon\n"
     ]
    },
    {
     "name": "stderr",
     "output_type": "stream",
     "text": [
      "\rProcessing combinations:   3%|▎         | 3/91 [00:08<05:23,  3.67s/it]"
     ]
    },
    {
     "name": "stdout",
     "output_type": "stream",
     "text": [
      "429 Too Many Requests detected, will restart soon\n",
      "429 Too Many Requests detected, will restart soon\n",
      "429 Too Many Requests detected, will restart soon\n",
      "429 Too Many Requests detected, will restart soon\n"
     ]
    },
    {
     "name": "stderr",
     "output_type": "stream",
     "text": [
      "\rProcessing combinations:   4%|▍         | 4/91 [00:13<06:03,  4.18s/it]"
     ]
    },
    {
     "name": "stdout",
     "output_type": "stream",
     "text": [
      "429 Too Many Requests detected, will restart soon\n"
     ]
    },
    {
     "name": "stderr",
     "output_type": "stream",
     "text": [
      "Processing combinations:  10%|▉         | 9/91 [00:16<01:20,  1.02it/s]"
     ]
    },
    {
     "name": "stdout",
     "output_type": "stream",
     "text": [
      "429 Too Many Requests detected, will restart soon\n",
      "429 Too Many Requests detected, will restart soon\n",
      "429 Too Many Requests detected, will restart soon\n",
      "429 Too Many Requests detected, will restart soon\n",
      "429 Too Many Requests detected, will restart soon\n",
      "429 Too Many Requests detected, will restart soon\n",
      "429 Too Many Requests detected, will restart soon\n",
      "429 Too Many Requests detected, will restart soon\n",
      "429 Too Many Requests detected, will restart soon\n"
     ]
    },
    {
     "name": "stderr",
     "output_type": "stream",
     "text": [
      "\rProcessing combinations:  11%|█         | 10/91 [00:28<05:53,  4.36s/it]"
     ]
    },
    {
     "name": "stdout",
     "output_type": "stream",
     "text": [
      "429 Too Many Requests detected, will restart soon\n"
     ]
    },
    {
     "name": "stderr",
     "output_type": "stream",
     "text": [
      "Processing combinations:  16%|█▋        | 15/91 [00:30<01:24,  1.12s/it]"
     ]
    },
    {
     "name": "stdout",
     "output_type": "stream",
     "text": [
      "429 Too Many Requests detected, will restart soon\n"
     ]
    },
    {
     "name": "stderr",
     "output_type": "stream",
     "text": [
      "\rProcessing combinations:  18%|█▊        | 16/91 [00:32<01:26,  1.15s/it]"
     ]
    },
    {
     "name": "stdout",
     "output_type": "stream",
     "text": [
      "429 Too Many Requests detected, will restart soon\n",
      "429 Too Many Requests detected, will restart soon\n"
     ]
    },
    {
     "name": "stderr",
     "output_type": "stream",
     "text": [
      "Processing combinations:  29%|██▊       | 26/91 [00:41<00:41,  1.56it/s]"
     ]
    },
    {
     "name": "stdout",
     "output_type": "stream",
     "text": [
      "429 Too Many Requests detected, will restart soon\n"
     ]
    },
    {
     "name": "stderr",
     "output_type": "stream",
     "text": [
      "Processing combinations:  31%|███       | 28/91 [00:43<00:54,  1.15it/s]"
     ]
    },
    {
     "name": "stdout",
     "output_type": "stream",
     "text": [
      "429 Too Many Requests detected, will restart soon\n"
     ]
    },
    {
     "name": "stderr",
     "output_type": "stream",
     "text": [
      "\rProcessing combinations:  32%|███▏      | 29/91 [00:45<01:01,  1.01it/s]"
     ]
    },
    {
     "name": "stdout",
     "output_type": "stream",
     "text": [
      "429 Too Many Requests detected, will restart soon\n"
     ]
    },
    {
     "name": "stderr",
     "output_type": "stream",
     "text": [
      "Processing combinations:  36%|███▋      | 33/91 [00:48<00:43,  1.34it/s]"
     ]
    },
    {
     "name": "stdout",
     "output_type": "stream",
     "text": [
      "429 Too Many Requests detected, will restart soon\n",
      "429 Too Many Requests detected, will restart soon\n"
     ]
    },
    {
     "name": "stderr",
     "output_type": "stream",
     "text": [
      "Processing combinations:  38%|███▊      | 35/91 [00:52<01:14,  1.32s/it]"
     ]
    },
    {
     "name": "stdout",
     "output_type": "stream",
     "text": [
      "429 Too Many Requests detected, will restart soon\n",
      "429 Too Many Requests detected, will restart soon\n",
      "429 Too Many Requests detected, will restart soon\n",
      "429 Too Many Requests detected, will restart soon\n",
      "429 Too Many Requests detected, will restart soon\n",
      "429 Too Many Requests detected, will restart soon\n",
      "429 Too Many Requests detected, will restart soon\n",
      "429 Too Many Requests detected, will restart soon\n"
     ]
    },
    {
     "name": "stderr",
     "output_type": "stream",
     "text": [
      "Processing combinations:  42%|████▏     | 38/91 [01:03<01:58,  2.24s/it]"
     ]
    },
    {
     "name": "stdout",
     "output_type": "stream",
     "text": [
      "429 Too Many Requests detected, will restart soon\n"
     ]
    },
    {
     "name": "stderr",
     "output_type": "stream",
     "text": [
      "Processing combinations:  51%|█████     | 46/91 [01:09<00:31,  1.43it/s]"
     ]
    },
    {
     "name": "stdout",
     "output_type": "stream",
     "text": [
      "429 Too Many Requests detected, will restart soon\n",
      "429 Too Many Requests detected, will restart soon\n"
     ]
    },
    {
     "name": "stderr",
     "output_type": "stream",
     "text": [
      "Processing combinations:  53%|█████▎    | 48/91 [01:14<00:59,  1.39s/it]"
     ]
    },
    {
     "name": "stdout",
     "output_type": "stream",
     "text": [
      "429 Too Many Requests detected, will restart soon\n",
      "429 Too Many Requests detected, will restart soon\n",
      "429 Too Many Requests detected, will restart soon\n",
      "429 Too Many Requests detected, will restart soon\n",
      "429 Too Many Requests detected, will restart soon\n",
      "429 Too Many Requests detected, will restart soon\n",
      "429 Too Many Requests detected, will restart soon\n",
      "429 Too Many Requests detected, will restart soon\n",
      "429 Too Many Requests detected, will restart soon\n"
     ]
    },
    {
     "name": "stderr",
     "output_type": "stream",
     "text": [
      "\rProcessing combinations:  54%|█████▍    | 49/91 [01:23<02:34,  3.68s/it]"
     ]
    },
    {
     "name": "stdout",
     "output_type": "stream",
     "text": [
      "429 Too Many Requests detected, will restart soon\n",
      "429 Too Many Requests detected, will restart soon\n",
      "429 Too Many Requests detected, will restart soon\n",
      "429 Too Many Requests detected, will restart soon\n",
      "429 Too Many Requests detected, will restart soon\n",
      "429 Too Many Requests detected, will restart soon\n",
      "429 Too Many Requests detected, will restart soon\n",
      "429 Too Many Requests detected, will restart soon\n",
      "429 Too Many Requests detected, will restart soon\n",
      "429 Too Many Requests detected, will restart soon\n"
     ]
    },
    {
     "name": "stderr",
     "output_type": "stream",
     "text": [
      "\rProcessing combinations:  55%|█████▍    | 50/91 [01:34<04:03,  5.93s/it]"
     ]
    },
    {
     "name": "stdout",
     "output_type": "stream",
     "text": [
      "429 Too Many Requests detected, will restart soon\n",
      "429 Too Many Requests detected, will restart soon\n",
      "429 Too Many Requests detected, will restart soon\n",
      "429 Too Many Requests detected, will restart soon\n",
      "429 Too Many Requests detected, will restart soon\n",
      "429 Too Many Requests detected, will restart soon\n"
     ]
    },
    {
     "name": "stderr",
     "output_type": "stream",
     "text": [
      "Processing combinations:  59%|█████▉    | 54/91 [01:41<01:31,  2.47s/it]"
     ]
    },
    {
     "name": "stdout",
     "output_type": "stream",
     "text": [
      "429 Too Many Requests detected, will restart soon\n",
      "429 Too Many Requests detected, will restart soon\n",
      "429 Too Many Requests detected, will restart soon\n",
      "429 Too Many Requests detected, will restart soon\n",
      "429 Too Many Requests detected, will restart soon\n",
      "429 Too Many Requests detected, will restart soon\n",
      "429 Too Many Requests detected, will restart soon\n",
      "429 Too Many Requests detected, will restart soon\n",
      "429 Too Many Requests detected, will restart soon\n"
     ]
    },
    {
     "name": "stderr",
     "output_type": "stream",
     "text": [
      "\rProcessing combinations:  60%|██████    | 55/91 [01:54<03:22,  5.62s/it]"
     ]
    },
    {
     "name": "stdout",
     "output_type": "stream",
     "text": [
      "429 Too Many Requests detected, will restart soon\n"
     ]
    },
    {
     "name": "stderr",
     "output_type": "stream",
     "text": [
      "\rProcessing combinations:  62%|██████▏   | 56/91 [01:55<02:22,  4.08s/it]"
     ]
    },
    {
     "name": "stdout",
     "output_type": "stream",
     "text": [
      "429 Too Many Requests detected, will restart soon\n",
      "429 Too Many Requests detected, will restart soon\n"
     ]
    },
    {
     "name": "stderr",
     "output_type": "stream",
     "text": [
      "Processing combinations:  64%|██████▎   | 58/91 [01:59<01:35,  2.89s/it]"
     ]
    },
    {
     "name": "stdout",
     "output_type": "stream",
     "text": [
      "429 Too Many Requests detected, will restart soon\n"
     ]
    },
    {
     "name": "stderr",
     "output_type": "stream",
     "text": [
      "\rProcessing combinations:  65%|██████▍   | 59/91 [02:02<01:35,  2.97s/it]"
     ]
    },
    {
     "name": "stdout",
     "output_type": "stream",
     "text": [
      "429 Too Many Requests detected, will restart soon\n",
      "429 Too Many Requests detected, will restart soon\n"
     ]
    },
    {
     "name": "stderr",
     "output_type": "stream",
     "text": [
      "Processing combinations:  67%|██████▋   | 61/91 [02:05<01:03,  2.13s/it]"
     ]
    },
    {
     "name": "stdout",
     "output_type": "stream",
     "text": [
      "429 Too Many Requests detected, will restart soon\n",
      "429 Too Many Requests detected, will restart soon\n",
      "429 Too Many Requests detected, will restart soon\n"
     ]
    },
    {
     "name": "stderr",
     "output_type": "stream",
     "text": [
      "\rProcessing combinations:  68%|██████▊   | 62/91 [02:10<01:29,  3.09s/it]"
     ]
    },
    {
     "name": "stdout",
     "output_type": "stream",
     "text": [
      "429 Too Many Requests detected, will restart soon\n",
      "429 Too Many Requests detected, will restart soon\n"
     ]
    },
    {
     "name": "stderr",
     "output_type": "stream",
     "text": [
      "Processing combinations:  70%|███████   | 64/91 [02:12<00:53,  1.98s/it]"
     ]
    },
    {
     "name": "stdout",
     "output_type": "stream",
     "text": [
      "429 Too Many Requests detected, will restart soon\n"
     ]
    },
    {
     "name": "stderr",
     "output_type": "stream",
     "text": [
      "Processing combinations:  80%|████████  | 73/91 [02:17<00:09,  1.99it/s]"
     ]
    },
    {
     "name": "stdout",
     "output_type": "stream",
     "text": [
      "429 Too Many Requests detected, will restart soon\n"
     ]
    },
    {
     "name": "stderr",
     "output_type": "stream",
     "text": [
      "Processing combinations:  90%|█████████ | 82/91 [02:22<00:04,  2.07it/s]"
     ]
    },
    {
     "name": "stdout",
     "output_type": "stream",
     "text": [
      "429 Too Many Requests detected, will restart soon\n",
      "429 Too Many Requests detected, will restart soon\n",
      "429 Too Many Requests detected, will restart soon\n",
      "429 Too Many Requests detected, will restart soon\n",
      "429 Too Many Requests detected, will restart soon\n",
      "429 Too Many Requests detected, will restart soon\n"
     ]
    },
    {
     "name": "stderr",
     "output_type": "stream",
     "text": [
      "\rProcessing combinations:  91%|█████████ | 83/91 [02:30<00:22,  2.79s/it]"
     ]
    },
    {
     "name": "stdout",
     "output_type": "stream",
     "text": [
      "429 Too Many Requests detected, will restart soon\n"
     ]
    },
    {
     "name": "stderr",
     "output_type": "stream",
     "text": [
      "Processing combinations:  93%|█████████▎| 85/91 [02:33<00:12,  2.14s/it]"
     ]
    },
    {
     "name": "stdout",
     "output_type": "stream",
     "text": [
      "429 Too Many Requests detected, will restart soon\n"
     ]
    },
    {
     "name": "stderr",
     "output_type": "stream",
     "text": [
      "\rProcessing combinations:  95%|█████████▍| 86/91 [02:35<00:09,  1.83s/it]"
     ]
    },
    {
     "name": "stdout",
     "output_type": "stream",
     "text": [
      "429 Too Many Requests detected, will restart soon\n"
     ]
    },
    {
     "name": "stderr",
     "output_type": "stream",
     "text": [
      "Processing combinations:  98%|█████████▊| 89/91 [02:38<00:02,  1.41s/it]"
     ]
    },
    {
     "name": "stdout",
     "output_type": "stream",
     "text": [
      "429 Too Many Requests detected, will restart soon\n",
      "429 Too Many Requests detected, will restart soon\n"
     ]
    },
    {
     "name": "stderr",
     "output_type": "stream",
     "text": [
      "\rProcessing combinations:  99%|█████████▉| 90/91 [02:40<00:01,  1.53s/it]"
     ]
    },
    {
     "name": "stdout",
     "output_type": "stream",
     "text": [
      "429 Too Many Requests detected, will restart soon\n"
     ]
    },
    {
     "name": "stderr",
     "output_type": "stream",
     "text": [
      "Processing combinations: 100%|██████████| 91/91 [02:42<00:00,  1.78s/it]\n"
     ]
    }
   ],
   "source": [
    "# Initialize an empty list to store search results\n",
    "search_results = []\n",
    "retries = 10\n",
    "\n",
    "# Loop through all combinations and track progress\n",
    "for index, combination in tqdm(enumerate(Sponsor_combinations, 1), total=len(Sponsor_combinations), desc=\"Processing combinations\"):\n",
    "  # Add a try and catch\n",
    "  for attempt in range(retries):\n",
    "    try:\n",
    "      # Create the search query by joining the two sponsors\n",
    "      # We want to use exact match, that both company name (exact name) must be appearing in the search results\n",
    "      query = f\"\\\"{combination[0]}\\\" \\\"{combination[1]}\\\"\"\n",
    "      # Perform a Google search and fetch the top 5 URLs\n",
    "      # We will use advanced search to simulate actual google search\n",
    "      top_urls = list(search(query, num_results=10, advanced=True))\n",
    "      break  # If successful, break out of the retry loop\n",
    "    # if 429 Error happens, quickly catch and restart as we are rolling IPs ;)\n",
    "    # Same for ReadTimeout Error from Amazon Web API\n",
    "    except HTTPError as http_err:\n",
    "      if http_err.response.status_code == 429:\n",
    "        print(\"429 Too Many Requests detected, will restart soon\")\n",
    "      else:\n",
    "        raise http_err\n",
    "    except ReadTimeout:\n",
    "        print(f\"ReadTimeout detected on attempt {attempt + 1}, retrying...\")\n",
    "\n",
    "  # Initialize variables\n",
    "  Predicted_label = -1\n",
    "  Representing_result = None\n",
    "  # Next we will do a relationship prediction\n",
    "\n",
    "  # -1: Something wrong with the searching process\n",
    "\n",
    "  # 0.5: These two companys could potentially be partner, we are not sure\n",
    "  # Happens when the relationship is not 0, 0.1, or 1 (has result showing both company name appear in a non-target website)\n",
    "  # Also happens when Google automatically \"suggesting\" results, to be safe, they are assigned here instead of 0\n",
    "  # Representing_Url is not speicifcally listed, thus None\n",
    "\n",
    "  # 0: These two companys are not related\n",
    "  # Happens when there is no results in the returning top_urls\n",
    "  # Or the returning top_urls only contain contents that related to original target\n",
    "  # Representing_Url is not speicifcally listed, thus None\n",
    "\n",
    "  # 1: These two companys are very likely related\n",
    "  # When there is 1 returning results (website) belongs to one of the two companys\n",
    "  # Meaning, one company's name is mentioned by the other company\n",
    "  # We can check this by checking if the target url is an extension of either company's main webpage\n",
    "  # And the other company's name is mentioned in the description\n",
    "  # Or if the title of the article mentions the name/shortname of both company\n",
    "  # Representing_Url will be that company related result, end further iteration\n",
    "  # Update: Remove third party (due to volume)\n",
    "\n",
    "  # 0.1: These two companys are very likely not related\n",
    "  # This label only appears when the resulting url is exactly the url of one company in the pair\n",
    "  # But the other company's name/shortname is not mentioned in the description\n",
    "  # And there is no other results as well\n",
    "  # This is likely due to google's auto \"suggesting\" result\n",
    "  # Representing_Url will be that suspicious target\n",
    "\n",
    "  # Code to fullfill the purpose\n",
    "  # No results returned\n",
    "  if len(top_urls) == 0:\n",
    "    Predicted_label = 0\n",
    "  else:\n",
    "    # Retrieve company's url, domain and shortname through dictionary\n",
    "    if not is_nan(Sponsor_urls[combination[0]]):\n",
    "      url_0 = Sponsor_urls[combination[0]]\n",
    "    else:\n",
    "      url_0 = \"None\"\n",
    "    if not is_nan(Sponsor_domains[combination[0]]):\n",
    "      domain_0 = Sponsor_domains[combination[0]]\n",
    "    else:\n",
    "      domain_0 = \"None\"\n",
    "    if not is_nan(Sponsor_shortnames[combination[0]]):\n",
    "      shortname_0 = Sponsor_shortnames[combination[0]].lower()\n",
    "    else:\n",
    "      shortname_0 = \"None\"\n",
    "    if not is_nan(Sponsor_urls[combination[1]]):\n",
    "      url_1 = Sponsor_urls[combination[1]]\n",
    "    else:\n",
    "      url_1 = \"None\"\n",
    "    if not is_nan(Sponsor_domains[combination[1]]):\n",
    "      domain_1 = Sponsor_domains[combination[1]]\n",
    "    else:\n",
    "      domain_1 = \"None\"\n",
    "    if not is_nan(Sponsor_shortnames[combination[1]]):\n",
    "      shortname_1 = Sponsor_shortnames[combination[1]].lower()\n",
    "    else:\n",
    "      shortname_1 = \"None\"\n",
    "\n",
    "\n",
    "    # Check each returning result\n",
    "    for result in top_urls:\n",
    "      url = result.url\n",
    "      title = result.title.lower()\n",
    "      description = result.description.lower()\n",
    "\n",
    "      # utilize regular expression to ensure matched word is isolated\n",
    "      # \\b: Word boundary ensures no characters before or after the word.\n",
    "      # [\\s.,!?]?: Optional space or punctuation after the shortname\n",
    "      # r is needed to ensure regex work as entended, ex. r'\\b' to ensure \\b as word boundary instead of simply b\n",
    "      pattern_name_0 = r'\\b' + re.escape(combination[0].lower()) + r'[\\s.,!?]?\\b'\n",
    "      pattern_name_1 = r'\\b' + re.escape(combination[1].lower()) + r'[\\s.,!?]?\\b'\n",
    "      pattern_shortname_0 = r'\\b' + re.escape(shortname_0) + r'[\\s.,!?]?\\b'\n",
    "      pattern_shortname_1 = r'\\b' + re.escape(shortname_1) + r'[\\s.,!?]?\\b'\n",
    "\n",
    "      # We do not want target to be involved\n",
    "      # This does not help us at all\n",
    "      if target.lower() in url or target.lower() in title:\n",
    "        # If Predicted_label has been assigned to 0.5, then keep it\n",
    "        # Else, make it 0\n",
    "        Predicted_label = max (0, Predicted_label)\n",
    "      else:\n",
    "        # Both company's names are mentioned in the title\n",
    "        # Lowered label to 0.5 from 1\n",
    "        if (re.search(pattern_name_0, title) and re.search(pattern_name_1, title)) or (re.search(pattern_shortname_0, title) and re.search(pattern_name_1, title)) or (re.search(pattern_name_0, title) and re.search(pattern_shortname_1, title)) or (re.search(pattern_shortname_0, title) and re.search(pattern_shortname_1, title)):\n",
    "          Predicted_label = max (0.5, Predicted_label)\n",
    "          # Representing_result = result\n",
    "        # url is an extension of company 0's homepage and name of company 1 is mentioned in the description\n",
    "        elif (url_0 or domain_0) in url and (re.search(pattern_name_1, description) or re.search(pattern_shortname_1, description)):\n",
    "          Predicted_label = 1\n",
    "          Representing_result = result\n",
    "          break\n",
    "        # url is an extension of company 1's homepage and name of company 0 is mentioned in the description\n",
    "        elif (url_1 or domain_1) in url and (re.search(pattern_name_0, description) or re.search(pattern_shortname_0, description)):\n",
    "          Predicted_label = 1\n",
    "          Representing_result = result\n",
    "          break\n",
    "        # url is exact match of one company, but the other company's name is not mentioned at all\n",
    "        # elif (url_0 == url and shortname_1 not in description and combination[1].lower() not in description) or (url_1 == url and shortname_0 not in description and combination[0].lower() not in description):\n",
    "        #   old_label = Predicted_label\n",
    "        #   Predicted_label = max(0.1, Predicted_label)\n",
    "            # If old_label == 0.5, no update\n",
    "            # If old_label == 0.1, no update\n",
    "            # If old_label == 0 or -1, update\n",
    "        #   if old_label < Predicted_label:\n",
    "        #     Representing_result = result\n",
    "        else:\n",
    "          # Both companies are mentioned in a third-party website\n",
    "          # Continue checking the rest urls if there are any\n",
    "          # We cannot make a conclusion yet\n",
    "          # Pruned due to Professor's request\n",
    "          Predicted_label = max(0, Predicted_label)\n",
    "\n",
    "  # Append the result as a dictionary\n",
    "  search_results.append({\n",
    "    'Sponsor 1': combination[0],\n",
    "    'Sponsor 2': combination[1],\n",
    "    'Top 5 Results': top_urls,\n",
    "    'Top 5 Results Title': [result.title for result in top_urls],\n",
    "    'Predicted Label': Predicted_label,\n",
    "    'Representing Result': Representing_result\n",
    "  })\n",
    "\n",
    "  # Delay time between each search\n",
    "  # delay_time = 1  # Delay 5 seconds between each sponsor\n",
    "  # time.sleep(delay_time)"
   ]
  },
  {
   "cell_type": "code",
   "execution_count": 19,
   "metadata": {
    "colab": {
     "base_uri": "https://localhost:8080/"
    },
    "executionInfo": {
     "elapsed": 3064,
     "status": "ok",
     "timestamp": 1743056197835,
     "user": {
      "displayName": "Fengchun Fan",
      "userId": "16607154835906475343"
     },
     "user_tz": 420
    },
    "id": "qe6tVubRkrKW",
    "outputId": "378af3b3-716d-404d-bd78-f4d03396bf5c"
   },
   "outputs": [
    {
     "name": "stdout",
     "output_type": "stream",
     "text": [
      "Deleting gateways for site 'https://www.google.com'.\n",
      "Deleted 10 endpoints with for site 'https://www.google.com'.\n"
     ]
    },
    {
     "data": {
      "text/plain": [
       "['10skls3cse',\n",
       " 'os3by3l9ld',\n",
       " 't21tcx2qra',\n",
       " 'tzp8sgq1gk',\n",
       " 'gdrcsau0lg',\n",
       " 'o77ovnjux3',\n",
       " 'vqarcgp6wj',\n",
       " 'w3t526j3cf',\n",
       " 'f7ksckike7',\n",
       " 'sue1ahyo9j']"
      ]
     },
     "execution_count": 19,
     "metadata": {},
     "output_type": "execute_result"
    }
   ],
   "source": [
    "gateway.shutdown()"
   ]
  },
  {
   "cell_type": "code",
   "execution_count": 20,
   "metadata": {
    "colab": {
     "base_uri": "https://localhost:8080/"
    },
    "executionInfo": {
     "elapsed": 34,
     "status": "ok",
     "timestamp": 1743056197883,
     "user": {
      "displayName": "Fengchun Fan",
      "userId": "16607154835906475343"
     },
     "user_tz": 420
    },
    "id": "hiLV6MCLFOzi",
    "outputId": "bb86d8fb-6462-4378-ed58-c3080c051ba0"
   },
   "outputs": [
    {
     "name": "stdout",
     "output_type": "stream",
     "text": [
      "Length of combinations: 91\n",
      "Length of search_results: 91\n"
     ]
    }
   ],
   "source": [
    "# Checking method\n",
    "print(\"Length of combinations:\", len(Sponsor_combinations))\n",
    "print(\"Length of search_results:\", len(search_results))"
   ]
  },
  {
   "cell_type": "code",
   "execution_count": 21,
   "metadata": {
    "executionInfo": {
     "elapsed": 2,
     "status": "ok",
     "timestamp": 1743056197885,
     "user": {
      "displayName": "Fengchun Fan",
      "userId": "16607154835906475343"
     },
     "user_tz": 420
    },
    "id": "qOaLEGSQT_OB"
   },
   "outputs": [],
   "source": [
    "# Convert the search results into a pandas DataFrame\n",
    "df_results = pd.DataFrame(search_results)"
   ]
  },
  {
   "cell_type": "code",
   "execution_count": 22,
   "metadata": {
    "executionInfo": {
     "elapsed": 2,
     "status": "ok",
     "timestamp": 1743056197897,
     "user": {
      "displayName": "Fengchun Fan",
      "userId": "16607154835906475343"
     },
     "user_tz": 420
    },
    "id": "vGopDALNAoRK"
   },
   "outputs": [],
   "source": [
    "# Set display options to show full content\n",
    "pd.set_option('display.max_colwidth', None)"
   ]
  },
  {
   "cell_type": "code",
   "execution_count": 23,
   "metadata": {
    "executionInfo": {
     "elapsed": 8,
     "status": "ok",
     "timestamp": 1743056197905,
     "user": {
      "displayName": "Fengchun Fan",
      "userId": "16607154835906475343"
     },
     "user_tz": 420
    },
    "id": "4RYjVjXqlq2L"
   },
   "outputs": [],
   "source": [
    "# df_results.iloc[0][\"Top 5 Results Title\"]"
   ]
  },
  {
   "cell_type": "code",
   "execution_count": 24,
   "metadata": {
    "executionInfo": {
     "elapsed": 6,
     "status": "ok",
     "timestamp": 1743056197918,
     "user": {
      "displayName": "Fengchun Fan",
      "userId": "16607154835906475343"
     },
     "user_tz": 420
    },
    "id": "HwMWk9XX_k-g"
   },
   "outputs": [],
   "source": [
    "# extract results that are predicted to be 1 labeled\n",
    "df_1_result = df_results[df_results['Predicted Label'] == 1]\n",
    "\n",
    "# Reset the index of the filtered DataFrame and drop the old index\n",
    "df_1_result = df_1_result.reset_index(drop=True)"
   ]
  },
  {
   "cell_type": "code",
   "execution_count": 25,
   "metadata": {
    "colab": {
     "base_uri": "https://localhost:8080/",
     "height": 1000
    },
    "executionInfo": {
     "elapsed": 289,
     "status": "ok",
     "timestamp": 1743056198208,
     "user": {
      "displayName": "Fengchun Fan",
      "userId": "16607154835906475343"
     },
     "user_tz": 420
    },
    "id": "KDzAlIOBscsV",
    "outputId": "4100767f-8776-4ab5-c331-7859ac866e94"
   },
   "outputs": [
    {
     "data": {
      "application/vnd.google.colaboratory.intrinsic+json": {
       "summary": "{\n  \"name\": \"df_1_result\",\n  \"rows\": 13,\n  \"fields\": [\n    {\n      \"column\": \"Sponsor 1\",\n      \"properties\": {\n        \"dtype\": \"category\",\n        \"num_unique_values\": 6,\n        \"samples\": [\n          \"Access to Capital for Entrepreneurs\",\n          \"Ascend Cities\",\n          \"JP Morgan Chase\"\n        ],\n        \"semantic_type\": \"\",\n        \"description\": \"\"\n      }\n    },\n    {\n      \"column\": \"Sponsor 2\",\n      \"properties\": {\n        \"dtype\": \"category\",\n        \"num_unique_values\": 5,\n        \"samples\": [\n          \"LISC\",\n          \"US Department of Commerce Minority Business Development Agency\",\n          \"MUFG\"\n        ],\n        \"semantic_type\": \"\",\n        \"description\": \"\"\n      }\n    },\n    {\n      \"column\": \"Top 5 Results\",\n      \"properties\": {\n        \"dtype\": \"object\",\n        \"semantic_type\": \"\",\n        \"description\": \"\"\n      }\n    },\n    {\n      \"column\": \"Top 5 Results Title\",\n      \"properties\": {\n        \"dtype\": \"object\",\n        \"semantic_type\": \"\",\n        \"description\": \"\"\n      }\n    },\n    {\n      \"column\": \"Predicted Label\",\n      \"properties\": {\n        \"dtype\": \"number\",\n        \"std\": 0.0,\n        \"min\": 1.0,\n        \"max\": 1.0,\n        \"num_unique_values\": 1,\n        \"samples\": [\n          1.0\n        ],\n        \"semantic_type\": \"\",\n        \"description\": \"\"\n      }\n    },\n    {\n      \"column\": \"Representing Result\",\n      \"properties\": {\n        \"dtype\": \"string\",\n        \"num_unique_values\": 13,\n        \"samples\": [\n          \"SearchResult(url=https://www.jpmorganchase.com/content/dam/jpmc/jpmorgan-chase-and-co/investor-relations/documents/jpm-prospectus-supplement-dated-january-28-2025.pdf, title=[PDF] printmgr file - JPMorgan Chase, description= Jan 28, 2025  \\u00b7  MUFG Securities Americas Inc. .................................................. 10,050. nabSecurities, LLC .................................... )\"\n        ],\n        \"semantic_type\": \"\",\n        \"description\": \"\"\n      }\n    }\n  ]\n}",
       "type": "dataframe",
       "variable_name": "df_1_result"
      },
      "text/html": [
       "\n",
       "  <div id=\"df-07ebcfd9-11ba-4395-ba9e-c1cf8862ec70\" class=\"colab-df-container\">\n",
       "    <div>\n",
       "<style scoped>\n",
       "    .dataframe tbody tr th:only-of-type {\n",
       "        vertical-align: middle;\n",
       "    }\n",
       "\n",
       "    .dataframe tbody tr th {\n",
       "        vertical-align: top;\n",
       "    }\n",
       "\n",
       "    .dataframe thead th {\n",
       "        text-align: right;\n",
       "    }\n",
       "</style>\n",
       "<table border=\"1\" class=\"dataframe\">\n",
       "  <thead>\n",
       "    <tr style=\"text-align: right;\">\n",
       "      <th></th>\n",
       "      <th>Sponsor 1</th>\n",
       "      <th>Sponsor 2</th>\n",
       "      <th>Top 5 Results</th>\n",
       "      <th>Top 5 Results Title</th>\n",
       "      <th>Predicted Label</th>\n",
       "      <th>Representing Result</th>\n",
       "    </tr>\n",
       "  </thead>\n",
       "  <tbody>\n",
       "    <tr>\n",
       "      <th>0</th>\n",
       "      <td>Access to Capital for Entrepreneurs</td>\n",
       "      <td>JP Morgan Chase</td>\n",
       "      <td>[SearchResult(url=https://media.chase.com/news/launch-of-new-chase-lounge-at-the-russell-center-will-help-fuel-path-to-success-for-black-business-owners-and-entrepreneurs-in-atlanta, title=Launch of New Chase Lounge at the Russell Center Will Help Fuel ..., description= Feb 25, 2021  ·  ... Access to Capital for Entrepreneurs and Atlanta Wealth Building Initiative. ... © 2025 JP Morgan Chase &amp; Co. ), SearchResult(url=https://aceloans.org/news-events/page/6/?query-0-page=15, title=News &amp; Events | Access to Capital for Entrepreneurs, description= ACE Partnership with LISC Atlanta Continues with $100 Million commitment from JP Morgan Chase to The Entrepreneurs of Color Loan Fund (EOCF). May 10, 2022. ACE ... ), SearchResult(url=https://www.kauffman.org/wp-content/uploads/2023/06/Access-to-Capital-for-Entrepreneurs-Report-2-June-2023.pdf, title=[PDF] Access to Capital for Entrepreneurs: Removing Barriers (2023), description= (2023). “Access to Capital for Entrepreneurs: Removing Barriers: 2023 ... * BANK OF AMERICA, CITIBANK, JP MORGAN CHASE, WELLS FARGO. RATIO, KC:US. 1.6. ), SearchResult(url=https://www.ascendatl.org/, title=Ascend Atlanta – Growing minority owned businesses, description= JP Morgan Chase &amp; Co. has partnered with Morehouse Innovation &amp; Entrepreneurship Center, Village Micro Fund, Access to Capital for Entrepreneurs, and ... ), SearchResult(url=https://media.chase.com/news/jpmc-to-add-25-branches-in-georgia, title=JPMorgan Chase to Add 25 Branches in Georgia in Next Three Years, description= Sep 25, 2018  ·  ... Access to Capital for Entrepreneurs Inc., Atlanta Neighborhood ... © 2025 JP Morgan Chase &amp; Co. ), SearchResult(url=https://finance.yahoo.com/news/c-k-mcwhorter-cancels-j-173800912.html, title=C.K. McWhorter Cancels J.P. Morgan Communications, Citing Lack ..., description= Mar 26, 2024  ·  ... discussions with JP Morgan Chase &amp; Co. The decision stems from a stark observation of the bank's inade. ), SearchResult(url=https://fox2now.com/business/press-releases/ein-presswire/659210053/ace-access-to-capital-for-entrepreneurs-receives-largest-philanthropic-donation-ever-from-cooperative-assistance-fund, title=ACE | Access to Capital for Entrepreneurs Receives Largest ... - FOX 2, description= Oct 3, 2023  ·  ACE | Access to Capital for Entrepreneurs Receives Largest Philanthropic Donation Ever From Cooperative Assistance Fund ... JP Morgan Chase &amp; ... ), SearchResult(url=https://aceloans.org/ace-announces-award-categories-for-its-2024-annual-awards-fundraiser/, title=ACE Announces Award Categories for Its 2024 Annual Awards ..., description= ACE | Access to Capital for Entrepreneurs Inc. is pleased to announce the ... Blank Family Foundation, JP Morgan Chase &amp; Company, and PNC Bank Access ... ), SearchResult(url=https://fox5sandiego.com/business/press-releases/ein-presswire/746868347/ace-annual-awards-highlights-its-24-year-legacy-of-growing-georgia-businesses, title=ACE Annual Awards Highlights Its 24-Year Legacy of Growing ..., description= ... Access to Capital for Entrepreneurs held its ... JP Morgan Chase &amp; Company, PNC Bank, Wells Fargo ... Access to Capital for Entrepreneurs Inc. +1 470 ... ), SearchResult(url=https://news.morehouse.edu/inside-morehouse/morehouse-collegeentrepreneurship-center-shares-in-640000-donationfrom-jpmorgan-chase-company, title=Morehouse College Entrepreneurship Center Shares In $640000 ..., description= Jun 13, 2019  ·  Access to Capital for Entrepreneurs will provide small loans to ... Including donations to other Ascend Atlanta partners, JP Morgan Chase ... )]</td>\n",
       "      <td>[Launch of New Chase Lounge at the Russell Center Will Help Fuel ..., News &amp; Events | Access to Capital for Entrepreneurs, [PDF] Access to Capital for Entrepreneurs: Removing Barriers (2023), Ascend Atlanta – Growing minority owned businesses, JPMorgan Chase to Add 25 Branches in Georgia in Next Three Years, C.K. McWhorter Cancels J.P. Morgan Communications, Citing Lack ..., ACE | Access to Capital for Entrepreneurs Receives Largest ... - FOX 2, ACE Announces Award Categories for Its 2024 Annual Awards ..., ACE Annual Awards Highlights Its 24-Year Legacy of Growing ..., Morehouse College Entrepreneurship Center Shares In $640000 ...]</td>\n",
       "      <td>1.0</td>\n",
       "      <td>SearchResult(url=https://aceloans.org/news-events/page/6/?query-0-page=15, title=News &amp; Events | Access to Capital for Entrepreneurs, description= ACE Partnership with LISC Atlanta Continues with $100 Million commitment from JP Morgan Chase to The Entrepreneurs of Color Loan Fund (EOCF). May 10, 2022. ACE ... )</td>\n",
       "    </tr>\n",
       "    <tr>\n",
       "      <th>1</th>\n",
       "      <td>Access to Capital for Entrepreneurs</td>\n",
       "      <td>LISC</td>\n",
       "      <td>[SearchResult(url=https://www.lisc.org/atlanta/strategies/strengthening-ecosystems/acces-capital-entreprenuers/, title=Access to Capital for Entrepreneurs | LISC Atlanta, description= Access to Capital for Entrepreneurs. Metro Atlanta is home to a network of ... LISC ATL strengthens this network and its support for small businesses by ... ), SearchResult(url=https://www.lisc.org/eocf/, title=LISC EOCF, description= LISC National · Contact · EOCF Resource Center. Search. Site logo · Our Work · Where ... access to capital for entrepreneurs. 2023 Impact. 2,941. loans closed ... ), SearchResult(url=https://www.lisc.org/our-stories/story/lisc-closes-100m-commitments-entrepreneurs-color-loan-fund-fuel-minority-owned-businesses/, title=LISC Closes $100M in Commitments for Entrepreneurs of Color ..., description= May 10, 2022  ·  LISC Closes $100M in Commitments for Entrepreneurs of Color ... The Loan Fund's partner CDFIs include: Access to Capital for Entrepreneurs ... ), SearchResult(url=https://www.arc.gov/wp-content/uploads/2024/04/ARC_FINAL-REPORT_April-16.pdf, title=[PDF] Access to Capital and Credit for Entrepreneurs and Small ..., description= ... Access to Capital for Entrepreneurs received significant funding, including ... (LISC) in 2021. LISC allocates project grants to community development ... ), SearchResult(url=https://www.lisc.org/our-stories/story/lisc-cdfi-loans-support-local-small-business-lending-through-pandemic-and-beyond/, title=LISC CDFI Loans Support Local Small Business Lending Through ..., description= Oct 20, 2022  ·  LISC supported a range of small business CDFIs ... We had a chance to check in with two of the CDFIs—Access to Capital for Entrepreneurs ... ), SearchResult(url=https://www.prnewswire.com/news-releases/lisc-closes-100-million-in-commitments-for-entrepreneurs-of-color-loan-fund-to-fuel-minority-owned-businesses-301544271.html, title=LISC closes $100 million in commitments for Entrepreneurs of Color ..., description= May 10, 2022  ·  LISC closes $100 million in commitments for Entrepreneurs of ... The Loan Fund's partner CDFIs include: Access to Capital for Entrepreneurs ... ), SearchResult(url=https://www.lisc.org/eocf/partners/, title=Partners | LISC EOCF, description= Our Partners. Access to Capital for ... LISC. MBF Logo. NewCorp. Pacific ... ), SearchResult(url=https://aceloans.org/ace-access-to-capital-for-entrepreneurs-inc-announces-2024-board-appointments/, title=Access to Capital for Entrepreneurs Inc. Announces 2024 Board ..., description= ACE | Access to Capital for Entrepreneurs announced today changes to its board of directors. ... LISC Atlanta. Grace Lopez-Williams, CPA, PFP, MBA, CTRS Grace M. ), SearchResult(url=https://nextstreet.com/wp-content/uploads/2024/04/ARC_FINAL-REPORT_Mar-25_ExecutiveSummary.pdf, title=[PDF] Access to Capital and Credit for Entrepreneurs and Small ..., description= Access to Capital for Entrepreneurs. President &amp; CEO. Larry Fisher. ACE ... VP, Rural LISC Director. Deb Markley. Locus Impact Investing. SVP. Ketaki ... ), SearchResult(url=https://aceloans.org/ace-access-to-capital-for-entrepreneurs-inc-announces-board-officer-appointments/, title=Access to Capital for Entrepreneurs Inc. Announces Board Officer ..., description= ACE | Access to Capital for Entrepreneurs has announced changes to its board of directors. The announcement was made today by Grace Fricks, president and CEO ... )]</td>\n",
       "      <td>[Access to Capital for Entrepreneurs | LISC Atlanta, LISC EOCF, LISC Closes $100M in Commitments for Entrepreneurs of Color ..., [PDF] Access to Capital and Credit for Entrepreneurs and Small ..., LISC CDFI Loans Support Local Small Business Lending Through ..., LISC closes $100 million in commitments for Entrepreneurs of Color ..., Partners | LISC EOCF, Access to Capital for Entrepreneurs Inc. Announces 2024 Board ..., [PDF] Access to Capital and Credit for Entrepreneurs and Small ..., Access to Capital for Entrepreneurs Inc. Announces Board Officer ...]</td>\n",
       "      <td>1.0</td>\n",
       "      <td>SearchResult(url=https://www.lisc.org/eocf/, title=LISC EOCF, description= LISC National · Contact · EOCF Resource Center. Search. Site logo · Our Work · Where ... access to capital for entrepreneurs. 2023 Impact. 2,941. loans closed ... )</td>\n",
       "    </tr>\n",
       "    <tr>\n",
       "      <th>2</th>\n",
       "      <td>Access to Capital for Entrepreneurs</td>\n",
       "      <td>MUFG</td>\n",
       "      <td>[SearchResult(url=http://pdf.secdatabase.com/574/0001628280-21-009536.pdf, title=[PDF] MUFG Americas Holdings Corp Form 8-K Current Event Report ..., description= MUFG Americas Holdings Corporation Investor Presentation, 1Q21 MUFG ... MUFG Union Bank, N.A. OpCo ... Access to Capital for Entrepreneurs', a Community ... ), SearchResult(url=https://aceloans.org/wp-content/uploads/2022/05/ACE-2021-Annual-Report-FINALLY.pdf, title=[PDF] 2021 Annual Impact Report - Access to Capital for Entrepreneurs, description= Innovation and Entrepreneurship Center and ACE | Access to Capital for Entrepreneurs. ... MUFG Union Bank. National Association for Latino Community Asset. ), SearchResult(url=https://www.cdfifund.gov/sites/cdfi/files/documents/fy-2020-bea-cdfi-partner-list-for-award-recipients.pdf, title=[PDF] FY 2020 BEA - CDFI Partner List for Award Recipients.xlsx, description= Access to Capital for Entrepreneurs. Loan Fund. Georgia. MUFG Union Bank, N.A. ... MUFG Union Bank, N.A.. California. Equity Like Lonas. BOC Capital Corp. Loan ... ), SearchResult(url=https://www.morganstanley.com/press-releases/mitsubishi-ufj-financial-group-to-invest-9-billion-in-morgan-stanley_6962, title=Mitsubishi UFJ Financial Group to Invest $9 Billion in Morgan Stanley, description= ... access to capital for entrepreneurs and spotlight their success. Featured. Get ... For more information about MUFG, please visit www.mufg.jp/english/about. ), SearchResult(url=https://aceloans.org/wp-content/uploads/2023/06/ACE-2022-Annual-Report-v8.pdf, title=[PDF] 2022 Annual Impact Report - Access to Capital for Entrepreneurs, description= ACE | Access to Capital for Entrepreneurs Inc. Founder, President, CEO ... MUFG Union Bank. National Association for Latino Community Asset. Builders ... ), SearchResult(url=https://info.craft3.org/hubfs/Development/Craft3%20Annual%20Investor%20Report%20-%202021.pdf, title=[PDF] Craft3 Annual Investor Report - 2021, description= Craft3 began its Equitable Lending Initiative in 2019 with the goal of improving access to capital for entrepreneurs ... MUFG Union Bank, N.A.. Northern ... ), SearchResult(url=https://www.linkedin.com/in/miguel-alandete-69368464, title=Miguel Alandete - ACE | Access to Capital for Entrepreneurs - LinkedIn, description= Feb 1, 2025  ·  Experience: ACE | Access to Capital for Entrepreneurs · Education: St. John's College (MD) · Location: Decatur · 500+ connections on ... ), SearchResult(url=https://www.occ.gov/static/cra/craeval/may19/1461.pdf, title=[PDF] CRA Performance Evaluation Charter 1461, description= Feb 5, 2018  ·  Access to capital for entrepreneurs through traditional banks and training ... and MUFG Union Bank. The Los Angeles MSA is ranked second to ... ), SearchResult(url=https://www.morganstanley.com/press-releases/mufg-and-morgan-stanley-enhance-global-strategic-alliance, title=MUFG and Morgan Stanley Enhance Global Strategic Alliance, description= Jul 18, 2023  ·  ... access to capital for entrepreneurs and spotlight their success. ... Given such market trends, MUFG's consolidated subsidiary MUFG Bank ... ), SearchResult(url=https://www.sec.gov/Archives/edgar/data/1011659/000162828021009536/0001628280-21-009536.txt, title=0001628280-21-009536.txt - SEC.gov, description= ... MUFG Americas Holdings Corp CENTRAL INDEX KEY: 0001011659 STANDARD ... Access to Capital for Entrepreneurs', a Community Development Financial ... )]</td>\n",
       "      <td>[[PDF] MUFG Americas Holdings Corp Form 8-K Current Event Report ..., [PDF] 2021 Annual Impact Report - Access to Capital for Entrepreneurs, [PDF] FY 2020 BEA - CDFI Partner List for Award Recipients.xlsx, Mitsubishi UFJ Financial Group to Invest $9 Billion in Morgan Stanley, [PDF] 2022 Annual Impact Report - Access to Capital for Entrepreneurs, [PDF] Craft3 Annual Investor Report - 2021, Miguel Alandete - ACE | Access to Capital for Entrepreneurs - LinkedIn, [PDF] CRA Performance Evaluation Charter 1461, MUFG and Morgan Stanley Enhance Global Strategic Alliance, 0001628280-21-009536.txt - SEC.gov]</td>\n",
       "      <td>1.0</td>\n",
       "      <td>SearchResult(url=https://aceloans.org/wp-content/uploads/2022/05/ACE-2021-Annual-Report-FINALLY.pdf, title=[PDF] 2021 Annual Impact Report - Access to Capital for Entrepreneurs, description= Innovation and Entrepreneurship Center and ACE | Access to Capital for Entrepreneurs. ... MUFG Union Bank. National Association for Latino Community Asset. )</td>\n",
       "    </tr>\n",
       "    <tr>\n",
       "      <th>3</th>\n",
       "      <td>Ascend Cities</td>\n",
       "      <td>JP Morgan Chase</td>\n",
       "      <td>[SearchResult(url=https://ascendcities.com/press/nov22pr, title=People of color-owned businesses served by the Ascend network ..., description= 1 Nov 2022  ·  ... Ascend Cities program. “The Ascend National Cohort business growth ... The program has expanded thanks to funding from JP Morgan Chase ... ), SearchResult(url=https://ascendcities.com/s/Ascend-National-Cohort-One-Pager-6.pdf, title=[PDF] Ascend National Cohort- One Pager - Ascend Cities, description= JP Morgan Chase. November 4. Technology Transformation. EY. November 18. Financial Systems Transformation I. RSM. December 2. Organizational Change Leadership I. ), SearchResult(url=https://www.lendlease.com/my/insights/lendlease-ascend-regional-program/, title=Connecting MBE Firms to Active Bidding Opportunities - Lendlease, description= 1 Jun 2023  ·  Funded by JP Morgan Chase and supported by the University of ... Ascend Cities network (www.ascendcities.com). “The importance of ... ), SearchResult(url=https://www.linkedin.com/posts/ascend-cities-466671273_ascendcities-activity-7216486822489546752-COzr, title=#ascendcities | Ascend Cities - LinkedIn, description= 9 Jul 2024  ·  Ascend Cities' Post. View profile for Ascend Cities · Ascend Cities ... JP Morgan Chase, @Lease Crutcher Lewis, @GLY Construction, and ... ), SearchResult(url=https://www.neverbounce.com/company/ascend/478616750, title=Ascend Email verification &amp; Email checker | NeverBounce, description= The program has expanded thanks to funding from JP Morgan Chase. ... 60. Popular Searches. ascend | ascending businesses inc | ascend cities ... The program has ... ), SearchResult(url=https://news.iu.edu/live/news/28258-kelleys-enterprise-corps-helps-diverse-led-indiana-com, title=Kelley's Enterprise Corps helps diverse-led Indiana companies ..., description= 16 May 2023  ·  This includes a planning grant from J.P. Morgan Chase &amp; Co. for Enterprise Corps partners to make Indianapolis part of the Ascend Cities ... ), SearchResult(url=https://www.hofstra.edu/pdf/academics/entrepreneurship/ascend-li-implementation-plan.pdf, title=[PDF] Ascend Long Island | Implementation Plan - Owned Business, description= 9 Jan 2019  ·  In this context, new investments and partnerships between major funders and local institutions such as JP Morgan Chase and Hofstra University ... ), SearchResult(url=https://www.datanyze.com/companies/ascend/478616750, title=Ascend Company Profile | Management and Employees List, description= The program has expanded thanks to funding from JP Morgan Chase. ... Ascend Cities. Ascend Residential LLC. The Ascend ... Ascend CitiesAscend Residential LLC, The ... ), SearchResult(url=https://marlin-oboe-xnjd.squarespace.com/s/WTC-Impact-Driver-with-Renee-Sacks-2.pdf, title=[PDF] WTC 'Impact Driver' with Renee Sacks 2 - Women Talk Construction, description= And that's a program that is funded by JP Morgan Chase. And it is guided by ... were an experiment, the 15 cities in the Ascend Program, the Ascend Cities. ), SearchResult(url=https://www.zoominfo.com/pic/ascend/478616750, title=Ascend: Employee Directory | ZoomInfo.com, description= ascend cities. ascend residential llc. the ascend national cohort. uw foster ... The program has expanded thanks to funding from JP Morgan Chase. It ... )]</td>\n",
       "      <td>[People of color-owned businesses served by the Ascend network ..., [PDF] Ascend National Cohort- One Pager - Ascend Cities, Connecting MBE Firms to Active Bidding Opportunities - Lendlease, #ascendcities | Ascend Cities - LinkedIn, Ascend Email verification &amp; Email checker | NeverBounce, Kelley's Enterprise Corps helps diverse-led Indiana companies ..., [PDF] Ascend Long Island | Implementation Plan - Owned Business, Ascend Company Profile | Management and Employees List, [PDF] WTC 'Impact Driver' with Renee Sacks 2 - Women Talk Construction, Ascend: Employee Directory | ZoomInfo.com]</td>\n",
       "      <td>1.0</td>\n",
       "      <td>SearchResult(url=https://ascendcities.com/press/nov22pr, title=People of color-owned businesses served by the Ascend network ..., description= 1 Nov 2022  ·  ... Ascend Cities program. “The Ascend National Cohort business growth ... The program has expanded thanks to funding from JP Morgan Chase ... )</td>\n",
       "    </tr>\n",
       "    <tr>\n",
       "      <th>4</th>\n",
       "      <td>Ascend Cities</td>\n",
       "      <td>LISC</td>\n",
       "      <td>[SearchResult(url=https://ascendcities.com/tunua, title=Tunua Thrash-Ntuk - Ascend Cities, description= A native Angeleno, Tunua Thrash-Ntuk is the Executive Director of Los Angeles Local Initiatives Support Corporation (LA LISC). She is a seasoned community ... ), SearchResult(url=https://ascendcities.com/press/ascend-newark-national-initiative-aims-to-connect-minority-business-owners-to-anchor-institutions, title=Ascend Newark: National initiative aims to connect minority ..., description= Jun 18, 2024  ·  and Greater Newark LISC. Those organizations will collaborate with other economic development and entrepreneurship organizations in Newark ... ), SearchResult(url=https://lv.linkedin.com/posts/rharper2_driving-equitable-entrepreneurship-through-activity-7029883733109260288-2boJ, title=Robert Harper, MPP on LinkedIn: Driving Equitable ..., description= View organization page for Ascend Cities, graphic · Ascend Cities. 418 ... (LISC) CMG Alliance New Orleans Business Alliance Rutgers Business School ... ), SearchResult(url=https://www.linkedin.com/posts/lisc-la_transforming-workplaces-for-good-lisc-los-activity-7174077929826439168-DpnH, title=LISC LA on LinkedIn: Transforming Workplaces for Good | LISC Los ..., description= ... LISC LA, Ascend ... LISC LA's Post. View organization page for LISC LA, graphic · LISC LA. 900 followers. 10mo ... Ascend Cities Nicole Williams Rene Cota CMG ... ), SearchResult(url=https://www.facebook.com/youthconstruct/?locale=sl_SI, title=Youth Construct - Facebook, description= ... Ascend Cities NYC to holiday galas like NAWIC Greater New York Chapter 240 ... Slika profila osebe LISC NY. ), SearchResult(url=https://www.google.com/search?num=12, title=, description=), SearchResult(url=https://www.facebook.com/nycconstruction/?locale=az_AZ, title=Bottom Line Construction &amp; Development - Facebook, description= Rating   4.8  (20) ), SearchResult(url=/search?q=%22Ascend+Cities%22+%22LISC%22&amp;num=12&amp;safe=active&amp;sca_esv=7c0335b6038f02f9&amp;hl=en&amp;ie=UTF-8&amp;filter=0, title=, description= In order to show you the most relevant results, we have omitted some entries very similar to the 6 already displayed.\\nIf you like, you can  repeat the search with the omitted results included . ), SearchResult(url=, title=, description=), SearchResult(url=/search?q=%22Ascend+Cities%22+%22LISC%22&amp;num=2&amp;safe=active&amp;sca_esv=7c0335b6038f02f9&amp;hl=en&amp;ie=UTF-8&amp;filter=0, title=, description= In order to show you the most relevant results, we have omitted some entries very similar to the 6 already displayed.\\nIf you like, you can  repeat the search with the omitted results included . )]</td>\n",
       "      <td>[Tunua Thrash-Ntuk - Ascend Cities, Ascend Newark: National initiative aims to connect minority ..., Robert Harper, MPP on LinkedIn: Driving Equitable ..., LISC LA on LinkedIn: Transforming Workplaces for Good | LISC Los ..., Youth Construct - Facebook, , Bottom Line Construction &amp; Development - Facebook, , , ]</td>\n",
       "      <td>1.0</td>\n",
       "      <td>SearchResult(url=https://ascendcities.com/tunua, title=Tunua Thrash-Ntuk - Ascend Cities, description= A native Angeleno, Tunua Thrash-Ntuk is the Executive Director of Los Angeles Local Initiatives Support Corporation (LA LISC). She is a seasoned community ... )</td>\n",
       "    </tr>\n",
       "    <tr>\n",
       "      <th>5</th>\n",
       "      <td>Black Wealth Data Center</td>\n",
       "      <td>JP Morgan Chase</td>\n",
       "      <td>[SearchResult(url=https://www.jpmorganchase.com/institute/news-events/data-dialogue-state-of-household-finances-and-policy-priorities-for-an-inclusive-economy, title=Data Dialogue: The State of Household Finances and Policy ..., description= NATALIE EVANS HARRIS: In a nutshell, and this is not a plug, but the Black wealth data center launched always over two months ago. ... Black Wealth Data Center. ), SearchResult(url=http://www.michmca.org/images/Pathway_for_the_Future.pdf, title=[PDF] Pathways for the Future, description= J.P. Morgan Chase. Advancing Black Pathways. Page 2. TABLE OF CONTENTS ... The objective of the Black Wealth Data Center is to help practitioners and ... ), SearchResult(url=https://uncficb.org/uncf-announces-launch-of-hbcu-wealth-building-initiative/, title=UNCF Announces Launch of HBCU Wealth Building Initiative, description= 4 Mar 2025  ·  JP Morgan Chase. Hosetta Belcher Coleman serves as Executive Director ... Black Wealth Data Center. Neal holds a bachelor's degree in ... ), SearchResult(url=https://blackeconomicalliance.org/news/december-beat-sheet/, title=December BEAT Sheet - Black Economic Alliance, description= 10 Dec 2024  ·  This groundbreaking event showcased the real-world impact of the CBE's new partnership with the Black Wealth Data Center ... J.P. Morgan Chase &amp; ... ), SearchResult(url=https://www.linkedin.com/posts/smythtristan_cdnpoli-nonprofits-investing-activity-7291104393175662592-kdQE, title=Tristan Smyth's Post - LinkedIn, description= 31 Jan 2025  ·  Thanks for including DataKind and highlighting our work with the Black Wealth Data Center. ... J.P. Morgan Chase, Bank of America, Mastercard, ... ), SearchResult(url=https://issuu.com/uclalppi/docs/2024_annual_report, title=2024 Annual Report by UCLA Latino Policy and Politics Institute, description= 6 days ago  ·  From left, Harsha Mallajosyula and Leela Bhashyam of Black Wealth Data Center ... • J.P. Morgan Chase Foundation. • Open Society Foundation. ), SearchResult(url=https://www.neighborhoodindicators.org/category/issue-area/neighborhood-typology, title=Neighborhood Typology | NNIP, description= 9 Oct 2017  ·  NNIP Partners Talk with Black Wealth Data Center about Data and Racial Equity ... JP Morgan Chase PRO Neighborhoods Evaluation in Memphis. August ... ), SearchResult(url=https://www.linkedin.com/posts/lablackmba_labmba-chasebank-businessofrealestate-activity-7222334807442178049-mohD, title=#labmba #chasebank #businessofrealestate #workshop | National ..., description= On July 18, the Black Wealth Data Center will ... JP Morgan Chase Foundation, Alex Camardelle of ... View organization page for Black Wealth Data Center. ), SearchResult(url=https://www.neighborhoodindicators.org/category/issue-area/vacancy, title=Vacancy | NNIP, description= NNIP Partners Talk with Black Wealth Data Center about Data and Racial Equity ... JP Morgan Chase PRO Neighborhoods Evaluation in Memphis. August 2020. Civic ... ), SearchResult(url=https://www.causeiq.com/organizations/corporation-for-enterprise-development,521141804/, title=Prosperity Now | Washington, DC - Cause IQ, description= To Support the Black Wealth Data Center, $3,215,000. JP Morgan Chase Foundation ... Identified 2 new grant, including a grant for $1,000,000 from JP Morgan Chase ... )]</td>\n",
       "      <td>[Data Dialogue: The State of Household Finances and Policy ..., [PDF] Pathways for the Future, UNCF Announces Launch of HBCU Wealth Building Initiative, December BEAT Sheet - Black Economic Alliance, Tristan Smyth's Post - LinkedIn, 2024 Annual Report by UCLA Latino Policy and Politics Institute, Neighborhood Typology | NNIP, #labmba #chasebank #businessofrealestate #workshop | National ..., Vacancy | NNIP, Prosperity Now | Washington, DC - Cause IQ]</td>\n",
       "      <td>1.0</td>\n",
       "      <td>SearchResult(url=https://www.jpmorganchase.com/institute/news-events/data-dialogue-state-of-household-finances-and-policy-priorities-for-an-inclusive-economy, title=Data Dialogue: The State of Household Finances and Policy ..., description= NATALIE EVANS HARRIS: In a nutshell, and this is not a plug, but the Black wealth data center launched always over two months ago. ... Black Wealth Data Center. )</td>\n",
       "    </tr>\n",
       "    <tr>\n",
       "      <th>6</th>\n",
       "      <td>DoD Office of Small Business Programs</td>\n",
       "      <td>General Dynamics</td>\n",
       "      <td>[SearchResult(url=https://gdmissionsystems.com/articles/2013/11/13/press_release_11-13-2013-general-dynamics-receives-2013-nunn-perry-mentor-protege-award, title=General Dynamics C4 Systems Receives 2013 Nunn-Perry Mentor ..., description= 14 Nov 2013  ·  General Dynamics C4 Systems has received the 2013 Nunn-Perry Award from the U.S. Department of Defense (DoD), Office of Small Business programs ... ), SearchResult(url=https://business.defense.gov/Portals/57/Documents/MARC%20Workshop%20Program%20Agenda.pdf?ver=2020-07-15-150945-643, title=[PDF] AGENDA - Office of Small Business Programs, description= 16 Jul 2020  ·  DoD Office of Small Business Programs. Mr. Jackson is a ... General Dynamics providing cyber and IT services across all GD operating units. ), SearchResult(url=https://www.linkedin.com/pulse/osbp-meets-small-businesses-ces-dod-osbp-ri4je, title=OSBP Meets with Small Businesses at CES - LinkedIn, description= 10 Jan 2025  ·  Leaders from the DoD Office of Small Business Programs (OSBP) were ... General Dynamics Mission Systems 1y · October 2024 Recap. ISI 4mo ... ), SearchResult(url=https://business.defense.gov/Portals/57/Documents/MARC%20Presentations03182021.pdf?ver=dJoqYAFABZjzMj_BN2HcmQ%3D%3D, title=[PDF] The Department of Defense (DoD) Mid-Atlantic Regional Council ..., description= 18 Mar 2021  ·  General Dynamics Information Technology (GDIT). Contracts and ... DoD Office of Small Business Programs. Acquisition &amp; Sustainment. Mr ... ), SearchResult(url=https://www.sbir.gov/sites/all/themes/sbir/dawnbreaker/img/documents/Course7-Tutorial2.pdf, title=[PDF] how to develop a relationship with a large prime contractor - SBIR, description= General Dynamics. These are huge, global enterprises with a diverse ... DoD Office of Small Business Programs. 2. FY15_DoD_SB_Procurement Scorecard ... ), SearchResult(url=https://apps.dtic.mil/sti/tr/pdf/ADA623956.pdf, title=[PDF] Small Business: Action Needed to Determine Whether DOD's ... - DTIC, description= 16 Nov 2015  ·  General Dynamics/C4 Systems, Advanced. Information Systems and ... According to DOD officials, the DOD Office of Small Business Programs. ), SearchResult(url=https://www.linkedin.com/posts/dod-osbp_sbtw24-defenseacquisition-dod-activity-7191201929895555072-ode8, title=Department of Defense Office of Small Business Programs on ..., description= ... DoD Office of Small Business Programs Director ... and DoD Office of Small Business Programs ... General Dynamics Mission Systems, underscored how ... ), SearchResult(url=https://www.govinfo.gov/content/pkg/CHRG-110hhrg37477/html/CHRG-110hhrg37477.htm, title=- CONTRACT BUNDLING OVERSIGHT - GovInfo, description= Lockheed Martin, Boeing, Northrop Grumman, Raytheon, General Dynamics and United Technologies--the Defense Department's six largest contractors get over $100B ... ), SearchResult(url=https://www.gao.gov/assets/gao-16-27.pdf, title=[PDF] GAO-16-27, SMALL BUSINESS - Government Accountability Office, description= 16 Nov 2015  ·  General Dynamics/C4 Systems, Advanced. Information Systems and ... According to DOD officials, the DOD Office of Small Business Programs. ), SearchResult(url=https://imlive.s3.amazonaws.com/Federal%20Government/ID302716350050274647972444786659085293098/N6817122X0000_SOURCES_SOUGHT_VMS_UPGRADE.pdf, title=[PDF] Sources Sought USNS TRENTON (T-EPF 5) INTERIOR ... - AWS, description= INTERIOR COMMUNICATIONS: GDMS (GENERAL DYNAMICS MISSION SYSTEMS) ... Introduction/Background: The Department of Defense (DoD) Office of Small Business Programs ( ... )]</td>\n",
       "      <td>[General Dynamics C4 Systems Receives 2013 Nunn-Perry Mentor ..., [PDF] AGENDA - Office of Small Business Programs, OSBP Meets with Small Businesses at CES - LinkedIn, [PDF] The Department of Defense (DoD) Mid-Atlantic Regional Council ..., [PDF] how to develop a relationship with a large prime contractor - SBIR, [PDF] Small Business: Action Needed to Determine Whether DOD's ... - DTIC, Department of Defense Office of Small Business Programs on ..., - CONTRACT BUNDLING OVERSIGHT - GovInfo, [PDF] GAO-16-27, SMALL BUSINESS - Government Accountability Office, [PDF] Sources Sought USNS TRENTON (T-EPF 5) INTERIOR ... - AWS]</td>\n",
       "      <td>1.0</td>\n",
       "      <td>SearchResult(url=https://business.defense.gov/Portals/57/Documents/MARC%20Workshop%20Program%20Agenda.pdf?ver=2020-07-15-150945-643, title=[PDF] AGENDA - Office of Small Business Programs, description= 16 Jul 2020  ·  DoD Office of Small Business Programs. Mr. Jackson is a ... General Dynamics providing cyber and IT services across all GD operating units. )</td>\n",
       "    </tr>\n",
       "    <tr>\n",
       "      <th>7</th>\n",
       "      <td>DoD Office of Small Business Programs</td>\n",
       "      <td>US Department of Commerce Minority Business Development Agency</td>\n",
       "      <td>[SearchResult(url=https://www.mbda.gov/es/taxonomy/term/93?page=1&amp;q=/news/press-releases, title=Press Releases | Minority Business Development Agency, description= WASHINGTON, MAY 25, 2021 – The U.S. Department of Commerce, Minority Business Development Agency ... DoD Office of Small Business Programs for a fireside chat at ... ), SearchResult(url=https://www.mbda.gov/tags/news-and-announcements?q=/tags/news-and-announcements&amp;page=1, title=News and Announcements | Minority Business Development Agency, description= ... U.S. Department of Commerce, Minority Business Development Agency (MBDA) ... Farooq Mitha, Director of the DoD Office of Small Business Programs for a fireside ... ), SearchResult(url=https://itvmo.gsa.gov/services/small-business-support/, title=Small Business Support | IT Vendor Management Office - ITVMO, description= The U.S. Department of Commerce, Minority Business Development Agency (MBDA) ... The DoD's Office of Small Business Programs maximizes opportunities for ... ), SearchResult(url=https://www.linkedin.com/pulse/mbda-moveamerica-sign-mou-us-department-commerce-moveamerica-org-7xo0e, title=MBDA and MoveAmerica Sign MOU at U.S. Department of Commerce, description= 28 Jan 2025  ·  The U.S. Department of Commerce, Minority Business Development Agency is the only Federal agency dedicated to the growth and global ... ), SearchResult(url=https://crsreports.congress.gov/product/pdf/RS/RS22536/17, title=[PDF] Overview of the Federal Procurement Process and Resources, description= 4 Jan 2023  ·  22 U.S. Department of Commerce, Minority Business Development Agency ... 24 Department of Defense (DOD), Office of Small Business Programs, APEX ... ), SearchResult(url=https://www.stonybrook.edu/commcms/procurement/suppliers-old/small-businesses, title=Small Businesses | Procurement Office - Stony Brook University, description= U.S. Department of Commerce Minority Business Development Agency · U.S. DoD Office of Small Business Programs · U.S. Hispanic Chamber of Commerce · U.S. Pan ... ), SearchResult(url=https://www.congress.gov/crs-product/RS22536, title=Overview of the Federal Procurement Process and Resources, description= 14 Apr 2023  ·  U.S. Department of Commerce, Minority Business Development Agency ... DOD, Office of Small Business Programs, \"APEX Accelerators,\" https ... ), SearchResult(url=https://www.legistorm.com/stormfeed/view_rss/4599097/organization/73293/title/mbda-acting-under-secretary-morrisette-joins-the-department-of-defense-in-chicago-for-small-business-training-week-2024.html, title=MBDA Acting Under Secretary Morrisette Joins the Department of ..., description= “MBDA and the DoD Office of Small Business Programs play a crucial ... The U.S. Department of Commerce, Minority Business Development Agency is the ... ), SearchResult(url=https://www.petersonschriever.spaceforce.mil/Portals/15/Useful%20Websites%20Oct%2023.pdf, title=[PDF] Useful Website List - Peterson and Schriever Space Force Base, description= DoD Office of Small Business Programs (OSBP): https://business.defense.gov ... The U.S. Department of Commerce, Minority Business Development Agency (MBDA). ), SearchResult(url=https://sgp.fas.org/crs/misc/RS22536.pdf, title=[PDF] Overview of the Federal Procurement Process and Resources, description= 14 Apr 2023  ·  22 U.S. Department of Commerce, Minority Business Development Agency ... 24 Department of Defense (DOD), Office of Small Business Programs, APEX ... )]</td>\n",
       "      <td>[Press Releases | Minority Business Development Agency, News and Announcements | Minority Business Development Agency, Small Business Support | IT Vendor Management Office - ITVMO, MBDA and MoveAmerica Sign MOU at U.S. Department of Commerce, [PDF] Overview of the Federal Procurement Process and Resources, Small Businesses | Procurement Office - Stony Brook University, Overview of the Federal Procurement Process and Resources, MBDA Acting Under Secretary Morrisette Joins the Department of ..., [PDF] Useful Website List - Peterson and Schriever Space Force Base, [PDF] Overview of the Federal Procurement Process and Resources]</td>\n",
       "      <td>1.0</td>\n",
       "      <td>SearchResult(url=https://www.mbda.gov/es/taxonomy/term/93?page=1&amp;q=/news/press-releases, title=Press Releases | Minority Business Development Agency, description= WASHINGTON, MAY 25, 2021 – The U.S. Department of Commerce, Minority Business Development Agency ... DoD Office of Small Business Programs for a fireside chat at ... )</td>\n",
       "    </tr>\n",
       "    <tr>\n",
       "      <th>8</th>\n",
       "      <td>General Dynamics</td>\n",
       "      <td>JP Morgan Chase</td>\n",
       "      <td>[SearchResult(url=https://www.jpmorganchase.com/about/leadership/phebe-n-novakovic, title=Phebe N. Novakovich - JPMorgan Chase, description= Phebe N. Novakovic has been the Chairman and Chief Executive Officer of General Dynamics since 2013. She was the President and Chief Operating Officer of ... ), SearchResult(url=https://www.reuters.com/article/markets/jpmorgan-appoints-general-dynamics-ceo-as-board-member-idUSL4N2HJ2U1/, title=JPMorgan appoints General Dynamics CEO as board member ..., description= JP Morgan Chase &amp; Co on Wednesday named Phebe Novakovic, chief executive officer of General Dynamics Corp, to its board, effective Dec. 7. ), SearchResult(url=https://investorrelations.gd.com/corporate-governance/board-of-directors/default.aspx, title=Corporate Governance - Board of Directors - General Dynamics, description= 6 days ago  ·  Novakovic currently serves as a director of J.P. Morgan Chase &amp; Co. ... Copyright 2025 General Dynamics Corporation. Terms of Use · Privacy ... ), SearchResult(url=https://investorrelations.gd.com/corporate-governance/board-of-directors/person-details/default.aspx?ItemId=0c6fc9b3-5e04-4428-a9c6-ece174ebd666, title=Corporate Governance - GD - General Dynamics - Investors, description= 14 Mar 2025  ·  Novakovic currently serves as a director of J.P. Morgan Chase &amp; Co. ... Copyright 2025 General Dynamics Corporation. Terms of Use · Privacy ... ), SearchResult(url=https://www.jpmorganchase.com/ir/news/2020/jpmc-elects-phebe-novakovic-to-its-board-of-directors, title=JPMorgan Chase Elects Phebe N. Novakovic to its Board of Directors, description= Ms. Novakovic has served as Chairman and Chief Executive Officer of General Dynamics Corporation since 2013. Since joining General Dynamics in 2001, she has ... ), SearchResult(url=https://www.reuters.com/article/business/jpmorgan-appoints-general-dynamics-ceo-as-board-member-idUSKBN27D1JZ/, title=JPMorgan appoints General Dynamics CEO as board member, description= 28 Oct 2020  ·  JPMorgan appoints General Dynamics CEO as board member. By ... FILE PHOTO: A sign of JP Morgan Chase Bank is seen in front of their ... ), SearchResult(url=https://www.business-humanrights.org/en/latest-news/general-dynamics-did-not-respond-to-allegations-that-the-co-is-contributing-to-harts-invasion-of-privacy-and-human-rights-violations/, title=General Dynamics did not respond to allegations that the co. is ..., description= 1 Aug 2022  ·  General Dynamics did not respond to allegations that the co. is ... JP Morgan Chase did not respond to urgent call by UN Experts to ... ), SearchResult(url=https://en.wikipedia.org/wiki/JPMorgan_Chase, title=JPMorgan Chase - Wikipedia, description= Phebe Novakovic, chairwoman and CEO of General Dynamics · Virginia Rometty ... \"J.P. Morgan Chase to Acquire Bank One in $58 Billion Deal\". The New York ... ), SearchResult(url=https://en.wikipedia.org/wiki/Phebe_Novakovic, title=Phebe Novakovic - Wikipedia, description= She serves as the chairwoman and chief executive officer of General Dynamics. ... In 2020 she was appointed a director of J. P. Morgan Chase. ), SearchResult(url=https://www.jpmorganchase.com/content/dam/jpmc/jpmorgan-chase-and-co/investor-relations/documents/proxy-statement2024.pdf, title=[PDF] Annual Meeting of Shareholders Proxy Statement 2024, description= 8 Apr 2024  ·  General Dynamics Corporation, a global aerospace and defense company. • Chairman and Chief Executive Officer (since 2013). • President and ... )]</td>\n",
       "      <td>[Phebe N. Novakovich - JPMorgan Chase, JPMorgan appoints General Dynamics CEO as board member ..., Corporate Governance - Board of Directors - General Dynamics, Corporate Governance - GD - General Dynamics - Investors, JPMorgan Chase Elects Phebe N. Novakovic to its Board of Directors, JPMorgan appoints General Dynamics CEO as board member, General Dynamics did not respond to allegations that the co. is ..., JPMorgan Chase - Wikipedia, Phebe Novakovic - Wikipedia, [PDF] Annual Meeting of Shareholders Proxy Statement 2024]</td>\n",
       "      <td>1.0</td>\n",
       "      <td>SearchResult(url=https://www.jpmorganchase.com/about/leadership/phebe-n-novakovic, title=Phebe N. Novakovich - JPMorgan Chase, description= Phebe N. Novakovic has been the Chairman and Chief Executive Officer of General Dynamics since 2013. She was the President and Chief Operating Officer of ... )</td>\n",
       "    </tr>\n",
       "    <tr>\n",
       "      <th>9</th>\n",
       "      <td>General Dynamics</td>\n",
       "      <td>US Department of Commerce Minority Business Development Agency</td>\n",
       "      <td>[SearchResult(url=https://blacknoir.nyc/2016/09/rep-hank-johnson-ga-04-honorary-host-of-cbc-alc-panel-on-blacks-latinos-our-quest-for-civil-rights/, title=Rep. Hank Johnson (GA-04) honorary host of CBC ALC panel on ..., description= Sep 15, 2016  ·  Castillo: National Director, U.S. Department of Commerce/Minority Business Development Agency ... General Dynamics. • Justin G. Tanner ... ), SearchResult(url=https://www.sec.gov/Archives/edgar/data/1670541/000104746916014990/a2229408zex-99_1.htm, title=Adient Limited - SEC.gov, description= ... U.S. Department of Commerce's Minority Business Development Agency; ... General Dynamics Corporation; •: The Goodyear Tire &amp; Rubber Company ), SearchResult(url=https://www.linkedin.com/in/cabralconsultinggroup, title=Elizabeth Cabral - Founder &amp; Principal - Cabral Consulting Group, description= ... General Dynamics, and NASA/ITT. &lt;&gt; Expanded markets to Fortune 100 ... U.S. Department of Commerce-Minority Business Development Agency program in ... ), SearchResult(url=https://www.sec.gov/Archives/edgar/data/1670541/000104746916012576/a2228401zex-99_1.htm, title=Adient Ltd - SEC.gov, description= ... U.S. Department of Commerce's Minority Business Development Agency; ... General Dynamics Corporation; •: The Goodyear Tire &amp; Rubber Company ), SearchResult(url=https://www.energy.gov/sites/prod/files/FOIA_May09_Resp_362-369.pdf, title=[PDF] FOIA May 2009 Responses (000362 - Department of Energy, description= ... General Dynamics, Oakton, VA, Nov 2002 to. Nov 2003. Federal Air Marshal, FV ... U.S. Department of Commerce, Minority Business Development Agency. (MBDA). ), SearchResult(url=https://www.mbda.gov/sites/default/files/2022-08/Connecticut_Disparity_Study_Phase_1.pdf, title=[PDF] CONNECTICUT DISPARITY STUDY: PHASE I, description= Aug 9, 2013  ·  6.14 US Department of Commerce - Minority Business Development Agency ... I have gone to matchmaking with General Dynamics with their team. ), SearchResult(url=https://www.slideshare.net/slideshow/2010-annualreport1/38857568, title=2010 annual-report1 | PDF - SlideShare, description= Sep 8, 2014  ·  ... U.S. Department of Commerce Minority Business Development Agency ... General Dynamics Corporation General Electric Company General Mills, Inc. ), SearchResult(url=https://content.edgar-online.com/ExternalLink/EDGAR/0001047469-16-012576.html?hash=15a27920a6bc74744b4c923aad7eaa54f09284de0dec87f100833403b180c266&amp;dest=a2228401zex-10_7_htm, title=Adient Ltd (Form - EDGAR Online, description= ... U.S. Department of Commerce's Minority Business Development Agency;; •: 2013 ... General Dynamics Corporation; •: The Goodyear Tire &amp; Rubber Company ), SearchResult(url=https://www.seo-usa.org/ai/2021conference/2021-speakers/, title=2021 Speakers - SEO USA, description= ... U.S. Department of Commerce – Minority Business Development Agency. ... General Dynamics/Gulfstream Aerospace; Golden Tree; William A. Goodloe; Bob, Debbie ... ), SearchResult(url=https://www.instagram.com/stuffmadeinct/?hl=en, title=Stuff Made in Connecticut (@stuffmadeinct) - Instagram, description= The U.S. Department of Commerce's Minority Business Development Agency ... General Dynamics Electric Boat in Groton – has built nuclear warships and ... )]</td>\n",
       "      <td>[Rep. Hank Johnson (GA-04) honorary host of CBC ALC panel on ..., Adient Limited - SEC.gov, Elizabeth Cabral - Founder &amp; Principal - Cabral Consulting Group, Adient Ltd - SEC.gov, [PDF] FOIA May 2009 Responses (000362 - Department of Energy, [PDF] CONNECTICUT DISPARITY STUDY: PHASE I, 2010 annual-report1 | PDF - SlideShare, Adient Ltd (Form - EDGAR Online, 2021 Speakers - SEO USA, Stuff Made in Connecticut (@stuffmadeinct) - Instagram]</td>\n",
       "      <td>1.0</td>\n",
       "      <td>SearchResult(url=https://www.mbda.gov/sites/default/files/2022-08/Connecticut_Disparity_Study_Phase_1.pdf, title=[PDF] CONNECTICUT DISPARITY STUDY: PHASE I, description= Aug 9, 2013  ·  6.14 US Department of Commerce - Minority Business Development Agency ... I have gone to matchmaking with General Dynamics with their team. )</td>\n",
       "    </tr>\n",
       "    <tr>\n",
       "      <th>10</th>\n",
       "      <td>JP Morgan Chase</td>\n",
       "      <td>LISC</td>\n",
       "      <td>[SearchResult(url=https://www.lisc.org/our-stories/story/jpmorgan-chase-taps-lisc-lead-new-diverse-supplier-grant-initiative/, title=JPMorgan Chase Taps LISC to Lead New Diverse Supplier Grant ..., description= 24 Mar 2022  ·  With an initial commitment of $5 million and combined contributions from other corporate donors, JP Morgan Chase ... LISC will administer ... ), SearchResult(url=https://www.jpmorganchase.com/about/suppliers/supplier-diversity/creating-opportunity-by-removing-barriers, title=Creating Opportunity by Removing Barriers | JPMorganChase, description= We are partnering with Local Initiatives Support Corporation (LISC), a community development financial institution and certified 501c3 which will administer the ... ), SearchResult(url=https://www.liscstrategicinvestments.org/eoclf-entrepreneurs-of-color-loan-fund, title=Entrepreneurs of Color Loan Fund | LISC SI, description= EOCLF INVESTORS. LISC Partners amalgamated bank. LISC Partners JP Morgan Chase ... LISC Fund Management, which is a wholly-owned subsidiary of LISC. LISC ... ), SearchResult(url=https://www.jpmorganchase.com/newsroom/press-releases/2023/jpmorgan-chase-announces-new-business-and-philanthropic-commitments, title=JPMorgan Chase Announces new business and philanthropic ..., description= 28 Jun 2023  ·  CNHED will lead a collaborative, that includes National Housing Trust, Medici Road, Housing Counseling Services, LISC DC, Mi Casa, and ... ), SearchResult(url=https://www.lisc.org/our-stories/story/getting-tipping-point-liscers-describe-why-and-how-getting-capital-know-how-entrepreneurs-color/, title=Getting to the “Tipping Point”: LISCers Describe the Why and How of ..., description= 23 May 2023  ·  In a series of videos from JP Morgan Chase on how the bank's impact ... LISC Fund Management, and Sonja Dean, program officer at LISC ... ), SearchResult(url=https://procurementmag.com/articles/how-jpmorgan-chase-run-its-supplier-diversity-programme, title=How JPMorgan Chase Run its Supplier Diversity Programme, description= 6 Feb 2024  ·  JPMorgan Chase formed a partnership with the Local Initiatives Support Corporation (LISC), to manage the programme end-to-end. ... JP Morgan ... ), SearchResult(url=https://www.jpmorgan.com/commercial-real-estate/community-development-banking/the-people-behind-our-investments, title=The People Behind Our Investments | JPMorgan Chase, description= Meet the People Behind Community Development Banking's Investments · Capital Impact Partners · Local Initiatives Support Corporation (LISC) · Raza Development Fund ... ), SearchResult(url=https://www.jpmorganchase.com/newsroom/press-releases/2021/jpmc-commits-350m-to-grow-black-latinx-women-owned-sb, title=JPMorgan Chase Commits $350 Million to Grow Black, Latinx and ..., description= 25 Feb 2021  ·  ... (LISC). “That not only affects owners and their families; it means the communities where they operate have more limited access to goods ... ), SearchResult(url=https://diversityplus.com/web/Article?id=JP-MORGAN-CHASE-MAKES-INDUSTRY-Game-Changing-Commitment-to-Diverse-Businesses-Through-DIVERSE-SUPPLIER-GRANT-INITIATIVE-6115, title=JP MORGAN CHASE MAKES INDUSTRY Game-Changing ..., description= JP MORGAN CHASE MAKES INDUSTRY Game-Changing Commitment To Diverse ... LISC manages the end-to-end program on the behalf of JPMorgan and other ... ), SearchResult(url=https://procurementmag.com/articles/inclusive-economy-how-jpmorgan-chase-empowers-businesses, title=Inclusive Economy: How JPMorgan Chase Empowers Businesses, description= 29 May 2024  ·  JP Morgan Chase's Global Supplier Diversity initiative has long been ... LISC. If the supplier successfully gains new contracts, it ... )]</td>\n",
       "      <td>[JPMorgan Chase Taps LISC to Lead New Diverse Supplier Grant ..., Creating Opportunity by Removing Barriers | JPMorganChase, Entrepreneurs of Color Loan Fund | LISC SI, JPMorgan Chase Announces new business and philanthropic ..., Getting to the “Tipping Point”: LISCers Describe the Why and How of ..., How JPMorgan Chase Run its Supplier Diversity Programme, The People Behind Our Investments | JPMorgan Chase, JPMorgan Chase Commits $350 Million to Grow Black, Latinx and ..., JP MORGAN CHASE MAKES INDUSTRY Game-Changing ..., Inclusive Economy: How JPMorgan Chase Empowers Businesses]</td>\n",
       "      <td>1.0</td>\n",
       "      <td>SearchResult(url=https://www.lisc.org/our-stories/story/jpmorgan-chase-taps-lisc-lead-new-diverse-supplier-grant-initiative/, title=JPMorgan Chase Taps LISC to Lead New Diverse Supplier Grant ..., description= 24 Mar 2022  ·  With an initial commitment of $5 million and combined contributions from other corporate donors, JP Morgan Chase ... LISC will administer ... )</td>\n",
       "    </tr>\n",
       "    <tr>\n",
       "      <th>11</th>\n",
       "      <td>JP Morgan Chase</td>\n",
       "      <td>MUFG</td>\n",
       "      <td>[SearchResult(url=https://www.mufgamericas.com/who-we-are/news/mufg-further-expands-growth-middle-market-tech-banking-team, title=MUFG further expands Growth &amp; Middle Market Tech Banking team, description= Oct 4, 2023  ·  Most recently, she was in JP Morgan Chase's Technology and ... mufg.jp. About MUFG and MUFG Americas. Mitsubishi UFJ Financial Group, Inc ... ), SearchResult(url=https://www.mufg.jp/english/ir/stock/stock_information/index.html, title=MUFG; Stock Information | Mitsubishi UFJ Financial Group, description= Get the latest financial information of MUFG, with access to annual reports, IR presentations and more ... JP MORGAN CHASE BANK 385781, 164,983,287, 1.41. 8 ... ), SearchResult(url=https://www.mufgamericas.com/who-we-are/our-leadership-team/mark-thumser, title=Mark Thumser - MUFG Americas, description= Skip to main content. Previous Next. Contact · Careers. ×. Search. MUFG Americas logo. Americas. MUFG ... Before joining J.P. Morgan Chase, he began his career at ... ), SearchResult(url=https://www.prnewswire.com/news-releases/mufg-further-expands-growth--middle-market-tech-banking-team-301947294.html, title=MUFG further expands Growth &amp; Middle Market Tech Banking team, description= Oct 4, 2023  ·  Most recently, she was in JP Morgan Chase's Technology and ... opoltavets@us.mufg.jp. About MUFG and MUFG Americas. Mitsubishi UFJ ... ), SearchResult(url=https://www.ran.org/press-releases/bocc2024/, title=Banks financed fossil fuels by $6.9 trillion dollars since the Paris ..., description= May 12, 2024  ·  JP Morgan Chase is the #1 fossil fuel financier in the world, committing $40.8 billion dollars to fossil fuel companies in 2023. They're also #1 ... ), SearchResult(url=https://www.jpmorganchase.com/content/dam/jpmc/jpmorgan-chase-and-co/investor-relations/documents/jpm-prospectus-supplement-dated-january-28-2025.pdf, title=[PDF] printmgr file - JPMorgan Chase, description= Jan 28, 2025  ·  MUFG Securities Americas Inc. .................................................. 10,050. nabSecurities, LLC .................................... ), SearchResult(url=https://www.jpmorganchase.com/content/dam/jpmc/jpmorgan-chase-and-co/investor-relations/documents/jpm-prospectus-supplement-01-16-2025.pdf, title=[PDF] Prospectus Supplement - JPMorgan Chase, description= Jan 16, 2025  ·  MUFG Securities Americas Inc. ........ 3,250,000. 8,667,000. 10,833,000. 11,917,000. Natixis Securities Americas LLC ........ 3,250,000. ), SearchResult(url=https://www.listcorp.com/asx/fpr/fleetpartners-group-limited/news/becoming-a-substantial-holder-from-mufg-3169540.html, title=Becoming a substantial holder from MUFG - Listcorp, description= 22 hours ago  ·  JP MORGAN CHASE Not applicable Mitsubishi UFJ Financial Group, Inc. ... MUFG Alternative Fund Services (Ireland) Limited MUFG Jersey Limited MUFG ... ), SearchResult(url=https://www.monitordaily.com/news-posts/mufg-expands-growth-and-middle-market-technology-banking-team/, title=MUFG Expands Growth and Middle-Market Technology Banking Team, description= Oct 5, 2023  ·  MUFG Expands Growth and Middle-Market Technology Banking Team. OCT 5 ... Most recently, she was in JP Morgan Chase's technology and ... ), SearchResult(url=https://www.mufg-investorservices.com/mufg-investor-services-announces-management-changes/, title=MUFG Investor Services Announces Management Changes, description= May 17, 2018  ·  He was formerly the Global Head of Sales at UBS AFS and held several other roles at Deutsche Bank and JP Morgan Chase. “MUFG has always ... )]</td>\n",
       "      <td>[MUFG further expands Growth &amp; Middle Market Tech Banking team, MUFG; Stock Information | Mitsubishi UFJ Financial Group, Mark Thumser - MUFG Americas, MUFG further expands Growth &amp; Middle Market Tech Banking team, Banks financed fossil fuels by $6.9 trillion dollars since the Paris ..., [PDF] printmgr file - JPMorgan Chase, [PDF] Prospectus Supplement - JPMorgan Chase, Becoming a substantial holder from MUFG - Listcorp, MUFG Expands Growth and Middle-Market Technology Banking Team, MUFG Investor Services Announces Management Changes]</td>\n",
       "      <td>1.0</td>\n",
       "      <td>SearchResult(url=https://www.jpmorganchase.com/content/dam/jpmc/jpmorgan-chase-and-co/investor-relations/documents/jpm-prospectus-supplement-dated-january-28-2025.pdf, title=[PDF] printmgr file - JPMorgan Chase, description= Jan 28, 2025  ·  MUFG Securities Americas Inc. .................................................. 10,050. nabSecurities, LLC .................................... )</td>\n",
       "    </tr>\n",
       "    <tr>\n",
       "      <th>12</th>\n",
       "      <td>JP Morgan Chase</td>\n",
       "      <td>US Department of Commerce Minority Business Development Agency</td>\n",
       "      <td>[SearchResult(url=https://www.mbda.gov/sites/default/files/migrated/files-attachments/David-Hinson-Bio_0.pdf, title=[PDF] David Hinson National Director, description= Hinson previously held a variety of senior-level and mid-management positions at. Bank of America, Morgan Stanley &amp; Company, First Chicago (now JP Morgan Chase) ... ), SearchResult(url=https://www.youtube.com/watch?v=WbuJZSqD7X4, title=The Power of Capital with JP Morgan Chase - YouTube, description= 25 Apr 2024  ·  The Capital Readiness Program, powered by the U.S. Department of Commerce, Minority Business Development Agency (MBDA), and operated by the ... ), SearchResult(url=https://www.commerce.gov/sites/default/files/media/files/2015/hinson041510.pdf, title=[PDF] written testimony of david a. hinson, national director minority ..., description= 15 Apr 2010  ·  Company, First Chicago Bank (now JP Morgan Chase) and the Village Foundation. ... U.S. Department of Commerce, Minority Business Development ... ), SearchResult(url=https://innovate.gatech.edu/tag/minority-business-development-agency/, title=Minority Business Development Agency - Enterprise Innovation ..., description= Funded by the U.S. Department of Commerce Minority Business Development Agency ... The MIEC also serves as the lead institution in the JP Morgan Chase ... ), SearchResult(url=https://na.eventscloud.com/ereg/popups/speakerdetails.php?eventid=149750&amp;speakerid=454562, title=Speaker details, description= ... U.S. Department of Commerce, Minority Business Development Agency. Ira has ... JP Morgan Chase on two, multi-billion dollar bankruptcies. ), SearchResult(url=https://advocacy.sba.gov/wp-content/uploads/2022/08/Report_COVID-and-Racial-Disparities_508c.pdf, title=[PDF] The Impacts of COVID-19 on Racial Disparities in Small Business ..., description= 16 Aug 2022  ·  at JP Morgan Chase (JPMC) for a few states and find that by the end ... U.S. Department of Commerce, Minority Business Development Agency. ), SearchResult(url=https://www.congress.gov/111/chrg/CHRG-111shrg71269/CHRG-111shrg71269.pdf, title=[PDF] ties for minority small business owners in today's capital markets ..., description= 4 May 2024  ·  us. Department of Commerce, Minority Business Development Agency ... Company, First Chicago Bank (now JP Morgan Chase) and the Village Foundation. ), SearchResult(url=https://onlinelibrary.wiley.com/doi/10.1111/puar.13722, title=How reducing documentation burdens impacts equity in access to ..., description= 3 Sept 2023  ·  Washington, DC: U.S. Department of Commerce: Minority Business Development Agency. ... Washington, DC: J.P. Morgan Chase. https://www. ), SearchResult(url=https://papers.ssrn.com/sol3/Delivery.cfm/SSRN_ID1440486_code1279430.pdf?abstractid=1440486&amp;mirid=1&amp;type=2, title=[PDF] IN YOUR OWN BACKYARD: - SSRN, description= Quetzal/JP Morgan Chase ... JP Morgan Chase Community Development. 300. JME ... 12 U.S. Department of Commerce, Minority Business Development Agency . ), SearchResult(url=https://digital.mbemag.com/articles/conference-roundup?article_id=3809579&amp;i=680301, title=Minority Business Entrepreneur Summer-Fall 2020: CONFERENCE ..., description= ... JP Morgan Chase &amp; Co.; Ambassador Martha Bárcena Coqui, ambassador of Mexico ... The U.S. Department of Commerce Minority Business Development Agency ... )]</td>\n",
       "      <td>[[PDF] David Hinson National Director, The Power of Capital with JP Morgan Chase - YouTube, [PDF] written testimony of david a. hinson, national director minority ..., Minority Business Development Agency - Enterprise Innovation ..., Speaker details, [PDF] The Impacts of COVID-19 on Racial Disparities in Small Business ..., [PDF] ties for minority small business owners in today's capital markets ..., How reducing documentation burdens impacts equity in access to ..., [PDF] IN YOUR OWN BACKYARD: - SSRN, Minority Business Entrepreneur Summer-Fall 2020: CONFERENCE ...]</td>\n",
       "      <td>1.0</td>\n",
       "      <td>SearchResult(url=https://www.mbda.gov/sites/default/files/migrated/files-attachments/David-Hinson-Bio_0.pdf, title=[PDF] David Hinson National Director, description= Hinson previously held a variety of senior-level and mid-management positions at. Bank of America, Morgan Stanley &amp; Company, First Chicago (now JP Morgan Chase) ... )</td>\n",
       "    </tr>\n",
       "  </tbody>\n",
       "</table>\n",
       "</div>\n",
       "    <div class=\"colab-df-buttons\">\n",
       "\n",
       "  <div class=\"colab-df-container\">\n",
       "    <button class=\"colab-df-convert\" onclick=\"convertToInteractive('df-07ebcfd9-11ba-4395-ba9e-c1cf8862ec70')\"\n",
       "            title=\"Convert this dataframe to an interactive table.\"\n",
       "            style=\"display:none;\">\n",
       "\n",
       "  <svg xmlns=\"http://www.w3.org/2000/svg\" height=\"24px\" viewBox=\"0 -960 960 960\">\n",
       "    <path d=\"M120-120v-720h720v720H120Zm60-500h600v-160H180v160Zm220 220h160v-160H400v160Zm0 220h160v-160H400v160ZM180-400h160v-160H180v160Zm440 0h160v-160H620v160ZM180-180h160v-160H180v160Zm440 0h160v-160H620v160Z\"/>\n",
       "  </svg>\n",
       "    </button>\n",
       "\n",
       "  <style>\n",
       "    .colab-df-container {\n",
       "      display:flex;\n",
       "      gap: 12px;\n",
       "    }\n",
       "\n",
       "    .colab-df-convert {\n",
       "      background-color: #E8F0FE;\n",
       "      border: none;\n",
       "      border-radius: 50%;\n",
       "      cursor: pointer;\n",
       "      display: none;\n",
       "      fill: #1967D2;\n",
       "      height: 32px;\n",
       "      padding: 0 0 0 0;\n",
       "      width: 32px;\n",
       "    }\n",
       "\n",
       "    .colab-df-convert:hover {\n",
       "      background-color: #E2EBFA;\n",
       "      box-shadow: 0px 1px 2px rgba(60, 64, 67, 0.3), 0px 1px 3px 1px rgba(60, 64, 67, 0.15);\n",
       "      fill: #174EA6;\n",
       "    }\n",
       "\n",
       "    .colab-df-buttons div {\n",
       "      margin-bottom: 4px;\n",
       "    }\n",
       "\n",
       "    [theme=dark] .colab-df-convert {\n",
       "      background-color: #3B4455;\n",
       "      fill: #D2E3FC;\n",
       "    }\n",
       "\n",
       "    [theme=dark] .colab-df-convert:hover {\n",
       "      background-color: #434B5C;\n",
       "      box-shadow: 0px 1px 3px 1px rgba(0, 0, 0, 0.15);\n",
       "      filter: drop-shadow(0px 1px 2px rgba(0, 0, 0, 0.3));\n",
       "      fill: #FFFFFF;\n",
       "    }\n",
       "  </style>\n",
       "\n",
       "    <script>\n",
       "      const buttonEl =\n",
       "        document.querySelector('#df-07ebcfd9-11ba-4395-ba9e-c1cf8862ec70 button.colab-df-convert');\n",
       "      buttonEl.style.display =\n",
       "        google.colab.kernel.accessAllowed ? 'block' : 'none';\n",
       "\n",
       "      async function convertToInteractive(key) {\n",
       "        const element = document.querySelector('#df-07ebcfd9-11ba-4395-ba9e-c1cf8862ec70');\n",
       "        const dataTable =\n",
       "          await google.colab.kernel.invokeFunction('convertToInteractive',\n",
       "                                                    [key], {});\n",
       "        if (!dataTable) return;\n",
       "\n",
       "        const docLinkHtml = 'Like what you see? Visit the ' +\n",
       "          '<a target=\"_blank\" href=https://colab.research.google.com/notebooks/data_table.ipynb>data table notebook</a>'\n",
       "          + ' to learn more about interactive tables.';\n",
       "        element.innerHTML = '';\n",
       "        dataTable['output_type'] = 'display_data';\n",
       "        await google.colab.output.renderOutput(dataTable, element);\n",
       "        const docLink = document.createElement('div');\n",
       "        docLink.innerHTML = docLinkHtml;\n",
       "        element.appendChild(docLink);\n",
       "      }\n",
       "    </script>\n",
       "  </div>\n",
       "\n",
       "\n",
       "<div id=\"df-6e856ff7-56ca-4401-8796-d18d6f31569b\">\n",
       "  <button class=\"colab-df-quickchart\" onclick=\"quickchart('df-6e856ff7-56ca-4401-8796-d18d6f31569b')\"\n",
       "            title=\"Suggest charts\"\n",
       "            style=\"display:none;\">\n",
       "\n",
       "<svg xmlns=\"http://www.w3.org/2000/svg\" height=\"24px\"viewBox=\"0 0 24 24\"\n",
       "     width=\"24px\">\n",
       "    <g>\n",
       "        <path d=\"M19 3H5c-1.1 0-2 .9-2 2v14c0 1.1.9 2 2 2h14c1.1 0 2-.9 2-2V5c0-1.1-.9-2-2-2zM9 17H7v-7h2v7zm4 0h-2V7h2v10zm4 0h-2v-4h2v4z\"/>\n",
       "    </g>\n",
       "</svg>\n",
       "  </button>\n",
       "\n",
       "<style>\n",
       "  .colab-df-quickchart {\n",
       "      --bg-color: #E8F0FE;\n",
       "      --fill-color: #1967D2;\n",
       "      --hover-bg-color: #E2EBFA;\n",
       "      --hover-fill-color: #174EA6;\n",
       "      --disabled-fill-color: #AAA;\n",
       "      --disabled-bg-color: #DDD;\n",
       "  }\n",
       "\n",
       "  [theme=dark] .colab-df-quickchart {\n",
       "      --bg-color: #3B4455;\n",
       "      --fill-color: #D2E3FC;\n",
       "      --hover-bg-color: #434B5C;\n",
       "      --hover-fill-color: #FFFFFF;\n",
       "      --disabled-bg-color: #3B4455;\n",
       "      --disabled-fill-color: #666;\n",
       "  }\n",
       "\n",
       "  .colab-df-quickchart {\n",
       "    background-color: var(--bg-color);\n",
       "    border: none;\n",
       "    border-radius: 50%;\n",
       "    cursor: pointer;\n",
       "    display: none;\n",
       "    fill: var(--fill-color);\n",
       "    height: 32px;\n",
       "    padding: 0;\n",
       "    width: 32px;\n",
       "  }\n",
       "\n",
       "  .colab-df-quickchart:hover {\n",
       "    background-color: var(--hover-bg-color);\n",
       "    box-shadow: 0 1px 2px rgba(60, 64, 67, 0.3), 0 1px 3px 1px rgba(60, 64, 67, 0.15);\n",
       "    fill: var(--button-hover-fill-color);\n",
       "  }\n",
       "\n",
       "  .colab-df-quickchart-complete:disabled,\n",
       "  .colab-df-quickchart-complete:disabled:hover {\n",
       "    background-color: var(--disabled-bg-color);\n",
       "    fill: var(--disabled-fill-color);\n",
       "    box-shadow: none;\n",
       "  }\n",
       "\n",
       "  .colab-df-spinner {\n",
       "    border: 2px solid var(--fill-color);\n",
       "    border-color: transparent;\n",
       "    border-bottom-color: var(--fill-color);\n",
       "    animation:\n",
       "      spin 1s steps(1) infinite;\n",
       "  }\n",
       "\n",
       "  @keyframes spin {\n",
       "    0% {\n",
       "      border-color: transparent;\n",
       "      border-bottom-color: var(--fill-color);\n",
       "      border-left-color: var(--fill-color);\n",
       "    }\n",
       "    20% {\n",
       "      border-color: transparent;\n",
       "      border-left-color: var(--fill-color);\n",
       "      border-top-color: var(--fill-color);\n",
       "    }\n",
       "    30% {\n",
       "      border-color: transparent;\n",
       "      border-left-color: var(--fill-color);\n",
       "      border-top-color: var(--fill-color);\n",
       "      border-right-color: var(--fill-color);\n",
       "    }\n",
       "    40% {\n",
       "      border-color: transparent;\n",
       "      border-right-color: var(--fill-color);\n",
       "      border-top-color: var(--fill-color);\n",
       "    }\n",
       "    60% {\n",
       "      border-color: transparent;\n",
       "      border-right-color: var(--fill-color);\n",
       "    }\n",
       "    80% {\n",
       "      border-color: transparent;\n",
       "      border-right-color: var(--fill-color);\n",
       "      border-bottom-color: var(--fill-color);\n",
       "    }\n",
       "    90% {\n",
       "      border-color: transparent;\n",
       "      border-bottom-color: var(--fill-color);\n",
       "    }\n",
       "  }\n",
       "</style>\n",
       "\n",
       "  <script>\n",
       "    async function quickchart(key) {\n",
       "      const quickchartButtonEl =\n",
       "        document.querySelector('#' + key + ' button');\n",
       "      quickchartButtonEl.disabled = true;  // To prevent multiple clicks.\n",
       "      quickchartButtonEl.classList.add('colab-df-spinner');\n",
       "      try {\n",
       "        const charts = await google.colab.kernel.invokeFunction(\n",
       "            'suggestCharts', [key], {});\n",
       "      } catch (error) {\n",
       "        console.error('Error during call to suggestCharts:', error);\n",
       "      }\n",
       "      quickchartButtonEl.classList.remove('colab-df-spinner');\n",
       "      quickchartButtonEl.classList.add('colab-df-quickchart-complete');\n",
       "    }\n",
       "    (() => {\n",
       "      let quickchartButtonEl =\n",
       "        document.querySelector('#df-6e856ff7-56ca-4401-8796-d18d6f31569b button');\n",
       "      quickchartButtonEl.style.display =\n",
       "        google.colab.kernel.accessAllowed ? 'block' : 'none';\n",
       "    })();\n",
       "  </script>\n",
       "</div>\n",
       "\n",
       "  <div id=\"id_bd0d1b3a-af80-4581-ad92-90b433d819b0\">\n",
       "    <style>\n",
       "      .colab-df-generate {\n",
       "        background-color: #E8F0FE;\n",
       "        border: none;\n",
       "        border-radius: 50%;\n",
       "        cursor: pointer;\n",
       "        display: none;\n",
       "        fill: #1967D2;\n",
       "        height: 32px;\n",
       "        padding: 0 0 0 0;\n",
       "        width: 32px;\n",
       "      }\n",
       "\n",
       "      .colab-df-generate:hover {\n",
       "        background-color: #E2EBFA;\n",
       "        box-shadow: 0px 1px 2px rgba(60, 64, 67, 0.3), 0px 1px 3px 1px rgba(60, 64, 67, 0.15);\n",
       "        fill: #174EA6;\n",
       "      }\n",
       "\n",
       "      [theme=dark] .colab-df-generate {\n",
       "        background-color: #3B4455;\n",
       "        fill: #D2E3FC;\n",
       "      }\n",
       "\n",
       "      [theme=dark] .colab-df-generate:hover {\n",
       "        background-color: #434B5C;\n",
       "        box-shadow: 0px 1px 3px 1px rgba(0, 0, 0, 0.15);\n",
       "        filter: drop-shadow(0px 1px 2px rgba(0, 0, 0, 0.3));\n",
       "        fill: #FFFFFF;\n",
       "      }\n",
       "    </style>\n",
       "    <button class=\"colab-df-generate\" onclick=\"generateWithVariable('df_1_result')\"\n",
       "            title=\"Generate code using this dataframe.\"\n",
       "            style=\"display:none;\">\n",
       "\n",
       "  <svg xmlns=\"http://www.w3.org/2000/svg\" height=\"24px\"viewBox=\"0 0 24 24\"\n",
       "       width=\"24px\">\n",
       "    <path d=\"M7,19H8.4L18.45,9,17,7.55,7,17.6ZM5,21V16.75L18.45,3.32a2,2,0,0,1,2.83,0l1.4,1.43a1.91,1.91,0,0,1,.58,1.4,1.91,1.91,0,0,1-.58,1.4L9.25,21ZM18.45,9,17,7.55Zm-12,3A5.31,5.31,0,0,0,4.9,8.1,5.31,5.31,0,0,0,1,6.5,5.31,5.31,0,0,0,4.9,4.9,5.31,5.31,0,0,0,6.5,1,5.31,5.31,0,0,0,8.1,4.9,5.31,5.31,0,0,0,12,6.5,5.46,5.46,0,0,0,6.5,12Z\"/>\n",
       "  </svg>\n",
       "    </button>\n",
       "    <script>\n",
       "      (() => {\n",
       "      const buttonEl =\n",
       "        document.querySelector('#id_bd0d1b3a-af80-4581-ad92-90b433d819b0 button.colab-df-generate');\n",
       "      buttonEl.style.display =\n",
       "        google.colab.kernel.accessAllowed ? 'block' : 'none';\n",
       "\n",
       "      buttonEl.onclick = () => {\n",
       "        google.colab.notebook.generateWithVariable('df_1_result');\n",
       "      }\n",
       "      })();\n",
       "    </script>\n",
       "  </div>\n",
       "\n",
       "    </div>\n",
       "  </div>\n"
      ],
      "text/plain": [
       "                                Sponsor 1  \\\n",
       "0     Access to Capital for Entrepreneurs   \n",
       "1     Access to Capital for Entrepreneurs   \n",
       "2     Access to Capital for Entrepreneurs   \n",
       "3                           Ascend Cities   \n",
       "4                           Ascend Cities   \n",
       "5                Black Wealth Data Center   \n",
       "6   DoD Office of Small Business Programs   \n",
       "7   DoD Office of Small Business Programs   \n",
       "8                        General Dynamics   \n",
       "9                        General Dynamics   \n",
       "10                        JP Morgan Chase   \n",
       "11                        JP Morgan Chase   \n",
       "12                        JP Morgan Chase   \n",
       "\n",
       "                                                         Sponsor 2  \\\n",
       "0                                                  JP Morgan Chase   \n",
       "1                                                             LISC   \n",
       "2                                                             MUFG   \n",
       "3                                                  JP Morgan Chase   \n",
       "4                                                             LISC   \n",
       "5                                                  JP Morgan Chase   \n",
       "6                                                 General Dynamics   \n",
       "7   US Department of Commerce Minority Business Development Agency   \n",
       "8                                                  JP Morgan Chase   \n",
       "9   US Department of Commerce Minority Business Development Agency   \n",
       "10                                                            LISC   \n",
       "11                                                            MUFG   \n",
       "12  US Department of Commerce Minority Business Development Agency   \n",
       "\n",
       "                                                                                                                                                                                                                                                                                                                                                                                                                                                                                                                                                                                                                                                                                                                                                                                                                                                                                                                                                                                                                                                                                                                                                                                                                                                                                                                                                                                                                                                                                                                                                                                                                                                                                                                                                                                                                                                                                                                                                                                                                                                                                                                                                                                                                                                                                                                                                                                                                                                                                                                                                                                                                                                                                                                                                                                                                                                                                                                                                                                                                                                                                                                                                                                                                                                                                                                                                                                                                                                                                                                                                                                                                                                                                                                                                                                                                                         Top 5 Results  \\\n",
       "0                                                                                                                              [SearchResult(url=https://media.chase.com/news/launch-of-new-chase-lounge-at-the-russell-center-will-help-fuel-path-to-success-for-black-business-owners-and-entrepreneurs-in-atlanta, title=Launch of New Chase Lounge at the Russell Center Will Help Fuel ..., description= Feb 25, 2021  ·  ... Access to Capital for Entrepreneurs and Atlanta Wealth Building Initiative. ... © 2025 JP Morgan Chase & Co. ), SearchResult(url=https://aceloans.org/news-events/page/6/?query-0-page=15, title=News & Events | Access to Capital for Entrepreneurs, description= ACE Partnership with LISC Atlanta Continues with $100 Million commitment from JP Morgan Chase to The Entrepreneurs of Color Loan Fund (EOCF). May 10, 2022. ACE ... ), SearchResult(url=https://www.kauffman.org/wp-content/uploads/2023/06/Access-to-Capital-for-Entrepreneurs-Report-2-June-2023.pdf, title=[PDF] Access to Capital for Entrepreneurs: Removing Barriers (2023), description= (2023). “Access to Capital for Entrepreneurs: Removing Barriers: 2023 ... * BANK OF AMERICA, CITIBANK, JP MORGAN CHASE, WELLS FARGO. RATIO, KC:US. 1.6. ), SearchResult(url=https://www.ascendatl.org/, title=Ascend Atlanta – Growing minority owned businesses, description= JP Morgan Chase & Co. has partnered with Morehouse Innovation & Entrepreneurship Center, Village Micro Fund, Access to Capital for Entrepreneurs, and ... ), SearchResult(url=https://media.chase.com/news/jpmc-to-add-25-branches-in-georgia, title=JPMorgan Chase to Add 25 Branches in Georgia in Next Three Years, description= Sep 25, 2018  ·  ... Access to Capital for Entrepreneurs Inc., Atlanta Neighborhood ... © 2025 JP Morgan Chase & Co. ), SearchResult(url=https://finance.yahoo.com/news/c-k-mcwhorter-cancels-j-173800912.html, title=C.K. McWhorter Cancels J.P. Morgan Communications, Citing Lack ..., description= Mar 26, 2024  ·  ... discussions with JP Morgan Chase & Co. The decision stems from a stark observation of the bank's inade. ), SearchResult(url=https://fox2now.com/business/press-releases/ein-presswire/659210053/ace-access-to-capital-for-entrepreneurs-receives-largest-philanthropic-donation-ever-from-cooperative-assistance-fund, title=ACE | Access to Capital for Entrepreneurs Receives Largest ... - FOX 2, description= Oct 3, 2023  ·  ACE | Access to Capital for Entrepreneurs Receives Largest Philanthropic Donation Ever From Cooperative Assistance Fund ... JP Morgan Chase & ... ), SearchResult(url=https://aceloans.org/ace-announces-award-categories-for-its-2024-annual-awards-fundraiser/, title=ACE Announces Award Categories for Its 2024 Annual Awards ..., description= ACE | Access to Capital for Entrepreneurs Inc. is pleased to announce the ... Blank Family Foundation, JP Morgan Chase & Company, and PNC Bank Access ... ), SearchResult(url=https://fox5sandiego.com/business/press-releases/ein-presswire/746868347/ace-annual-awards-highlights-its-24-year-legacy-of-growing-georgia-businesses, title=ACE Annual Awards Highlights Its 24-Year Legacy of Growing ..., description= ... Access to Capital for Entrepreneurs held its ... JP Morgan Chase & Company, PNC Bank, Wells Fargo ... Access to Capital for Entrepreneurs Inc. +1 470 ... ), SearchResult(url=https://news.morehouse.edu/inside-morehouse/morehouse-collegeentrepreneurship-center-shares-in-640000-donationfrom-jpmorgan-chase-company, title=Morehouse College Entrepreneurship Center Shares In $640000 ..., description= Jun 13, 2019  ·  Access to Capital for Entrepreneurs will provide small loans to ... Including donations to other Ascend Atlanta partners, JP Morgan Chase ... )]   \n",
       "1                                                                                                                                                                                                                                                                                      [SearchResult(url=https://www.lisc.org/atlanta/strategies/strengthening-ecosystems/acces-capital-entreprenuers/, title=Access to Capital for Entrepreneurs | LISC Atlanta, description= Access to Capital for Entrepreneurs. Metro Atlanta is home to a network of ... LISC ATL strengthens this network and its support for small businesses by ... ), SearchResult(url=https://www.lisc.org/eocf/, title=LISC EOCF, description= LISC National · Contact · EOCF Resource Center. Search. Site logo · Our Work · Where ... access to capital for entrepreneurs. 2023 Impact. 2,941. loans closed ... ), SearchResult(url=https://www.lisc.org/our-stories/story/lisc-closes-100m-commitments-entrepreneurs-color-loan-fund-fuel-minority-owned-businesses/, title=LISC Closes $100M in Commitments for Entrepreneurs of Color ..., description= May 10, 2022  ·  LISC Closes $100M in Commitments for Entrepreneurs of Color ... The Loan Fund's partner CDFIs include: Access to Capital for Entrepreneurs ... ), SearchResult(url=https://www.arc.gov/wp-content/uploads/2024/04/ARC_FINAL-REPORT_April-16.pdf, title=[PDF] Access to Capital and Credit for Entrepreneurs and Small ..., description= ... Access to Capital for Entrepreneurs received significant funding, including ... (LISC) in 2021. LISC allocates project grants to community development ... ), SearchResult(url=https://www.lisc.org/our-stories/story/lisc-cdfi-loans-support-local-small-business-lending-through-pandemic-and-beyond/, title=LISC CDFI Loans Support Local Small Business Lending Through ..., description= Oct 20, 2022  ·  LISC supported a range of small business CDFIs ... We had a chance to check in with two of the CDFIs—Access to Capital for Entrepreneurs ... ), SearchResult(url=https://www.prnewswire.com/news-releases/lisc-closes-100-million-in-commitments-for-entrepreneurs-of-color-loan-fund-to-fuel-minority-owned-businesses-301544271.html, title=LISC closes $100 million in commitments for Entrepreneurs of Color ..., description= May 10, 2022  ·  LISC closes $100 million in commitments for Entrepreneurs of ... The Loan Fund's partner CDFIs include: Access to Capital for Entrepreneurs ... ), SearchResult(url=https://www.lisc.org/eocf/partners/, title=Partners | LISC EOCF, description= Our Partners. Access to Capital for ... LISC. MBF Logo. NewCorp. Pacific ... ), SearchResult(url=https://aceloans.org/ace-access-to-capital-for-entrepreneurs-inc-announces-2024-board-appointments/, title=Access to Capital for Entrepreneurs Inc. Announces 2024 Board ..., description= ACE | Access to Capital for Entrepreneurs announced today changes to its board of directors. ... LISC Atlanta. Grace Lopez-Williams, CPA, PFP, MBA, CTRS Grace M. ), SearchResult(url=https://nextstreet.com/wp-content/uploads/2024/04/ARC_FINAL-REPORT_Mar-25_ExecutiveSummary.pdf, title=[PDF] Access to Capital and Credit for Entrepreneurs and Small ..., description= Access to Capital for Entrepreneurs. President & CEO. Larry Fisher. ACE ... VP, Rural LISC Director. Deb Markley. Locus Impact Investing. SVP. Ketaki ... ), SearchResult(url=https://aceloans.org/ace-access-to-capital-for-entrepreneurs-inc-announces-board-officer-appointments/, title=Access to Capital for Entrepreneurs Inc. Announces Board Officer ..., description= ACE | Access to Capital for Entrepreneurs has announced changes to its board of directors. The announcement was made today by Grace Fricks, president and CEO ... )]   \n",
       "2                                                                                                                                                                                                                                                                                             [SearchResult(url=http://pdf.secdatabase.com/574/0001628280-21-009536.pdf, title=[PDF] MUFG Americas Holdings Corp Form 8-K Current Event Report ..., description= MUFG Americas Holdings Corporation Investor Presentation, 1Q21 MUFG ... MUFG Union Bank, N.A. OpCo ... Access to Capital for Entrepreneurs', a Community ... ), SearchResult(url=https://aceloans.org/wp-content/uploads/2022/05/ACE-2021-Annual-Report-FINALLY.pdf, title=[PDF] 2021 Annual Impact Report - Access to Capital for Entrepreneurs, description= Innovation and Entrepreneurship Center and ACE | Access to Capital for Entrepreneurs. ... MUFG Union Bank. National Association for Latino Community Asset. ), SearchResult(url=https://www.cdfifund.gov/sites/cdfi/files/documents/fy-2020-bea-cdfi-partner-list-for-award-recipients.pdf, title=[PDF] FY 2020 BEA - CDFI Partner List for Award Recipients.xlsx, description= Access to Capital for Entrepreneurs. Loan Fund. Georgia. MUFG Union Bank, N.A. ... MUFG Union Bank, N.A.. California. Equity Like Lonas. BOC Capital Corp. Loan ... ), SearchResult(url=https://www.morganstanley.com/press-releases/mitsubishi-ufj-financial-group-to-invest-9-billion-in-morgan-stanley_6962, title=Mitsubishi UFJ Financial Group to Invest $9 Billion in Morgan Stanley, description= ... access to capital for entrepreneurs and spotlight their success. Featured. Get ... For more information about MUFG, please visit www.mufg.jp/english/about. ), SearchResult(url=https://aceloans.org/wp-content/uploads/2023/06/ACE-2022-Annual-Report-v8.pdf, title=[PDF] 2022 Annual Impact Report - Access to Capital for Entrepreneurs, description= ACE | Access to Capital for Entrepreneurs Inc. Founder, President, CEO ... MUFG Union Bank. National Association for Latino Community Asset. Builders ... ), SearchResult(url=https://info.craft3.org/hubfs/Development/Craft3%20Annual%20Investor%20Report%20-%202021.pdf, title=[PDF] Craft3 Annual Investor Report - 2021, description= Craft3 began its Equitable Lending Initiative in 2019 with the goal of improving access to capital for entrepreneurs ... MUFG Union Bank, N.A.. Northern ... ), SearchResult(url=https://www.linkedin.com/in/miguel-alandete-69368464, title=Miguel Alandete - ACE | Access to Capital for Entrepreneurs - LinkedIn, description= Feb 1, 2025  ·  Experience: ACE | Access to Capital for Entrepreneurs · Education: St. John's College (MD) · Location: Decatur · 500+ connections on ... ), SearchResult(url=https://www.occ.gov/static/cra/craeval/may19/1461.pdf, title=[PDF] CRA Performance Evaluation Charter 1461, description= Feb 5, 2018  ·  Access to capital for entrepreneurs through traditional banks and training ... and MUFG Union Bank. The Los Angeles MSA is ranked second to ... ), SearchResult(url=https://www.morganstanley.com/press-releases/mufg-and-morgan-stanley-enhance-global-strategic-alliance, title=MUFG and Morgan Stanley Enhance Global Strategic Alliance, description= Jul 18, 2023  ·  ... access to capital for entrepreneurs and spotlight their success. ... Given such market trends, MUFG's consolidated subsidiary MUFG Bank ... ), SearchResult(url=https://www.sec.gov/Archives/edgar/data/1011659/000162828021009536/0001628280-21-009536.txt, title=0001628280-21-009536.txt - SEC.gov, description= ... MUFG Americas Holdings Corp CENTRAL INDEX KEY: 0001011659 STANDARD ... Access to Capital for Entrepreneurs', a Community Development Financial ... )]   \n",
       "3                                                                                                                                                                                                                                                                                                                                                                                                                                               [SearchResult(url=https://ascendcities.com/press/nov22pr, title=People of color-owned businesses served by the Ascend network ..., description= 1 Nov 2022  ·  ... Ascend Cities program. “The Ascend National Cohort business growth ... The program has expanded thanks to funding from JP Morgan Chase ... ), SearchResult(url=https://ascendcities.com/s/Ascend-National-Cohort-One-Pager-6.pdf, title=[PDF] Ascend National Cohort- One Pager - Ascend Cities, description= JP Morgan Chase. November 4. Technology Transformation. EY. November 18. Financial Systems Transformation I. RSM. December 2. Organizational Change Leadership I. ), SearchResult(url=https://www.lendlease.com/my/insights/lendlease-ascend-regional-program/, title=Connecting MBE Firms to Active Bidding Opportunities - Lendlease, description= 1 Jun 2023  ·  Funded by JP Morgan Chase and supported by the University of ... Ascend Cities network (www.ascendcities.com). “The importance of ... ), SearchResult(url=https://www.linkedin.com/posts/ascend-cities-466671273_ascendcities-activity-7216486822489546752-COzr, title=#ascendcities | Ascend Cities - LinkedIn, description= 9 Jul 2024  ·  Ascend Cities' Post. View profile for Ascend Cities · Ascend Cities ... JP Morgan Chase, @Lease Crutcher Lewis, @GLY Construction, and ... ), SearchResult(url=https://www.neverbounce.com/company/ascend/478616750, title=Ascend Email verification & Email checker | NeverBounce, description= The program has expanded thanks to funding from JP Morgan Chase. ... 60. Popular Searches. ascend | ascending businesses inc | ascend cities ... The program has ... ), SearchResult(url=https://news.iu.edu/live/news/28258-kelleys-enterprise-corps-helps-diverse-led-indiana-com, title=Kelley's Enterprise Corps helps diverse-led Indiana companies ..., description= 16 May 2023  ·  This includes a planning grant from J.P. Morgan Chase & Co. for Enterprise Corps partners to make Indianapolis part of the Ascend Cities ... ), SearchResult(url=https://www.hofstra.edu/pdf/academics/entrepreneurship/ascend-li-implementation-plan.pdf, title=[PDF] Ascend Long Island | Implementation Plan - Owned Business, description= 9 Jan 2019  ·  In this context, new investments and partnerships between major funders and local institutions such as JP Morgan Chase and Hofstra University ... ), SearchResult(url=https://www.datanyze.com/companies/ascend/478616750, title=Ascend Company Profile | Management and Employees List, description= The program has expanded thanks to funding from JP Morgan Chase. ... Ascend Cities. Ascend Residential LLC. The Ascend ... Ascend CitiesAscend Residential LLC, The ... ), SearchResult(url=https://marlin-oboe-xnjd.squarespace.com/s/WTC-Impact-Driver-with-Renee-Sacks-2.pdf, title=[PDF] WTC 'Impact Driver' with Renee Sacks 2 - Women Talk Construction, description= And that's a program that is funded by JP Morgan Chase. And it is guided by ... were an experiment, the 15 cities in the Ascend Program, the Ascend Cities. ), SearchResult(url=https://www.zoominfo.com/pic/ascend/478616750, title=Ascend: Employee Directory | ZoomInfo.com, description= ascend cities. ascend residential llc. the ascend national cohort. uw foster ... The program has expanded thanks to funding from JP Morgan Chase. It ... )]   \n",
       "4                                                                                                                                                                                                                                                                                                                                                                                                                                                                                                                                                                                                                                                                                                                                                                                                                                                                                                                                                                                                                                                                                                                    [SearchResult(url=https://ascendcities.com/tunua, title=Tunua Thrash-Ntuk - Ascend Cities, description= A native Angeleno, Tunua Thrash-Ntuk is the Executive Director of Los Angeles Local Initiatives Support Corporation (LA LISC). She is a seasoned community ... ), SearchResult(url=https://ascendcities.com/press/ascend-newark-national-initiative-aims-to-connect-minority-business-owners-to-anchor-institutions, title=Ascend Newark: National initiative aims to connect minority ..., description= Jun 18, 2024  ·  and Greater Newark LISC. Those organizations will collaborate with other economic development and entrepreneurship organizations in Newark ... ), SearchResult(url=https://lv.linkedin.com/posts/rharper2_driving-equitable-entrepreneurship-through-activity-7029883733109260288-2boJ, title=Robert Harper, MPP on LinkedIn: Driving Equitable ..., description= View organization page for Ascend Cities, graphic · Ascend Cities. 418 ... (LISC) CMG Alliance New Orleans Business Alliance Rutgers Business School ... ), SearchResult(url=https://www.linkedin.com/posts/lisc-la_transforming-workplaces-for-good-lisc-los-activity-7174077929826439168-DpnH, title=LISC LA on LinkedIn: Transforming Workplaces for Good | LISC Los ..., description= ... LISC LA, Ascend ... LISC LA's Post. View organization page for LISC LA, graphic · LISC LA. 900 followers. 10mo ... Ascend Cities Nicole Williams Rene Cota CMG ... ), SearchResult(url=https://www.facebook.com/youthconstruct/?locale=sl_SI, title=Youth Construct - Facebook, description= ... Ascend Cities NYC to holiday galas like NAWIC Greater New York Chapter 240 ... Slika profila osebe LISC NY. ), SearchResult(url=https://www.google.com/search?num=12, title=, description=), SearchResult(url=https://www.facebook.com/nycconstruction/?locale=az_AZ, title=Bottom Line Construction & Development - Facebook, description= Rating   4.8  (20) ), SearchResult(url=/search?q=%22Ascend+Cities%22+%22LISC%22&num=12&safe=active&sca_esv=7c0335b6038f02f9&hl=en&ie=UTF-8&filter=0, title=, description= In order to show you the most relevant results, we have omitted some entries very similar to the 6 already displayed.\\nIf you like, you can  repeat the search with the omitted results included . ), SearchResult(url=, title=, description=), SearchResult(url=/search?q=%22Ascend+Cities%22+%22LISC%22&num=2&safe=active&sca_esv=7c0335b6038f02f9&hl=en&ie=UTF-8&filter=0, title=, description= In order to show you the most relevant results, we have omitted some entries very similar to the 6 already displayed.\\nIf you like, you can  repeat the search with the omitted results included . )]   \n",
       "5                                                                                                                                                                                                                                                                                                                                                                                                                    [SearchResult(url=https://www.jpmorganchase.com/institute/news-events/data-dialogue-state-of-household-finances-and-policy-priorities-for-an-inclusive-economy, title=Data Dialogue: The State of Household Finances and Policy ..., description= NATALIE EVANS HARRIS: In a nutshell, and this is not a plug, but the Black wealth data center launched always over two months ago. ... Black Wealth Data Center. ), SearchResult(url=http://www.michmca.org/images/Pathway_for_the_Future.pdf, title=[PDF] Pathways for the Future, description= J.P. Morgan Chase. Advancing Black Pathways. Page 2. TABLE OF CONTENTS ... The objective of the Black Wealth Data Center is to help practitioners and ... ), SearchResult(url=https://uncficb.org/uncf-announces-launch-of-hbcu-wealth-building-initiative/, title=UNCF Announces Launch of HBCU Wealth Building Initiative, description= 4 Mar 2025  ·  JP Morgan Chase. Hosetta Belcher Coleman serves as Executive Director ... Black Wealth Data Center. Neal holds a bachelor's degree in ... ), SearchResult(url=https://blackeconomicalliance.org/news/december-beat-sheet/, title=December BEAT Sheet - Black Economic Alliance, description= 10 Dec 2024  ·  This groundbreaking event showcased the real-world impact of the CBE's new partnership with the Black Wealth Data Center ... J.P. Morgan Chase & ... ), SearchResult(url=https://www.linkedin.com/posts/smythtristan_cdnpoli-nonprofits-investing-activity-7291104393175662592-kdQE, title=Tristan Smyth's Post - LinkedIn, description= 31 Jan 2025  ·  Thanks for including DataKind and highlighting our work with the Black Wealth Data Center. ... J.P. Morgan Chase, Bank of America, Mastercard, ... ), SearchResult(url=https://issuu.com/uclalppi/docs/2024_annual_report, title=2024 Annual Report by UCLA Latino Policy and Politics Institute, description= 6 days ago  ·  From left, Harsha Mallajosyula and Leela Bhashyam of Black Wealth Data Center ... • J.P. Morgan Chase Foundation. • Open Society Foundation. ), SearchResult(url=https://www.neighborhoodindicators.org/category/issue-area/neighborhood-typology, title=Neighborhood Typology | NNIP, description= 9 Oct 2017  ·  NNIP Partners Talk with Black Wealth Data Center about Data and Racial Equity ... JP Morgan Chase PRO Neighborhoods Evaluation in Memphis. August ... ), SearchResult(url=https://www.linkedin.com/posts/lablackmba_labmba-chasebank-businessofrealestate-activity-7222334807442178049-mohD, title=#labmba #chasebank #businessofrealestate #workshop | National ..., description= On July 18, the Black Wealth Data Center will ... JP Morgan Chase Foundation, Alex Camardelle of ... View organization page for Black Wealth Data Center. ), SearchResult(url=https://www.neighborhoodindicators.org/category/issue-area/vacancy, title=Vacancy | NNIP, description= NNIP Partners Talk with Black Wealth Data Center about Data and Racial Equity ... JP Morgan Chase PRO Neighborhoods Evaluation in Memphis. August 2020. Civic ... ), SearchResult(url=https://www.causeiq.com/organizations/corporation-for-enterprise-development,521141804/, title=Prosperity Now | Washington, DC - Cause IQ, description= To Support the Black Wealth Data Center, $3,215,000. JP Morgan Chase Foundation ... Identified 2 new grant, including a grant for $1,000,000 from JP Morgan Chase ... )]   \n",
       "6                                                                                                                                                     [SearchResult(url=https://gdmissionsystems.com/articles/2013/11/13/press_release_11-13-2013-general-dynamics-receives-2013-nunn-perry-mentor-protege-award, title=General Dynamics C4 Systems Receives 2013 Nunn-Perry Mentor ..., description= 14 Nov 2013  ·  General Dynamics C4 Systems has received the 2013 Nunn-Perry Award from the U.S. Department of Defense (DoD), Office of Small Business programs ... ), SearchResult(url=https://business.defense.gov/Portals/57/Documents/MARC%20Workshop%20Program%20Agenda.pdf?ver=2020-07-15-150945-643, title=[PDF] AGENDA - Office of Small Business Programs, description= 16 Jul 2020  ·  DoD Office of Small Business Programs. Mr. Jackson is a ... General Dynamics providing cyber and IT services across all GD operating units. ), SearchResult(url=https://www.linkedin.com/pulse/osbp-meets-small-businesses-ces-dod-osbp-ri4je, title=OSBP Meets with Small Businesses at CES - LinkedIn, description= 10 Jan 2025  ·  Leaders from the DoD Office of Small Business Programs (OSBP) were ... General Dynamics Mission Systems 1y · October 2024 Recap. ISI 4mo ... ), SearchResult(url=https://business.defense.gov/Portals/57/Documents/MARC%20Presentations03182021.pdf?ver=dJoqYAFABZjzMj_BN2HcmQ%3D%3D, title=[PDF] The Department of Defense (DoD) Mid-Atlantic Regional Council ..., description= 18 Mar 2021  ·  General Dynamics Information Technology (GDIT). Contracts and ... DoD Office of Small Business Programs. Acquisition & Sustainment. Mr ... ), SearchResult(url=https://www.sbir.gov/sites/all/themes/sbir/dawnbreaker/img/documents/Course7-Tutorial2.pdf, title=[PDF] how to develop a relationship with a large prime contractor - SBIR, description= General Dynamics. These are huge, global enterprises with a diverse ... DoD Office of Small Business Programs. 2. FY15_DoD_SB_Procurement Scorecard ... ), SearchResult(url=https://apps.dtic.mil/sti/tr/pdf/ADA623956.pdf, title=[PDF] Small Business: Action Needed to Determine Whether DOD's ... - DTIC, description= 16 Nov 2015  ·  General Dynamics/C4 Systems, Advanced. Information Systems and ... According to DOD officials, the DOD Office of Small Business Programs. ), SearchResult(url=https://www.linkedin.com/posts/dod-osbp_sbtw24-defenseacquisition-dod-activity-7191201929895555072-ode8, title=Department of Defense Office of Small Business Programs on ..., description= ... DoD Office of Small Business Programs Director ... and DoD Office of Small Business Programs ... General Dynamics Mission Systems, underscored how ... ), SearchResult(url=https://www.govinfo.gov/content/pkg/CHRG-110hhrg37477/html/CHRG-110hhrg37477.htm, title=- CONTRACT BUNDLING OVERSIGHT - GovInfo, description= Lockheed Martin, Boeing, Northrop Grumman, Raytheon, General Dynamics and United Technologies--the Defense Department's six largest contractors get over $100B ... ), SearchResult(url=https://www.gao.gov/assets/gao-16-27.pdf, title=[PDF] GAO-16-27, SMALL BUSINESS - Government Accountability Office, description= 16 Nov 2015  ·  General Dynamics/C4 Systems, Advanced. Information Systems and ... According to DOD officials, the DOD Office of Small Business Programs. ), SearchResult(url=https://imlive.s3.amazonaws.com/Federal%20Government/ID302716350050274647972444786659085293098/N6817122X0000_SOURCES_SOUGHT_VMS_UPGRADE.pdf, title=[PDF] Sources Sought USNS TRENTON (T-EPF 5) INTERIOR ... - AWS, description= INTERIOR COMMUNICATIONS: GDMS (GENERAL DYNAMICS MISSION SYSTEMS) ... Introduction/Background: The Department of Defense (DoD) Office of Small Business Programs ( ... )]   \n",
       "7                                                                                                                                                                                                                                                 [SearchResult(url=https://www.mbda.gov/es/taxonomy/term/93?page=1&q=/news/press-releases, title=Press Releases | Minority Business Development Agency, description= WASHINGTON, MAY 25, 2021 – The U.S. Department of Commerce, Minority Business Development Agency ... DoD Office of Small Business Programs for a fireside chat at ... ), SearchResult(url=https://www.mbda.gov/tags/news-and-announcements?q=/tags/news-and-announcements&page=1, title=News and Announcements | Minority Business Development Agency, description= ... U.S. Department of Commerce, Minority Business Development Agency (MBDA) ... Farooq Mitha, Director of the DoD Office of Small Business Programs for a fireside ... ), SearchResult(url=https://itvmo.gsa.gov/services/small-business-support/, title=Small Business Support | IT Vendor Management Office - ITVMO, description= The U.S. Department of Commerce, Minority Business Development Agency (MBDA) ... The DoD's Office of Small Business Programs maximizes opportunities for ... ), SearchResult(url=https://www.linkedin.com/pulse/mbda-moveamerica-sign-mou-us-department-commerce-moveamerica-org-7xo0e, title=MBDA and MoveAmerica Sign MOU at U.S. Department of Commerce, description= 28 Jan 2025  ·  The U.S. Department of Commerce, Minority Business Development Agency is the only Federal agency dedicated to the growth and global ... ), SearchResult(url=https://crsreports.congress.gov/product/pdf/RS/RS22536/17, title=[PDF] Overview of the Federal Procurement Process and Resources, description= 4 Jan 2023  ·  22 U.S. Department of Commerce, Minority Business Development Agency ... 24 Department of Defense (DOD), Office of Small Business Programs, APEX ... ), SearchResult(url=https://www.stonybrook.edu/commcms/procurement/suppliers-old/small-businesses, title=Small Businesses | Procurement Office - Stony Brook University, description= U.S. Department of Commerce Minority Business Development Agency · U.S. DoD Office of Small Business Programs · U.S. Hispanic Chamber of Commerce · U.S. Pan ... ), SearchResult(url=https://www.congress.gov/crs-product/RS22536, title=Overview of the Federal Procurement Process and Resources, description= 14 Apr 2023  ·  U.S. Department of Commerce, Minority Business Development Agency ... DOD, Office of Small Business Programs, \"APEX Accelerators,\" https ... ), SearchResult(url=https://www.legistorm.com/stormfeed/view_rss/4599097/organization/73293/title/mbda-acting-under-secretary-morrisette-joins-the-department-of-defense-in-chicago-for-small-business-training-week-2024.html, title=MBDA Acting Under Secretary Morrisette Joins the Department of ..., description= “MBDA and the DoD Office of Small Business Programs play a crucial ... The U.S. Department of Commerce, Minority Business Development Agency is the ... ), SearchResult(url=https://www.petersonschriever.spaceforce.mil/Portals/15/Useful%20Websites%20Oct%2023.pdf, title=[PDF] Useful Website List - Peterson and Schriever Space Force Base, description= DoD Office of Small Business Programs (OSBP): https://business.defense.gov ... The U.S. Department of Commerce, Minority Business Development Agency (MBDA). ), SearchResult(url=https://sgp.fas.org/crs/misc/RS22536.pdf, title=[PDF] Overview of the Federal Procurement Process and Resources, description= 14 Apr 2023  ·  22 U.S. Department of Commerce, Minority Business Development Agency ... 24 Department of Defense (DOD), Office of Small Business Programs, APEX ... )]   \n",
       "8                                                                                                                                                                                                                                [SearchResult(url=https://www.jpmorganchase.com/about/leadership/phebe-n-novakovic, title=Phebe N. Novakovich - JPMorgan Chase, description= Phebe N. Novakovic has been the Chairman and Chief Executive Officer of General Dynamics since 2013. She was the President and Chief Operating Officer of ... ), SearchResult(url=https://www.reuters.com/article/markets/jpmorgan-appoints-general-dynamics-ceo-as-board-member-idUSL4N2HJ2U1/, title=JPMorgan appoints General Dynamics CEO as board member ..., description= JP Morgan Chase & Co on Wednesday named Phebe Novakovic, chief executive officer of General Dynamics Corp, to its board, effective Dec. 7. ), SearchResult(url=https://investorrelations.gd.com/corporate-governance/board-of-directors/default.aspx, title=Corporate Governance - Board of Directors - General Dynamics, description= 6 days ago  ·  Novakovic currently serves as a director of J.P. Morgan Chase & Co. ... Copyright 2025 General Dynamics Corporation. Terms of Use · Privacy ... ), SearchResult(url=https://investorrelations.gd.com/corporate-governance/board-of-directors/person-details/default.aspx?ItemId=0c6fc9b3-5e04-4428-a9c6-ece174ebd666, title=Corporate Governance - GD - General Dynamics - Investors, description= 14 Mar 2025  ·  Novakovic currently serves as a director of J.P. Morgan Chase & Co. ... Copyright 2025 General Dynamics Corporation. Terms of Use · Privacy ... ), SearchResult(url=https://www.jpmorganchase.com/ir/news/2020/jpmc-elects-phebe-novakovic-to-its-board-of-directors, title=JPMorgan Chase Elects Phebe N. Novakovic to its Board of Directors, description= Ms. Novakovic has served as Chairman and Chief Executive Officer of General Dynamics Corporation since 2013. Since joining General Dynamics in 2001, she has ... ), SearchResult(url=https://www.reuters.com/article/business/jpmorgan-appoints-general-dynamics-ceo-as-board-member-idUSKBN27D1JZ/, title=JPMorgan appoints General Dynamics CEO as board member, description= 28 Oct 2020  ·  JPMorgan appoints General Dynamics CEO as board member. By ... FILE PHOTO: A sign of JP Morgan Chase Bank is seen in front of their ... ), SearchResult(url=https://www.business-humanrights.org/en/latest-news/general-dynamics-did-not-respond-to-allegations-that-the-co-is-contributing-to-harts-invasion-of-privacy-and-human-rights-violations/, title=General Dynamics did not respond to allegations that the co. is ..., description= 1 Aug 2022  ·  General Dynamics did not respond to allegations that the co. is ... JP Morgan Chase did not respond to urgent call by UN Experts to ... ), SearchResult(url=https://en.wikipedia.org/wiki/JPMorgan_Chase, title=JPMorgan Chase - Wikipedia, description= Phebe Novakovic, chairwoman and CEO of General Dynamics · Virginia Rometty ... \"J.P. Morgan Chase to Acquire Bank One in $58 Billion Deal\". The New York ... ), SearchResult(url=https://en.wikipedia.org/wiki/Phebe_Novakovic, title=Phebe Novakovic - Wikipedia, description= She serves as the chairwoman and chief executive officer of General Dynamics. ... In 2020 she was appointed a director of J. P. Morgan Chase. ), SearchResult(url=https://www.jpmorganchase.com/content/dam/jpmc/jpmorgan-chase-and-co/investor-relations/documents/proxy-statement2024.pdf, title=[PDF] Annual Meeting of Shareholders Proxy Statement 2024, description= 8 Apr 2024  ·  General Dynamics Corporation, a global aerospace and defense company. • Chairman and Chief Executive Officer (since 2013). • President and ... )]   \n",
       "9                                                                                                                                                                                                                                                                                                                                                                                                                                                                          [SearchResult(url=https://blacknoir.nyc/2016/09/rep-hank-johnson-ga-04-honorary-host-of-cbc-alc-panel-on-blacks-latinos-our-quest-for-civil-rights/, title=Rep. Hank Johnson (GA-04) honorary host of CBC ALC panel on ..., description= Sep 15, 2016  ·  Castillo: National Director, U.S. Department of Commerce/Minority Business Development Agency ... General Dynamics. • Justin G. Tanner ... ), SearchResult(url=https://www.sec.gov/Archives/edgar/data/1670541/000104746916014990/a2229408zex-99_1.htm, title=Adient Limited - SEC.gov, description= ... U.S. Department of Commerce's Minority Business Development Agency; ... General Dynamics Corporation; •: The Goodyear Tire & Rubber Company ), SearchResult(url=https://www.linkedin.com/in/cabralconsultinggroup, title=Elizabeth Cabral - Founder & Principal - Cabral Consulting Group, description= ... General Dynamics, and NASA/ITT. <> Expanded markets to Fortune 100 ... U.S. Department of Commerce-Minority Business Development Agency program in ... ), SearchResult(url=https://www.sec.gov/Archives/edgar/data/1670541/000104746916012576/a2228401zex-99_1.htm, title=Adient Ltd - SEC.gov, description= ... U.S. Department of Commerce's Minority Business Development Agency; ... General Dynamics Corporation; •: The Goodyear Tire & Rubber Company ), SearchResult(url=https://www.energy.gov/sites/prod/files/FOIA_May09_Resp_362-369.pdf, title=[PDF] FOIA May 2009 Responses (000362 - Department of Energy, description= ... General Dynamics, Oakton, VA, Nov 2002 to. Nov 2003. Federal Air Marshal, FV ... U.S. Department of Commerce, Minority Business Development Agency. (MBDA). ), SearchResult(url=https://www.mbda.gov/sites/default/files/2022-08/Connecticut_Disparity_Study_Phase_1.pdf, title=[PDF] CONNECTICUT DISPARITY STUDY: PHASE I, description= Aug 9, 2013  ·  6.14 US Department of Commerce - Minority Business Development Agency ... I have gone to matchmaking with General Dynamics with their team. ), SearchResult(url=https://www.slideshare.net/slideshow/2010-annualreport1/38857568, title=2010 annual-report1 | PDF - SlideShare, description= Sep 8, 2014  ·  ... U.S. Department of Commerce Minority Business Development Agency ... General Dynamics Corporation General Electric Company General Mills, Inc. ), SearchResult(url=https://content.edgar-online.com/ExternalLink/EDGAR/0001047469-16-012576.html?hash=15a27920a6bc74744b4c923aad7eaa54f09284de0dec87f100833403b180c266&dest=a2228401zex-10_7_htm, title=Adient Ltd (Form - EDGAR Online, description= ... U.S. Department of Commerce's Minority Business Development Agency;; •: 2013 ... General Dynamics Corporation; •: The Goodyear Tire & Rubber Company ), SearchResult(url=https://www.seo-usa.org/ai/2021conference/2021-speakers/, title=2021 Speakers - SEO USA, description= ... U.S. Department of Commerce – Minority Business Development Agency. ... General Dynamics/Gulfstream Aerospace; Golden Tree; William A. Goodloe; Bob, Debbie ... ), SearchResult(url=https://www.instagram.com/stuffmadeinct/?hl=en, title=Stuff Made in Connecticut (@stuffmadeinct) - Instagram, description= The U.S. Department of Commerce's Minority Business Development Agency ... General Dynamics Electric Boat in Groton – has built nuclear warships and ... )]   \n",
       "10  [SearchResult(url=https://www.lisc.org/our-stories/story/jpmorgan-chase-taps-lisc-lead-new-diverse-supplier-grant-initiative/, title=JPMorgan Chase Taps LISC to Lead New Diverse Supplier Grant ..., description= 24 Mar 2022  ·  With an initial commitment of $5 million and combined contributions from other corporate donors, JP Morgan Chase ... LISC will administer ... ), SearchResult(url=https://www.jpmorganchase.com/about/suppliers/supplier-diversity/creating-opportunity-by-removing-barriers, title=Creating Opportunity by Removing Barriers | JPMorganChase, description= We are partnering with Local Initiatives Support Corporation (LISC), a community development financial institution and certified 501c3 which will administer the ... ), SearchResult(url=https://www.liscstrategicinvestments.org/eoclf-entrepreneurs-of-color-loan-fund, title=Entrepreneurs of Color Loan Fund | LISC SI, description= EOCLF INVESTORS. LISC Partners amalgamated bank. LISC Partners JP Morgan Chase ... LISC Fund Management, which is a wholly-owned subsidiary of LISC. LISC ... ), SearchResult(url=https://www.jpmorganchase.com/newsroom/press-releases/2023/jpmorgan-chase-announces-new-business-and-philanthropic-commitments, title=JPMorgan Chase Announces new business and philanthropic ..., description= 28 Jun 2023  ·  CNHED will lead a collaborative, that includes National Housing Trust, Medici Road, Housing Counseling Services, LISC DC, Mi Casa, and ... ), SearchResult(url=https://www.lisc.org/our-stories/story/getting-tipping-point-liscers-describe-why-and-how-getting-capital-know-how-entrepreneurs-color/, title=Getting to the “Tipping Point”: LISCers Describe the Why and How of ..., description= 23 May 2023  ·  In a series of videos from JP Morgan Chase on how the bank's impact ... LISC Fund Management, and Sonja Dean, program officer at LISC ... ), SearchResult(url=https://procurementmag.com/articles/how-jpmorgan-chase-run-its-supplier-diversity-programme, title=How JPMorgan Chase Run its Supplier Diversity Programme, description= 6 Feb 2024  ·  JPMorgan Chase formed a partnership with the Local Initiatives Support Corporation (LISC), to manage the programme end-to-end. ... JP Morgan ... ), SearchResult(url=https://www.jpmorgan.com/commercial-real-estate/community-development-banking/the-people-behind-our-investments, title=The People Behind Our Investments | JPMorgan Chase, description= Meet the People Behind Community Development Banking's Investments · Capital Impact Partners · Local Initiatives Support Corporation (LISC) · Raza Development Fund ... ), SearchResult(url=https://www.jpmorganchase.com/newsroom/press-releases/2021/jpmc-commits-350m-to-grow-black-latinx-women-owned-sb, title=JPMorgan Chase Commits $350 Million to Grow Black, Latinx and ..., description= 25 Feb 2021  ·  ... (LISC). “That not only affects owners and their families; it means the communities where they operate have more limited access to goods ... ), SearchResult(url=https://diversityplus.com/web/Article?id=JP-MORGAN-CHASE-MAKES-INDUSTRY-Game-Changing-Commitment-to-Diverse-Businesses-Through-DIVERSE-SUPPLIER-GRANT-INITIATIVE-6115, title=JP MORGAN CHASE MAKES INDUSTRY Game-Changing ..., description= JP MORGAN CHASE MAKES INDUSTRY Game-Changing Commitment To Diverse ... LISC manages the end-to-end program on the behalf of JPMorgan and other ... ), SearchResult(url=https://procurementmag.com/articles/inclusive-economy-how-jpmorgan-chase-empowers-businesses, title=Inclusive Economy: How JPMorgan Chase Empowers Businesses, description= 29 May 2024  ·  JP Morgan Chase's Global Supplier Diversity initiative has long been ... LISC. If the supplier successfully gains new contracts, it ... )]   \n",
       "11                                                                                                                                                             [SearchResult(url=https://www.mufgamericas.com/who-we-are/news/mufg-further-expands-growth-middle-market-tech-banking-team, title=MUFG further expands Growth & Middle Market Tech Banking team, description= Oct 4, 2023  ·  Most recently, she was in JP Morgan Chase's Technology and ... mufg.jp. About MUFG and MUFG Americas. Mitsubishi UFJ Financial Group, Inc ... ), SearchResult(url=https://www.mufg.jp/english/ir/stock/stock_information/index.html, title=MUFG; Stock Information | Mitsubishi UFJ Financial Group, description= Get the latest financial information of MUFG, with access to annual reports, IR presentations and more ... JP MORGAN CHASE BANK 385781, 164,983,287, 1.41. 8 ... ), SearchResult(url=https://www.mufgamericas.com/who-we-are/our-leadership-team/mark-thumser, title=Mark Thumser - MUFG Americas, description= Skip to main content. Previous Next. Contact · Careers. ×. Search. MUFG Americas logo. Americas. MUFG ... Before joining J.P. Morgan Chase, he began his career at ... ), SearchResult(url=https://www.prnewswire.com/news-releases/mufg-further-expands-growth--middle-market-tech-banking-team-301947294.html, title=MUFG further expands Growth & Middle Market Tech Banking team, description= Oct 4, 2023  ·  Most recently, she was in JP Morgan Chase's Technology and ... opoltavets@us.mufg.jp. About MUFG and MUFG Americas. Mitsubishi UFJ ... ), SearchResult(url=https://www.ran.org/press-releases/bocc2024/, title=Banks financed fossil fuels by $6.9 trillion dollars since the Paris ..., description= May 12, 2024  ·  JP Morgan Chase is the #1 fossil fuel financier in the world, committing $40.8 billion dollars to fossil fuel companies in 2023. They're also #1 ... ), SearchResult(url=https://www.jpmorganchase.com/content/dam/jpmc/jpmorgan-chase-and-co/investor-relations/documents/jpm-prospectus-supplement-dated-january-28-2025.pdf, title=[PDF] printmgr file - JPMorgan Chase, description= Jan 28, 2025  ·  MUFG Securities Americas Inc. .................................................. 10,050. nabSecurities, LLC .................................... ), SearchResult(url=https://www.jpmorganchase.com/content/dam/jpmc/jpmorgan-chase-and-co/investor-relations/documents/jpm-prospectus-supplement-01-16-2025.pdf, title=[PDF] Prospectus Supplement - JPMorgan Chase, description= Jan 16, 2025  ·  MUFG Securities Americas Inc. ........ 3,250,000. 8,667,000. 10,833,000. 11,917,000. Natixis Securities Americas LLC ........ 3,250,000. ), SearchResult(url=https://www.listcorp.com/asx/fpr/fleetpartners-group-limited/news/becoming-a-substantial-holder-from-mufg-3169540.html, title=Becoming a substantial holder from MUFG - Listcorp, description= 22 hours ago  ·  JP MORGAN CHASE Not applicable Mitsubishi UFJ Financial Group, Inc. ... MUFG Alternative Fund Services (Ireland) Limited MUFG Jersey Limited MUFG ... ), SearchResult(url=https://www.monitordaily.com/news-posts/mufg-expands-growth-and-middle-market-technology-banking-team/, title=MUFG Expands Growth and Middle-Market Technology Banking Team, description= Oct 5, 2023  ·  MUFG Expands Growth and Middle-Market Technology Banking Team. OCT 5 ... Most recently, she was in JP Morgan Chase's technology and ... ), SearchResult(url=https://www.mufg-investorservices.com/mufg-investor-services-announces-management-changes/, title=MUFG Investor Services Announces Management Changes, description= May 17, 2018  ·  He was formerly the Global Head of Sales at UBS AFS and held several other roles at Deutsche Bank and JP Morgan Chase. “MUFG has always ... )]   \n",
       "12                                                                                                                                                                                                                                                                                                                                                                                          [SearchResult(url=https://www.mbda.gov/sites/default/files/migrated/files-attachments/David-Hinson-Bio_0.pdf, title=[PDF] David Hinson National Director, description= Hinson previously held a variety of senior-level and mid-management positions at. Bank of America, Morgan Stanley & Company, First Chicago (now JP Morgan Chase) ... ), SearchResult(url=https://www.youtube.com/watch?v=WbuJZSqD7X4, title=The Power of Capital with JP Morgan Chase - YouTube, description= 25 Apr 2024  ·  The Capital Readiness Program, powered by the U.S. Department of Commerce, Minority Business Development Agency (MBDA), and operated by the ... ), SearchResult(url=https://www.commerce.gov/sites/default/files/media/files/2015/hinson041510.pdf, title=[PDF] written testimony of david a. hinson, national director minority ..., description= 15 Apr 2010  ·  Company, First Chicago Bank (now JP Morgan Chase) and the Village Foundation. ... U.S. Department of Commerce, Minority Business Development ... ), SearchResult(url=https://innovate.gatech.edu/tag/minority-business-development-agency/, title=Minority Business Development Agency - Enterprise Innovation ..., description= Funded by the U.S. Department of Commerce Minority Business Development Agency ... The MIEC also serves as the lead institution in the JP Morgan Chase ... ), SearchResult(url=https://na.eventscloud.com/ereg/popups/speakerdetails.php?eventid=149750&speakerid=454562, title=Speaker details, description= ... U.S. Department of Commerce, Minority Business Development Agency. Ira has ... JP Morgan Chase on two, multi-billion dollar bankruptcies. ), SearchResult(url=https://advocacy.sba.gov/wp-content/uploads/2022/08/Report_COVID-and-Racial-Disparities_508c.pdf, title=[PDF] The Impacts of COVID-19 on Racial Disparities in Small Business ..., description= 16 Aug 2022  ·  at JP Morgan Chase (JPMC) for a few states and find that by the end ... U.S. Department of Commerce, Minority Business Development Agency. ), SearchResult(url=https://www.congress.gov/111/chrg/CHRG-111shrg71269/CHRG-111shrg71269.pdf, title=[PDF] ties for minority small business owners in today's capital markets ..., description= 4 May 2024  ·  us. Department of Commerce, Minority Business Development Agency ... Company, First Chicago Bank (now JP Morgan Chase) and the Village Foundation. ), SearchResult(url=https://onlinelibrary.wiley.com/doi/10.1111/puar.13722, title=How reducing documentation burdens impacts equity in access to ..., description= 3 Sept 2023  ·  Washington, DC: U.S. Department of Commerce: Minority Business Development Agency. ... Washington, DC: J.P. Morgan Chase. https://www. ), SearchResult(url=https://papers.ssrn.com/sol3/Delivery.cfm/SSRN_ID1440486_code1279430.pdf?abstractid=1440486&mirid=1&type=2, title=[PDF] IN YOUR OWN BACKYARD: - SSRN, description= Quetzal/JP Morgan Chase ... JP Morgan Chase Community Development. 300. JME ... 12 U.S. Department of Commerce, Minority Business Development Agency . ), SearchResult(url=https://digital.mbemag.com/articles/conference-roundup?article_id=3809579&i=680301, title=Minority Business Entrepreneur Summer-Fall 2020: CONFERENCE ..., description= ... JP Morgan Chase & Co.; Ambassador Martha Bárcena Coqui, ambassador of Mexico ... The U.S. Department of Commerce Minority Business Development Agency ... )]   \n",
       "\n",
       "                                                                                                                                                                                                                                                                                                                                                                                                                                                                                                                                                                                                                                                  Top 5 Results Title  \\\n",
       "0   [Launch of New Chase Lounge at the Russell Center Will Help Fuel ..., News & Events | Access to Capital for Entrepreneurs, [PDF] Access to Capital for Entrepreneurs: Removing Barriers (2023), Ascend Atlanta – Growing minority owned businesses, JPMorgan Chase to Add 25 Branches in Georgia in Next Three Years, C.K. McWhorter Cancels J.P. Morgan Communications, Citing Lack ..., ACE | Access to Capital for Entrepreneurs Receives Largest ... - FOX 2, ACE Announces Award Categories for Its 2024 Annual Awards ..., ACE Annual Awards Highlights Its 24-Year Legacy of Growing ..., Morehouse College Entrepreneurship Center Shares In $640000 ...]   \n",
       "1                                                                                   [Access to Capital for Entrepreneurs | LISC Atlanta, LISC EOCF, LISC Closes $100M in Commitments for Entrepreneurs of Color ..., [PDF] Access to Capital and Credit for Entrepreneurs and Small ..., LISC CDFI Loans Support Local Small Business Lending Through ..., LISC closes $100 million in commitments for Entrepreneurs of Color ..., Partners | LISC EOCF, Access to Capital for Entrepreneurs Inc. Announces 2024 Board ..., [PDF] Access to Capital and Credit for Entrepreneurs and Small ..., Access to Capital for Entrepreneurs Inc. Announces Board Officer ...]   \n",
       "2                                       [[PDF] MUFG Americas Holdings Corp Form 8-K Current Event Report ..., [PDF] 2021 Annual Impact Report - Access to Capital for Entrepreneurs, [PDF] FY 2020 BEA - CDFI Partner List for Award Recipients.xlsx, Mitsubishi UFJ Financial Group to Invest $9 Billion in Morgan Stanley, [PDF] 2022 Annual Impact Report - Access to Capital for Entrepreneurs, [PDF] Craft3 Annual Investor Report - 2021, Miguel Alandete - ACE | Access to Capital for Entrepreneurs - LinkedIn, [PDF] CRA Performance Evaluation Charter 1461, MUFG and Morgan Stanley Enhance Global Strategic Alliance, 0001628280-21-009536.txt - SEC.gov]   \n",
       "3                                                    [People of color-owned businesses served by the Ascend network ..., [PDF] Ascend National Cohort- One Pager - Ascend Cities, Connecting MBE Firms to Active Bidding Opportunities - Lendlease, #ascendcities | Ascend Cities - LinkedIn, Ascend Email verification & Email checker | NeverBounce, Kelley's Enterprise Corps helps diverse-led Indiana companies ..., [PDF] Ascend Long Island | Implementation Plan - Owned Business, Ascend Company Profile | Management and Employees List, [PDF] WTC 'Impact Driver' with Renee Sacks 2 - Women Talk Construction, Ascend: Employee Directory | ZoomInfo.com]   \n",
       "4                                                                                                                                                                                                                                                                                                                                            [Tunua Thrash-Ntuk - Ascend Cities, Ascend Newark: National initiative aims to connect minority ..., Robert Harper, MPP on LinkedIn: Driving Equitable ..., LISC LA on LinkedIn: Transforming Workplaces for Good | LISC Los ..., Youth Construct - Facebook, , Bottom Line Construction & Development - Facebook, , , ]   \n",
       "5                                                                                                                                                                                              [Data Dialogue: The State of Household Finances and Policy ..., [PDF] Pathways for the Future, UNCF Announces Launch of HBCU Wealth Building Initiative, December BEAT Sheet - Black Economic Alliance, Tristan Smyth's Post - LinkedIn, 2024 Annual Report by UCLA Latino Policy and Politics Institute, Neighborhood Typology | NNIP, #labmba #chasebank #businessofrealestate #workshop | National ..., Vacancy | NNIP, Prosperity Now | Washington, DC - Cause IQ]   \n",
       "6                  [General Dynamics C4 Systems Receives 2013 Nunn-Perry Mentor ..., [PDF] AGENDA - Office of Small Business Programs, OSBP Meets with Small Businesses at CES - LinkedIn, [PDF] The Department of Defense (DoD) Mid-Atlantic Regional Council ..., [PDF] how to develop a relationship with a large prime contractor - SBIR, [PDF] Small Business: Action Needed to Determine Whether DOD's ... - DTIC, Department of Defense Office of Small Business Programs on ..., - CONTRACT BUNDLING OVERSIGHT - GovInfo, [PDF] GAO-16-27, SMALL BUSINESS - Government Accountability Office, [PDF] Sources Sought USNS TRENTON (T-EPF 5) INTERIOR ... - AWS]   \n",
       "7            [Press Releases | Minority Business Development Agency, News and Announcements | Minority Business Development Agency, Small Business Support | IT Vendor Management Office - ITVMO, MBDA and MoveAmerica Sign MOU at U.S. Department of Commerce, [PDF] Overview of the Federal Procurement Process and Resources, Small Businesses | Procurement Office - Stony Brook University, Overview of the Federal Procurement Process and Resources, MBDA Acting Under Secretary Morrisette Joins the Department of ..., [PDF] Useful Website List - Peterson and Schriever Space Force Base, [PDF] Overview of the Federal Procurement Process and Resources]   \n",
       "8                                                                                                                     [Phebe N. Novakovich - JPMorgan Chase, JPMorgan appoints General Dynamics CEO as board member ..., Corporate Governance - Board of Directors - General Dynamics, Corporate Governance - GD - General Dynamics - Investors, JPMorgan Chase Elects Phebe N. Novakovic to its Board of Directors, JPMorgan appoints General Dynamics CEO as board member, General Dynamics did not respond to allegations that the co. is ..., JPMorgan Chase - Wikipedia, Phebe Novakovic - Wikipedia, [PDF] Annual Meeting of Shareholders Proxy Statement 2024]   \n",
       "9                                                                                                                                                                                                             [Rep. Hank Johnson (GA-04) honorary host of CBC ALC panel on ..., Adient Limited - SEC.gov, Elizabeth Cabral - Founder & Principal - Cabral Consulting Group, Adient Ltd - SEC.gov, [PDF] FOIA May 2009 Responses (000362 - Department of Energy, [PDF] CONNECTICUT DISPARITY STUDY: PHASE I, 2010 annual-report1 | PDF - SlideShare, Adient Ltd (Form - EDGAR Online, 2021 Speakers - SEO USA, Stuff Made in Connecticut (@stuffmadeinct) - Instagram]   \n",
       "10                                                        [JPMorgan Chase Taps LISC to Lead New Diverse Supplier Grant ..., Creating Opportunity by Removing Barriers | JPMorganChase, Entrepreneurs of Color Loan Fund | LISC SI, JPMorgan Chase Announces new business and philanthropic ..., Getting to the “Tipping Point”: LISCers Describe the Why and How of ..., How JPMorgan Chase Run its Supplier Diversity Programme, The People Behind Our Investments | JPMorgan Chase, JPMorgan Chase Commits $350 Million to Grow Black, Latinx and ..., JP MORGAN CHASE MAKES INDUSTRY Game-Changing ..., Inclusive Economy: How JPMorgan Chase Empowers Businesses]   \n",
       "11                                                                                                       [MUFG further expands Growth & Middle Market Tech Banking team, MUFG; Stock Information | Mitsubishi UFJ Financial Group, Mark Thumser - MUFG Americas, MUFG further expands Growth & Middle Market Tech Banking team, Banks financed fossil fuels by $6.9 trillion dollars since the Paris ..., [PDF] printmgr file - JPMorgan Chase, [PDF] Prospectus Supplement - JPMorgan Chase, Becoming a substantial holder from MUFG - Listcorp, MUFG Expands Growth and Middle-Market Technology Banking Team, MUFG Investor Services Announces Management Changes]   \n",
       "12                                                                       [[PDF] David Hinson National Director, The Power of Capital with JP Morgan Chase - YouTube, [PDF] written testimony of david a. hinson, national director minority ..., Minority Business Development Agency - Enterprise Innovation ..., Speaker details, [PDF] The Impacts of COVID-19 on Racial Disparities in Small Business ..., [PDF] ties for minority small business owners in today's capital markets ..., How reducing documentation burdens impacts equity in access to ..., [PDF] IN YOUR OWN BACKYARD: - SSRN, Minority Business Entrepreneur Summer-Fall 2020: CONFERENCE ...]   \n",
       "\n",
       "    Predicted Label  \\\n",
       "0               1.0   \n",
       "1               1.0   \n",
       "2               1.0   \n",
       "3               1.0   \n",
       "4               1.0   \n",
       "5               1.0   \n",
       "6               1.0   \n",
       "7               1.0   \n",
       "8               1.0   \n",
       "9               1.0   \n",
       "10              1.0   \n",
       "11              1.0   \n",
       "12              1.0   \n",
       "\n",
       "                                                                                                                                                                                                                                                                                                                                                                                                    Representing Result  \n",
       "0                                                                                              SearchResult(url=https://aceloans.org/news-events/page/6/?query-0-page=15, title=News & Events | Access to Capital for Entrepreneurs, description= ACE Partnership with LISC Atlanta Continues with $100 Million commitment from JP Morgan Chase to The Entrepreneurs of Color Loan Fund (EOCF). May 10, 2022. ACE ... )  \n",
       "1                                                                                                                                                                       SearchResult(url=https://www.lisc.org/eocf/, title=LISC EOCF, description= LISC National · Contact · EOCF Resource Center. Search. Site logo · Our Work · Where ... access to capital for entrepreneurs. 2023 Impact. 2,941. loans closed ... )  \n",
       "2                                                          SearchResult(url=https://aceloans.org/wp-content/uploads/2022/05/ACE-2021-Annual-Report-FINALLY.pdf, title=[PDF] 2021 Annual Impact Report - Access to Capital for Entrepreneurs, description= Innovation and Entrepreneurship Center and ACE | Access to Capital for Entrepreneurs. ... MUFG Union Bank. National Association for Latino Community Asset. )  \n",
       "3                                                                                                        SearchResult(url=https://ascendcities.com/press/nov22pr, title=People of color-owned businesses served by the Ascend network ..., description= 1 Nov 2022  ·  ... Ascend Cities program. “The Ascend National Cohort business growth ... The program has expanded thanks to funding from JP Morgan Chase ... )  \n",
       "4                                                                                                                                               SearchResult(url=https://ascendcities.com/tunua, title=Tunua Thrash-Ntuk - Ascend Cities, description= A native Angeleno, Tunua Thrash-Ntuk is the Executive Director of Los Angeles Local Initiatives Support Corporation (LA LISC). She is a seasoned community ... )  \n",
       "5   SearchResult(url=https://www.jpmorganchase.com/institute/news-events/data-dialogue-state-of-household-finances-and-policy-priorities-for-an-inclusive-economy, title=Data Dialogue: The State of Household Finances and Policy ..., description= NATALIE EVANS HARRIS: In a nutshell, and this is not a plug, but the Black wealth data center launched always over two months ago. ... Black Wealth Data Center. )  \n",
       "6                                               SearchResult(url=https://business.defense.gov/Portals/57/Documents/MARC%20Workshop%20Program%20Agenda.pdf?ver=2020-07-15-150945-643, title=[PDF] AGENDA - Office of Small Business Programs, description= 16 Jul 2020  ·  DoD Office of Small Business Programs. Mr. Jackson is a ... General Dynamics providing cyber and IT services across all GD operating units. )  \n",
       "7                                                                            SearchResult(url=https://www.mbda.gov/es/taxonomy/term/93?page=1&q=/news/press-releases, title=Press Releases | Minority Business Development Agency, description= WASHINGTON, MAY 25, 2021 – The U.S. Department of Commerce, Minority Business Development Agency ... DoD Office of Small Business Programs for a fireside chat at ... )  \n",
       "8                                                                                                           SearchResult(url=https://www.jpmorganchase.com/about/leadership/phebe-n-novakovic, title=Phebe N. Novakovich - JPMorgan Chase, description= Phebe N. Novakovic has been the Chairman and Chief Executive Officer of General Dynamics since 2013. She was the President and Chief Operating Officer of ... )  \n",
       "9                                                                               SearchResult(url=https://www.mbda.gov/sites/default/files/2022-08/Connecticut_Disparity_Study_Phase_1.pdf, title=[PDF] CONNECTICUT DISPARITY STUDY: PHASE I, description= Aug 9, 2013  ·  6.14 US Department of Commerce - Minority Business Development Agency ... I have gone to matchmaking with General Dynamics with their team. )  \n",
       "10                                    SearchResult(url=https://www.lisc.org/our-stories/story/jpmorgan-chase-taps-lisc-lead-new-diverse-supplier-grant-initiative/, title=JPMorgan Chase Taps LISC to Lead New Diverse Supplier Grant ..., description= 24 Mar 2022  ·  With an initial commitment of $5 million and combined contributions from other corporate donors, JP Morgan Chase ... LISC will administer ... )  \n",
       "11                 SearchResult(url=https://www.jpmorganchase.com/content/dam/jpmc/jpmorgan-chase-and-co/investor-relations/documents/jpm-prospectus-supplement-dated-january-28-2025.pdf, title=[PDF] printmgr file - JPMorgan Chase, description= Jan 28, 2025  ·  MUFG Securities Americas Inc. .................................................. 10,050. nabSecurities, LLC .................................... )  \n",
       "12                                                                         SearchResult(url=https://www.mbda.gov/sites/default/files/migrated/files-attachments/David-Hinson-Bio_0.pdf, title=[PDF] David Hinson National Director, description= Hinson previously held a variety of senior-level and mid-management positions at. Bank of America, Morgan Stanley & Company, First Chicago (now JP Morgan Chase) ... )  "
      ]
     },
     "execution_count": 25,
     "metadata": {},
     "output_type": "execute_result"
    }
   ],
   "source": [
    "df_1_result"
   ]
  },
  {
   "cell_type": "code",
   "execution_count": 26,
   "metadata": {
    "executionInfo": {
     "elapsed": 3,
     "status": "ok",
     "timestamp": 1743056198221,
     "user": {
      "displayName": "Fengchun Fan",
      "userId": "16607154835906475343"
     },
     "user_tz": 420
    },
    "id": "RhgmJVh0_-Qq"
   },
   "outputs": [],
   "source": [
    "# Manually view predicted-to-be-related results\n",
    "# df_1_result.iloc[0]"
   ]
  },
  {
   "cell_type": "code",
   "execution_count": 27,
   "metadata": {
    "executionInfo": {
     "elapsed": 2,
     "status": "ok",
     "timestamp": 1743056198224,
     "user": {
      "displayName": "Fengchun Fan",
      "userId": "16607154835906475343"
     },
     "user_tz": 420
    },
    "id": "NUI9KTE_VuDh"
   },
   "outputs": [],
   "source": [
    "# Export to csv file\n",
    "df_results.to_csv('search_results_web_search.csv', index=False)\n",
    "df_1_result.to_csv('search_results_web_search_1.csv', index=False)"
   ]
  },
  {
   "cell_type": "code",
   "execution_count": 28,
   "metadata": {
    "executionInfo": {
     "elapsed": 1,
     "status": "ok",
     "timestamp": 1743056198226,
     "user": {
      "displayName": "Fengchun Fan",
      "userId": "16607154835906475343"
     },
     "user_tz": 420
    },
    "id": "a4U51OLrgJ0o"
   },
   "outputs": [],
   "source": [
    "# Export to Excel file\n",
    "# df_results.to_excel('search_results_web_search.xlsx', index=False)\n",
    "# df_1_result.to_excel('search_results_web_search_1.xlsx', index=False)"
   ]
  },
  {
   "cell_type": "code",
   "execution_count": 29,
   "metadata": {
    "executionInfo": {
     "elapsed": 1,
     "status": "ok",
     "timestamp": 1743056198229,
     "user": {
      "displayName": "Fengchun Fan",
      "userId": "16607154835906475343"
     },
     "user_tz": 420
    },
    "id": "3WfW3iW7A3vg"
   },
   "outputs": [],
   "source": [
    "# Reset the option back to default if needed\n",
    "pd.reset_option('display.max_colwidth')"
   ]
  }
 ],
 "metadata": {
  "colab": {
   "authorship_tag": "ABX9TyORQyEGYSR4iklAYQf9qGCd",
   "collapsed_sections": [
    "5PsD5OEqd6MQ"
   ],
   "provenance": []
  },
  "kernelspec": {
   "display_name": "Python 3",
   "name": "python3"
  },
  "language_info": {
   "name": "python"
  }
 },
 "nbformat": 4,
 "nbformat_minor": 0
}
