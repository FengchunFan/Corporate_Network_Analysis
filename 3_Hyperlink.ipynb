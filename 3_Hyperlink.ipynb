{
 "cells": [
  {
   "cell_type": "markdown",
   "metadata": {
    "id": "IM3iPFBWVPJx"
   },
   "source": [
    "Objective:\n",
    "* Go through the list of the the target corporate's partners\n",
    "* Filter the sponsor list and get list of unique sponsor names\n",
    "* For each sponsor, get its homepage url and optionally its shortname (ex. https://target.net/ -> target)\n",
    "* Get the homepage corpus of each sponsor, and see if the extension of other sponsors' homepage url exist in the homepage corpus."
   ]
  },
  {
   "cell_type": "markdown",
   "metadata": {
    "id": "vQIuEC3vYc5J"
   },
   "source": [
    "Mainly utilized library:\n",
    "* google search through python: https://pypi.org/project/googlesearch-python/"
   ]
  },
  {
   "cell_type": "markdown",
   "metadata": {
    "id": "yghokTPvYfNc"
   },
   "source": [
    "# Load Libraries"
   ]
  },
  {
   "cell_type": "code",
   "execution_count": 1,
   "metadata": {
    "colab": {
     "base_uri": "https://localhost:8080/"
    },
    "executionInfo": {
     "elapsed": 10361,
     "status": "ok",
     "timestamp": 1743054212734,
     "user": {
      "displayName": "Fengchun Fan",
      "userId": "16607154835906475343"
     },
     "user_tz": 420
    },
    "id": "LL0FTYl5VIgr",
    "outputId": "23915742-f288-4f2c-d63c-3f68aacdb8a8"
   },
   "outputs": [
    {
     "name": "stdout",
     "output_type": "stream",
     "text": [
      "Requirement already satisfied: requests in /usr/local/lib/python3.11/dist-packages (2.32.3)\n",
      "Requirement already satisfied: charset-normalizer<4,>=2 in /usr/local/lib/python3.11/dist-packages (from requests) (3.4.1)\n",
      "Requirement already satisfied: idna<4,>=2.5 in /usr/local/lib/python3.11/dist-packages (from requests) (3.10)\n",
      "Requirement already satisfied: urllib3<3,>=1.21.1 in /usr/local/lib/python3.11/dist-packages (from requests) (2.3.0)\n",
      "Requirement already satisfied: certifi>=2017.4.17 in /usr/local/lib/python3.11/dist-packages (from requests) (2025.1.31)\n",
      "Collecting requests-ip-rotator\n",
      "  Downloading requests_ip_rotator-1.0.14-py3-none-any.whl.metadata (8.8 kB)\n",
      "Requirement already satisfied: requests in /usr/local/lib/python3.11/dist-packages (from requests-ip-rotator) (2.32.3)\n",
      "Collecting boto3 (from requests-ip-rotator)\n",
      "  Downloading boto3-1.37.21-py3-none-any.whl.metadata (6.7 kB)\n",
      "Collecting botocore<1.38.0,>=1.37.21 (from boto3->requests-ip-rotator)\n",
      "  Downloading botocore-1.37.21-py3-none-any.whl.metadata (5.7 kB)\n",
      "Collecting jmespath<2.0.0,>=0.7.1 (from boto3->requests-ip-rotator)\n",
      "  Downloading jmespath-1.0.1-py3-none-any.whl.metadata (7.6 kB)\n",
      "Collecting s3transfer<0.12.0,>=0.11.0 (from boto3->requests-ip-rotator)\n",
      "  Downloading s3transfer-0.11.4-py3-none-any.whl.metadata (1.7 kB)\n",
      "Requirement already satisfied: charset-normalizer<4,>=2 in /usr/local/lib/python3.11/dist-packages (from requests->requests-ip-rotator) (3.4.1)\n",
      "Requirement already satisfied: idna<4,>=2.5 in /usr/local/lib/python3.11/dist-packages (from requests->requests-ip-rotator) (3.10)\n",
      "Requirement already satisfied: urllib3<3,>=1.21.1 in /usr/local/lib/python3.11/dist-packages (from requests->requests-ip-rotator) (2.3.0)\n",
      "Requirement already satisfied: certifi>=2017.4.17 in /usr/local/lib/python3.11/dist-packages (from requests->requests-ip-rotator) (2025.1.31)\n",
      "Requirement already satisfied: python-dateutil<3.0.0,>=2.1 in /usr/local/lib/python3.11/dist-packages (from botocore<1.38.0,>=1.37.21->boto3->requests-ip-rotator) (2.8.2)\n",
      "Requirement already satisfied: six>=1.5 in /usr/local/lib/python3.11/dist-packages (from python-dateutil<3.0.0,>=2.1->botocore<1.38.0,>=1.37.21->boto3->requests-ip-rotator) (1.17.0)\n",
      "Downloading requests_ip_rotator-1.0.14-py3-none-any.whl (20 kB)\n",
      "Downloading boto3-1.37.21-py3-none-any.whl (139 kB)\n",
      "\u001b[2K   \u001b[90m━━━━━━━━━━━━━━━━━━━━━━━━━━━━━━━━━━━━━━━━\u001b[0m \u001b[32m139.6/139.6 kB\u001b[0m \u001b[31m9.5 MB/s\u001b[0m eta \u001b[36m0:00:00\u001b[0m\n",
      "\u001b[?25hDownloading botocore-1.37.21-py3-none-any.whl (13.4 MB)\n",
      "\u001b[2K   \u001b[90m━━━━━━━━━━━━━━━━━━━━━━━━━━━━━━━━━━━━━━━━\u001b[0m \u001b[32m13.4/13.4 MB\u001b[0m \u001b[31m80.3 MB/s\u001b[0m eta \u001b[36m0:00:00\u001b[0m\n",
      "\u001b[?25hDownloading jmespath-1.0.1-py3-none-any.whl (20 kB)\n",
      "Downloading s3transfer-0.11.4-py3-none-any.whl (84 kB)\n",
      "\u001b[2K   \u001b[90m━━━━━━━━━━━━━━━━━━━━━━━━━━━━━━━━━━━━━━━━\u001b[0m \u001b[32m84.4/84.4 kB\u001b[0m \u001b[31m7.5 MB/s\u001b[0m eta \u001b[36m0:00:00\u001b[0m\n",
      "\u001b[?25hInstalling collected packages: jmespath, botocore, s3transfer, boto3, requests-ip-rotator\n",
      "Successfully installed boto3-1.37.21 botocore-1.37.21 jmespath-1.0.1 requests-ip-rotator-1.0.14 s3transfer-0.11.4\n"
     ]
    }
   ],
   "source": [
    "# Python google search package\n",
    "# !pip install googlesearch-python\n",
    "\n",
    "# Install requests\n",
    "!pip install requests\n",
    "\n",
    "# Install requests-ip-rotator\n",
    "!pip3 install requests-ip-rotator"
   ]
  },
  {
   "cell_type": "code",
   "execution_count": 2,
   "metadata": {
    "executionInfo": {
     "elapsed": 1113,
     "status": "ok",
     "timestamp": 1743054213851,
     "user": {
      "displayName": "Fengchun Fan",
      "userId": "16607154835906475343"
     },
     "user_tz": 420
    },
    "id": "kumlH8CKYwIA"
   },
   "outputs": [],
   "source": [
    "# Regular Python Data analyze library\n",
    "import pandas as pd\n",
    "import random\n",
    "\n",
    "# Google search library\n",
    "# reference: https://pypi.org/project/googlesearch-python/\n",
    "# from googlesearch import search\n",
    "\n",
    "# Web related library\n",
    "import requests\n",
    "from urllib.parse import urlparse, urljoin\n",
    "from bs4 import BeautifulSoup\n",
    "\n",
    "# Progress Bar\n",
    "from tqdm import tqdm\n",
    "\n",
    "# Requests-ip-rotator to rotate IP\n",
    "# Aim to avoid 429 HTTP error\n",
    "# Reference: https://github.com/Ge0rg3/requests-ip-rotator\n",
    "from requests_ip_rotator import ApiGateway\n",
    "\n",
    "# Add request error handler\n",
    "from requests.exceptions import HTTPError, ReadTimeout\n",
    "\n",
    "# Check nan\n",
    "import math"
   ]
  },
  {
   "cell_type": "markdown",
   "metadata": {
    "id": "_vWM69JAYzIG"
   },
   "source": [
    "# Load Data"
   ]
  },
  {
   "cell_type": "code",
   "execution_count": null,
   "metadata": {
    "colab": {
     "base_uri": "https://localhost:8080/"
    },
    "executionInfo": {
     "elapsed": 56,
     "status": "ok",
     "timestamp": 1743054220282,
     "user": {
      "displayName": "Fengchun Fan",
      "userId": "16607154835906475343"
     },
     "user_tz": 420
    },
    "id": "SscrM5YOY1y4",
    "outputId": "199de7e1-d960-4063-c402-10e6f66537d2"
   },
   "outputs": [
    {
     "name": "stdout",
     "output_type": "stream",
     "text": [
      "Stripped all leading/trailing spaces from string attributes.\n"
     ]
    }
   ],
   "source": [
    "# Load CSV into a Data Pool DataFrame\n",
    "# Change encoding from 'utf-8' to 'latin1' to avoid invalid continuation byte\n",
    "df_pool = pd.read_csv('')\n",
    "\n",
    "# Apply .strip() to all string values in the DataFrame using apply with a lambda function\n",
    "df_pool = df_pool.apply(lambda col: col.map(lambda x: x.strip() if isinstance(x, str) else x))\n",
    "\n",
    "# Now all string values in df_pool will have leading/trailing spaces removed\n",
    "print(\"Stripped all leading/trailing spaces from string attributes.\")"
   ]
  },
  {
   "cell_type": "code",
   "execution_count": null,
   "metadata": {
    "colab": {
     "base_uri": "https://localhost:8080/",
     "height": 610
    },
    "executionInfo": {
     "elapsed": 93,
     "status": "ok",
     "timestamp": 1743054220377,
     "user": {
      "displayName": "Fengchun Fan",
      "userId": "16607154835906475343"
     },
     "user_tz": 420
    },
    "id": "utQGZyx3Y488",
    "outputId": "ea2f57dd-e76a-45e7-de4a-971ee23d7ec5"
   },
   "outputs": [],
   "source": [
    "# Check dataframe\n",
    "df_pool"
   ]
  },
  {
   "cell_type": "markdown",
   "metadata": {
    "id": "8X0Tp2xnY6mE"
   },
   "source": [
    "Now we need to do a filtering, if we will only be focusing on a specific aspect of the dataset.\n",
    "For example, the sponsors in state \"MN\" only."
   ]
  },
  {
   "cell_type": "code",
   "execution_count": 5,
   "metadata": {
    "executionInfo": {
     "elapsed": 31,
     "status": "ok",
     "timestamp": 1743054220409,
     "user": {
      "displayName": "Fengchun Fan",
      "userId": "16607154835906475343"
     },
     "user_tz": 420
    },
    "id": "csvTtOAVY7A_"
   },
   "outputs": [],
   "source": [
    "# Filter the df based on specific needs\n",
    "# df_target = df_pool[df_pool['State'] == 'MN']\n",
    "# df_target = df_pool[df_pool['Type'] == 'npo']\n",
    "\n",
    "# Reset the index of the filtered DataFrame and drop the old index\n",
    "# df_target = df_target.reset_index(drop=True)\n",
    "\n",
    "# If wanting to examine whole data pool, use this line and comment out all previous lines in this cell\n",
    "df_target = df_pool\n",
    "\n",
    "# We dont need any duplications\n",
    "df_target = df_target.drop_duplicates(subset='Sponsors', keep='first')\n",
    "df_target.reset_index(drop=True, inplace=True)"
   ]
  },
  {
   "cell_type": "code",
   "execution_count": null,
   "metadata": {
    "colab": {
     "base_uri": "https://localhost:8080/",
     "height": 610
    },
    "executionInfo": {
     "elapsed": 87,
     "status": "ok",
     "timestamp": 1743054220503,
     "user": {
      "displayName": "Fengchun Fan",
      "userId": "16607154835906475343"
     },
     "user_tz": 420
    },
    "id": "toBx1Mn7Y85G",
    "outputId": "e9504ab9-61e2-4c16-86bb-a3485b29dc02"
   },
   "outputs": [],
   "source": [
    "# Check target dataframe\n",
    "df_target"
   ]
  },
  {
   "cell_type": "code",
   "execution_count": 7,
   "metadata": {
    "colab": {
     "base_uri": "https://localhost:8080/"
    },
    "executionInfo": {
     "elapsed": 2,
     "status": "ok",
     "timestamp": 1743054220506,
     "user": {
      "displayName": "Fengchun Fan",
      "userId": "16607154835906475343"
     },
     "user_tz": 420
    },
    "id": "9rTfm8jlZC4e",
    "outputId": "e620e14e-9767-4f4b-e8dd-77468914264a"
   },
   "outputs": [
    {
     "name": "stdout",
     "output_type": "stream",
     "text": [
      "Unique number of Sponsors: 14\n",
      "Unique number of Sponsor URLs: 14\n",
      "Unique number of Sponsor Domains: 14\n"
     ]
    }
   ],
   "source": [
    "# Create necessary a lists of selected sponsors\n",
    "# Make sure they are unique\n",
    "Sponsor_list = df_target['Sponsors'].tolist()\n",
    "Sponsor_URL_list\t = df_target['Sponsor_URL'].tolist()\n",
    "Sponsor_domain_list = df_target['Sponsor_Domain'].tolist()\n",
    "print(\"Unique number of Sponsors:\", len(Sponsor_list))\n",
    "print(\"Unique number of Sponsor URLs:\", len(Sponsor_URL_list))\n",
    "print(\"Unique number of Sponsor Domains:\", len(Sponsor_domain_list))"
   ]
  },
  {
   "cell_type": "markdown",
   "metadata": {
    "id": "FxE-0g2dNgWt"
   },
   "source": [
    "# Get external links for each Sponsor's webpage, check if it include any Sponsor names on the list"
   ]
  },
  {
   "cell_type": "markdown",
   "metadata": {
    "id": "0OP-PeUNDEqd"
   },
   "source": [
    "Issue:\n",
    "* (Unsolved) Linkedin uses a very werid internal redirect link for some suppose-to-be external links, these cannot be manually detected, or at least not in a simple way.\n",
    "* (Unsolved) Cannot get request from some links (mostly bank or government related, or large corporates), not even with headers. Could potentially be fixed through selerium (for future)."
   ]
  },
  {
   "cell_type": "code",
   "execution_count": 17,
   "metadata": {
    "executionInfo": {
     "elapsed": 6,
     "status": "ok",
     "timestamp": 1743055575090,
     "user": {
      "displayName": "Fengchun Fan",
      "userId": "16607154835906475343"
     },
     "user_tz": 420
    },
    "id": "-Du657BgB4sm"
   },
   "outputs": [],
   "source": [
    "# User Agent to prevent being identified as a bot\n",
    "headers = {\n",
    "    'User-Agent': 'Mozilla/5.0 (Windows NT 10.0; Win64; x64) AppleWebKit/537.36 (KHTML, like Gecko) Chrome/91.0.4472.124 Safari/537.36'\n",
    "}"
   ]
  },
  {
   "cell_type": "code",
   "execution_count": 18,
   "metadata": {
    "executionInfo": {
     "elapsed": 46,
     "status": "ok",
     "timestamp": 1743055575143,
     "user": {
      "displayName": "Fengchun Fan",
      "userId": "16607154835906475343"
     },
     "user_tz": 420
    },
    "id": "ZZqgGxkJHfx6"
   },
   "outputs": [],
   "source": [
    "MAX_PAGES = 1000\n",
    "# Google Colab Memory Exceed\n",
    "MAX_QUEUE = 20000\n",
    "MAX_DEPTH = 2  # Limit depth to 3\n",
    "\n",
    "# Function to extract all external links\n",
    "# From the starting homepage\n",
    "def extract_links(start_url):\n",
    "  to_visit = [(start_url, 0)]  # Queue of (url, depth)\n",
    "\n",
    "  # While queue is not empty\n",
    "  while to_visit:\n",
    "    # extract homepage link and current depth\n",
    "    url, depth = to_visit.pop(0)\n",
    "\n",
    "    # Check if we've hit the page limit\n",
    "    if len(visited_urls) >= MAX_PAGES:\n",
    "      break\n",
    "\n",
    "    # Skip if the URL has already been visited\n",
    "    if url in visited_urls or depth > MAX_DEPTH:\n",
    "      continue\n",
    "\n",
    "    # First attempt with User-Agent header\n",
    "    try:\n",
    "      response = requests.get(url, headers=headers, timeout=10)\n",
    "      response.encoding = 'utf-8'  # explicitly set the encoding\n",
    "      soup = BeautifulSoup(response.content, 'html.parser')\n",
    "    except requests.RequestException as e:\n",
    "      print(f\"Failed to access {url} with User-Agent: {e}, attempting without User-Agent\")\n",
    "      # Second attempt without User-Agent\n",
    "      try:\n",
    "        response = requests.get(url, timeout=10)\n",
    "        response.encoding = 'utf-8'  # explicitly set the encoding\n",
    "        soup = BeautifulSoup(response.content, 'html.parser')\n",
    "      except requests.RequestException as e:\n",
    "        print(f\"Failed to access {url} without User-Agent: {e}, skipping this URL\")\n",
    "        continue\n",
    "\n",
    "    # Mark the URL as visited\n",
    "    visited_urls.add(url)\n",
    "    # print(f\"Visiting Internal Url (Depth {depth}): {url}\")\n",
    "\n",
    "    # Get the base domain and path of the URL\n",
    "    base_domain = urlparse(url).netloc\n",
    "    base_path = urlparse(url).path\n",
    "\n",
    "    # Find all links on the page\n",
    "    links = soup.find_all('a')\n",
    "\n",
    "    # Go through all links in the list\n",
    "    for link in links:\n",
    "      href = link.get('href')\n",
    "      if href:\n",
    "        full_url = urljoin(url, href)\n",
    "        parsed_url = urlparse(full_url)\n",
    "\n",
    "        # If it's an external link, add to external_links set\n",
    "        if parsed_url.netloc != base_domain:\n",
    "          external_links.add(full_url)\n",
    "        else:\n",
    "          # If it's an internal link, and not yet visited, add to the queue\n",
    "          # Make sure the base domain and base path both matches\n",
    "          if parsed_url.netloc == base_domain and parsed_url.path.startswith(base_path):\n",
    "            if full_url not in visited_urls and not full_url.endswith((\".pdf\", \".jpg\", \".png\", \".gif\", \".zip\")):\n",
    "              # Ensure the full_url is not in the to_visit queue with any depth\n",
    "              if not any(url == full_url for url, _ in to_visit):\n",
    "                # Check if the URL contains \"sponsor\" or \"partner\"\n",
    "                if len(to_visit) < MAX_QUEUE and (\"Sponsor\" in full_url or \"sponsor\" in full_url or \"Partner\" in full_url or \"partner\" in full_url or \"Funder\" in full_url or \"funder\" in full_url or \"Donor\" in full_url or \"donor\" in full_url):\n",
    "                  to_visit.insert(0, (full_url, depth + 1))  # Add to the front of the queue\n",
    "                elif len(to_visit) < MAX_QUEUE:\n",
    "                  to_visit.append((full_url, depth + 1))  # Add to the end of the queue\n",
    "                # else:\n",
    "                  # continue"
   ]
  },
  {
   "cell_type": "code",
   "execution_count": 19,
   "metadata": {
    "executionInfo": {
     "elapsed": 0,
     "status": "ok",
     "timestamp": 1743055575145,
     "user": {
      "displayName": "Fengchun Fan",
      "userId": "16607154835906475343"
     },
     "user_tz": 420
    },
    "id": "jHOSZZYISAc4"
   },
   "outputs": [],
   "source": [
    "# Helper function to check NAN\n",
    "def is_nan(value):\n",
    "  \"\"\"Check if the given value is NaN.\"\"\"\n",
    "  return isinstance(value, float) and math.isnan(value)"
   ]
  },
  {
   "cell_type": "code",
   "execution_count": 20,
   "metadata": {
    "colab": {
     "base_uri": "https://localhost:8080/"
    },
    "executionInfo": {
     "elapsed": 892128,
     "status": "ok",
     "timestamp": 1743056467274,
     "user": {
      "displayName": "Fengchun Fan",
      "userId": "16607154835906475343"
     },
     "user_tz": 420
    },
    "id": "ElLWUERIIVJ-",
    "outputId": "6c1777ac-806a-4b04-b1f1-3cadbb57a295"
   },
   "outputs": [
    {
     "name": "stderr",
     "output_type": "stream",
     "text": [
      "  7%|▋         | 1/14 [00:24<05:19, 24.60s/it]"
     ]
    },
    {
     "name": "stdout",
     "output_type": "stream",
     "text": [
      "Failed to access https://asd-inc.com/ with User-Agent: HTTPSConnectionPool(host='asd-inc.com', port=443): Max retries exceeded with url: / (Caused by NewConnectionError('<urllib3.connection.HTTPSConnection object at 0x7a9ffb5cfbd0>: Failed to establish a new connection: [Errno 111] Connection refused')), attempting without User-Agent\n",
      "Failed to access https://asd-inc.com/ without User-Agent: HTTPSConnectionPool(host='asd-inc.com', port=443): Max retries exceeded with url: / (Caused by NewConnectionError('<urllib3.connection.HTTPSConnection object at 0x7a9ffb5cc5d0>: Failed to establish a new connection: [Errno 111] Connection refused')), skipping this URL\n"
     ]
    },
    {
     "name": "stderr",
     "output_type": "stream",
     "text": [
      " 57%|█████▋    | 8/14 [01:50<02:00, 20.03s/it]WARNING:bs4.dammit:Some characters could not be decoded, and were replaced with REPLACEMENT CHARACTER.\n",
      " 71%|███████▏  | 10/14 [06:21<04:13, 63.34s/it]"
     ]
    },
    {
     "name": "stdout",
     "output_type": "stream",
     "text": [
      "Failed to access https://www.prosourcewholesale.com/inspiration#Explore Rooms with User-Agent: HTTPSConnectionPool(host='www.prosourcewholesale.com', port=443): Read timed out. (read timeout=10), attempting without User-Agent\n",
      "Failed to access https://www.prosourcewholesale.com/inspiration#Explore Styles with User-Agent: HTTPSConnectionPool(host='www.prosourcewholesale.com', port=443): Read timed out. (read timeout=10), attempting without User-Agent\n"
     ]
    },
    {
     "name": "stderr",
     "output_type": "stream",
     "text": [
      "\r 79%|███████▊  | 11/14 [10:39<05:55, 118.56s/it]<ipython-input-18-1af391c35f40>:28: XMLParsedAsHTMLWarning: It looks like you're using an HTML parser to parse an XML document.\n",
      "\n",
      "Assuming this really is an XML document, what you're doing might work, but you should know that using an XML parser will be more reliable. To parse this document as XML, make sure you have the Python package 'lxml' installed, and pass the keyword argument `features=\"xml\"` into the BeautifulSoup constructor.\n",
      "\n",
      "If you want or need to use an HTML parser on this document, you can make this warning go away by filtering it. To do that, run this code before calling the BeautifulSoup constructor:\n",
      "\n",
      "    from bs4 import XMLParsedAsHTMLWarning\n",
      "    import warnings\n",
      "\n",
      "    warnings.filterwarnings(\"ignore\", category=XMLParsedAsHTMLWarning)\n",
      "\n",
      "  soup = BeautifulSoup(response.content, 'html.parser')\n",
      "100%|██████████| 14/14 [14:52<00:00, 63.72s/it]\n"
     ]
    }
   ],
   "source": [
    "# Initialize an empty list to store search results\n",
    "search_results = []\n",
    "# Track visited internal URLs and external links\n",
    "visited_urls = set()\n",
    "external_links = set()\n",
    "\n",
    "# Start with the initial URL\n",
    "for index in tqdm(range(len(Sponsor_list))):\n",
    "  sponsor = Sponsor_list[index]\n",
    "  # Locate the sponsor's homepage as starting url\n",
    "  start_url = Sponsor_URL_list[index]\n",
    "  # Clear the list\n",
    "  visited_urls.clear()\n",
    "  external_links.clear()\n",
    "\n",
    "  if not is_nan(start_url):\n",
    "    # Get all the external links on the web of this sponsor\n",
    "    extract_links(start_url)\n",
    "    # boolean to check if we have found matching external link\n",
    "    added_new = False\n",
    "\n",
    "    if len(external_links) > 0:\n",
    "      for target_index in range(len(Sponsor_list)):\n",
    "        # Original and Target sponsor shall be separate, and not empty\n",
    "        if target_index != index and not is_nan(Sponsor_URL_list[target_index]) and not is_nan(Sponsor_domain_list[target_index]):\n",
    "          # If the sponsor's full homepage link is extracted, add the sponsor and the link\n",
    "          if Sponsor_URL_list[target_index] in external_links:\n",
    "            matching_link = next(link for link in external_links if Sponsor_URL_list[target_index] == link)\n",
    "            search_results.append({\n",
    "              'Homepage Sponsor': sponsor,\n",
    "              'Homepage Url': start_url,\n",
    "              'Target Sponsor': Sponsor_list[target_index],\n",
    "              'Target Url': Sponsor_URL_list[target_index],\n",
    "              'Matched External Link': matching_link\n",
    "            })\n",
    "            added_new = True\n",
    "          # If the sponsor's shortname is mentioned in any hyperlink, add the sponsor and the link\n",
    "          elif any(str(Sponsor_domain_list[target_index]) in link for link in external_links):\n",
    "            # Find the matching link and store it\n",
    "            matching_link = next(link for link in external_links if str(Sponsor_domain_list[target_index]) in link)\n",
    "            search_results.append({\n",
    "              'Homepage Sponsor': sponsor,\n",
    "              'Homepage Url': start_url,\n",
    "              'Target Sponsor': Sponsor_list[target_index],\n",
    "              'Target Url': Sponsor_URL_list[target_index],\n",
    "              'Matched External Link': matching_link\n",
    "            })\n",
    "            added_new = True\n",
    "      if not added_new:\n",
    "        # No matching external link found among the extracted links\n",
    "        search_results.append({\n",
    "          'Homepage Sponsor': sponsor,\n",
    "          'Homepage Url': start_url,\n",
    "          'Target Sponsor': \"None\",\n",
    "          'Target Url': \"None\",\n",
    "          'Matched External Link': \"None\"\n",
    "        })\n",
    "    else:\n",
    "      # No external links found for the target sponsor\n",
    "      search_results.append({\n",
    "        'Homepage Sponsor': sponsor,\n",
    "        'Homepage Url': start_url,\n",
    "        'Target Sponsor': \"None\",\n",
    "        'Target Url': \"None\",\n",
    "        'Matched External Link': \"None\"\n",
    "      })\n",
    "\n",
    "  else:\n",
    "    # No homepage found for the target sponsor\n",
    "    search_results.append({\n",
    "      'Homepage Sponsor': sponsor, # Sponsor that owns the homepage\n",
    "      'Homepage Url': \"None\", # Homepage Sponsor's Homepage Url\n",
    "      'Target Sponsor': \"None\", # Target Sponsor Name\n",
    "      'Target Url': \"None\", # Target Sponsor's Homepage Url\n",
    "      'Matched External Link': \"None\" # External Link found on Homepage Url that proof the validness of Target Sponsor\n",
    "    })"
   ]
  },
  {
   "cell_type": "code",
   "execution_count": 21,
   "metadata": {
    "colab": {
     "base_uri": "https://localhost:8080/"
    },
    "executionInfo": {
     "elapsed": 61,
     "status": "ok",
     "timestamp": 1743056467337,
     "user": {
      "displayName": "Fengchun Fan",
      "userId": "16607154835906475343"
     },
     "user_tz": 420
    },
    "id": "cQAhQ2_9l-1e",
    "outputId": "6f9d163e-221f-4276-b533-dc9e76213921"
   },
   "outputs": [
    {
     "data": {
      "text/plain": [
       "{'http://bipcapital.com/',\n",
       " 'http://crescerance.com/',\n",
       " 'http://healthemed.net/',\n",
       " 'http://korioclinical.com',\n",
       " 'http://linkedin.com/in/jharris365',\n",
       " 'http://resilia.com',\n",
       " 'http://www.dropstat.com/',\n",
       " 'http://www.mediafly.com',\n",
       " 'http://www.opengenie.ai',\n",
       " 'http://www.opyacare.com/',\n",
       " 'http://www.peregrine-health.com',\n",
       " 'http://www.therounds.com',\n",
       " 'https://abstrakt.ai/',\n",
       " 'https://acclivityhealth.com/',\n",
       " 'https://acivilate.com',\n",
       " 'https://adviserinfo.sec.gov/firm/summary/292983',\n",
       " 'https://appsurify.com/',\n",
       " 'https://basehq.com/',\n",
       " 'https://bipventures.vc/about/#approach',\n",
       " 'https://bipventures.vc/team/#network',\n",
       " 'https://casestatus.com/',\n",
       " 'https://cdn.prod.website-files.com/64601aeac004d574778d4339/6520d4d85467d373dc814ee9_Panoramic-Ventures-The-State-of-Startups-in-the-Southeast-2022-Report-min.pdf',\n",
       " 'https://cdn.prod.website-files.com/64601aeac004d574778d4339/6520d4f5546f23989d49d729_The-State-of-Startups-2021-min.pdf',\n",
       " 'https://cdn.prod.website-files.com/64601aeac004d574778d4339/6520d51cb12918e814e7fe42_2020_SOS_FINAL-min.pdf',\n",
       " 'https://cdn.prod.website-files.com/64601aeac004d574778d4339/6520d55e5790a4fb12f5485f_2018_SOS_FINAL-min_compressed.pdf',\n",
       " 'https://cdn.prod.website-files.com/64601aeac004d574778d4339/6520d5777457290422d87364_2017_SOS_FINAL-min.pdf',\n",
       " 'https://cdn.prod.website-files.com/64601aeac004d574778d4339/6520d7b46ab53be56447e0ae_2019_SOS_FINAL-min.pdf',\n",
       " 'https://chargezoom.com',\n",
       " 'https://chattr.ai/',\n",
       " 'https://cloverly.com/',\n",
       " 'https://connexpay.com/',\n",
       " 'https://cydeploy.com/',\n",
       " 'https://devcondetect.com/',\n",
       " 'https://doxci.ai',\n",
       " 'https://drinkbarcode.com/',\n",
       " 'https://duke.ai/',\n",
       " 'https://enrichly.live/',\n",
       " 'https://fenyxhealth.com/',\n",
       " 'https://finquery.com/',\n",
       " 'https://fortifydata.com/',\n",
       " 'https://gamedriver.io',\n",
       " 'https://gloveboxapp.com/',\n",
       " 'https://gofan.co/',\n",
       " 'https://goo.gl/maps/AQXoZep8NtPWebKH7',\n",
       " 'https://jobs.bipventures.vc/',\n",
       " 'https://kobiton.com/',\n",
       " 'https://ksanahealth.com/',\n",
       " 'https://lumu.io/',\n",
       " 'https://metaimpact.com',\n",
       " 'https://open.spotify.com/episode/0Cuh2N8VOh2Wn6crNbJ8aR?si=OuMjHvcRRnutwECL0AgWSA',\n",
       " 'https://open.spotify.com/episode/0F3olrpOW3Vp6JihEuQeW9?si=Y8B_xZiWRJqjbJb47tdUgg',\n",
       " 'https://open.spotify.com/episode/0P4bZ49mRkN8dDGeLjLJUn?si=VOPXr4k5QSOTNphDtaxq5A',\n",
       " 'https://open.spotify.com/episode/0ROQPWtWQMFzy1PVIT0sls?si=jbb-BTXHR7KJIl2r0yTx4g',\n",
       " 'https://open.spotify.com/episode/0SfbBHKsUCCg62qs7XnlVV?si=g5qvNngRTNagdRz1xPVGzQ',\n",
       " 'https://open.spotify.com/episode/1P6ZnzdPrc33ZvGCbhcsaN?si=fYaVBeDjQtmVkmnRxAY62w',\n",
       " 'https://open.spotify.com/episode/1TrwjAH6IKtA8VxAlz4GOD?si=DMFbScNhR82jX0xRGcOPnw',\n",
       " 'https://open.spotify.com/episode/2ZwLG8tkeXHg5NJQxRWSxr?si=tspZCQxHTEWocsK4MRJBnQ',\n",
       " 'https://open.spotify.com/episode/2cqW1zY0anMQwLSjXtoR6m?si=3CH8qD7vQEe-d3xveYsrog',\n",
       " 'https://open.spotify.com/episode/3C048YBasuYomXQ0QQ7AQ9?si=D8HZJHXdS3yZSC7ypRPdkA',\n",
       " 'https://open.spotify.com/episode/3N3irEQS7j1zWjkh29wjSn?si=nRvKlGLvRSu6gPlpkvntig',\n",
       " 'https://open.spotify.com/episode/4NXdALXEW7qK61mFwRQt4P?si=v4YkfgOrRIWr7WDqXXxqEw',\n",
       " 'https://open.spotify.com/episode/4PWbjB0h532mmmjdS9th3a?si=H3kyhZ8QSnmWwjN70NwZAg',\n",
       " 'https://open.spotify.com/episode/5LTJYap5AMKp4nDTz1id2V?si=ifXhuI8TQuensAHKgKOKnw',\n",
       " 'https://open.spotify.com/episode/5ZYFDruE1DQYSl8rqsl27q?si=CuSL2X-DRWmciEta8g6hrA',\n",
       " 'https://open.spotify.com/episode/5ybdsneaxfAmopN9kT3mUq?si=rzIW45cdS6uiYOBG0tC8eg',\n",
       " 'https://open.spotify.com/episode/5zYtfxPfZzzGsLQhQEEZFG?si=g_OKZZmESLmGiYPrqU14NA',\n",
       " 'https://open.spotify.com/episode/6CG9Dr6QdZwsCi8dE96KOO?si=r-9NRv5ZT66H2NYp0GQLpg',\n",
       " 'https://open.spotify.com/episode/6I1oW5q375VBy1budIV3Gs?si=vMxdDRbjR_Cp7zvjlZ3GTQ',\n",
       " 'https://open.spotify.com/episode/74hdpa6610X9cNHCnepooa?si=pyF53Mz8Q9qnuKsOlyy9Nw',\n",
       " 'https://open.spotify.com/episode/7a8eIfNzRnDQ6qhBwmHVWZ?si=olphWg-mTPKBgzTT1ZHDoA',\n",
       " 'https://open.spotify.com/episode/7aqsmAS4PLtZafKHqPnCFN?si=22RF-HuTR-ChnpqBnqPjTw',\n",
       " 'https://open.spotify.com/show/6YhvX5Nbf1lM0TZ6GN7R2s',\n",
       " 'https://openloophealth.com',\n",
       " 'https://pitchgauge.com/',\n",
       " 'https://podcasters.spotify.com/pod/show/bip-ventures/episodes/The-Startups-Guide-to-ICPs-Why-They-Matter--How-to-Get-Them-Right-e2k00rm/a-ab9rk2d',\n",
       " 'https://podcasters.spotify.com/pod/show/bip-ventures/episodes/Trailer---Extraordinary-Pursuits-by-BIP-Ventures-e2hsefd',\n",
       " 'https://podcasts.apple.com/us/podcast/extraordinary-pursuits-by-bip-ventures/id1730748229',\n",
       " 'https://podcasts.apple.com/us/podcast/extraordinary-pursuits-by-bip-ventures/id1730748229?i=1000668467165',\n",
       " 'https://podcasts.apple.com/us/podcast/extraordinary-pursuits-by-bip-ventures/id1730748229?i=1000669291410',\n",
       " 'https://podcasts.apple.com/us/podcast/extraordinary-pursuits-by-bip-ventures/id1730748229?i=1000672497915',\n",
       " 'https://podcasts.apple.com/us/podcast/extraordinary-pursuits-by-bip-ventures/id1730748229?i=1000674277752',\n",
       " 'https://pointivo.com/',\n",
       " 'https://reel-analytics.net/',\n",
       " 'https://relayone.com/',\n",
       " 'https://scw.ai/',\n",
       " 'https://thingtech.com/',\n",
       " 'https://togal.ai/',\n",
       " 'https://twitter.com/AcclivityHealth',\n",
       " 'https://twitter.com/Acivilate',\n",
       " 'https://twitter.com/AptivIO',\n",
       " 'https://twitter.com/Blooksybooks',\n",
       " 'https://twitter.com/CaseStatus',\n",
       " 'https://twitter.com/Chargezoom',\n",
       " 'https://twitter.com/ChartSpanApp',\n",
       " 'https://twitter.com/ConnexPay',\n",
       " 'https://twitter.com/CopperBanking',\n",
       " 'https://twitter.com/Crescerance',\n",
       " 'https://twitter.com/Cypress_io',\n",
       " 'https://twitter.com/Doxciautomation',\n",
       " 'https://twitter.com/GameDriverio',\n",
       " 'https://twitter.com/GoAchieveIt',\n",
       " 'https://twitter.com/GoFanHS',\n",
       " 'https://twitter.com/KobitonMobile',\n",
       " 'https://twitter.com/KytheraLabs',\n",
       " 'https://twitter.com/LineSlip',\n",
       " 'https://twitter.com/Mediafly',\n",
       " 'https://twitter.com/NFHSNetwork',\n",
       " 'https://twitter.com/OnChainStudios',\n",
       " 'https://twitter.com/OncoLens',\n",
       " 'https://twitter.com/OpengenieAi',\n",
       " 'https://twitter.com/OpyaCare',\n",
       " 'https://twitter.com/PitchGauge',\n",
       " 'https://twitter.com/Pointivo',\n",
       " 'https://twitter.com/ProemHealth',\n",
       " 'https://twitter.com/RAanalytics',\n",
       " 'https://twitter.com/RelayOneApp',\n",
       " 'https://twitter.com/ResiliaCo',\n",
       " 'https://twitter.com/SCWAI_',\n",
       " 'https://twitter.com/ShiftMedNurses',\n",
       " 'https://twitter.com/Skill_Cycle',\n",
       " 'https://twitter.com/TheRounds',\n",
       " 'https://twitter.com/TrellaHealth',\n",
       " 'https://twitter.com/VVS_finance',\n",
       " 'https://twitter.com/Vibenomics',\n",
       " 'https://twitter.com/VirtualBadge',\n",
       " 'https://twitter.com/abstrakt_ai',\n",
       " 'https://twitter.com/appsurify',\n",
       " 'https://twitter.com/bipventures',\n",
       " 'https://twitter.com/chattr_ai',\n",
       " 'https://twitter.com/demandjump',\n",
       " 'https://twitter.com/drink_barcode',\n",
       " 'https://twitter.com/enrich_ly',\n",
       " 'https://twitter.com/eventenyteam',\n",
       " 'https://twitter.com/finquery_tech',\n",
       " 'https://twitter.com/fortifydata',\n",
       " 'https://twitter.com/getcloverly',\n",
       " 'https://twitter.com/healthemednet',\n",
       " 'https://twitter.com/joinupstream',\n",
       " 'https://twitter.com/journeytrackio',\n",
       " 'https://twitter.com/ksanahealth',\n",
       " 'https://twitter.com/lumutech',\n",
       " 'https://twitter.com/metaimpactAI',\n",
       " 'https://twitter.com/mickeytrading?lang=en',\n",
       " 'https://twitter.com/myglovebox',\n",
       " 'https://twitter.com/openloophealth',\n",
       " 'https://twitter.com/otto_by_DEVCON',\n",
       " 'https://twitter.com/picklesmarts',\n",
       " 'https://twitter.com/pockytio',\n",
       " 'https://twitter.com/swipe_credit',\n",
       " 'https://twitter.com/thebaseapp',\n",
       " 'https://twitter.com/togal_ai',\n",
       " 'https://upstreamapp.com/',\n",
       " 'https://velocity-benefits.com/',\n",
       " 'https://virtualbadge.com/',\n",
       " 'https://vvs.finance/',\n",
       " 'https://www.1truehealth.com',\n",
       " 'https://www.achieveit.com/',\n",
       " 'https://www.aptiv.io/',\n",
       " 'https://www.aucto.com/',\n",
       " 'https://www.bipevergreenfunds.com/',\n",
       " 'https://www.blooksy.com/',\n",
       " 'https://www.chartspan.com/',\n",
       " 'https://www.cypress.io/',\n",
       " 'https://www.demandjump.com/',\n",
       " 'https://www.eventeny.com/',\n",
       " 'https://www.exploreswipe.com/',\n",
       " 'https://www.fshealth.com',\n",
       " 'https://www.getcopper.com/',\n",
       " 'https://www.getrhyme.com/',\n",
       " 'https://www.hbs.edu/news/Pages/item.aspx?num=214',\n",
       " 'https://www.holitso.com',\n",
       " 'https://www.instagram.com/bipventures/',\n",
       " 'https://www.internano.org',\n",
       " 'https://www.journeytrack.io/',\n",
       " 'https://www.karoohealth.com/',\n",
       " 'https://www.kytheralabs.com/',\n",
       " 'https://www.lineslipsolutions.com',\n",
       " 'https://www.linkedin.com/company/1truehealthcaremanagement/',\n",
       " 'https://www.linkedin.com/company/abstraktsoftware/',\n",
       " 'https://www.linkedin.com/company/acclivity-health-solutions-inc/',\n",
       " 'https://www.linkedin.com/company/achieveit/',\n",
       " 'https://www.linkedin.com/company/acivilate-inc/',\n",
       " 'https://www.linkedin.com/company/appsurify/',\n",
       " 'https://www.linkedin.com/company/aptivio/about/',\n",
       " 'https://www.linkedin.com/company/aucto',\n",
       " 'https://www.linkedin.com/company/basehq/',\n",
       " 'https://www.linkedin.com/company/bip-capital/',\n",
       " 'https://www.linkedin.com/company/bipventures/',\n",
       " 'https://www.linkedin.com/company/blooksy/about/',\n",
       " 'https://www.linkedin.com/company/bloom-health-pbc/',\n",
       " 'https://www.linkedin.com/company/case-status/',\n",
       " 'https://www.linkedin.com/company/chargezoom/',\n",
       " 'https://www.linkedin.com/company/chartspan-medical-technologies/',\n",
       " 'https://www.linkedin.com/company/chattr-platform/',\n",
       " 'https://www.linkedin.com/company/cloverly/',\n",
       " 'https://www.linkedin.com/company/connexpay/',\n",
       " 'https://www.linkedin.com/company/crescerance/',\n",
       " 'https://www.linkedin.com/company/cydeploy/',\n",
       " 'https://www.linkedin.com/company/cypress.io/',\n",
       " 'https://www.linkedin.com/company/demandjump/',\n",
       " 'https://www.linkedin.com/company/devcon-is-now-otto/',\n",
       " 'https://www.linkedin.com/company/doxci/',\n",
       " 'https://www.linkedin.com/company/drink-barcode/',\n",
       " 'https://www.linkedin.com/company/dropstat/',\n",
       " 'https://www.linkedin.com/company/duke-ai/',\n",
       " 'https://www.linkedin.com/company/enrich-ly/',\n",
       " 'https://www.linkedin.com/company/eventeny/',\n",
       " 'https://www.linkedin.com/company/fenyx-health/about/',\n",
       " 'https://www.linkedin.com/company/finquery/',\n",
       " 'https://www.linkedin.com/company/first-stop-health-llc/posts/?feedView=all',\n",
       " 'https://www.linkedin.com/company/fortifydata/',\n",
       " 'https://www.linkedin.com/company/gamedriver/',\n",
       " 'https://www.linkedin.com/company/getcopper/',\n",
       " 'https://www.linkedin.com/company/getrhyme',\n",
       " 'https://www.linkedin.com/company/gigantik/',\n",
       " 'https://www.linkedin.com/company/gloveboxapp/',\n",
       " 'https://www.linkedin.com/company/gofan/',\n",
       " 'https://www.linkedin.com/company/healthemed/',\n",
       " 'https://www.linkedin.com/company/holistohq/',\n",
       " 'https://www.linkedin.com/company/joinupstream/',\n",
       " 'https://www.linkedin.com/company/journeytrack/',\n",
       " 'https://www.linkedin.com/company/karoohealth/',\n",
       " 'https://www.linkedin.com/company/kobiton/',\n",
       " 'https://www.linkedin.com/company/korio-inc',\n",
       " 'https://www.linkedin.com/company/ksanahealth/',\n",
       " 'https://www.linkedin.com/company/kythera-labs/',\n",
       " 'https://www.linkedin.com/company/learnwithskillcycle/',\n",
       " 'https://www.linkedin.com/company/lineslip-solutions-inc./',\n",
       " 'https://www.linkedin.com/company/lumutech/',\n",
       " 'https://www.linkedin.com/company/mediafly/',\n",
       " 'https://www.linkedin.com/company/metaimpactnetwork',\n",
       " 'https://www.linkedin.com/company/mickeygroup/',\n",
       " 'https://www.linkedin.com/company/objective-gi/',\n",
       " 'https://www.linkedin.com/company/onchainstudios/',\n",
       " 'https://www.linkedin.com/company/oncolens/',\n",
       " 'https://www.linkedin.com/company/opengenie/',\n",
       " 'https://www.linkedin.com/company/openloophealth/',\n",
       " 'https://www.linkedin.com/company/opyacare/',\n",
       " 'https://www.linkedin.com/company/peregrinehealth/',\n",
       " 'https://www.linkedin.com/company/pickleai/',\n",
       " 'https://www.linkedin.com/company/pitchgauge',\n",
       " 'https://www.linkedin.com/company/playon-sports/',\n",
       " 'https://www.linkedin.com/company/pockyt/',\n",
       " 'https://www.linkedin.com/company/pointivo/',\n",
       " 'https://www.linkedin.com/company/proemhealth/',\n",
       " 'https://www.linkedin.com/company/recruiting-analytics-llc/',\n",
       " 'https://www.linkedin.com/company/relay-one',\n",
       " 'https://www.linkedin.com/company/resiliaco/',\n",
       " 'https://www.linkedin.com/company/scw-ai-by-supply-chain-wizard/',\n",
       " 'https://www.linkedin.com/company/shiftmed/',\n",
       " 'https://www.linkedin.com/company/swipe-credit/',\n",
       " 'https://www.linkedin.com/company/the-rounds',\n",
       " 'https://www.linkedin.com/company/thingtech/',\n",
       " 'https://www.linkedin.com/company/togal-ai-llc/',\n",
       " 'https://www.linkedin.com/company/trellahealth/',\n",
       " 'https://www.linkedin.com/company/velocitybenefits',\n",
       " 'https://www.linkedin.com/company/vibenomics/',\n",
       " 'https://www.linkedin.com/company/virtualbadge/',\n",
       " 'https://www.linkedin.com/in/austinmpoole/',\n",
       " 'https://www.linkedin.com/in/bipmarkbuffington/',\n",
       " 'https://www.linkedin.com/in/cjohnsonatlanta/',\n",
       " 'https://www.linkedin.com/in/dandrechsel/',\n",
       " 'https://www.linkedin.com/in/mark-flickinger-24295538/',\n",
       " 'https://www.linkedin.com/in/neil-amin-abb701b6/',\n",
       " 'https://www.linkedin.com/in/pauliaffaldano/',\n",
       " 'https://www.linkedin.com/in/tamimcqueen/',\n",
       " 'https://www.linkedin.com/in/toddknudsen/',\n",
       " 'https://www.mickeytrading.com/',\n",
       " 'https://www.objectivegi.com/',\n",
       " 'https://www.onchainstudios.com/',\n",
       " 'https://www.oncolens.com/',\n",
       " 'https://www.pickleai.com/',\n",
       " 'https://www.playonsports.com/',\n",
       " 'https://www.pockyt.io',\n",
       " 'https://www.proemhealth.com/',\n",
       " 'https://www.sec.gov/education/capitalraising/building-blocks/accredited-investor',\n",
       " 'https://www.shiftmed.com/',\n",
       " 'https://www.skillcycle.com/',\n",
       " 'https://www.trellahealth.com/',\n",
       " 'https://www.vibenomics.com/',\n",
       " 'https://www.youtube.com/channel/UCUNKLjYP7gIJt08LCcL8xqw',\n",
       " 'https://www.youtube.com/playlist?list=PLgbwhjALsMhmYB_B7vSBhs9Wo_wyd32x7',\n",
       " 'https://x.com/AuctoAuctions?prefetchTimestamp=1725903429490',\n",
       " 'https://x.com/firststophealth',\n",
       " 'https://youtu.be/2ft_ef8bImQ?si=JEoFDQWDhAej4Bps',\n",
       " 'https://youtu.be/3PUSqjW0kvk?si=-jBnmN-AVafhX6Nl',\n",
       " 'https://youtu.be/3rsUcGFk-Ao?si=QHd41lLoCIngH559',\n",
       " 'https://youtu.be/4tnmU3gjPmU?si=PN6sDB1f3nZobs6d',\n",
       " 'https://youtu.be/9D_wtKQl1hk?si=-WCusFpAFtNCe9OQ',\n",
       " 'https://youtu.be/Dvj96FVpXPg?si=BLtLWWo4TKUJqd1v',\n",
       " 'https://youtu.be/FAA5hamSiVs',\n",
       " 'https://youtu.be/HPqNyC3vFuE?si=ZFDPxO1GDW-EVJw1',\n",
       " 'https://youtu.be/J1XS4f7xjVg',\n",
       " 'https://youtu.be/L8w_Jg34dWo',\n",
       " 'https://youtu.be/Ld1Dif4SOvY',\n",
       " 'https://youtu.be/M3U0w044NCA?si=Z3vZ4e89Narwg6lB',\n",
       " 'https://youtu.be/R4B6vMHfiQM?si=tlJ8Yxk6BDlv5jlo',\n",
       " 'https://youtu.be/U20pHehdHZw?si=wMM2yc56COZl4oSq',\n",
       " 'https://youtu.be/WJq8lcK6cBg?si=c0AmSM80C8cPmR8v',\n",
       " 'https://youtu.be/btXrtslXGiQ?si=_6Dqc1nyAt-5SMfs',\n",
       " 'https://youtu.be/gIOgQba4Cb0',\n",
       " 'https://youtu.be/keTukY1jSgU?si=H9Sks9xZhUs19ThE',\n",
       " 'https://youtu.be/o_QBguXO6uo?si=ejceBxCF9NzouCBd',\n",
       " 'https://youtu.be/pByBmcYt2EA',\n",
       " 'https://youtu.be/qNfdAFEAE38?si=R7B2dVldbJvB2uwd',\n",
       " 'https://youtu.be/ra8rZ2jp2_A',\n",
       " 'https://youtu.be/tC9CznYSmzY?si=0ubmSuAmFeTN-OPy',\n",
       " 'https://youtu.be/vyOS0EP2FVo?si=4JHeQSFzNKvr3AoS',\n",
       " 'https://youtu.be/xis0sVBnXlk?si=HgGp94U67Q8UlY9l',\n",
       " 'https://youtu.be/yLbOizu0WFY?si=8WChKSOpQnaFK_0n',\n",
       " 'mailto:hello@BIPVentures.vc?subject=Get%20in%20Touch%20%7C%20Website%20Inquiry%20%7C%20Footer',\n",
       " 'mailto:media@bipventures.vc?subject=Media%20Inquiry',\n",
       " 'tel:404-410-6476'}"
      ]
     },
     "execution_count": 21,
     "metadata": {},
     "output_type": "execute_result"
    }
   ],
   "source": [
    "external_links"
   ]
  },
  {
   "cell_type": "code",
   "execution_count": 22,
   "metadata": {
    "executionInfo": {
     "elapsed": 9,
     "status": "ok",
     "timestamp": 1743056467350,
     "user": {
      "displayName": "Fengchun Fan",
      "userId": "16607154835906475343"
     },
     "user_tz": 420
    },
    "id": "pBdPBsRR4CwN"
   },
   "outputs": [],
   "source": [
    "# Quick checkers\n",
    "# Sponsor_urls[\"Viemo\"]"
   ]
  },
  {
   "cell_type": "code",
   "execution_count": 23,
   "metadata": {
    "executionInfo": {
     "elapsed": 10,
     "status": "ok",
     "timestamp": 1743056467364,
     "user": {
      "displayName": "Fengchun Fan",
      "userId": "16607154835906475343"
     },
     "user_tz": 420
    },
    "id": "X6gpWJ-uBf3o"
   },
   "outputs": [],
   "source": [
    "# Convert the search results into a pandas DataFrame\n",
    "df_results = pd.DataFrame(search_results)"
   ]
  },
  {
   "cell_type": "code",
   "execution_count": null,
   "metadata": {
    "colab": {
     "base_uri": "https://localhost:8080/",
     "height": 627
    },
    "executionInfo": {
     "elapsed": 40,
     "status": "ok",
     "timestamp": 1743056467408,
     "user": {
      "displayName": "Fengchun Fan",
      "userId": "16607154835906475343"
     },
     "user_tz": 420
    },
    "id": "hCHR5vBNPmXv",
    "outputId": "8428e67b-b8f3-446b-d6c3-55ad2957d690"
   },
   "outputs": [],
   "source": [
    "# View results\n",
    "df_results"
   ]
  },
  {
   "cell_type": "code",
   "execution_count": 25,
   "metadata": {
    "executionInfo": {
     "elapsed": 7,
     "status": "ok",
     "timestamp": 1743056467422,
     "user": {
      "displayName": "Fengchun Fan",
      "userId": "16607154835906475343"
     },
     "user_tz": 420
    },
    "id": "kScDdBUx38OP"
   },
   "outputs": [],
   "source": [
    "# Export to csv file\n",
    "df_results.to_csv('search_results_Hyperlink.csv', index=False)"
   ]
  }
 ],
 "metadata": {
  "colab": {
   "authorship_tag": "ABX9TyOeCEBZ7rgISGL1BaI2h/sV",
   "machine_shape": "hm",
   "provenance": []
  },
  "kernelspec": {
   "display_name": "Python 3",
   "name": "python3"
  },
  "language_info": {
   "name": "python"
  }
 },
 "nbformat": 4,
 "nbformat_minor": 0
}
