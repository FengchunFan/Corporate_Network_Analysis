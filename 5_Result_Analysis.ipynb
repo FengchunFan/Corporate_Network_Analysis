{
 "cells": [
  {
   "cell_type": "markdown",
   "metadata": {
    "id": "-8LQrLAinp3x"
   },
   "source": [
    "# 0. Load library"
   ]
  },
  {
   "cell_type": "code",
   "execution_count": 1,
   "metadata": {
    "executionInfo": {
     "elapsed": 1734,
     "status": "ok",
     "timestamp": 1745788506876,
     "user": {
      "displayName": "Fengchun Fan",
      "userId": "16607154835906475343"
     },
     "user_tz": 420
    },
    "id": "cZdtRKLdntFp"
   },
   "outputs": [],
   "source": [
    "import pandas as pd\n",
    "import numpy as np"
   ]
  },
  {
   "cell_type": "markdown",
   "metadata": {
    "id": "tRQYwzHpmwQR"
   },
   "source": [
    "# 1. Target"
   ]
  },
  {
   "cell_type": "markdown",
   "metadata": {
    "id": "ahFSqhDwm1I_"
   },
   "source": [
    "The target corporate"
   ]
  },
  {
   "cell_type": "code",
   "execution_count": 2,
   "metadata": {
    "executionInfo": {
     "elapsed": 14,
     "status": "ok",
     "timestamp": 1745788509073,
     "user": {
      "displayName": "Fengchun Fan",
      "userId": "16607154835906475343"
     },
     "user_tz": 420
    },
    "id": "_qDE44_VjsQ7"
   },
   "outputs": [],
   "source": [
    "Target_corporation = \"Lead B\""
   ]
  },
  {
   "cell_type": "markdown",
   "metadata": {
    "id": "xY--Z0_Sm7lQ"
   },
   "source": [
    "# 2. Analyze Cleaned Original Partner List"
   ]
  },
  {
   "cell_type": "markdown",
   "metadata": {
    "id": "i0tQJ8jcn1jt"
   },
   "source": [
    "Load target corporate's partner list (.csv file)"
   ]
  },
  {
   "cell_type": "code",
   "execution_count": null,
   "metadata": {
    "colab": {
     "base_uri": "https://localhost:8080/"
    },
    "executionInfo": {
     "elapsed": 88,
     "status": "ok",
     "timestamp": 1745788514589,
     "user": {
      "displayName": "Fengchun Fan",
      "userId": "16607154835906475343"
     },
     "user_tz": 420
    },
    "id": "K5G7aUXfnGeB",
    "outputId": "94836f85-b7d9-4186-fc6f-80b3183206ae"
   },
   "outputs": [
    {
     "name": "stdout",
     "output_type": "stream",
     "text": [
      "Stripped all leading/trailing spaces from string attributes.\n"
     ]
    }
   ],
   "source": [
    "# Load CSV into a Data Pool DataFrame\n",
    "# Change encoding from 'utf-8' to 'latin1' to avoid invalid continuation byte\n",
    "df_partner_list = pd.read_csv('')\n",
    "\n",
    "# Apply .strip() to all string values in the DataFrame using apply with a lambda function\n",
    "df_partner_list = df_partner_list.apply(lambda col: col.map(lambda x: x.strip() if isinstance(x, str) else x))\n",
    "\n",
    "# Now all string values in df_pool will have leading/trailing spaces removed\n",
    "print(\"Stripped all leading/trailing spaces from string attributes.\")"
   ]
  },
  {
   "cell_type": "code",
   "execution_count": null,
   "metadata": {
    "colab": {
     "base_uri": "https://localhost:8080/",
     "height": 223
    },
    "executionInfo": {
     "elapsed": 78,
     "status": "ok",
     "timestamp": 1745788529811,
     "user": {
      "displayName": "Fengchun Fan",
      "userId": "16607154835906475343"
     },
     "user_tz": 420
    },
    "id": "Odxg4aFyn5Uh",
    "outputId": "e8530f00-a4a3-40e9-c7c9-fbcc454941cd"
   },
   "outputs": [],
   "source": [
    "# Check loaded dataframe\n",
    "df_partner_list.head()"
   ]
  },
  {
   "cell_type": "code",
   "execution_count": 5,
   "metadata": {
    "executionInfo": {
     "elapsed": 5,
     "status": "ok",
     "timestamp": 1745788531157,
     "user": {
      "displayName": "Fengchun Fan",
      "userId": "16607154835906475343"
     },
     "user_tz": 420
    },
    "id": "ymdBxXpH-6Fy"
   },
   "outputs": [],
   "source": [
    "# Update dataframe attribute type\n",
    "# Define the mapping\n",
    "type_rename_mapping = {\n",
    "  \"gov\": \"government\",\n",
    "  \"univ\": \"university\",\n",
    "  \"npo\": \"nonprofit organization\"\n",
    "}\n",
    "\n",
    "# Apply the mapping\n",
    "df_partner_list[\"Type\"] = df_partner_list[\"Type\"].replace(type_rename_mapping)"
   ]
  },
  {
   "cell_type": "code",
   "execution_count": null,
   "metadata": {
    "colab": {
     "base_uri": "https://localhost:8080/",
     "height": 310
    },
    "executionInfo": {
     "elapsed": 41,
     "status": "ok",
     "timestamp": 1745788534857,
     "user": {
      "displayName": "Fengchun Fan",
      "userId": "16607154835906475343"
     },
     "user_tz": 420
    },
    "id": "cykdVk8q_KCH",
    "outputId": "af6fbb77-55a6-40c2-a8b5-30dd0b7b4cfb"
   },
   "outputs": [],
   "source": [
    "# Check loaded dataframe\n",
    "df_partner_list.head()"
   ]
  },
  {
   "cell_type": "markdown",
   "metadata": {
    "id": "VQCjs0J49dkB"
   },
   "source": [
    "Check unique partners"
   ]
  },
  {
   "cell_type": "code",
   "execution_count": 7,
   "metadata": {
    "colab": {
     "base_uri": "https://localhost:8080/"
    },
    "executionInfo": {
     "elapsed": 7,
     "status": "ok",
     "timestamp": 1745788538113,
     "user": {
      "displayName": "Fengchun Fan",
      "userId": "16607154835906475343"
     },
     "user_tz": 420
    },
    "id": "vK3TSPbmn-AA",
    "outputId": "3c5af7c7-0688-42ae-8dc4-1c5ce38c65f9"
   },
   "outputs": [
    {
     "name": "stdout",
     "output_type": "stream",
     "text": [
      "Unique number of partners are: 84\n"
     ]
    }
   ],
   "source": [
    "# ex. (3M\tbusiness\tMEDA\tMN\t2022) and (3M\tbusiness\tUMN\tMN\t2024) will be treat as 1 partner\n",
    "Partner_list = df_partner_list[\"Sponsors\"].unique()\n",
    "# Length of the partner list\n",
    "print(\"Unique number of partners are:\", len(Partner_list))\n",
    "# Option to print the whole list\n",
    "# print(Partner_list)"
   ]
  },
  {
   "cell_type": "markdown",
   "metadata": {
    "id": "ROOZMHZd9f13"
   },
   "source": [
    "Output type distribution of the dataset"
   ]
  },
  {
   "cell_type": "code",
   "execution_count": 8,
   "metadata": {
    "colab": {
     "base_uri": "https://localhost:8080/"
    },
    "executionInfo": {
     "elapsed": 13,
     "status": "ok",
     "timestamp": 1745788542625,
     "user": {
      "displayName": "Fengchun Fan",
      "userId": "16607154835906475343"
     },
     "user_tz": 420
    },
    "id": "ys5XTqjror37",
    "outputId": "fef4dfa9-9e31-4bd6-adbb-f19b3fc70d1f"
   },
   "outputs": [
    {
     "name": "stdout",
     "output_type": "stream",
     "text": [
      "                     Type  Count\n",
      "0  nonprofit organization     33\n",
      "1               financial     19\n",
      "2              government     15\n",
      "3              university      9\n",
      "4                business      8\n"
     ]
    }
   ],
   "source": [
    "# Key point, cannot do simple value counts\n",
    "# ex. (3M\tbusiness\tMEDA\tMN\t2022) and (3M\tbusiness\tUMN\tMN\t2024) are not two business institution\n",
    "# ex. (Medtronic  medical MEDA  MN  2022) and (Medtronic business MEDA  MN  2023) should be counted separately\n",
    "# Because they are 1 institution's two types\n",
    "\n",
    "# Naive count\n",
    "# print(df['Type'].value_counts())\n",
    "\n",
    "# Drop duplicate (Sponsor, Type) pairs\n",
    "unique_type_entries = df_partner_list[['Sponsors', 'Type']].drop_duplicates()\n",
    "\n",
    "# Count how many times each type appears among unique sponsor-type pairs\n",
    "# Store result in dataframe style\n",
    "type_distribution = unique_type_entries['Type'].value_counts().reset_index()\n",
    "type_distribution.columns = ['Type', 'Count']\n",
    "# Print the result\n",
    "print(type_distribution)"
   ]
  },
  {
   "cell_type": "markdown",
   "metadata": {
    "id": "uMMOHANgnJ2d"
   },
   "source": [
    "# 3. Analyze linked result"
   ]
  },
  {
   "cell_type": "markdown",
   "metadata": {
    "id": "djDZ8YuNsJ73"
   },
   "source": [
    "Load connection result dataset (.csv file)"
   ]
  },
  {
   "cell_type": "code",
   "execution_count": 9,
   "metadata": {
    "colab": {
     "base_uri": "https://localhost:8080/"
    },
    "executionInfo": {
     "elapsed": 64,
     "status": "ok",
     "timestamp": 1745788566203,
     "user": {
      "displayName": "Fengchun Fan",
      "userId": "16607154835906475343"
     },
     "user_tz": 420
    },
    "id": "PxTYNKPpnOWl",
    "outputId": "5fb74e56-21c1-4457-bc0d-5c1c3cf7d929"
   },
   "outputs": [
    {
     "name": "stdout",
     "output_type": "stream",
     "text": [
      "Stripped all leading/trailing spaces from string attributes.\n"
     ]
    }
   ],
   "source": [
    "# Load CSV into a Data Pool DataFrame\n",
    "# Change encoding from 'utf-8' to 'latin1' to avoid invalid continuation byte\n",
    "# df = pd.read_csv('BOC_update - Sheet1.csv', encoding='latin1')\n",
    "df_result = pd.read_csv('masked_final_results_expand.csv')\n",
    "\n",
    "# Apply .strip() to all string values in the DataFrame using apply with a lambda function\n",
    "df_result = df_result.apply(lambda col: col.map(lambda x: x.strip() if isinstance(x, str) else x))\n",
    "\n",
    "# Now all string values in df_pool will have leading/trailing spaces removed\n",
    "print(\"Stripped all leading/trailing spaces from string attributes.\")"
   ]
  },
  {
   "cell_type": "code",
   "execution_count": 10,
   "metadata": {
    "colab": {
     "base_uri": "https://localhost:8080/",
     "height": 206
    },
    "executionInfo": {
     "elapsed": 8,
     "status": "ok",
     "timestamp": 1745788566211,
     "user": {
      "displayName": "Fengchun Fan",
      "userId": "16607154835906475343"
     },
     "user_tz": 420
    },
    "id": "M2CNWD4JsOCw",
    "outputId": "ad93bf93-30be-412c-a094-07aa37325a33"
   },
   "outputs": [
    {
     "data": {
      "application/vnd.google.colaboratory.intrinsic+json": {
       "summary": "{\n  \"name\": \"df_result\",\n  \"rows\": 635,\n  \"fields\": [\n    {\n      \"column\": \"Edge\",\n      \"properties\": {\n        \"dtype\": \"string\",\n        \"num_unique_values\": 635,\n        \"samples\": [\n          \"('Wells Fargo', 'Ponce de Leon')\",\n          \"('Chinatown Manpower Project', 'NYC Council')\",\n          \"('Valley National Bank', 'Hofstra University')\"\n        ],\n        \"semantic_type\": \"\",\n        \"description\": \"\"\n      }\n    },\n    {\n      \"column\": \"Google_proof\",\n      \"properties\": {\n        \"dtype\": \"string\",\n        \"num_unique_values\": 480,\n        \"samples\": [\n          \"SearchResult(url=https://evergreenexchange.org/wp-content/uploads/2023/03/Evergreen_AnnRep_2019.pdf, title=Untitled - Evergreen Exchange, description=Bridgehampton National Bank. Broadway Stages Ltd. Brooklyn Fire Proof Inc. Brooklyn Food & Beverage. Brooklyn Navy Yard Development. Corp. Brooklyn Winery.)\",\n          \"SearchResult(url=https://prattcenter.net/about_us/affiliations, title=Affiliations, description=In turn, Pratt Center provides a valuable bridge for students between ... Made in NYC; Maspeth Industrial Business Association; SoBro; South Brooklyn IDC\\u00c2\\u00a0...)\",\n          \"SearchResult(url=https://www.jpmorganchase.com/newsroom/press-releases/2016, title=2016, description=JPMorgan Chase & Co. and LiftFund Announce New Program to Increase Access to Capital for Minority and Women-owned Small Businesses. October 11, 2016. New Web\\u00c2\\u00a0...)\"\n        ],\n        \"semantic_type\": \"\",\n        \"description\": \"\"\n      }\n    },\n    {\n      \"column\": \"Hyperlink_proof\",\n      \"properties\": {\n        \"dtype\": \"category\",\n        \"num_unique_values\": 92,\n        \"samples\": [\n          \"http://www.columbia.edu/\",\n          \"https://www.cmpny.org/\",\n          \"https://nam04.safelinks.protection.outlook.com/?url=https%3A%2F%2Fwww.hofstra.edu%2Fabout%2Fadministration%2Fprovost%2Fabroad%2Fabroad-cuba.html&data=04%7C01%7CNeena.Samuel%40hofstra.edu%7Cfe1f34c6c6b34f4f5bc608d88fde003a%7Ce32fc43d7c6246d9b49fcd53ba8d9424%7C0%7C0%7C637417530941011133%7CUnknown%7CTWFpbGZsb3d8eyJWIjoiMC4wLjAwMDAiLCJQIjoiV2luMzIiLCJBTiI6Ik1haWwiLCJXVCI6Mn0%3D%7C1000&sdata=5fzZ5jcnIocRvjShuhOyEyC%2BzSZRvg0iuUTb0JJAPFg%3D&reserved=0\"\n        ],\n        \"semantic_type\": \"\",\n        \"description\": \"\"\n      }\n    }\n  ]\n}",
       "type": "dataframe",
       "variable_name": "df_result"
      },
      "text/html": [
       "\n",
       "  <div id=\"df-8742b2a1-5118-405b-be33-2507b4f588e1\" class=\"colab-df-container\">\n",
       "    <div>\n",
       "<style scoped>\n",
       "    .dataframe tbody tr th:only-of-type {\n",
       "        vertical-align: middle;\n",
       "    }\n",
       "\n",
       "    .dataframe tbody tr th {\n",
       "        vertical-align: top;\n",
       "    }\n",
       "\n",
       "    .dataframe thead th {\n",
       "        text-align: right;\n",
       "    }\n",
       "</style>\n",
       "<table border=\"1\" class=\"dataframe\">\n",
       "  <thead>\n",
       "    <tr style=\"text-align: right;\">\n",
       "      <th></th>\n",
       "      <th>Edge</th>\n",
       "      <th>Google_proof</th>\n",
       "      <th>Hyperlink_proof</th>\n",
       "    </tr>\n",
       "  </thead>\n",
       "  <tbody>\n",
       "    <tr>\n",
       "      <th>0</th>\n",
       "      <td>('Ascend New York', 'BOC Capital Corp')</td>\n",
       "      <td>SearchResult(url=https://www.ascendnewyorkcity...</td>\n",
       "      <td>https://boccapital.org/</td>\n",
       "    </tr>\n",
       "    <tr>\n",
       "      <th>1</th>\n",
       "      <td>('BXL Business Incubator', 'Ascend New York')</td>\n",
       "      <td>SearchResult(url=https://www.bxl.nyc/, title=B...</td>\n",
       "      <td>NaN</td>\n",
       "    </tr>\n",
       "    <tr>\n",
       "      <th>2</th>\n",
       "      <td>('Bronx Community College', 'Ascend New York')</td>\n",
       "      <td>SearchResult(url=https://www.ascendnewyorkcity...</td>\n",
       "      <td>https://www.bcc.cuny.edu</td>\n",
       "    </tr>\n",
       "    <tr>\n",
       "      <th>3</th>\n",
       "      <td>('Ascend New York', 'Bronx Cooperative Develop...</td>\n",
       "      <td>SearchResult(url=https://www.ascendnewyorkcity...</td>\n",
       "      <td>NaN</td>\n",
       "    </tr>\n",
       "    <tr>\n",
       "      <th>4</th>\n",
       "      <td>('CDFI Fund', 'Ascend New York')</td>\n",
       "      <td>SearchResult(url=https://www.ascendnewyorkcity...</td>\n",
       "      <td>NaN</td>\n",
       "    </tr>\n",
       "  </tbody>\n",
       "</table>\n",
       "</div>\n",
       "    <div class=\"colab-df-buttons\">\n",
       "\n",
       "  <div class=\"colab-df-container\">\n",
       "    <button class=\"colab-df-convert\" onclick=\"convertToInteractive('df-8742b2a1-5118-405b-be33-2507b4f588e1')\"\n",
       "            title=\"Convert this dataframe to an interactive table.\"\n",
       "            style=\"display:none;\">\n",
       "\n",
       "  <svg xmlns=\"http://www.w3.org/2000/svg\" height=\"24px\" viewBox=\"0 -960 960 960\">\n",
       "    <path d=\"M120-120v-720h720v720H120Zm60-500h600v-160H180v160Zm220 220h160v-160H400v160Zm0 220h160v-160H400v160ZM180-400h160v-160H180v160Zm440 0h160v-160H620v160ZM180-180h160v-160H180v160Zm440 0h160v-160H620v160Z\"/>\n",
       "  </svg>\n",
       "    </button>\n",
       "\n",
       "  <style>\n",
       "    .colab-df-container {\n",
       "      display:flex;\n",
       "      gap: 12px;\n",
       "    }\n",
       "\n",
       "    .colab-df-convert {\n",
       "      background-color: #E8F0FE;\n",
       "      border: none;\n",
       "      border-radius: 50%;\n",
       "      cursor: pointer;\n",
       "      display: none;\n",
       "      fill: #1967D2;\n",
       "      height: 32px;\n",
       "      padding: 0 0 0 0;\n",
       "      width: 32px;\n",
       "    }\n",
       "\n",
       "    .colab-df-convert:hover {\n",
       "      background-color: #E2EBFA;\n",
       "      box-shadow: 0px 1px 2px rgba(60, 64, 67, 0.3), 0px 1px 3px 1px rgba(60, 64, 67, 0.15);\n",
       "      fill: #174EA6;\n",
       "    }\n",
       "\n",
       "    .colab-df-buttons div {\n",
       "      margin-bottom: 4px;\n",
       "    }\n",
       "\n",
       "    [theme=dark] .colab-df-convert {\n",
       "      background-color: #3B4455;\n",
       "      fill: #D2E3FC;\n",
       "    }\n",
       "\n",
       "    [theme=dark] .colab-df-convert:hover {\n",
       "      background-color: #434B5C;\n",
       "      box-shadow: 0px 1px 3px 1px rgba(0, 0, 0, 0.15);\n",
       "      filter: drop-shadow(0px 1px 2px rgba(0, 0, 0, 0.3));\n",
       "      fill: #FFFFFF;\n",
       "    }\n",
       "  </style>\n",
       "\n",
       "    <script>\n",
       "      const buttonEl =\n",
       "        document.querySelector('#df-8742b2a1-5118-405b-be33-2507b4f588e1 button.colab-df-convert');\n",
       "      buttonEl.style.display =\n",
       "        google.colab.kernel.accessAllowed ? 'block' : 'none';\n",
       "\n",
       "      async function convertToInteractive(key) {\n",
       "        const element = document.querySelector('#df-8742b2a1-5118-405b-be33-2507b4f588e1');\n",
       "        const dataTable =\n",
       "          await google.colab.kernel.invokeFunction('convertToInteractive',\n",
       "                                                    [key], {});\n",
       "        if (!dataTable) return;\n",
       "\n",
       "        const docLinkHtml = 'Like what you see? Visit the ' +\n",
       "          '<a target=\"_blank\" href=https://colab.research.google.com/notebooks/data_table.ipynb>data table notebook</a>'\n",
       "          + ' to learn more about interactive tables.';\n",
       "        element.innerHTML = '';\n",
       "        dataTable['output_type'] = 'display_data';\n",
       "        await google.colab.output.renderOutput(dataTable, element);\n",
       "        const docLink = document.createElement('div');\n",
       "        docLink.innerHTML = docLinkHtml;\n",
       "        element.appendChild(docLink);\n",
       "      }\n",
       "    </script>\n",
       "  </div>\n",
       "\n",
       "\n",
       "    <div id=\"df-8db467a8-646c-4922-afb6-79c4a4ba6100\">\n",
       "      <button class=\"colab-df-quickchart\" onclick=\"quickchart('df-8db467a8-646c-4922-afb6-79c4a4ba6100')\"\n",
       "                title=\"Suggest charts\"\n",
       "                style=\"display:none;\">\n",
       "\n",
       "<svg xmlns=\"http://www.w3.org/2000/svg\" height=\"24px\"viewBox=\"0 0 24 24\"\n",
       "     width=\"24px\">\n",
       "    <g>\n",
       "        <path d=\"M19 3H5c-1.1 0-2 .9-2 2v14c0 1.1.9 2 2 2h14c1.1 0 2-.9 2-2V5c0-1.1-.9-2-2-2zM9 17H7v-7h2v7zm4 0h-2V7h2v10zm4 0h-2v-4h2v4z\"/>\n",
       "    </g>\n",
       "</svg>\n",
       "      </button>\n",
       "\n",
       "<style>\n",
       "  .colab-df-quickchart {\n",
       "      --bg-color: #E8F0FE;\n",
       "      --fill-color: #1967D2;\n",
       "      --hover-bg-color: #E2EBFA;\n",
       "      --hover-fill-color: #174EA6;\n",
       "      --disabled-fill-color: #AAA;\n",
       "      --disabled-bg-color: #DDD;\n",
       "  }\n",
       "\n",
       "  [theme=dark] .colab-df-quickchart {\n",
       "      --bg-color: #3B4455;\n",
       "      --fill-color: #D2E3FC;\n",
       "      --hover-bg-color: #434B5C;\n",
       "      --hover-fill-color: #FFFFFF;\n",
       "      --disabled-bg-color: #3B4455;\n",
       "      --disabled-fill-color: #666;\n",
       "  }\n",
       "\n",
       "  .colab-df-quickchart {\n",
       "    background-color: var(--bg-color);\n",
       "    border: none;\n",
       "    border-radius: 50%;\n",
       "    cursor: pointer;\n",
       "    display: none;\n",
       "    fill: var(--fill-color);\n",
       "    height: 32px;\n",
       "    padding: 0;\n",
       "    width: 32px;\n",
       "  }\n",
       "\n",
       "  .colab-df-quickchart:hover {\n",
       "    background-color: var(--hover-bg-color);\n",
       "    box-shadow: 0 1px 2px rgba(60, 64, 67, 0.3), 0 1px 3px 1px rgba(60, 64, 67, 0.15);\n",
       "    fill: var(--button-hover-fill-color);\n",
       "  }\n",
       "\n",
       "  .colab-df-quickchart-complete:disabled,\n",
       "  .colab-df-quickchart-complete:disabled:hover {\n",
       "    background-color: var(--disabled-bg-color);\n",
       "    fill: var(--disabled-fill-color);\n",
       "    box-shadow: none;\n",
       "  }\n",
       "\n",
       "  .colab-df-spinner {\n",
       "    border: 2px solid var(--fill-color);\n",
       "    border-color: transparent;\n",
       "    border-bottom-color: var(--fill-color);\n",
       "    animation:\n",
       "      spin 1s steps(1) infinite;\n",
       "  }\n",
       "\n",
       "  @keyframes spin {\n",
       "    0% {\n",
       "      border-color: transparent;\n",
       "      border-bottom-color: var(--fill-color);\n",
       "      border-left-color: var(--fill-color);\n",
       "    }\n",
       "    20% {\n",
       "      border-color: transparent;\n",
       "      border-left-color: var(--fill-color);\n",
       "      border-top-color: var(--fill-color);\n",
       "    }\n",
       "    30% {\n",
       "      border-color: transparent;\n",
       "      border-left-color: var(--fill-color);\n",
       "      border-top-color: var(--fill-color);\n",
       "      border-right-color: var(--fill-color);\n",
       "    }\n",
       "    40% {\n",
       "      border-color: transparent;\n",
       "      border-right-color: var(--fill-color);\n",
       "      border-top-color: var(--fill-color);\n",
       "    }\n",
       "    60% {\n",
       "      border-color: transparent;\n",
       "      border-right-color: var(--fill-color);\n",
       "    }\n",
       "    80% {\n",
       "      border-color: transparent;\n",
       "      border-right-color: var(--fill-color);\n",
       "      border-bottom-color: var(--fill-color);\n",
       "    }\n",
       "    90% {\n",
       "      border-color: transparent;\n",
       "      border-bottom-color: var(--fill-color);\n",
       "    }\n",
       "  }\n",
       "</style>\n",
       "\n",
       "      <script>\n",
       "        async function quickchart(key) {\n",
       "          const quickchartButtonEl =\n",
       "            document.querySelector('#' + key + ' button');\n",
       "          quickchartButtonEl.disabled = true;  // To prevent multiple clicks.\n",
       "          quickchartButtonEl.classList.add('colab-df-spinner');\n",
       "          try {\n",
       "            const charts = await google.colab.kernel.invokeFunction(\n",
       "                'suggestCharts', [key], {});\n",
       "          } catch (error) {\n",
       "            console.error('Error during call to suggestCharts:', error);\n",
       "          }\n",
       "          quickchartButtonEl.classList.remove('colab-df-spinner');\n",
       "          quickchartButtonEl.classList.add('colab-df-quickchart-complete');\n",
       "        }\n",
       "        (() => {\n",
       "          let quickchartButtonEl =\n",
       "            document.querySelector('#df-8db467a8-646c-4922-afb6-79c4a4ba6100 button');\n",
       "          quickchartButtonEl.style.display =\n",
       "            google.colab.kernel.accessAllowed ? 'block' : 'none';\n",
       "        })();\n",
       "      </script>\n",
       "    </div>\n",
       "\n",
       "    </div>\n",
       "  </div>\n"
      ],
      "text/plain": [
       "                                                Edge  \\\n",
       "0            ('Ascend New York', 'BOC Capital Corp')   \n",
       "1      ('BXL Business Incubator', 'Ascend New York')   \n",
       "2     ('Bronx Community College', 'Ascend New York')   \n",
       "3  ('Ascend New York', 'Bronx Cooperative Develop...   \n",
       "4                   ('CDFI Fund', 'Ascend New York')   \n",
       "\n",
       "                                        Google_proof           Hyperlink_proof  \n",
       "0  SearchResult(url=https://www.ascendnewyorkcity...   https://boccapital.org/  \n",
       "1  SearchResult(url=https://www.bxl.nyc/, title=B...                       NaN  \n",
       "2  SearchResult(url=https://www.ascendnewyorkcity...  https://www.bcc.cuny.edu  \n",
       "3  SearchResult(url=https://www.ascendnewyorkcity...                       NaN  \n",
       "4  SearchResult(url=https://www.ascendnewyorkcity...                       NaN  "
      ]
     },
     "execution_count": 10,
     "metadata": {},
     "output_type": "execute_result"
    }
   ],
   "source": [
    "# Check dataset\n",
    "df_result.head()"
   ]
  },
  {
   "cell_type": "markdown",
   "metadata": {
    "id": "3EkNmexN-Q5T"
   },
   "source": [
    "Google_text_mentioned connection"
   ]
  },
  {
   "cell_type": "code",
   "execution_count": 11,
   "metadata": {
    "colab": {
     "base_uri": "https://localhost:8080/"
    },
    "executionInfo": {
     "elapsed": 8,
     "status": "ok",
     "timestamp": 1745788566238,
     "user": {
      "displayName": "Fengchun Fan",
      "userId": "16607154835906475343"
     },
     "user_tz": 420
    },
    "id": "QIdFpQ07sT3l",
    "outputId": "6431ff36-a702-4f45-ec79-3f31b2ca38d0"
   },
   "outputs": [
    {
     "name": "stdout",
     "output_type": "stream",
     "text": [
      "Number of Google_text_mentioned connections: 484\n"
     ]
    }
   ],
   "source": [
    "# Count non-NaN values under the \"Google_proof\" column\n",
    "num_google_mentions = df_result['Google_proof'].notna().sum()\n",
    "\n",
    "print(f\"Number of Google_text_mentioned connections: {num_google_mentions}\")"
   ]
  },
  {
   "cell_type": "markdown",
   "metadata": {
    "id": "nnpvx4W6-jTv"
   },
   "source": [
    "Hyperlink_mentioned connection"
   ]
  },
  {
   "cell_type": "code",
   "execution_count": 12,
   "metadata": {
    "colab": {
     "base_uri": "https://localhost:8080/"
    },
    "executionInfo": {
     "elapsed": 2,
     "status": "ok",
     "timestamp": 1745788566241,
     "user": {
      "displayName": "Fengchun Fan",
      "userId": "16607154835906475343"
     },
     "user_tz": 420
    },
    "id": "L1tB0t8DsUe1",
    "outputId": "693ee783-3efc-4a5d-a6d4-23e9d551af2e"
   },
   "outputs": [
    {
     "name": "stdout",
     "output_type": "stream",
     "text": [
      "Number of Hyperlink mentioned connections: 139\n"
     ]
    }
   ],
   "source": [
    "# Count non-NaN values under the \"Hyperlink_proof\" column\n",
    "num_hyperlink_mentions = df_result['Hyperlink_proof'].notna().sum()\n",
    "\n",
    "print(f\"Number of Hyperlink mentioned connections: {num_hyperlink_mentions}\")"
   ]
  },
  {
   "cell_type": "code",
   "execution_count": 13,
   "metadata": {
    "colab": {
     "base_uri": "https://localhost:8080/"
    },
    "executionInfo": {
     "elapsed": 3,
     "status": "ok",
     "timestamp": 1745788566244,
     "user": {
      "displayName": "Fengchun Fan",
      "userId": "16607154835906475343"
     },
     "user_tz": 420
    },
    "id": "dZGR1zr4sWjI",
    "outputId": "0c767c5f-e4c1-46ee-da96-cd314d1f92cc"
   },
   "outputs": [
    {
     "name": "stdout",
     "output_type": "stream",
     "text": [
      "Total detected connections: 635\n"
     ]
    }
   ],
   "source": [
    "# Total connection\n",
    "print(f\"Total detected connections: {df_result.shape[0]}\")"
   ]
  },
  {
   "cell_type": "markdown",
   "metadata": {
    "id": "1FjzqqrSnHBV"
   },
   "source": [
    "# 4. Create Graph"
   ]
  },
  {
   "cell_type": "markdown",
   "metadata": {
    "id": "U2EG17q-5DzU"
   },
   "source": [
    "Aim to recreate graphs as presented in paper: \\\n",
    "https://www.researchgate.net/publication/374243743_UNIVERSITY-LED_ENTREPRENEURSHIP_ECOSYSTEM_BUILDING_IN_UNDERSERVED_COMMUNITIES_FROM_A_NETWORK_PERSPECTIVE"
   ]
  },
  {
   "cell_type": "markdown",
   "metadata": {
    "id": "VoLdF7-T5fhp"
   },
   "source": [
    "Tool used:\n",
    "* NetworkX: https://pypi.org/project/networkx/"
   ]
  },
  {
   "cell_type": "markdown",
   "metadata": {
    "id": "5BVt8JorSLlw"
   },
   "source": [
    "## Install necessary libraries"
   ]
  },
  {
   "cell_type": "code",
   "execution_count": 14,
   "metadata": {
    "colab": {
     "base_uri": "https://localhost:8080/"
    },
    "executionInfo": {
     "elapsed": 3122,
     "status": "ok",
     "timestamp": 1745788579259,
     "user": {
      "displayName": "Fengchun Fan",
      "userId": "16607154835906475343"
     },
     "user_tz": 420
    },
    "id": "Q_LJd28E5Av5",
    "outputId": "e37cc8c0-6e34-4aea-f631-593659752eeb"
   },
   "outputs": [
    {
     "name": "stdout",
     "output_type": "stream",
     "text": [
      "Requirement already satisfied: matplotlib in /usr/local/lib/python3.11/dist-packages (3.10.0)\n",
      "Requirement already satisfied: networkx in /usr/local/lib/python3.11/dist-packages (3.4.2)\n",
      "Requirement already satisfied: contourpy>=1.0.1 in /usr/local/lib/python3.11/dist-packages (from matplotlib) (1.3.2)\n",
      "Requirement already satisfied: cycler>=0.10 in /usr/local/lib/python3.11/dist-packages (from matplotlib) (0.12.1)\n",
      "Requirement already satisfied: fonttools>=4.22.0 in /usr/local/lib/python3.11/dist-packages (from matplotlib) (4.57.0)\n",
      "Requirement already satisfied: kiwisolver>=1.3.1 in /usr/local/lib/python3.11/dist-packages (from matplotlib) (1.4.8)\n",
      "Requirement already satisfied: numpy>=1.23 in /usr/local/lib/python3.11/dist-packages (from matplotlib) (2.0.2)\n",
      "Requirement already satisfied: packaging>=20.0 in /usr/local/lib/python3.11/dist-packages (from matplotlib) (24.2)\n",
      "Requirement already satisfied: pillow>=8 in /usr/local/lib/python3.11/dist-packages (from matplotlib) (11.1.0)\n",
      "Requirement already satisfied: pyparsing>=2.3.1 in /usr/local/lib/python3.11/dist-packages (from matplotlib) (3.2.3)\n",
      "Requirement already satisfied: python-dateutil>=2.7 in /usr/local/lib/python3.11/dist-packages (from matplotlib) (2.8.2)\n",
      "Requirement already satisfied: six>=1.5 in /usr/local/lib/python3.11/dist-packages (from python-dateutil>=2.7->matplotlib) (1.17.0)\n"
     ]
    }
   ],
   "source": [
    "!pip install matplotlib networkx"
   ]
  },
  {
   "cell_type": "code",
   "execution_count": 15,
   "metadata": {
    "executionInfo": {
     "elapsed": 1228,
     "status": "ok",
     "timestamp": 1745788580488,
     "user": {
      "displayName": "Fengchun Fan",
      "userId": "16607154835906475343"
     },
     "user_tz": 420
    },
    "id": "ohE1zzE8JlZ9"
   },
   "outputs": [],
   "source": [
    "import matplotlib.pyplot as plt\n",
    "import networkx as nx\n",
    "import ast  # For safely evaluating stringified tuples\n",
    "import matplotlib.patches as mpatches # Add legend patches"
   ]
  },
  {
   "cell_type": "markdown",
   "metadata": {
    "id": "K55gcFqCJIex"
   },
   "source": [
    "## Basic Graph, with label on"
   ]
  },
  {
   "cell_type": "code",
   "execution_count": 16,
   "metadata": {
    "colab": {
     "base_uri": "https://localhost:8080/"
    },
    "executionInfo": {
     "elapsed": 89,
     "status": "ok",
     "timestamp": 1745788581688,
     "user": {
      "displayName": "Fengchun Fan",
      "userId": "16607154835906475343"
     },
     "user_tz": 420
    },
    "id": "qeehPCTjBSST",
    "outputId": "d9a4cbb5-30d8-4530-a41d-f7818423b2a2"
   },
   "outputs": [
    {
     "name": "stdout",
     "output_type": "stream",
     "text": [
      "Graph created with 85 nodes and 635 edges.\n"
     ]
    }
   ],
   "source": [
    "# Initialize an undirected graph\n",
    "Connection_Graph = nx.Graph()\n",
    "\n",
    "# Add edges from the filtered dataframe\n",
    "for _, row in df_result.iterrows():\n",
    "  # convert stringified tuples to python tuples\n",
    "  edge = row['Edge']\n",
    "  if isinstance(edge, str):\n",
    "    edge = ast.literal_eval(edge)\n",
    "  source, target = edge\n",
    "  Connection_Graph.add_edge(source, target)\n",
    "\n",
    "# Optionally print some info\n",
    "print(f\"Graph created with {Connection_Graph.number_of_nodes()} nodes and {Connection_Graph.number_of_edges()} edges.\")"
   ]
  },
  {
   "cell_type": "code",
   "execution_count": 17,
   "metadata": {
    "executionInfo": {
     "elapsed": 69,
     "status": "ok",
     "timestamp": 1745788581757,
     "user": {
      "displayName": "Fengchun Fan",
      "userId": "16607154835906475343"
     },
     "user_tz": 420
    },
    "id": "SyyIpVVLNPph"
   },
   "outputs": [],
   "source": [
    "# Compute layout once and reuse it\n",
    "pos = nx.spring_layout(Connection_Graph, seed=42)"
   ]
  },
  {
   "cell_type": "code",
   "execution_count": 18,
   "metadata": {
    "colab": {
     "base_uri": "https://localhost:8080/",
     "height": 1000,
     "output_embedded_package_id": "1ga3-zr9pPMNmjKtAfobI78IL_5RNe28y"
    },
    "executionInfo": {
     "elapsed": 30559,
     "status": "ok",
     "timestamp": 1745788612317,
     "user": {
      "displayName": "Fengchun Fan",
      "userId": "16607154835906475343"
     },
     "user_tz": 420
    },
    "id": "1XJn5niGBobj",
    "outputId": "72382752-481b-47ac-baac-b99977d2e8b7"
   },
   "outputs": [
    {
     "data": {
      "text/plain": [
       "Output hidden; open in https://colab.research.google.com to view."
      ]
     },
     "metadata": {},
     "output_type": "display_data"
    }
   ],
   "source": [
    "# Visualize large size image with high resolution\n",
    "plt.figure(figsize=(64, 64), dpi=300)\n",
    "\n",
    "# Adjust attributes and draw graph\n",
    "nx.draw_networkx(\n",
    "  Connection_Graph,\n",
    "  pos=pos,\n",
    "  # Adjust node size\n",
    "  node_size=800,\n",
    "  # Adjust font size for readability\n",
    "  font_size=20,\n",
    "  # Set font color\n",
    "  font_color='black',\n",
    "  # Set node color\n",
    "  node_color='skyblue',\n",
    "  # Set edge color\n",
    "  edge_color='gray',\n",
    "  # Display node labels\n",
    "  with_labels=True,\n",
    "  # Set edge width\n",
    "  width=2\n",
    ")\n",
    "plt.title(\"SNA Connection Graph\", fontsize=100)\n",
    "plt.show()"
   ]
  },
  {
   "cell_type": "markdown",
   "metadata": {
    "id": "r3SZa49UPpYW"
   },
   "source": [
    "## Graph with node size dynamicly based degree and label on"
   ]
  },
  {
   "cell_type": "code",
   "execution_count": null,
   "metadata": {
    "colab": {
     "base_uri": "https://localhost:8080/"
    },
    "executionInfo": {
     "elapsed": 10,
     "status": "ok",
     "timestamp": 1744601106422,
     "user": {
      "displayName": "Fengchun Fan",
      "userId": "16607154835906475343"
     },
     "user_tz": 420
    },
    "id": "xLD21zBwQA60",
    "outputId": "5e1eeb60-631b-4ccc-d58e-acb0ac9b9337"
   },
   "outputs": [],
   "source": [
    "# We will be using the same connection graph\n",
    "\n",
    "# Get degree\n",
    "# And save as (node, degree) tuples\n",
    "degree_list = list(Connection_Graph.degree())\n",
    "\n",
    "# Sort by degree descending\n",
    "sorted_degrees = sorted(degree_list, key=lambda x: x[1], reverse=True)\n",
    "\n",
    "# Display top 10 nodes by degree\n",
    "for node, degree in sorted_degrees[:10]:\n",
    "  print(f\"{node}: {degree}\")"
   ]
  },
  {
   "cell_type": "code",
   "execution_count": null,
   "metadata": {
    "colab": {
     "base_uri": "https://localhost:8080/",
     "height": 1000,
     "output_embedded_package_id": "1RUIX1wrG7fpKrpL3pNrIrH0mDgLZ5QGh"
    },
    "executionInfo": {
     "elapsed": 23488,
     "status": "ok",
     "timestamp": 1744601145563,
     "user": {
      "displayName": "Fengchun Fan",
      "userId": "16607154835906475343"
     },
     "user_tz": 420
    },
    "id": "245hHyA8P6Sm",
    "outputId": "b0b88a17-fd4b-447f-f4f5-abcd0b187248"
   },
   "outputs": [
    {
     "data": {
      "text/plain": [
       "Output hidden; open in https://colab.research.google.com to view."
      ]
     },
     "metadata": {},
     "output_type": "display_data"
    }
   ],
   "source": [
    "# Scale node size by degree (number of connections)\n",
    "degree_dict = dict(Connection_Graph.degree())\n",
    "node_sizes = [degree_dict[node] * 50 for node in Connection_Graph.nodes()]\n",
    "\n",
    "# We will only label the top 10 results\n",
    "top_10_nodes = [node for node, _ in sorted_degrees[:10]]\n",
    "labels = {node: node for node in top_10_nodes}\n",
    "\n",
    "# Adjust node color\n",
    "node_colors = [\n",
    "  \"orange\" if node in top_10_nodes else \"skyblue\"\n",
    "  for node in Connection_Graph.nodes()\n",
    "]\n",
    "\n",
    "# Visualize large size image with high resolution\n",
    "plt.figure(figsize=(64, 64), dpi=300)\n",
    "\n",
    "# Adjust attributes and draw graph\n",
    "nx.draw_networkx(\n",
    "  Connection_Graph,\n",
    "  pos=pos,\n",
    "  # Adjust node size\n",
    "  node_size=node_sizes,\n",
    "  # Adjust font size for readability\n",
    "  font_size=20,\n",
    "  # Set node color\n",
    "  node_color=node_colors,\n",
    "  # Set edge color\n",
    "  edge_color='gray',\n",
    "  # Display node labels\n",
    "  with_labels=False,\n",
    "  # Set edge width\n",
    "  width=2\n",
    ")\n",
    "# Add labels manually\n",
    "nx.draw_networkx_labels(Connection_Graph, pos, labels=labels, font_size=20, font_color='black')\n",
    "plt.title(\"SNA Connection Graph\", fontsize=100)\n",
    "plt.show()"
   ]
  },
  {
   "cell_type": "markdown",
   "metadata": {
    "id": "RIWXqv1OOSWQ"
   },
   "source": [
    "## Graph with variation on edge type and label off"
   ]
  },
  {
   "cell_type": "code",
   "execution_count": null,
   "metadata": {
    "colab": {
     "base_uri": "https://localhost:8080/"
    },
    "executionInfo": {
     "elapsed": 234,
     "status": "ok",
     "timestamp": 1744601728148,
     "user": {
      "displayName": "Fengchun Fan",
      "userId": "16607154835906475343"
     },
     "user_tz": 420
    },
    "id": "F7J0vaQeJpU7",
    "outputId": "63ca88e2-4a36-4534-94cc-372da2e45f5d"
   },
   "outputs": [
    {
     "name": "stdout",
     "output_type": "stream",
     "text": [
      "Graph created with 327 nodes and 3195 edges.\n"
     ]
    }
   ],
   "source": [
    "# Initialize an undirected graph\n",
    "Connection_Graph = nx.Graph()\n",
    "\n",
    "# Add edges from the filtered dataframe\n",
    "for _, row in df_result.iterrows():\n",
    "    # convert stringified tuples to python tuples\n",
    "    edge = row['Edge']\n",
    "    if isinstance(edge, str):\n",
    "      edge = ast.literal_eval(edge)\n",
    "    source, target = edge\n",
    "\n",
    "    # Determine connection type\n",
    "    google = pd.notna(row['Google_proof'])\n",
    "    hyperlink = pd.notna(row['Hyperlink_proof'])\n",
    "\n",
    "    # Every edge will have at least 1 connection type\n",
    "    # Except the ones directly with target corporate\n",
    "    if google and hyperlink:\n",
    "      connection_type = \"both\"\n",
    "    elif google:\n",
    "      connection_type = \"google\"\n",
    "    elif hyperlink:\n",
    "      connection_type = \"hyperlink\"\n",
    "    else:\n",
    "      connection_type = \"none\"\n",
    "\n",
    "    # Add the edge with \"connection_type\" as attribute\n",
    "    Connection_Graph.add_edge(source, target, connection_type=connection_type)\n",
    "\n",
    "# Optionally print some info\n",
    "print(f\"Graph created with {Connection_Graph.number_of_nodes()} nodes and {Connection_Graph.number_of_edges()} edges.\")"
   ]
  },
  {
   "cell_type": "code",
   "execution_count": null,
   "metadata": {
    "colab": {
     "base_uri": "https://localhost:8080/"
    },
    "executionInfo": {
     "elapsed": 4,
     "status": "ok",
     "timestamp": 1744601729551,
     "user": {
      "displayName": "Fengchun Fan",
      "userId": "16607154835906475343"
     },
     "user_tz": 420
    },
    "id": "rNmFAa4oKaBB",
    "outputId": "06fce372-27f0-475d-dc69-b0dd16b12acb"
   },
   "outputs": [
    {
     "name": "stdout",
     "output_type": "stream",
     "text": [
      "('21st Century Bank', '3M', {'connection_type': 'google'})\n"
     ]
    }
   ],
   "source": [
    "# Get first edge in the graph to verify if edges are created properly\n",
    "first_edge = list(Connection_Graph.edges(data=True))[0]\n",
    "print(first_edge)"
   ]
  },
  {
   "cell_type": "code",
   "execution_count": null,
   "metadata": {
    "colab": {
     "base_uri": "https://localhost:8080/",
     "height": 1000,
     "output_embedded_package_id": "1FUZqAuzvfiujdPkuxxw9NZXkkNjhXIJC"
    },
    "executionInfo": {
     "elapsed": 27379,
     "status": "ok",
     "timestamp": 1744601757977,
     "user": {
      "displayName": "Fengchun Fan",
      "userId": "16607154835906475343"
     },
     "user_tz": 420
    },
    "id": "Ci337GGEIGr_",
    "outputId": "79441702-36f6-43aa-ae5f-d500a7749ad7"
   },
   "outputs": [],
   "source": [
    "from math import e\n",
    "# Define edge colors\n",
    "edge_colors = []\n",
    "for u, v in Connection_Graph.edges():\n",
    "  connection_type = Connection_Graph[u][v][\"connection_type\"]\n",
    "  if connection_type == \"both\":\n",
    "    edge_colors.append(\"purple\")\n",
    "  elif connection_type == \"google\":\n",
    "    edge_colors.append(\"red\")\n",
    "  elif connection_type == \"hyperlink\":\n",
    "    edge_colors.append(\"blue\")\n",
    "  elif connection_type == \"none\":\n",
    "    edge_colors.append(\"green\")\n",
    "\n",
    "# Define color-to-label mapping\n",
    "legend_patches = [\n",
    "  mpatches.Patch(color=\"purple\", label=\"Both Connection detected\"),\n",
    "  mpatches.Patch(color=\"red\", label=\"Google Search Connection\"),\n",
    "  mpatches.Patch(color=\"blue\", label=\"Hyperlink Connection\"),\n",
    "  mpatches.Patch(color=\"green\", label=\"Connection towards target corporate\"),\n",
    "]\n",
    "\n",
    "# Visualize large size image with high resolution\n",
    "plt.figure(figsize=(64, 64), dpi=300)\n",
    "\n",
    "# Adjust attributes and draw graph\n",
    "nx.draw_networkx(\n",
    "  Connection_Graph,\n",
    "  # Graph reproductivity\n",
    "  pos=pos,\n",
    "  # Adjust node size\n",
    "  node_size=800,\n",
    "  # Set node color\n",
    "  node_color='skyblue',\n",
    "  # Set edge color\n",
    "  edge_color=edge_colors,\n",
    "  # Display node labels\n",
    "  with_labels=False,\n",
    "  # Set edge width\n",
    "  width=2\n",
    ")\n",
    "plt.legend(handles=legend_patches, loc='upper left', fontsize=50)\n",
    "plt.title(\"SNA Connection Graph\", fontsize=100)\n",
    "plt.show()"
   ]
  },
  {
   "cell_type": "markdown",
   "metadata": {
    "id": "AaGuRO-IOubA"
   },
   "source": [
    "## Graph with variation on node type and label off"
   ]
  },
  {
   "cell_type": "markdown",
   "metadata": {
    "id": "aWlr0RaFrY0w"
   },
   "source": [
    "### [Run this one] Display single corporation type (dynamic size)"
   ]
  },
  {
   "cell_type": "code",
   "execution_count": 19,
   "metadata": {
    "colab": {
     "base_uri": "https://localhost:8080/",
     "height": 206
    },
    "executionInfo": {
     "elapsed": 12,
     "status": "ok",
     "timestamp": 1745788630945,
     "user": {
      "displayName": "Fengchun Fan",
      "userId": "16607154835906475343"
     },
     "user_tz": 420
    },
    "id": "A0ddxb9irY0x",
    "outputId": "3e6b8b8b-126e-4ad0-bdbb-a2325a01d2eb"
   },
   "outputs": [
    {
     "data": {
      "application/vnd.google.colaboratory.intrinsic+json": {
       "summary": "{\n  \"name\": \"unique_type_entries\",\n  \"rows\": 84,\n  \"fields\": [\n    {\n      \"column\": \"Sponsors\",\n      \"properties\": {\n        \"dtype\": \"string\",\n        \"num_unique_values\": 84,\n        \"samples\": [\n          \"U.S. HHS, Office of Refugee Resettlement\",\n          \"Ascend New York\",\n          \"NYS Assembly\"\n        ],\n        \"semantic_type\": \"\",\n        \"description\": \"\"\n      }\n    },\n    {\n      \"column\": \"Type\",\n      \"properties\": {\n        \"dtype\": \"category\",\n        \"num_unique_values\": 5,\n        \"samples\": [\n          \"financial\",\n          \"business\",\n          \"university\"\n        ],\n        \"semantic_type\": \"\",\n        \"description\": \"\"\n      }\n    }\n  ]\n}",
       "type": "dataframe",
       "variable_name": "unique_type_entries"
      },
      "text/html": [
       "\n",
       "  <div id=\"df-a339c2f1-e214-4442-b090-3f19096831d5\" class=\"colab-df-container\">\n",
       "    <div>\n",
       "<style scoped>\n",
       "    .dataframe tbody tr th:only-of-type {\n",
       "        vertical-align: middle;\n",
       "    }\n",
       "\n",
       "    .dataframe tbody tr th {\n",
       "        vertical-align: top;\n",
       "    }\n",
       "\n",
       "    .dataframe thead th {\n",
       "        text-align: right;\n",
       "    }\n",
       "</style>\n",
       "<table border=\"1\" class=\"dataframe\">\n",
       "  <thead>\n",
       "    <tr style=\"text-align: right;\">\n",
       "      <th></th>\n",
       "      <th>Sponsors</th>\n",
       "      <th>Type</th>\n",
       "    </tr>\n",
       "  </thead>\n",
       "  <tbody>\n",
       "    <tr>\n",
       "      <th>0</th>\n",
       "      <td>Ascend New York</td>\n",
       "      <td>nonprofit organization</td>\n",
       "    </tr>\n",
       "    <tr>\n",
       "      <th>1</th>\n",
       "      <td>Association of Neighborhood and Housing Develo...</td>\n",
       "      <td>nonprofit organization</td>\n",
       "    </tr>\n",
       "    <tr>\n",
       "      <th>2</th>\n",
       "      <td>BOC Capital Corp</td>\n",
       "      <td>nonprofit organization</td>\n",
       "    </tr>\n",
       "    <tr>\n",
       "      <th>3</th>\n",
       "      <td>BOC Development Corporation</td>\n",
       "      <td>nonprofit organization</td>\n",
       "    </tr>\n",
       "    <tr>\n",
       "      <th>4</th>\n",
       "      <td>BOC Women's Business Center</td>\n",
       "      <td>nonprofit organization</td>\n",
       "    </tr>\n",
       "  </tbody>\n",
       "</table>\n",
       "</div>\n",
       "    <div class=\"colab-df-buttons\">\n",
       "\n",
       "  <div class=\"colab-df-container\">\n",
       "    <button class=\"colab-df-convert\" onclick=\"convertToInteractive('df-a339c2f1-e214-4442-b090-3f19096831d5')\"\n",
       "            title=\"Convert this dataframe to an interactive table.\"\n",
       "            style=\"display:none;\">\n",
       "\n",
       "  <svg xmlns=\"http://www.w3.org/2000/svg\" height=\"24px\" viewBox=\"0 -960 960 960\">\n",
       "    <path d=\"M120-120v-720h720v720H120Zm60-500h600v-160H180v160Zm220 220h160v-160H400v160Zm0 220h160v-160H400v160ZM180-400h160v-160H180v160Zm440 0h160v-160H620v160ZM180-180h160v-160H180v160Zm440 0h160v-160H620v160Z\"/>\n",
       "  </svg>\n",
       "    </button>\n",
       "\n",
       "  <style>\n",
       "    .colab-df-container {\n",
       "      display:flex;\n",
       "      gap: 12px;\n",
       "    }\n",
       "\n",
       "    .colab-df-convert {\n",
       "      background-color: #E8F0FE;\n",
       "      border: none;\n",
       "      border-radius: 50%;\n",
       "      cursor: pointer;\n",
       "      display: none;\n",
       "      fill: #1967D2;\n",
       "      height: 32px;\n",
       "      padding: 0 0 0 0;\n",
       "      width: 32px;\n",
       "    }\n",
       "\n",
       "    .colab-df-convert:hover {\n",
       "      background-color: #E2EBFA;\n",
       "      box-shadow: 0px 1px 2px rgba(60, 64, 67, 0.3), 0px 1px 3px 1px rgba(60, 64, 67, 0.15);\n",
       "      fill: #174EA6;\n",
       "    }\n",
       "\n",
       "    .colab-df-buttons div {\n",
       "      margin-bottom: 4px;\n",
       "    }\n",
       "\n",
       "    [theme=dark] .colab-df-convert {\n",
       "      background-color: #3B4455;\n",
       "      fill: #D2E3FC;\n",
       "    }\n",
       "\n",
       "    [theme=dark] .colab-df-convert:hover {\n",
       "      background-color: #434B5C;\n",
       "      box-shadow: 0px 1px 3px 1px rgba(0, 0, 0, 0.15);\n",
       "      filter: drop-shadow(0px 1px 2px rgba(0, 0, 0, 0.3));\n",
       "      fill: #FFFFFF;\n",
       "    }\n",
       "  </style>\n",
       "\n",
       "    <script>\n",
       "      const buttonEl =\n",
       "        document.querySelector('#df-a339c2f1-e214-4442-b090-3f19096831d5 button.colab-df-convert');\n",
       "      buttonEl.style.display =\n",
       "        google.colab.kernel.accessAllowed ? 'block' : 'none';\n",
       "\n",
       "      async function convertToInteractive(key) {\n",
       "        const element = document.querySelector('#df-a339c2f1-e214-4442-b090-3f19096831d5');\n",
       "        const dataTable =\n",
       "          await google.colab.kernel.invokeFunction('convertToInteractive',\n",
       "                                                    [key], {});\n",
       "        if (!dataTable) return;\n",
       "\n",
       "        const docLinkHtml = 'Like what you see? Visit the ' +\n",
       "          '<a target=\"_blank\" href=https://colab.research.google.com/notebooks/data_table.ipynb>data table notebook</a>'\n",
       "          + ' to learn more about interactive tables.';\n",
       "        element.innerHTML = '';\n",
       "        dataTable['output_type'] = 'display_data';\n",
       "        await google.colab.output.renderOutput(dataTable, element);\n",
       "        const docLink = document.createElement('div');\n",
       "        docLink.innerHTML = docLinkHtml;\n",
       "        element.appendChild(docLink);\n",
       "      }\n",
       "    </script>\n",
       "  </div>\n",
       "\n",
       "\n",
       "    <div id=\"df-e6b41324-618e-46ad-adc5-c4c583ec64db\">\n",
       "      <button class=\"colab-df-quickchart\" onclick=\"quickchart('df-e6b41324-618e-46ad-adc5-c4c583ec64db')\"\n",
       "                title=\"Suggest charts\"\n",
       "                style=\"display:none;\">\n",
       "\n",
       "<svg xmlns=\"http://www.w3.org/2000/svg\" height=\"24px\"viewBox=\"0 0 24 24\"\n",
       "     width=\"24px\">\n",
       "    <g>\n",
       "        <path d=\"M19 3H5c-1.1 0-2 .9-2 2v14c0 1.1.9 2 2 2h14c1.1 0 2-.9 2-2V5c0-1.1-.9-2-2-2zM9 17H7v-7h2v7zm4 0h-2V7h2v10zm4 0h-2v-4h2v4z\"/>\n",
       "    </g>\n",
       "</svg>\n",
       "      </button>\n",
       "\n",
       "<style>\n",
       "  .colab-df-quickchart {\n",
       "      --bg-color: #E8F0FE;\n",
       "      --fill-color: #1967D2;\n",
       "      --hover-bg-color: #E2EBFA;\n",
       "      --hover-fill-color: #174EA6;\n",
       "      --disabled-fill-color: #AAA;\n",
       "      --disabled-bg-color: #DDD;\n",
       "  }\n",
       "\n",
       "  [theme=dark] .colab-df-quickchart {\n",
       "      --bg-color: #3B4455;\n",
       "      --fill-color: #D2E3FC;\n",
       "      --hover-bg-color: #434B5C;\n",
       "      --hover-fill-color: #FFFFFF;\n",
       "      --disabled-bg-color: #3B4455;\n",
       "      --disabled-fill-color: #666;\n",
       "  }\n",
       "\n",
       "  .colab-df-quickchart {\n",
       "    background-color: var(--bg-color);\n",
       "    border: none;\n",
       "    border-radius: 50%;\n",
       "    cursor: pointer;\n",
       "    display: none;\n",
       "    fill: var(--fill-color);\n",
       "    height: 32px;\n",
       "    padding: 0;\n",
       "    width: 32px;\n",
       "  }\n",
       "\n",
       "  .colab-df-quickchart:hover {\n",
       "    background-color: var(--hover-bg-color);\n",
       "    box-shadow: 0 1px 2px rgba(60, 64, 67, 0.3), 0 1px 3px 1px rgba(60, 64, 67, 0.15);\n",
       "    fill: var(--button-hover-fill-color);\n",
       "  }\n",
       "\n",
       "  .colab-df-quickchart-complete:disabled,\n",
       "  .colab-df-quickchart-complete:disabled:hover {\n",
       "    background-color: var(--disabled-bg-color);\n",
       "    fill: var(--disabled-fill-color);\n",
       "    box-shadow: none;\n",
       "  }\n",
       "\n",
       "  .colab-df-spinner {\n",
       "    border: 2px solid var(--fill-color);\n",
       "    border-color: transparent;\n",
       "    border-bottom-color: var(--fill-color);\n",
       "    animation:\n",
       "      spin 1s steps(1) infinite;\n",
       "  }\n",
       "\n",
       "  @keyframes spin {\n",
       "    0% {\n",
       "      border-color: transparent;\n",
       "      border-bottom-color: var(--fill-color);\n",
       "      border-left-color: var(--fill-color);\n",
       "    }\n",
       "    20% {\n",
       "      border-color: transparent;\n",
       "      border-left-color: var(--fill-color);\n",
       "      border-top-color: var(--fill-color);\n",
       "    }\n",
       "    30% {\n",
       "      border-color: transparent;\n",
       "      border-left-color: var(--fill-color);\n",
       "      border-top-color: var(--fill-color);\n",
       "      border-right-color: var(--fill-color);\n",
       "    }\n",
       "    40% {\n",
       "      border-color: transparent;\n",
       "      border-right-color: var(--fill-color);\n",
       "      border-top-color: var(--fill-color);\n",
       "    }\n",
       "    60% {\n",
       "      border-color: transparent;\n",
       "      border-right-color: var(--fill-color);\n",
       "    }\n",
       "    80% {\n",
       "      border-color: transparent;\n",
       "      border-right-color: var(--fill-color);\n",
       "      border-bottom-color: var(--fill-color);\n",
       "    }\n",
       "    90% {\n",
       "      border-color: transparent;\n",
       "      border-bottom-color: var(--fill-color);\n",
       "    }\n",
       "  }\n",
       "</style>\n",
       "\n",
       "      <script>\n",
       "        async function quickchart(key) {\n",
       "          const quickchartButtonEl =\n",
       "            document.querySelector('#' + key + ' button');\n",
       "          quickchartButtonEl.disabled = true;  // To prevent multiple clicks.\n",
       "          quickchartButtonEl.classList.add('colab-df-spinner');\n",
       "          try {\n",
       "            const charts = await google.colab.kernel.invokeFunction(\n",
       "                'suggestCharts', [key], {});\n",
       "          } catch (error) {\n",
       "            console.error('Error during call to suggestCharts:', error);\n",
       "          }\n",
       "          quickchartButtonEl.classList.remove('colab-df-spinner');\n",
       "          quickchartButtonEl.classList.add('colab-df-quickchart-complete');\n",
       "        }\n",
       "        (() => {\n",
       "          let quickchartButtonEl =\n",
       "            document.querySelector('#df-e6b41324-618e-46ad-adc5-c4c583ec64db button');\n",
       "          quickchartButtonEl.style.display =\n",
       "            google.colab.kernel.accessAllowed ? 'block' : 'none';\n",
       "        })();\n",
       "      </script>\n",
       "    </div>\n",
       "\n",
       "    </div>\n",
       "  </div>\n"
      ],
      "text/plain": [
       "                                            Sponsors                    Type\n",
       "0                                    Ascend New York  nonprofit organization\n",
       "1  Association of Neighborhood and Housing Develo...  nonprofit organization\n",
       "2                                   BOC Capital Corp  nonprofit organization\n",
       "3                        BOC Development Corporation  nonprofit organization\n",
       "4                        BOC Women's Business Center  nonprofit organization"
      ]
     },
     "execution_count": 19,
     "metadata": {},
     "output_type": "execute_result"
    }
   ],
   "source": [
    "# Check dataframe that consists the (Sponsors, Type)\n",
    "unique_type_entries.head()"
   ]
  },
  {
   "cell_type": "code",
   "execution_count": 20,
   "metadata": {
    "colab": {
     "base_uri": "https://localhost:8080/",
     "height": 36
    },
    "executionInfo": {
     "elapsed": 22,
     "status": "ok",
     "timestamp": 1745788663798,
     "user": {
      "displayName": "Fengchun Fan",
      "userId": "16607154835906475343"
     },
     "user_tz": 420
    },
    "id": "HfXfEwWYrY0x",
    "outputId": "9e9f912f-34a9-4922-a8b0-16365f9ebf14"
   },
   "outputs": [
    {
     "data": {
      "application/vnd.google.colaboratory.intrinsic+json": {
       "type": "string"
      },
      "text/plain": [
       "'Lead B'"
      ]
     },
     "execution_count": 20,
     "metadata": {},
     "output_type": "execute_result"
    }
   ],
   "source": [
    "Target_corporation"
   ]
  },
  {
   "cell_type": "code",
   "execution_count": 21,
   "metadata": {
    "executionInfo": {
     "elapsed": 9,
     "status": "ok",
     "timestamp": 1745788665878,
     "user": {
      "displayName": "Fengchun Fan",
      "userId": "16607154835906475343"
     },
     "user_tz": 420
    },
    "id": "zDu6DVTLrY03"
   },
   "outputs": [],
   "source": [
    "# Add the target corporation into the df\n",
    "# Careful for repeated step\n",
    "new_row = pd.DataFrame([{\"Sponsors\": Target_corporation, \"Type\": Target_corporation}])\n",
    "unique_type_entries = pd.concat([unique_type_entries, new_row], ignore_index=True)"
   ]
  },
  {
   "cell_type": "code",
   "execution_count": 22,
   "metadata": {
    "colab": {
     "base_uri": "https://localhost:8080/"
    },
    "executionInfo": {
     "elapsed": 9,
     "status": "ok",
     "timestamp": 1745788666971,
     "user": {
      "displayName": "Fengchun Fan",
      "userId": "16607154835906475343"
     },
     "user_tz": 420
    },
    "id": "uQScNFVMrY03",
    "outputId": "5f9df05b-21bb-43ca-ca46-35dba035db3e"
   },
   "outputs": [
    {
     "data": {
      "text/plain": [
       "array(['nonprofit organization', 'financial', 'university', 'government',\n",
       "       'business', 'Lead B'], dtype=object)"
      ]
     },
     "execution_count": 22,
     "metadata": {},
     "output_type": "execute_result"
    }
   ],
   "source": [
    "# Check the total types consistent in the graph\n",
    "unique_type_entries[\"Type\"].unique()"
   ]
  },
  {
   "cell_type": "code",
   "execution_count": 23,
   "metadata": {
    "colab": {
     "base_uri": "https://localhost:8080/"
    },
    "executionInfo": {
     "elapsed": 683,
     "status": "ok",
     "timestamp": 1745788670157,
     "user": {
      "displayName": "Fengchun Fan",
      "userId": "16607154835906475343"
     },
     "user_tz": 420
    },
    "id": "vZkrOlDCrY03",
    "outputId": "63ebc1ac-9106-4dea-8e48-12ac4af09e69"
   },
   "outputs": [
    {
     "name": "stdout",
     "output_type": "stream",
     "text": [
      "Graph created with 85 nodes and 635 edges.\n"
     ]
    }
   ],
   "source": [
    "# Initialize an undirected graph\n",
    "Connection_Graph = nx.Graph()\n",
    "\n",
    "# Add edges from the filtered dataframe\n",
    "for _, row in df_result.iterrows():\n",
    "    # convert stringified tuples to python tuples\n",
    "    edge = row['Edge']\n",
    "    if isinstance(edge, str):\n",
    "      edge = ast.literal_eval(edge)\n",
    "    source, target = edge\n",
    "\n",
    "    # Determine the type per corporation\n",
    "    # For corporation with multiple types, consider only first one\n",
    "    # Get all types for source and target\n",
    "    source_types = unique_type_entries[unique_type_entries[\"Sponsors\"] == source][\"Type\"].tolist()\n",
    "    target_types = unique_type_entries[unique_type_entries[\"Sponsors\"] == target][\"Type\"].tolist()\n",
    "    source_type = source_types[0]\n",
    "    target_type = target_types[0]\n",
    "\n",
    "    # Add nodes with one type only\n",
    "    Connection_Graph.add_node(source, node_type=source_type)\n",
    "    Connection_Graph.add_node(target, node_type=target_type)\n",
    "\n",
    "    # Add the edge with \"connection_type\" as attribute\n",
    "    Connection_Graph.add_edge(source, target)\n",
    "\n",
    "# Optionally print some info\n",
    "print(f\"Graph created with {Connection_Graph.number_of_nodes()} nodes and {Connection_Graph.number_of_edges()} edges.\")"
   ]
  },
  {
   "cell_type": "code",
   "execution_count": 24,
   "metadata": {
    "colab": {
     "base_uri": "https://localhost:8080/"
    },
    "executionInfo": {
     "elapsed": 9,
     "status": "ok",
     "timestamp": 1745788672723,
     "user": {
      "displayName": "Fengchun Fan",
      "userId": "16607154835906475343"
     },
     "user_tz": 420
    },
    "id": "2RIeiQtdvKLp",
    "outputId": "76482825-c81b-46da-bd76-b8c2d7a6bd9c"
   },
   "outputs": [
    {
     "name": "stdout",
     "output_type": "stream",
     "text": [
      "Lead B: 84\n",
      "Data: 48\n",
      "Empire State Development: 45\n",
      "U.S. Small Business Administration: 44\n",
      "Hofstra University: 38\n",
      "NYS Assembly: 38\n",
      "JPMorgan Chase: 33\n",
      "Brooklyn Public Library: 33\n",
      "CITY University of New York: 32\n",
      "NYC Economic Development Corporation: 31\n"
     ]
    }
   ],
   "source": [
    "# Get degree\n",
    "# And save as (node, degree) tuples\n",
    "degree_list = list(Connection_Graph.degree())\n",
    "\n",
    "# Sort by degree descending\n",
    "sorted_degrees = sorted(degree_list, key=lambda x: x[1], reverse=True)\n",
    "\n",
    "# Display top 10 nodes by degree\n",
    "for node, degree in sorted_degrees[:10]:\n",
    "  print(f\"{node}: {degree}\")\n",
    "\n",
    "# Scale node size by degree (number of connections)\n",
    "degree_dict = dict(Connection_Graph.degree())\n",
    "node_sizes = [degree_dict[node] * 50 for node in Connection_Graph.nodes()]\n",
    "\n",
    "# We will only label the top 10 results\n",
    "top_10_nodes = [node for node, _ in sorted_degrees[:10]]\n",
    "labels = {node: node for node in top_10_nodes}"
   ]
  },
  {
   "cell_type": "code",
   "execution_count": null,
   "metadata": {
    "colab": {
     "base_uri": "https://localhost:8080/",
     "height": 1000,
     "output_embedded_package_id": "1tFLdFUH2RJscvNc4Ss_Oy7V48ID98BbN"
    },
    "executionInfo": {
     "elapsed": 22298,
     "status": "ok",
     "timestamp": 1745788729747,
     "user": {
      "displayName": "Fengchun Fan",
      "userId": "16607154835906475343"
     },
     "user_tz": 420
    },
    "id": "ly35tPG2rY09",
    "outputId": "3813a9fa-eb9b-41a2-fb11-d2f7763a068d"
   },
   "outputs": [],
   "source": [
    "# Assign colors to each node\n",
    "# This must match all types in the network\n",
    "type_to_color = {\n",
    "  \"financial\": \"blue\",\n",
    "  \"business\": \"red\",\n",
    "  \"nonprofit organization\": \"green\",\n",
    "  \"university\": \"purple\",\n",
    "  \"government\": \"orange\",\n",
    "  \"Lead B\": \"white\",\n",
    "}\n",
    "\n",
    "node_colors = []\n",
    "for node in Connection_Graph.nodes():\n",
    "  node_type = Connection_Graph.nodes[node].get(\"node_type\")\n",
    "  node_colors.append(type_to_color.get(node_type))\n",
    "\n",
    "# Create legend\n",
    "legend_patches = [mpatches.Patch(color=color, label=type_) for type_, color in type_to_color.items()]\n",
    "\n",
    "# Visualize large size image with high resolution\n",
    "plt.figure(figsize=(64, 64), dpi=300)\n",
    "\n",
    "# Adjust attributes and draw graph\n",
    "nx.draw_networkx(\n",
    "  Connection_Graph,\n",
    "  # Graph reproductivity\n",
    "  pos=pos,\n",
    "  # Adjust node size\n",
    "  node_size=node_sizes,\n",
    "  # Set node color\n",
    "  node_color=node_colors,\n",
    "  # Set edge color\n",
    "  edge_color=\"gray\",\n",
    "  # Display node labels\n",
    "  with_labels=False,\n",
    "  # Set edge width\n",
    "  width=2\n",
    ")\n",
    "# Add labels manually\n",
    "nx.draw_networkx_labels(Connection_Graph, pos, labels=labels, font_size=20, font_color='black')\n",
    "plt.legend(handles=legend_patches, loc='upper left', fontsize=50)\n",
    "plt.title(\"SNA Connection Graph\", fontsize=100)\n",
    "plt.show()"
   ]
  },
  {
   "cell_type": "markdown",
   "metadata": {
    "id": "tJ9u7UfG9gnn"
   },
   "source": [
    "### Display single corporation type"
   ]
  },
  {
   "cell_type": "code",
   "execution_count": null,
   "metadata": {
    "colab": {
     "base_uri": "https://localhost:8080/",
     "height": 206
    },
    "executionInfo": {
     "elapsed": 11,
     "status": "ok",
     "timestamp": 1745117158675,
     "user": {
      "displayName": "Fengchun Fan",
      "userId": "16607154835906475343"
     },
     "user_tz": 420
    },
    "id": "UB4sjI1o9iYL",
    "outputId": "3d00d451-59e6-4f8b-f973-f48e5372e152"
   },
   "outputs": [
    {
     "data": {
      "application/vnd.google.colaboratory.intrinsic+json": {
       "summary": "{\n  \"name\": \"unique_type_entries\",\n  \"rows\": 140,\n  \"fields\": [\n    {\n      \"column\": \"Sponsors\",\n      \"properties\": {\n        \"dtype\": \"string\",\n        \"num_unique_values\": 140,\n        \"samples\": [\n          \"Quarles & Brandy LLP\",\n          \"Grand Canyon University\",\n          \"Bank of America\"\n        ],\n        \"semantic_type\": \"\",\n        \"description\": \"\"\n      }\n    },\n    {\n      \"column\": \"Type\",\n      \"properties\": {\n        \"dtype\": \"category\",\n        \"num_unique_values\": 6,\n        \"samples\": [\n          \"private\",\n          \"npo\",\n          \"univ\"\n        ],\n        \"semantic_type\": \"\",\n        \"description\": \"\"\n      }\n    }\n  ]\n}",
       "type": "dataframe",
       "variable_name": "unique_type_entries"
      },
      "text/html": [
       "\n",
       "  <div id=\"df-2ee05b90-4bc6-485d-aa16-0dc85fe2128a\" class=\"colab-df-container\">\n",
       "    <div>\n",
       "<style scoped>\n",
       "    .dataframe tbody tr th:only-of-type {\n",
       "        vertical-align: middle;\n",
       "    }\n",
       "\n",
       "    .dataframe tbody tr th {\n",
       "        vertical-align: top;\n",
       "    }\n",
       "\n",
       "    .dataframe thead th {\n",
       "        text-align: right;\n",
       "    }\n",
       "</style>\n",
       "<table border=\"1\" class=\"dataframe\">\n",
       "  <thead>\n",
       "    <tr style=\"text-align: right;\">\n",
       "      <th></th>\n",
       "      <th>Sponsors</th>\n",
       "      <th>Type</th>\n",
       "    </tr>\n",
       "  </thead>\n",
       "  <tbody>\n",
       "    <tr>\n",
       "      <th>0</th>\n",
       "      <td>AAA</td>\n",
       "      <td>private</td>\n",
       "    </tr>\n",
       "    <tr>\n",
       "      <th>1</th>\n",
       "      <td>ADP</td>\n",
       "      <td>private</td>\n",
       "    </tr>\n",
       "    <tr>\n",
       "      <th>2</th>\n",
       "      <td>ANDALE Construction</td>\n",
       "      <td>private</td>\n",
       "    </tr>\n",
       "    <tr>\n",
       "      <th>3</th>\n",
       "      <td>APS Foundation</td>\n",
       "      <td>npo</td>\n",
       "    </tr>\n",
       "    <tr>\n",
       "      <th>4</th>\n",
       "      <td>AT&amp;T</td>\n",
       "      <td>private</td>\n",
       "    </tr>\n",
       "  </tbody>\n",
       "</table>\n",
       "</div>\n",
       "    <div class=\"colab-df-buttons\">\n",
       "\n",
       "  <div class=\"colab-df-container\">\n",
       "    <button class=\"colab-df-convert\" onclick=\"convertToInteractive('df-2ee05b90-4bc6-485d-aa16-0dc85fe2128a')\"\n",
       "            title=\"Convert this dataframe to an interactive table.\"\n",
       "            style=\"display:none;\">\n",
       "\n",
       "  <svg xmlns=\"http://www.w3.org/2000/svg\" height=\"24px\" viewBox=\"0 -960 960 960\">\n",
       "    <path d=\"M120-120v-720h720v720H120Zm60-500h600v-160H180v160Zm220 220h160v-160H400v160Zm0 220h160v-160H400v160ZM180-400h160v-160H180v160Zm440 0h160v-160H620v160ZM180-180h160v-160H180v160Zm440 0h160v-160H620v160Z\"/>\n",
       "  </svg>\n",
       "    </button>\n",
       "\n",
       "  <style>\n",
       "    .colab-df-container {\n",
       "      display:flex;\n",
       "      gap: 12px;\n",
       "    }\n",
       "\n",
       "    .colab-df-convert {\n",
       "      background-color: #E8F0FE;\n",
       "      border: none;\n",
       "      border-radius: 50%;\n",
       "      cursor: pointer;\n",
       "      display: none;\n",
       "      fill: #1967D2;\n",
       "      height: 32px;\n",
       "      padding: 0 0 0 0;\n",
       "      width: 32px;\n",
       "    }\n",
       "\n",
       "    .colab-df-convert:hover {\n",
       "      background-color: #E2EBFA;\n",
       "      box-shadow: 0px 1px 2px rgba(60, 64, 67, 0.3), 0px 1px 3px 1px rgba(60, 64, 67, 0.15);\n",
       "      fill: #174EA6;\n",
       "    }\n",
       "\n",
       "    .colab-df-buttons div {\n",
       "      margin-bottom: 4px;\n",
       "    }\n",
       "\n",
       "    [theme=dark] .colab-df-convert {\n",
       "      background-color: #3B4455;\n",
       "      fill: #D2E3FC;\n",
       "    }\n",
       "\n",
       "    [theme=dark] .colab-df-convert:hover {\n",
       "      background-color: #434B5C;\n",
       "      box-shadow: 0px 1px 3px 1px rgba(0, 0, 0, 0.15);\n",
       "      filter: drop-shadow(0px 1px 2px rgba(0, 0, 0, 0.3));\n",
       "      fill: #FFFFFF;\n",
       "    }\n",
       "  </style>\n",
       "\n",
       "    <script>\n",
       "      const buttonEl =\n",
       "        document.querySelector('#df-2ee05b90-4bc6-485d-aa16-0dc85fe2128a button.colab-df-convert');\n",
       "      buttonEl.style.display =\n",
       "        google.colab.kernel.accessAllowed ? 'block' : 'none';\n",
       "\n",
       "      async function convertToInteractive(key) {\n",
       "        const element = document.querySelector('#df-2ee05b90-4bc6-485d-aa16-0dc85fe2128a');\n",
       "        const dataTable =\n",
       "          await google.colab.kernel.invokeFunction('convertToInteractive',\n",
       "                                                    [key], {});\n",
       "        if (!dataTable) return;\n",
       "\n",
       "        const docLinkHtml = 'Like what you see? Visit the ' +\n",
       "          '<a target=\"_blank\" href=https://colab.research.google.com/notebooks/data_table.ipynb>data table notebook</a>'\n",
       "          + ' to learn more about interactive tables.';\n",
       "        element.innerHTML = '';\n",
       "        dataTable['output_type'] = 'display_data';\n",
       "        await google.colab.output.renderOutput(dataTable, element);\n",
       "        const docLink = document.createElement('div');\n",
       "        docLink.innerHTML = docLinkHtml;\n",
       "        element.appendChild(docLink);\n",
       "      }\n",
       "    </script>\n",
       "  </div>\n",
       "\n",
       "\n",
       "<div id=\"df-f78abb38-0af0-4532-9d36-0391e09bde47\">\n",
       "  <button class=\"colab-df-quickchart\" onclick=\"quickchart('df-f78abb38-0af0-4532-9d36-0391e09bde47')\"\n",
       "            title=\"Suggest charts\"\n",
       "            style=\"display:none;\">\n",
       "\n",
       "<svg xmlns=\"http://www.w3.org/2000/svg\" height=\"24px\"viewBox=\"0 0 24 24\"\n",
       "     width=\"24px\">\n",
       "    <g>\n",
       "        <path d=\"M19 3H5c-1.1 0-2 .9-2 2v14c0 1.1.9 2 2 2h14c1.1 0 2-.9 2-2V5c0-1.1-.9-2-2-2zM9 17H7v-7h2v7zm4 0h-2V7h2v10zm4 0h-2v-4h2v4z\"/>\n",
       "    </g>\n",
       "</svg>\n",
       "  </button>\n",
       "\n",
       "<style>\n",
       "  .colab-df-quickchart {\n",
       "      --bg-color: #E8F0FE;\n",
       "      --fill-color: #1967D2;\n",
       "      --hover-bg-color: #E2EBFA;\n",
       "      --hover-fill-color: #174EA6;\n",
       "      --disabled-fill-color: #AAA;\n",
       "      --disabled-bg-color: #DDD;\n",
       "  }\n",
       "\n",
       "  [theme=dark] .colab-df-quickchart {\n",
       "      --bg-color: #3B4455;\n",
       "      --fill-color: #D2E3FC;\n",
       "      --hover-bg-color: #434B5C;\n",
       "      --hover-fill-color: #FFFFFF;\n",
       "      --disabled-bg-color: #3B4455;\n",
       "      --disabled-fill-color: #666;\n",
       "  }\n",
       "\n",
       "  .colab-df-quickchart {\n",
       "    background-color: var(--bg-color);\n",
       "    border: none;\n",
       "    border-radius: 50%;\n",
       "    cursor: pointer;\n",
       "    display: none;\n",
       "    fill: var(--fill-color);\n",
       "    height: 32px;\n",
       "    padding: 0;\n",
       "    width: 32px;\n",
       "  }\n",
       "\n",
       "  .colab-df-quickchart:hover {\n",
       "    background-color: var(--hover-bg-color);\n",
       "    box-shadow: 0 1px 2px rgba(60, 64, 67, 0.3), 0 1px 3px 1px rgba(60, 64, 67, 0.15);\n",
       "    fill: var(--button-hover-fill-color);\n",
       "  }\n",
       "\n",
       "  .colab-df-quickchart-complete:disabled,\n",
       "  .colab-df-quickchart-complete:disabled:hover {\n",
       "    background-color: var(--disabled-bg-color);\n",
       "    fill: var(--disabled-fill-color);\n",
       "    box-shadow: none;\n",
       "  }\n",
       "\n",
       "  .colab-df-spinner {\n",
       "    border: 2px solid var(--fill-color);\n",
       "    border-color: transparent;\n",
       "    border-bottom-color: var(--fill-color);\n",
       "    animation:\n",
       "      spin 1s steps(1) infinite;\n",
       "  }\n",
       "\n",
       "  @keyframes spin {\n",
       "    0% {\n",
       "      border-color: transparent;\n",
       "      border-bottom-color: var(--fill-color);\n",
       "      border-left-color: var(--fill-color);\n",
       "    }\n",
       "    20% {\n",
       "      border-color: transparent;\n",
       "      border-left-color: var(--fill-color);\n",
       "      border-top-color: var(--fill-color);\n",
       "    }\n",
       "    30% {\n",
       "      border-color: transparent;\n",
       "      border-left-color: var(--fill-color);\n",
       "      border-top-color: var(--fill-color);\n",
       "      border-right-color: var(--fill-color);\n",
       "    }\n",
       "    40% {\n",
       "      border-color: transparent;\n",
       "      border-right-color: var(--fill-color);\n",
       "      border-top-color: var(--fill-color);\n",
       "    }\n",
       "    60% {\n",
       "      border-color: transparent;\n",
       "      border-right-color: var(--fill-color);\n",
       "    }\n",
       "    80% {\n",
       "      border-color: transparent;\n",
       "      border-right-color: var(--fill-color);\n",
       "      border-bottom-color: var(--fill-color);\n",
       "    }\n",
       "    90% {\n",
       "      border-color: transparent;\n",
       "      border-bottom-color: var(--fill-color);\n",
       "    }\n",
       "  }\n",
       "</style>\n",
       "\n",
       "  <script>\n",
       "    async function quickchart(key) {\n",
       "      const quickchartButtonEl =\n",
       "        document.querySelector('#' + key + ' button');\n",
       "      quickchartButtonEl.disabled = true;  // To prevent multiple clicks.\n",
       "      quickchartButtonEl.classList.add('colab-df-spinner');\n",
       "      try {\n",
       "        const charts = await google.colab.kernel.invokeFunction(\n",
       "            'suggestCharts', [key], {});\n",
       "      } catch (error) {\n",
       "        console.error('Error during call to suggestCharts:', error);\n",
       "      }\n",
       "      quickchartButtonEl.classList.remove('colab-df-spinner');\n",
       "      quickchartButtonEl.classList.add('colab-df-quickchart-complete');\n",
       "    }\n",
       "    (() => {\n",
       "      let quickchartButtonEl =\n",
       "        document.querySelector('#df-f78abb38-0af0-4532-9d36-0391e09bde47 button');\n",
       "      quickchartButtonEl.style.display =\n",
       "        google.colab.kernel.accessAllowed ? 'block' : 'none';\n",
       "    })();\n",
       "  </script>\n",
       "</div>\n",
       "\n",
       "    </div>\n",
       "  </div>\n"
      ],
      "text/plain": [
       "              Sponsors     Type\n",
       "0                  AAA  private\n",
       "1                  ADP  private\n",
       "2  ANDALE Construction  private\n",
       "3       APS Foundation      npo\n",
       "4                 AT&T  private"
      ]
     },
     "execution_count": 18,
     "metadata": {},
     "output_type": "execute_result"
    }
   ],
   "source": [
    "# Check dataframe that consists the (Sponsors, Type)\n",
    "unique_type_entries.head()"
   ]
  },
  {
   "cell_type": "code",
   "execution_count": null,
   "metadata": {
    "colab": {
     "base_uri": "https://localhost:8080/",
     "height": 36
    },
    "executionInfo": {
     "elapsed": 13,
     "status": "ok",
     "timestamp": 1745117163286,
     "user": {
      "displayName": "Fengchun Fan",
      "userId": "16607154835906475343"
     },
     "user_tz": 420
    },
    "id": "g1f9Qaifjvar",
    "outputId": "8c25c529-98af-48c5-d212-77e2a73356c0"
   },
   "outputs": [],
   "source": [
    "Target_corporation"
   ]
  },
  {
   "cell_type": "code",
   "execution_count": null,
   "metadata": {
    "id": "24v-iAv8059A"
   },
   "outputs": [],
   "source": [
    "# Add the target corporation into the df\n",
    "new_row = pd.DataFrame([{\"Sponsors\": Target_corporation, \"Type\": Target_corporation}])\n",
    "unique_type_entries = pd.concat([unique_type_entries, new_row], ignore_index=True)"
   ]
  },
  {
   "cell_type": "code",
   "execution_count": null,
   "metadata": {
    "colab": {
     "base_uri": "https://localhost:8080/"
    },
    "executionInfo": {
     "elapsed": 9,
     "status": "ok",
     "timestamp": 1745117189756,
     "user": {
      "displayName": "Fengchun Fan",
      "userId": "16607154835906475343"
     },
     "user_tz": 420
    },
    "id": "sRf_Ca_W9y-S",
    "outputId": "4ed97bca-799c-49fc-a150-d68930379105"
   },
   "outputs": [],
   "source": [
    "# Check the total types consistent in the graph\n",
    "unique_type_entries[\"Type\"].unique()"
   ]
  },
  {
   "cell_type": "code",
   "execution_count": null,
   "metadata": {
    "colab": {
     "base_uri": "https://localhost:8080/"
    },
    "executionInfo": {
     "elapsed": 1745,
     "status": "ok",
     "timestamp": 1745117199722,
     "user": {
      "displayName": "Fengchun Fan",
      "userId": "16607154835906475343"
     },
     "user_tz": 420
    },
    "id": "MCq9RYH59znG",
    "outputId": "87467a52-3132-4ee4-9259-1ee9f13ef03a"
   },
   "outputs": [
    {
     "name": "stdout",
     "output_type": "stream",
     "text": [
      "Graph created with 141 nodes and 1807 edges.\n"
     ]
    }
   ],
   "source": [
    "# Initialize an undirected graph\n",
    "Connection_Graph = nx.Graph()\n",
    "\n",
    "# Add edges from the filtered dataframe\n",
    "for _, row in df_result.iterrows():\n",
    "    # convert stringified tuples to python tuples\n",
    "    edge = row['Edge']\n",
    "    if isinstance(edge, str):\n",
    "      edge = ast.literal_eval(edge)\n",
    "    source, target = edge\n",
    "\n",
    "    # Determine the type per corporation\n",
    "    # For corporation with multiple types, consider only first one\n",
    "    # Get all types for source and target\n",
    "    source_types = unique_type_entries[unique_type_entries[\"Sponsors\"] == source][\"Type\"].tolist()\n",
    "    target_types = unique_type_entries[unique_type_entries[\"Sponsors\"] == target][\"Type\"].tolist()\n",
    "    source_type = source_types[0]\n",
    "    target_type = target_types[0]\n",
    "\n",
    "    # Add nodes with one type only\n",
    "    Connection_Graph.add_node(source, node_type=source_type)\n",
    "    Connection_Graph.add_node(target, node_type=target_type)\n",
    "\n",
    "    # Add the edge with \"connection_type\" as attribute\n",
    "    Connection_Graph.add_edge(source, target)\n",
    "\n",
    "# Optionally print some info\n",
    "print(f\"Graph created with {Connection_Graph.number_of_nodes()} nodes and {Connection_Graph.number_of_edges()} edges.\")"
   ]
  },
  {
   "cell_type": "code",
   "execution_count": null,
   "metadata": {
    "colab": {
     "base_uri": "https://localhost:8080/",
     "height": 1000,
     "output_embedded_package_id": "1g_SJLKSsVJbLga3JzqeUngwGZSWE_o2G"
    },
    "executionInfo": {
     "elapsed": 25462,
     "status": "ok",
     "timestamp": 1745117357116,
     "user": {
      "displayName": "Fengchun Fan",
      "userId": "16607154835906475343"
     },
     "user_tz": 420
    },
    "id": "he6pOlHX-wl5",
    "outputId": "1b1cccb3-b2f4-48a2-c60f-83c3ed05aaa0"
   },
   "outputs": [
    {
     "data": {
      "text/plain": [
       "Output hidden; open in https://colab.research.google.com to view."
      ]
     },
     "metadata": {},
     "output_type": "display_data"
    }
   ],
   "source": [
    "# Assign colors to each node\n",
    "# This must match all types in the network\n",
    "type_to_color = {\n",
    "  \"financial\": \"blue\",\n",
    "  \"private\": \"red\",\n",
    "  \"npo\": \"green\",\n",
    "  \"med\": \"cyan\",\n",
    "  \"univ\": \"purple\",\n",
    "  \"gov\": \"orange\",\n",
    "  \"AZ HCC\": \"black\",\n",
    "}\n",
    "\n",
    "node_colors = []\n",
    "for node in Connection_Graph.nodes():\n",
    "  node_type = Connection_Graph.nodes[node].get(\"node_type\")\n",
    "  node_colors.append(type_to_color.get(node_type))\n",
    "\n",
    "# Create legend\n",
    "legend_patches = [mpatches.Patch(color=color, label=type_) for type_, color in type_to_color.items()]\n",
    "\n",
    "# Visualize large size image with high resolution\n",
    "plt.figure(figsize=(64, 64), dpi=300)\n",
    "\n",
    "# Adjust attributes and draw graph\n",
    "nx.draw_networkx(\n",
    "  Connection_Graph,\n",
    "  # Graph reproductivity\n",
    "  pos=pos,\n",
    "  # Adjust node size\n",
    "  node_size=800,\n",
    "  # Set node color\n",
    "  node_color=node_colors,\n",
    "  # Set edge color\n",
    "  edge_color=\"gray\",\n",
    "  # Display node labels\n",
    "  with_labels=False,\n",
    "  # Set edge width\n",
    "  width=2\n",
    ")\n",
    "plt.legend(handles=legend_patches, loc='upper left', fontsize=50)\n",
    "plt.title(\"SNA Connection Graph\", fontsize=100)\n",
    "plt.show()"
   ]
  },
  {
   "cell_type": "markdown",
   "metadata": {
    "id": "B3x4iU4W9aem"
   },
   "source": [
    "### Display full corporation type"
   ]
  },
  {
   "cell_type": "code",
   "execution_count": null,
   "metadata": {
    "colab": {
     "base_uri": "https://localhost:8080/",
     "height": 206
    },
    "executionInfo": {
     "elapsed": 16,
     "status": "ok",
     "timestamp": 1745190002647,
     "user": {
      "displayName": "Fengchun Fan",
      "userId": "16607154835906475343"
     },
     "user_tz": 420
    },
    "id": "sAp3-AoWVzJn",
    "outputId": "0394f81d-c470-4bfe-8db7-8705f39aeecd"
   },
   "outputs": [
    {
     "data": {
      "application/vnd.google.colaboratory.intrinsic+json": {
       "summary": "{\n  \"name\": \"unique_type_entries\",\n  \"rows\": 59,\n  \"fields\": [\n    {\n      \"column\": \"Sponsors\",\n      \"properties\": {\n        \"dtype\": \"string\",\n        \"num_unique_values\": 59,\n        \"samples\": [\n          \"A.T. Kearney\",\n          \"Amazon\",\n          \"Norris McLaughlin\"\n        ],\n        \"semantic_type\": \"\",\n        \"description\": \"\"\n      }\n    },\n    {\n      \"column\": \"Type\",\n      \"properties\": {\n        \"dtype\": \"category\",\n        \"num_unique_values\": 6,\n        \"samples\": [\n          \"private\",\n          \"npo\",\n          \"univ\"\n        ],\n        \"semantic_type\": \"\",\n        \"description\": \"\"\n      }\n    }\n  ]\n}",
       "type": "dataframe",
       "variable_name": "unique_type_entries"
      },
      "text/html": [
       "\n",
       "  <div id=\"df-b459edce-76ba-45ad-adec-3e25dec25f95\" class=\"colab-df-container\">\n",
       "    <div>\n",
       "<style scoped>\n",
       "    .dataframe tbody tr th:only-of-type {\n",
       "        vertical-align: middle;\n",
       "    }\n",
       "\n",
       "    .dataframe tbody tr th {\n",
       "        vertical-align: top;\n",
       "    }\n",
       "\n",
       "    .dataframe thead th {\n",
       "        text-align: right;\n",
       "    }\n",
       "</style>\n",
       "<table border=\"1\" class=\"dataframe\">\n",
       "  <thead>\n",
       "    <tr style=\"text-align: right;\">\n",
       "      <th></th>\n",
       "      <th>Sponsors</th>\n",
       "      <th>Type</th>\n",
       "    </tr>\n",
       "  </thead>\n",
       "  <tbody>\n",
       "    <tr>\n",
       "      <th>0</th>\n",
       "      <td>A.T. Kearney</td>\n",
       "      <td>private</td>\n",
       "    </tr>\n",
       "    <tr>\n",
       "      <th>1</th>\n",
       "      <td>AK Consulting</td>\n",
       "      <td>private</td>\n",
       "    </tr>\n",
       "    <tr>\n",
       "      <th>2</th>\n",
       "      <td>AMD Pensando Systems</td>\n",
       "      <td>private</td>\n",
       "    </tr>\n",
       "    <tr>\n",
       "      <th>3</th>\n",
       "      <td>AT&amp;T</td>\n",
       "      <td>private</td>\n",
       "    </tr>\n",
       "    <tr>\n",
       "      <th>4</th>\n",
       "      <td>African American Chamber of Commerce of New Je...</td>\n",
       "      <td>npo</td>\n",
       "    </tr>\n",
       "  </tbody>\n",
       "</table>\n",
       "</div>\n",
       "    <div class=\"colab-df-buttons\">\n",
       "\n",
       "  <div class=\"colab-df-container\">\n",
       "    <button class=\"colab-df-convert\" onclick=\"convertToInteractive('df-b459edce-76ba-45ad-adec-3e25dec25f95')\"\n",
       "            title=\"Convert this dataframe to an interactive table.\"\n",
       "            style=\"display:none;\">\n",
       "\n",
       "  <svg xmlns=\"http://www.w3.org/2000/svg\" height=\"24px\" viewBox=\"0 -960 960 960\">\n",
       "    <path d=\"M120-120v-720h720v720H120Zm60-500h600v-160H180v160Zm220 220h160v-160H400v160Zm0 220h160v-160H400v160ZM180-400h160v-160H180v160Zm440 0h160v-160H620v160ZM180-180h160v-160H180v160Zm440 0h160v-160H620v160Z\"/>\n",
       "  </svg>\n",
       "    </button>\n",
       "\n",
       "  <style>\n",
       "    .colab-df-container {\n",
       "      display:flex;\n",
       "      gap: 12px;\n",
       "    }\n",
       "\n",
       "    .colab-df-convert {\n",
       "      background-color: #E8F0FE;\n",
       "      border: none;\n",
       "      border-radius: 50%;\n",
       "      cursor: pointer;\n",
       "      display: none;\n",
       "      fill: #1967D2;\n",
       "      height: 32px;\n",
       "      padding: 0 0 0 0;\n",
       "      width: 32px;\n",
       "    }\n",
       "\n",
       "    .colab-df-convert:hover {\n",
       "      background-color: #E2EBFA;\n",
       "      box-shadow: 0px 1px 2px rgba(60, 64, 67, 0.3), 0px 1px 3px 1px rgba(60, 64, 67, 0.15);\n",
       "      fill: #174EA6;\n",
       "    }\n",
       "\n",
       "    .colab-df-buttons div {\n",
       "      margin-bottom: 4px;\n",
       "    }\n",
       "\n",
       "    [theme=dark] .colab-df-convert {\n",
       "      background-color: #3B4455;\n",
       "      fill: #D2E3FC;\n",
       "    }\n",
       "\n",
       "    [theme=dark] .colab-df-convert:hover {\n",
       "      background-color: #434B5C;\n",
       "      box-shadow: 0px 1px 3px 1px rgba(0, 0, 0, 0.15);\n",
       "      filter: drop-shadow(0px 1px 2px rgba(0, 0, 0, 0.3));\n",
       "      fill: #FFFFFF;\n",
       "    }\n",
       "  </style>\n",
       "\n",
       "    <script>\n",
       "      const buttonEl =\n",
       "        document.querySelector('#df-b459edce-76ba-45ad-adec-3e25dec25f95 button.colab-df-convert');\n",
       "      buttonEl.style.display =\n",
       "        google.colab.kernel.accessAllowed ? 'block' : 'none';\n",
       "\n",
       "      async function convertToInteractive(key) {\n",
       "        const element = document.querySelector('#df-b459edce-76ba-45ad-adec-3e25dec25f95');\n",
       "        const dataTable =\n",
       "          await google.colab.kernel.invokeFunction('convertToInteractive',\n",
       "                                                    [key], {});\n",
       "        if (!dataTable) return;\n",
       "\n",
       "        const docLinkHtml = 'Like what you see? Visit the ' +\n",
       "          '<a target=\"_blank\" href=https://colab.research.google.com/notebooks/data_table.ipynb>data table notebook</a>'\n",
       "          + ' to learn more about interactive tables.';\n",
       "        element.innerHTML = '';\n",
       "        dataTable['output_type'] = 'display_data';\n",
       "        await google.colab.output.renderOutput(dataTable, element);\n",
       "        const docLink = document.createElement('div');\n",
       "        docLink.innerHTML = docLinkHtml;\n",
       "        element.appendChild(docLink);\n",
       "      }\n",
       "    </script>\n",
       "  </div>\n",
       "\n",
       "\n",
       "<div id=\"df-1fefe95f-0515-4647-861e-9ec18ed68806\">\n",
       "  <button class=\"colab-df-quickchart\" onclick=\"quickchart('df-1fefe95f-0515-4647-861e-9ec18ed68806')\"\n",
       "            title=\"Suggest charts\"\n",
       "            style=\"display:none;\">\n",
       "\n",
       "<svg xmlns=\"http://www.w3.org/2000/svg\" height=\"24px\"viewBox=\"0 0 24 24\"\n",
       "     width=\"24px\">\n",
       "    <g>\n",
       "        <path d=\"M19 3H5c-1.1 0-2 .9-2 2v14c0 1.1.9 2 2 2h14c1.1 0 2-.9 2-2V5c0-1.1-.9-2-2-2zM9 17H7v-7h2v7zm4 0h-2V7h2v10zm4 0h-2v-4h2v4z\"/>\n",
       "    </g>\n",
       "</svg>\n",
       "  </button>\n",
       "\n",
       "<style>\n",
       "  .colab-df-quickchart {\n",
       "      --bg-color: #E8F0FE;\n",
       "      --fill-color: #1967D2;\n",
       "      --hover-bg-color: #E2EBFA;\n",
       "      --hover-fill-color: #174EA6;\n",
       "      --disabled-fill-color: #AAA;\n",
       "      --disabled-bg-color: #DDD;\n",
       "  }\n",
       "\n",
       "  [theme=dark] .colab-df-quickchart {\n",
       "      --bg-color: #3B4455;\n",
       "      --fill-color: #D2E3FC;\n",
       "      --hover-bg-color: #434B5C;\n",
       "      --hover-fill-color: #FFFFFF;\n",
       "      --disabled-bg-color: #3B4455;\n",
       "      --disabled-fill-color: #666;\n",
       "  }\n",
       "\n",
       "  .colab-df-quickchart {\n",
       "    background-color: var(--bg-color);\n",
       "    border: none;\n",
       "    border-radius: 50%;\n",
       "    cursor: pointer;\n",
       "    display: none;\n",
       "    fill: var(--fill-color);\n",
       "    height: 32px;\n",
       "    padding: 0;\n",
       "    width: 32px;\n",
       "  }\n",
       "\n",
       "  .colab-df-quickchart:hover {\n",
       "    background-color: var(--hover-bg-color);\n",
       "    box-shadow: 0 1px 2px rgba(60, 64, 67, 0.3), 0 1px 3px 1px rgba(60, 64, 67, 0.15);\n",
       "    fill: var(--button-hover-fill-color);\n",
       "  }\n",
       "\n",
       "  .colab-df-quickchart-complete:disabled,\n",
       "  .colab-df-quickchart-complete:disabled:hover {\n",
       "    background-color: var(--disabled-bg-color);\n",
       "    fill: var(--disabled-fill-color);\n",
       "    box-shadow: none;\n",
       "  }\n",
       "\n",
       "  .colab-df-spinner {\n",
       "    border: 2px solid var(--fill-color);\n",
       "    border-color: transparent;\n",
       "    border-bottom-color: var(--fill-color);\n",
       "    animation:\n",
       "      spin 1s steps(1) infinite;\n",
       "  }\n",
       "\n",
       "  @keyframes spin {\n",
       "    0% {\n",
       "      border-color: transparent;\n",
       "      border-bottom-color: var(--fill-color);\n",
       "      border-left-color: var(--fill-color);\n",
       "    }\n",
       "    20% {\n",
       "      border-color: transparent;\n",
       "      border-left-color: var(--fill-color);\n",
       "      border-top-color: var(--fill-color);\n",
       "    }\n",
       "    30% {\n",
       "      border-color: transparent;\n",
       "      border-left-color: var(--fill-color);\n",
       "      border-top-color: var(--fill-color);\n",
       "      border-right-color: var(--fill-color);\n",
       "    }\n",
       "    40% {\n",
       "      border-color: transparent;\n",
       "      border-right-color: var(--fill-color);\n",
       "      border-top-color: var(--fill-color);\n",
       "    }\n",
       "    60% {\n",
       "      border-color: transparent;\n",
       "      border-right-color: var(--fill-color);\n",
       "    }\n",
       "    80% {\n",
       "      border-color: transparent;\n",
       "      border-right-color: var(--fill-color);\n",
       "      border-bottom-color: var(--fill-color);\n",
       "    }\n",
       "    90% {\n",
       "      border-color: transparent;\n",
       "      border-bottom-color: var(--fill-color);\n",
       "    }\n",
       "  }\n",
       "</style>\n",
       "\n",
       "  <script>\n",
       "    async function quickchart(key) {\n",
       "      const quickchartButtonEl =\n",
       "        document.querySelector('#' + key + ' button');\n",
       "      quickchartButtonEl.disabled = true;  // To prevent multiple clicks.\n",
       "      quickchartButtonEl.classList.add('colab-df-spinner');\n",
       "      try {\n",
       "        const charts = await google.colab.kernel.invokeFunction(\n",
       "            'suggestCharts', [key], {});\n",
       "      } catch (error) {\n",
       "        console.error('Error during call to suggestCharts:', error);\n",
       "      }\n",
       "      quickchartButtonEl.classList.remove('colab-df-spinner');\n",
       "      quickchartButtonEl.classList.add('colab-df-quickchart-complete');\n",
       "    }\n",
       "    (() => {\n",
       "      let quickchartButtonEl =\n",
       "        document.querySelector('#df-1fefe95f-0515-4647-861e-9ec18ed68806 button');\n",
       "      quickchartButtonEl.style.display =\n",
       "        google.colab.kernel.accessAllowed ? 'block' : 'none';\n",
       "    })();\n",
       "  </script>\n",
       "</div>\n",
       "\n",
       "    </div>\n",
       "  </div>\n"
      ],
      "text/plain": [
       "                                            Sponsors     Type\n",
       "0                                       A.T. Kearney  private\n",
       "1                                      AK Consulting  private\n",
       "2                               AMD Pensando Systems  private\n",
       "3                                               AT&T  private\n",
       "4  African American Chamber of Commerce of New Je...      npo"
      ]
     },
     "execution_count": 127,
     "metadata": {},
     "output_type": "execute_result"
    }
   ],
   "source": [
    "# Check dataframe that consists the (Sponsors, Type)\n",
    "unique_type_entries.head()"
   ]
  },
  {
   "cell_type": "code",
   "execution_count": null,
   "metadata": {
    "colab": {
     "base_uri": "https://localhost:8080/"
    },
    "executionInfo": {
     "elapsed": 12,
     "status": "ok",
     "timestamp": 1745190005596,
     "user": {
      "displayName": "Fengchun Fan",
      "userId": "16607154835906475343"
     },
     "user_tz": 420
    },
    "id": "IFU1_FuzW_qJ",
    "outputId": "d4e71d3a-c026-47ff-a932-cfa2def1b5ed"
   },
   "outputs": [],
   "source": [
    "# Check the total types consistent in the graph\n",
    "unique_type_entries[\"Type\"].unique()"
   ]
  },
  {
   "cell_type": "code",
   "execution_count": null,
   "metadata": {
    "colab": {
     "base_uri": "https://localhost:8080/"
    },
    "executionInfo": {
     "elapsed": 2853,
     "status": "ok",
     "timestamp": 1744443759159,
     "user": {
      "displayName": "Fengchun Fan",
      "userId": "16607154835906475343"
     },
     "user_tz": 420
    },
    "id": "sxobNRhESGWL",
    "outputId": "1810c14e-1c13-49c1-bf8a-25ff33a15f7d"
   },
   "outputs": [
    {
     "name": "stdout",
     "output_type": "stream",
     "text": [
      "Graph created with 289 nodes and 2960 edges.\n"
     ]
    }
   ],
   "source": [
    "# Set of all unique (sponsor, type) pairs as nodes\n",
    "nodes = set()\n",
    "# List of edges\n",
    "edges = []\n",
    "\n",
    "for _, row in df_result.iterrows():\n",
    "    edge = row['Edge']\n",
    "    if isinstance(edge, str):\n",
    "        edge = ast.literal_eval(edge)\n",
    "    source, target = edge\n",
    "\n",
    "    # Get all types for source and target\n",
    "    source_types = unique_type_entries[unique_type_entries[\"Sponsors\"] == source][\"Type\"].tolist()\n",
    "    target_types = unique_type_entries[unique_type_entries[\"Sponsors\"] == target][\"Type\"].tolist()\n",
    "\n",
    "    # Create all combinations of (source_type, target_type)\n",
    "    for s_type in source_types:\n",
    "      for t_type in target_types:\n",
    "        source_node = f\"{source} ({s_type})\"\n",
    "        target_node = f\"{target} ({t_type})\"\n",
    "\n",
    "        # Track the node and the edge\n",
    "        nodes.add((source_node, s_type))\n",
    "        nodes.add((target_node, t_type))\n",
    "        edges.append((source_node, target_node))\n",
    "\n",
    "# Create new graph\n",
    "Connection_Graph = nx.Graph()\n",
    "\n",
    "# Add nodes with node_type attribute\n",
    "for node_name, node_type in nodes:\n",
    "  Connection_Graph.add_node(node_name, node_type=node_type)\n",
    "\n",
    "# Add expanded edges\n",
    "for source_node, target_node in edges:\n",
    "  Connection_Graph.add_edge(source_node, target_node)\n",
    "\n",
    "# Optionally print some info\n",
    "print(f\"Graph created with {Connection_Graph.number_of_nodes()} nodes and {Connection_Graph.number_of_edges()} edges.\")"
   ]
  },
  {
   "cell_type": "code",
   "execution_count": null,
   "metadata": {
    "colab": {
     "base_uri": "https://localhost:8080/",
     "height": 1000
    },
    "executionInfo": {
     "elapsed": 11675,
     "status": "error",
     "timestamp": 1744443818171,
     "user": {
      "displayName": "Fengchun Fan",
      "userId": "16607154835906475343"
     },
     "user_tz": 420
    },
    "id": "B1GIPxKosYY3",
    "outputId": "f0f88359-95a7-42b5-b955-92fc4524604a"
   },
   "outputs": [],
   "source": [
    "# Assign colors to each node\n",
    "type_to_color = {\n",
    "  \"financial\": \"blue\",\n",
    "  \"business\": \"red\",\n",
    "  \"npo\": \"green\",\n",
    "  \"medical\": \"cyan\",\n",
    "  \"univ\": \"purple\",\n",
    "  \"gov\": \"orange\",\n",
    "  \"individual\": \"yellow\",\n",
    "}\n",
    "\n",
    "node_colors = []\n",
    "for node in Connection_Graph.nodes():\n",
    "  node_type = Connection_Graph.nodes[node].get(\"node_type\")\n",
    "  node_colors.append(type_to_color.get(node_type))\n",
    "\n",
    "# Create legend\n",
    "legend_patches = [mpatches.Patch(color=color, label=type_) for type_, color in type_to_color.items()]\n",
    "\n",
    "# Visualize large size image with high resolution\n",
    "plt.figure(figsize=(64, 64), dpi=300)\n",
    "\n",
    "# Adjust attributes and draw graph\n",
    "nx.draw_networkx(\n",
    "  Connection_Graph,\n",
    "  # Adjust node size\n",
    "  node_size=800,\n",
    "  # Set node color\n",
    "  node_color=node_colors,\n",
    "  # Set edge color\n",
    "  edge_color=\"gray\",\n",
    "  # Display node labels\n",
    "  with_labels=False,\n",
    "  # Set edge width\n",
    "  width=2\n",
    ")\n",
    "plt.legend(handles=legend_patches, loc='upper left', fontsize=50)\n",
    "plt.title(\"SNA Connection Graph\", fontsize=100)\n",
    "plt.show()"
   ]
  },
  {
   "cell_type": "markdown",
   "metadata": {
    "id": "qeyfrLvl8Zqr"
   },
   "source": [
    "## Simplified graph (only corporate types as node)"
   ]
  },
  {
   "cell_type": "code",
   "execution_count": 26,
   "metadata": {
    "colab": {
     "base_uri": "https://localhost:8080/",
     "height": 206
    },
    "executionInfo": {
     "elapsed": 48,
     "status": "ok",
     "timestamp": 1745788786972,
     "user": {
      "displayName": "Fengchun Fan",
      "userId": "16607154835906475343"
     },
     "user_tz": 420
    },
    "id": "ABr2PH5qB9h7",
    "outputId": "265fbc0a-2c46-455f-c2b2-a710a951de0c"
   },
   "outputs": [
    {
     "data": {
      "application/vnd.google.colaboratory.intrinsic+json": {
       "summary": "{\n  \"name\": \"unique_type_entries\",\n  \"rows\": 5,\n  \"fields\": [\n    {\n      \"column\": \"Sponsors\",\n      \"properties\": {\n        \"dtype\": \"string\",\n        \"num_unique_values\": 5,\n        \"samples\": [\n          \"Whistler Capital Partners\",\n          \"Lead B\",\n          \"Women's Enterprise Development Center\"\n        ],\n        \"semantic_type\": \"\",\n        \"description\": \"\"\n      }\n    },\n    {\n      \"column\": \"Type\",\n      \"properties\": {\n        \"dtype\": \"string\",\n        \"num_unique_values\": 3,\n        \"samples\": [\n          \"nonprofit organization\",\n          \"business\",\n          \"Lead B\"\n        ],\n        \"semantic_type\": \"\",\n        \"description\": \"\"\n      }\n    }\n  ]\n}",
       "type": "dataframe"
      },
      "text/html": [
       "\n",
       "  <div id=\"df-86bf2cb6-48a9-4846-b4c5-8c8197665da5\" class=\"colab-df-container\">\n",
       "    <div>\n",
       "<style scoped>\n",
       "    .dataframe tbody tr th:only-of-type {\n",
       "        vertical-align: middle;\n",
       "    }\n",
       "\n",
       "    .dataframe tbody tr th {\n",
       "        vertical-align: top;\n",
       "    }\n",
       "\n",
       "    .dataframe thead th {\n",
       "        text-align: right;\n",
       "    }\n",
       "</style>\n",
       "<table border=\"1\" class=\"dataframe\">\n",
       "  <thead>\n",
       "    <tr style=\"text-align: right;\">\n",
       "      <th></th>\n",
       "      <th>Sponsors</th>\n",
       "      <th>Type</th>\n",
       "    </tr>\n",
       "  </thead>\n",
       "  <tbody>\n",
       "    <tr>\n",
       "      <th>80</th>\n",
       "      <td>West Brighton Community LDC</td>\n",
       "      <td>nonprofit organization</td>\n",
       "    </tr>\n",
       "    <tr>\n",
       "      <th>81</th>\n",
       "      <td>Whistler Capital Partners</td>\n",
       "      <td>business</td>\n",
       "    </tr>\n",
       "    <tr>\n",
       "      <th>82</th>\n",
       "      <td>Women's Enterprise Development Center</td>\n",
       "      <td>nonprofit organization</td>\n",
       "    </tr>\n",
       "    <tr>\n",
       "      <th>83</th>\n",
       "      <td>YMCA of Brooklyn</td>\n",
       "      <td>nonprofit organization</td>\n",
       "    </tr>\n",
       "    <tr>\n",
       "      <th>84</th>\n",
       "      <td>Lead B</td>\n",
       "      <td>Lead B</td>\n",
       "    </tr>\n",
       "  </tbody>\n",
       "</table>\n",
       "</div>\n",
       "    <div class=\"colab-df-buttons\">\n",
       "\n",
       "  <div class=\"colab-df-container\">\n",
       "    <button class=\"colab-df-convert\" onclick=\"convertToInteractive('df-86bf2cb6-48a9-4846-b4c5-8c8197665da5')\"\n",
       "            title=\"Convert this dataframe to an interactive table.\"\n",
       "            style=\"display:none;\">\n",
       "\n",
       "  <svg xmlns=\"http://www.w3.org/2000/svg\" height=\"24px\" viewBox=\"0 -960 960 960\">\n",
       "    <path d=\"M120-120v-720h720v720H120Zm60-500h600v-160H180v160Zm220 220h160v-160H400v160Zm0 220h160v-160H400v160ZM180-400h160v-160H180v160Zm440 0h160v-160H620v160ZM180-180h160v-160H180v160Zm440 0h160v-160H620v160Z\"/>\n",
       "  </svg>\n",
       "    </button>\n",
       "\n",
       "  <style>\n",
       "    .colab-df-container {\n",
       "      display:flex;\n",
       "      gap: 12px;\n",
       "    }\n",
       "\n",
       "    .colab-df-convert {\n",
       "      background-color: #E8F0FE;\n",
       "      border: none;\n",
       "      border-radius: 50%;\n",
       "      cursor: pointer;\n",
       "      display: none;\n",
       "      fill: #1967D2;\n",
       "      height: 32px;\n",
       "      padding: 0 0 0 0;\n",
       "      width: 32px;\n",
       "    }\n",
       "\n",
       "    .colab-df-convert:hover {\n",
       "      background-color: #E2EBFA;\n",
       "      box-shadow: 0px 1px 2px rgba(60, 64, 67, 0.3), 0px 1px 3px 1px rgba(60, 64, 67, 0.15);\n",
       "      fill: #174EA6;\n",
       "    }\n",
       "\n",
       "    .colab-df-buttons div {\n",
       "      margin-bottom: 4px;\n",
       "    }\n",
       "\n",
       "    [theme=dark] .colab-df-convert {\n",
       "      background-color: #3B4455;\n",
       "      fill: #D2E3FC;\n",
       "    }\n",
       "\n",
       "    [theme=dark] .colab-df-convert:hover {\n",
       "      background-color: #434B5C;\n",
       "      box-shadow: 0px 1px 3px 1px rgba(0, 0, 0, 0.15);\n",
       "      filter: drop-shadow(0px 1px 2px rgba(0, 0, 0, 0.3));\n",
       "      fill: #FFFFFF;\n",
       "    }\n",
       "  </style>\n",
       "\n",
       "    <script>\n",
       "      const buttonEl =\n",
       "        document.querySelector('#df-86bf2cb6-48a9-4846-b4c5-8c8197665da5 button.colab-df-convert');\n",
       "      buttonEl.style.display =\n",
       "        google.colab.kernel.accessAllowed ? 'block' : 'none';\n",
       "\n",
       "      async function convertToInteractive(key) {\n",
       "        const element = document.querySelector('#df-86bf2cb6-48a9-4846-b4c5-8c8197665da5');\n",
       "        const dataTable =\n",
       "          await google.colab.kernel.invokeFunction('convertToInteractive',\n",
       "                                                    [key], {});\n",
       "        if (!dataTable) return;\n",
       "\n",
       "        const docLinkHtml = 'Like what you see? Visit the ' +\n",
       "          '<a target=\"_blank\" href=https://colab.research.google.com/notebooks/data_table.ipynb>data table notebook</a>'\n",
       "          + ' to learn more about interactive tables.';\n",
       "        element.innerHTML = '';\n",
       "        dataTable['output_type'] = 'display_data';\n",
       "        await google.colab.output.renderOutput(dataTable, element);\n",
       "        const docLink = document.createElement('div');\n",
       "        docLink.innerHTML = docLinkHtml;\n",
       "        element.appendChild(docLink);\n",
       "      }\n",
       "    </script>\n",
       "  </div>\n",
       "\n",
       "\n",
       "    <div id=\"df-9b759713-3903-4ce9-ba63-2be1d1e74008\">\n",
       "      <button class=\"colab-df-quickchart\" onclick=\"quickchart('df-9b759713-3903-4ce9-ba63-2be1d1e74008')\"\n",
       "                title=\"Suggest charts\"\n",
       "                style=\"display:none;\">\n",
       "\n",
       "<svg xmlns=\"http://www.w3.org/2000/svg\" height=\"24px\"viewBox=\"0 0 24 24\"\n",
       "     width=\"24px\">\n",
       "    <g>\n",
       "        <path d=\"M19 3H5c-1.1 0-2 .9-2 2v14c0 1.1.9 2 2 2h14c1.1 0 2-.9 2-2V5c0-1.1-.9-2-2-2zM9 17H7v-7h2v7zm4 0h-2V7h2v10zm4 0h-2v-4h2v4z\"/>\n",
       "    </g>\n",
       "</svg>\n",
       "      </button>\n",
       "\n",
       "<style>\n",
       "  .colab-df-quickchart {\n",
       "      --bg-color: #E8F0FE;\n",
       "      --fill-color: #1967D2;\n",
       "      --hover-bg-color: #E2EBFA;\n",
       "      --hover-fill-color: #174EA6;\n",
       "      --disabled-fill-color: #AAA;\n",
       "      --disabled-bg-color: #DDD;\n",
       "  }\n",
       "\n",
       "  [theme=dark] .colab-df-quickchart {\n",
       "      --bg-color: #3B4455;\n",
       "      --fill-color: #D2E3FC;\n",
       "      --hover-bg-color: #434B5C;\n",
       "      --hover-fill-color: #FFFFFF;\n",
       "      --disabled-bg-color: #3B4455;\n",
       "      --disabled-fill-color: #666;\n",
       "  }\n",
       "\n",
       "  .colab-df-quickchart {\n",
       "    background-color: var(--bg-color);\n",
       "    border: none;\n",
       "    border-radius: 50%;\n",
       "    cursor: pointer;\n",
       "    display: none;\n",
       "    fill: var(--fill-color);\n",
       "    height: 32px;\n",
       "    padding: 0;\n",
       "    width: 32px;\n",
       "  }\n",
       "\n",
       "  .colab-df-quickchart:hover {\n",
       "    background-color: var(--hover-bg-color);\n",
       "    box-shadow: 0 1px 2px rgba(60, 64, 67, 0.3), 0 1px 3px 1px rgba(60, 64, 67, 0.15);\n",
       "    fill: var(--button-hover-fill-color);\n",
       "  }\n",
       "\n",
       "  .colab-df-quickchart-complete:disabled,\n",
       "  .colab-df-quickchart-complete:disabled:hover {\n",
       "    background-color: var(--disabled-bg-color);\n",
       "    fill: var(--disabled-fill-color);\n",
       "    box-shadow: none;\n",
       "  }\n",
       "\n",
       "  .colab-df-spinner {\n",
       "    border: 2px solid var(--fill-color);\n",
       "    border-color: transparent;\n",
       "    border-bottom-color: var(--fill-color);\n",
       "    animation:\n",
       "      spin 1s steps(1) infinite;\n",
       "  }\n",
       "\n",
       "  @keyframes spin {\n",
       "    0% {\n",
       "      border-color: transparent;\n",
       "      border-bottom-color: var(--fill-color);\n",
       "      border-left-color: var(--fill-color);\n",
       "    }\n",
       "    20% {\n",
       "      border-color: transparent;\n",
       "      border-left-color: var(--fill-color);\n",
       "      border-top-color: var(--fill-color);\n",
       "    }\n",
       "    30% {\n",
       "      border-color: transparent;\n",
       "      border-left-color: var(--fill-color);\n",
       "      border-top-color: var(--fill-color);\n",
       "      border-right-color: var(--fill-color);\n",
       "    }\n",
       "    40% {\n",
       "      border-color: transparent;\n",
       "      border-right-color: var(--fill-color);\n",
       "      border-top-color: var(--fill-color);\n",
       "    }\n",
       "    60% {\n",
       "      border-color: transparent;\n",
       "      border-right-color: var(--fill-color);\n",
       "    }\n",
       "    80% {\n",
       "      border-color: transparent;\n",
       "      border-right-color: var(--fill-color);\n",
       "      border-bottom-color: var(--fill-color);\n",
       "    }\n",
       "    90% {\n",
       "      border-color: transparent;\n",
       "      border-bottom-color: var(--fill-color);\n",
       "    }\n",
       "  }\n",
       "</style>\n",
       "\n",
       "      <script>\n",
       "        async function quickchart(key) {\n",
       "          const quickchartButtonEl =\n",
       "            document.querySelector('#' + key + ' button');\n",
       "          quickchartButtonEl.disabled = true;  // To prevent multiple clicks.\n",
       "          quickchartButtonEl.classList.add('colab-df-spinner');\n",
       "          try {\n",
       "            const charts = await google.colab.kernel.invokeFunction(\n",
       "                'suggestCharts', [key], {});\n",
       "          } catch (error) {\n",
       "            console.error('Error during call to suggestCharts:', error);\n",
       "          }\n",
       "          quickchartButtonEl.classList.remove('colab-df-spinner');\n",
       "          quickchartButtonEl.classList.add('colab-df-quickchart-complete');\n",
       "        }\n",
       "        (() => {\n",
       "          let quickchartButtonEl =\n",
       "            document.querySelector('#df-9b759713-3903-4ce9-ba63-2be1d1e74008 button');\n",
       "          quickchartButtonEl.style.display =\n",
       "            google.colab.kernel.accessAllowed ? 'block' : 'none';\n",
       "        })();\n",
       "      </script>\n",
       "    </div>\n",
       "\n",
       "    </div>\n",
       "  </div>\n"
      ],
      "text/plain": [
       "                                 Sponsors                    Type\n",
       "80            West Brighton Community LDC  nonprofit organization\n",
       "81              Whistler Capital Partners                business\n",
       "82  Women's Enterprise Development Center  nonprofit organization\n",
       "83                       YMCA of Brooklyn  nonprofit organization\n",
       "84                                 Lead B                  Lead B"
      ]
     },
     "execution_count": 26,
     "metadata": {},
     "output_type": "execute_result"
    }
   ],
   "source": [
    "# Check dataframe that consists the (Sponsors, Type)\n",
    "# Make sure target corporation is in the frame\n",
    "unique_type_entries.tail()"
   ]
  },
  {
   "cell_type": "code",
   "execution_count": 27,
   "metadata": {
    "colab": {
     "base_uri": "https://localhost:8080/"
    },
    "executionInfo": {
     "elapsed": 5,
     "status": "ok",
     "timestamp": 1745788786973,
     "user": {
      "displayName": "Fengchun Fan",
      "userId": "16607154835906475343"
     },
     "user_tz": 420
    },
    "id": "xlJu7g5hCATU",
    "outputId": "913a32b0-3058-4790-ae0b-503e0e886de2"
   },
   "outputs": [
    {
     "data": {
      "text/plain": [
       "array(['nonprofit organization', 'financial', 'university', 'government',\n",
       "       'business', 'Lead B'], dtype=object)"
      ]
     },
     "execution_count": 27,
     "metadata": {},
     "output_type": "execute_result"
    }
   ],
   "source": [
    "# Check the total types consistent in the graph\n",
    "unique_type_entries[\"Type\"].unique()"
   ]
  },
  {
   "cell_type": "code",
   "execution_count": 28,
   "metadata": {
    "executionInfo": {
     "elapsed": 438,
     "status": "ok",
     "timestamp": 1745788787410,
     "user": {
      "displayName": "Fengchun Fan",
      "userId": "16607154835906475343"
     },
     "user_tz": 420
    },
    "id": "ANwOekWrBN-J"
   },
   "outputs": [],
   "source": [
    "from collections import Counter\n",
    "\n",
    "type_edge_counter = Counter()\n",
    "\n",
    "# Initialize an undirected graph\n",
    "Connection_Graph = nx.Graph()\n",
    "\n",
    "# Add edges from the filtered dataframe\n",
    "for _, row in df_result.iterrows():\n",
    "    # convert stringified tuples to python tuples\n",
    "    edge = row['Edge']\n",
    "    if isinstance(edge, str):\n",
    "      edge = ast.literal_eval(edge)\n",
    "    source, target = edge\n",
    "\n",
    "    # Determine the type per corporation\n",
    "    # For corporation with multiple types, consider only first one\n",
    "    # Get all types for source and target\n",
    "    source_types = unique_type_entries[unique_type_entries[\"Sponsors\"] == source][\"Type\"].tolist()\n",
    "    target_types = unique_type_entries[unique_type_entries[\"Sponsors\"] == target][\"Type\"].tolist()\n",
    "    source_type = source_types[0]\n",
    "    target_type = target_types[0]\n",
    "\n",
    "    if source_type and target_type:\n",
    "      # Undirected Graph\n",
    "      type_pair = tuple(sorted([source_type, target_type]))\n",
    "      type_edge_counter[type_pair] += 1"
   ]
  },
  {
   "cell_type": "code",
   "execution_count": 29,
   "metadata": {
    "colab": {
     "base_uri": "https://localhost:8080/"
    },
    "executionInfo": {
     "elapsed": 13,
     "status": "ok",
     "timestamp": 1745788787424,
     "user": {
      "displayName": "Fengchun Fan",
      "userId": "16607154835906475343"
     },
     "user_tz": 420
    },
    "id": "kVppn7blCTI5",
    "outputId": "56dd86d8-f16e-4b1b-c2ca-1bdbc0936c99"
   },
   "outputs": [
    {
     "data": {
      "text/plain": [
       "(('nonprofit organization', 'nonprofit organization'), 39)"
      ]
     },
     "execution_count": 29,
     "metadata": {},
     "output_type": "execute_result"
    }
   ],
   "source": [
    "# Check the first item of type_edge_counter\n",
    "list(type_edge_counter.items())[0]"
   ]
  },
  {
   "cell_type": "code",
   "execution_count": 30,
   "metadata": {
    "colab": {
     "base_uri": "https://localhost:8080/"
    },
    "executionInfo": {
     "elapsed": 10,
     "status": "ok",
     "timestamp": 1745788787435,
     "user": {
      "displayName": "Fengchun Fan",
      "userId": "16607154835906475343"
     },
     "user_tz": 420
    },
    "id": "FbSqTsM-BO9d",
    "outputId": "3f7ba137-f632-44f8-b745-86dddb25f1e2"
   },
   "outputs": [
    {
     "name": "stdout",
     "output_type": "stream",
     "text": [
      "Graph created with 6 nodes and 20 edges.\n"
     ]
    }
   ],
   "source": [
    "# Create graph\n",
    "for (t1, t2), weight in type_edge_counter.items():\n",
    "  Connection_Graph.add_edge(t1, t2, weight=weight)\n",
    "\n",
    "# Optionally print some info\n",
    "print(f\"Graph created with {Connection_Graph.number_of_nodes()} nodes and {Connection_Graph.number_of_edges()} edges.\")"
   ]
  },
  {
   "cell_type": "code",
   "execution_count": 33,
   "metadata": {
    "colab": {
     "base_uri": "https://localhost:8080/",
     "height": 1000,
     "output_embedded_package_id": "1SfLTJnospJrmQJHZwjVL16Dl61m-B6q8"
    },
    "executionInfo": {
     "elapsed": 18103,
     "status": "ok",
     "timestamp": 1745788837693,
     "user": {
      "displayName": "Fengchun Fan",
      "userId": "16607154835906475343"
     },
     "user_tz": 420
    },
    "id": "fOIxEvLJBlYm",
    "outputId": "394f2821-d5f8-4a3d-9b69-73a4e531ad7e"
   },
   "outputs": [
    {
     "data": {
      "text/plain": [
       "Output hidden; open in https://colab.research.google.com to view."
      ]
     },
     "metadata": {},
     "output_type": "display_data"
    }
   ],
   "source": [
    "# Labels are used for displaying purpose\n",
    "edge_weights = nx.get_edge_attributes(Connection_Graph, \"weight\")\n",
    "\n",
    "# Scale node size by sum of weights of edges connected to each node (weighted degree)\n",
    "# (node, _, {'weight': _})\n",
    "# Linear scaling\n",
    "node_sizes = [\n",
    "  sum(data[\"weight\"] for _, _, data in Connection_Graph.edges(node, data=True)) ** 1.4\n",
    "  for node in Connection_Graph.nodes()\n",
    "]\n",
    "\n",
    "# Scale edge width by edge weights\n",
    "# Square root scaling\n",
    "edge_widths = [np.sqrt(data[\"weight\"]) for _, _, data in Connection_Graph.edges(data=True)]\n",
    "\n",
    "# Generate circular layout but sort nodes alphabetically\n",
    "sorted_nodes = sorted(Connection_Graph.nodes())\n",
    "pos = nx.circular_layout(sorted_nodes)\n",
    "\n",
    "# Visualize large size image with high resolution\n",
    "plt.figure(figsize=(64, 64), dpi=300)\n",
    "\n",
    "# Adjust attributes and draw graph\n",
    "nx.draw_networkx(\n",
    "  Connection_Graph,\n",
    "  # Arranges all nodes evenly around a circle\n",
    "  pos=pos,\n",
    "  # Adjust node size\n",
    "  node_size=node_sizes,\n",
    "  # Adjust font size for readability\n",
    "  font_size=60,\n",
    "  # Set font color\n",
    "  font_color='black',\n",
    "  # Set node color\n",
    "  node_color='skyblue',\n",
    "  # Set edge color\n",
    "  edge_color='gray',\n",
    "  # Display node labels\n",
    "  with_labels=True,\n",
    "  # Set edge width\n",
    "  width=edge_widths\n",
    ")\n",
    "# Draw edge labels for weight\n",
    "nx.draw_networkx_edge_labels(Connection_Graph, pos=pos, edge_labels=edge_weights, font_size=35, label_pos=0.45)\n",
    "plt.title(\"SNA Connection Graph\", fontsize=100)\n",
    "plt.show()"
   ]
  },
  {
   "cell_type": "code",
   "execution_count": 32,
   "metadata": {
    "colab": {
     "base_uri": "https://localhost:8080/"
    },
    "executionInfo": {
     "elapsed": 5,
     "status": "ok",
     "timestamp": 1745788807270,
     "user": {
      "displayName": "Fengchun Fan",
      "userId": "16607154835906475343"
     },
     "user_tz": 420
    },
    "id": "WLcAsQHkFm3y",
    "outputId": "6888c62b-56b3-4c71-a435-fb8ce803613b"
   },
   "outputs": [
    {
     "data": {
      "text/plain": [
       "{'Lead B': array([1.00000000e+00, 2.45045699e-08]),\n",
       " 'business': array([0.49999998, 0.86602546]),\n",
       " 'financial': array([-0.50000004,  0.8660254 ]),\n",
       " 'government': array([-9.99999970e-01, -6.29182054e-08]),\n",
       " 'nonprofit organization': array([-0.49999989, -0.86602541]),\n",
       " 'university': array([ 0.49999992, -0.86602541])}"
      ]
     },
     "execution_count": 32,
     "metadata": {},
     "output_type": "execute_result"
    }
   ],
   "source": [
    "# Check sorted order\n",
    "pos"
   ]
  }
 ],
 "metadata": {
  "colab": {
   "authorship_tag": "ABX9TyPyQlclLHb+fdq7V8FL7zx9",
   "collapsed_sections": [
    "-8LQrLAinp3x",
    "tRQYwzHpmwQR",
    "xY--Z0_Sm7lQ",
    "uMMOHANgnJ2d",
    "5BVt8JorSLlw",
    "K55gcFqCJIex",
    "r3SZa49UPpYW",
    "RIWXqv1OOSWQ",
    "AaGuRO-IOubA",
    "tJ9u7UfG9gnn",
    "aWlr0RaFrY0w",
    "B3x4iU4W9aem",
    "qeyfrLvl8Zqr"
   ],
   "provenance": []
  },
  "kernelspec": {
   "display_name": "Python 3",
   "name": "python3"
  },
  "language_info": {
   "name": "python"
  }
 },
 "nbformat": 4,
 "nbformat_minor": 0
}
