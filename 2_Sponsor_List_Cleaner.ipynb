{
 "cells": [
  {
   "cell_type": "markdown",
   "metadata": {
    "id": "-vii7mcyGSV8"
   },
   "source": [
    "# **Code to clean up the extracted Sponsor List**\n",
    "\n",
    "\n"
   ]
  },
  {
   "cell_type": "markdown",
   "metadata": {
    "id": "kjoFK_WWy17F"
   },
   "source": [
    "# Load library"
   ]
  },
  {
   "cell_type": "code",
   "execution_count": 41,
   "metadata": {
    "colab": {
     "base_uri": "https://localhost:8080/"
    },
    "executionInfo": {
     "elapsed": 5739,
     "status": "ok",
     "timestamp": 1743039607157,
     "user": {
      "displayName": "Fengchun Fan",
      "userId": "16607154835906475343"
     },
     "user_tz": 420
    },
    "id": "yW4RhJYanlQC",
    "outputId": "e93fd4b7-17cc-4c60-b494-a49b688e3974"
   },
   "outputs": [
    {
     "name": "stdout",
     "output_type": "stream",
     "text": [
      "Requirement already satisfied: requests in /usr/local/lib/python3.11/dist-packages (2.32.3)\n",
      "Requirement already satisfied: charset-normalizer<4,>=2 in /usr/local/lib/python3.11/dist-packages (from requests) (3.4.1)\n",
      "Requirement already satisfied: idna<4,>=2.5 in /usr/local/lib/python3.11/dist-packages (from requests) (3.10)\n",
      "Requirement already satisfied: urllib3<3,>=1.21.1 in /usr/local/lib/python3.11/dist-packages (from requests) (2.3.0)\n",
      "Requirement already satisfied: certifi>=2017.4.17 in /usr/local/lib/python3.11/dist-packages (from requests) (2025.1.31)\n",
      "Requirement already satisfied: requests-ip-rotator in /usr/local/lib/python3.11/dist-packages (1.0.14)\n",
      "Requirement already satisfied: requests in /usr/local/lib/python3.11/dist-packages (from requests-ip-rotator) (2.32.3)\n",
      "Requirement already satisfied: boto3 in /usr/local/lib/python3.11/dist-packages (from requests-ip-rotator) (1.37.21)\n",
      "Requirement already satisfied: botocore<1.38.0,>=1.37.21 in /usr/local/lib/python3.11/dist-packages (from boto3->requests-ip-rotator) (1.37.21)\n",
      "Requirement already satisfied: jmespath<2.0.0,>=0.7.1 in /usr/local/lib/python3.11/dist-packages (from boto3->requests-ip-rotator) (1.0.1)\n",
      "Requirement already satisfied: s3transfer<0.12.0,>=0.11.0 in /usr/local/lib/python3.11/dist-packages (from boto3->requests-ip-rotator) (0.11.4)\n",
      "Requirement already satisfied: charset-normalizer<4,>=2 in /usr/local/lib/python3.11/dist-packages (from requests->requests-ip-rotator) (3.4.1)\n",
      "Requirement already satisfied: idna<4,>=2.5 in /usr/local/lib/python3.11/dist-packages (from requests->requests-ip-rotator) (3.10)\n",
      "Requirement already satisfied: urllib3<3,>=1.21.1 in /usr/local/lib/python3.11/dist-packages (from requests->requests-ip-rotator) (2.3.0)\n",
      "Requirement already satisfied: certifi>=2017.4.17 in /usr/local/lib/python3.11/dist-packages (from requests->requests-ip-rotator) (2025.1.31)\n",
      "Requirement already satisfied: python-dateutil<3.0.0,>=2.1 in /usr/local/lib/python3.11/dist-packages (from botocore<1.38.0,>=1.37.21->boto3->requests-ip-rotator) (2.8.2)\n",
      "Requirement already satisfied: six>=1.5 in /usr/local/lib/python3.11/dist-packages (from python-dateutil<3.0.0,>=2.1->botocore<1.38.0,>=1.37.21->boto3->requests-ip-rotator) (1.17.0)\n"
     ]
    }
   ],
   "source": [
    "# Install requests\n",
    "!pip install requests\n",
    "\n",
    "# Install requests-ip-rotator\n",
    "!pip3 install requests-ip-rotator"
   ]
  },
  {
   "cell_type": "code",
   "execution_count": 2,
   "metadata": {
    "executionInfo": {
     "elapsed": 1919,
     "status": "ok",
     "timestamp": 1743037945485,
     "user": {
      "displayName": "Fengchun Fan",
      "userId": "16607154835906475343"
     },
     "user_tz": 420
    },
    "id": "2ndQULptGMzj"
   },
   "outputs": [],
   "source": [
    "# Regular Python Data analyze library\n",
    "import pandas as pd\n",
    "import random\n",
    "\n",
    "# Web related library\n",
    "import requests\n",
    "from urllib.parse import urlparse, urljoin\n",
    "from bs4 import BeautifulSoup\n",
    "\n",
    "# Progress Bar\n",
    "from tqdm import tqdm\n",
    "\n",
    "# Requests-ip-rotator to rotate IP\n",
    "# Aim to avoid 429 HTTP error\n",
    "# Reference: https://github.com/Ge0rg3/requests-ip-rotator\n",
    "from requests_ip_rotator import ApiGateway\n",
    "\n",
    "# Add request error handler\n",
    "from requests.exceptions import HTTPError, ReadTimeout"
   ]
  },
  {
   "cell_type": "markdown",
   "metadata": {
    "id": "5PsD5OEqd6MQ"
   },
   "source": [
    "# Modify code from original python library: googlesearch-python\n",
    "\n",
    "original website: https://pypi.org/project/googlesearch-python/#description \\\n",
    "original code: https://github.com/Nv7-GitHub/googlesearch"
   ]
  },
  {
   "cell_type": "code",
   "execution_count": 92,
   "metadata": {
    "executionInfo": {
     "elapsed": 44,
     "status": "ok",
     "timestamp": 1743040404010,
     "user": {
      "displayName": "Fengchun Fan",
      "userId": "16607154835906475343"
     },
     "user_tz": 420
    },
    "id": "_8HH-nPwRVan"
   },
   "outputs": [],
   "source": [
    "import random\n",
    "\n",
    "def get_useragent():\n",
    "    \"\"\"\n",
    "    Generates a random user agent string mimicking the format of various software versions.\n",
    "\n",
    "    The user agent string is composed of:\n",
    "    - Lynx version: Lynx/x.y.z where x is 2-3, y is 8-9, and z is 0-2\n",
    "    - libwww version: libwww-FM/x.y where x is 2-3 and y is 13-15\n",
    "    - SSL-MM version: SSL-MM/x.y where x is 1-2 and y is 3-5\n",
    "    - OpenSSL version: OpenSSL/x.y.z where x is 1-3, y is 0-4, and z is 0-9\n",
    "\n",
    "    Returns:\n",
    "        str: A randomly generated user agent string.\n",
    "    \"\"\"\n",
    "    lynx_version = f\"Lynx/{random.randint(2, 3)}.{random.randint(8, 9)}.{random.randint(0, 2)}\"\n",
    "    libwww_version = f\"libwww-FM/{random.randint(2, 3)}.{random.randint(13, 15)}\"\n",
    "    ssl_mm_version = f\"SSL-MM/{random.randint(1, 2)}.{random.randint(3, 5)}\"\n",
    "    openssl_version = f\"OpenSSL/{random.randint(1, 3)}.{random.randint(0, 4)}.{random.randint(0, 9)}\"\n",
    "    return f\"{lynx_version} {libwww_version} {ssl_mm_version} {openssl_version}\""
   ]
  },
  {
   "cell_type": "code",
   "execution_count": 93,
   "metadata": {
    "executionInfo": {
     "elapsed": 7,
     "status": "ok",
     "timestamp": 1743040404018,
     "user": {
      "displayName": "Fengchun Fan",
      "userId": "16607154835906475343"
     },
     "user_tz": 420
    },
    "id": "O8PnEU58RHD2"
   },
   "outputs": [],
   "source": [
    "\"\"\"googlesearch is a Python library for searching Google, easily.\"\"\"\n",
    "from time import sleep\n",
    "from bs4 import BeautifulSoup\n",
    "from requests import get\n",
    "from urllib.parse import unquote # to decode the url\n",
    "\n",
    "\n",
    "def _req(term, results, lang, start, proxies, timeout, safe, ssl_verify, region):\n",
    "    resp = session.get(\n",
    "        url=\"https://www.google.com/search\",\n",
    "        headers={\n",
    "            \"User-Agent\": get_useragent(),\n",
    "            \"Accept\": \"*/*\"\n",
    "        },\n",
    "        params={\n",
    "            \"q\": term,\n",
    "            \"num\": results + 2,  # Prevents multiple requests\n",
    "            \"hl\": lang,\n",
    "            \"start\": start,\n",
    "            \"safe\": safe,\n",
    "            \"gl\": region,\n",
    "        },\n",
    "        proxies=proxies,\n",
    "        timeout=timeout,\n",
    "        verify=ssl_verify,\n",
    "        cookies = {\n",
    "            'CONSENT': 'PENDING+987', # Bypasses the consent page\n",
    "            'SOCS': 'CAESHAgBEhIaAB',\n",
    "        }\n",
    "    )\n",
    "    resp.raise_for_status()\n",
    "    return resp\n",
    "\n",
    "\n",
    "class SearchResult:\n",
    "    def __init__(self, url, title, description):\n",
    "        self.url = url\n",
    "        self.title = title\n",
    "        self.description = description\n",
    "\n",
    "    def __repr__(self):\n",
    "        return f\"SearchResult(url={self.url}, title={self.title}, description={self.description})\"\n",
    "\n",
    "\n",
    "def search(term, num_results=10, lang=\"en\", proxy=None, advanced=False, sleep_interval=0, timeout=5, safe=\"active\", ssl_verify=None, region=None, start_num=0, unique=False):\n",
    "    \"\"\"Search the Google search engine\"\"\"\n",
    "\n",
    "    # Proxy setup\n",
    "    proxies = {\"https\": proxy, \"http\": proxy} if proxy and (proxy.startswith(\"https\") or proxy.startswith(\"http\") or proxy.startswith(\"socks5\")) else None\n",
    "\n",
    "    start = start_num\n",
    "    fetched_results = 0  # Keep track of the total fetched results\n",
    "    fetched_links = set() # to keep track of links that are already seen previously\n",
    "\n",
    "    while fetched_results < num_results:\n",
    "        # Send request\n",
    "        resp = _req(term, num_results - start,\n",
    "                    lang, start, proxies, timeout, safe, ssl_verify, region)\n",
    "\n",
    "        # put in file - comment for debugging purpose\n",
    "        # with open('google.html', 'w') as f:\n",
    "        #     f.write(resp.text)\n",
    "\n",
    "        # Parse\n",
    "        soup = BeautifulSoup(resp.text, \"html.parser\")\n",
    "        result_block = soup.find_all(\"div\", class_=\"ezO2md\")\n",
    "        new_results = 0  # Keep track of new results in this iteration\n",
    "\n",
    "        for result in result_block:\n",
    "            # Find the link tag within the result block\n",
    "            link_tag = result.find(\"a\", href=True)\n",
    "            # Find the title tag within the link tag\n",
    "            title_tag = link_tag.find(\"span\", class_=\"CVA68e\") if link_tag else None\n",
    "            # Find the description tag within the result block\n",
    "            description_tag = result.find(\"span\", class_=\"FrIlee\")\n",
    "\n",
    "            # Check if all necessary tags are found\n",
    "            if link_tag and title_tag and description_tag:\n",
    "                # Extract and decode the link URL\n",
    "                link = unquote(link_tag[\"href\"].split(\"&\")[0].replace(\"/url?q=\", \"\")) if link_tag else \"\"\n",
    "            # Extract and decode the link URL\n",
    "            link = unquote(link_tag[\"href\"].split(\"&\")[0].replace(\"/url?q=\", \"\")) if link_tag else \"\"\n",
    "            # Check if the link has already been fetched and if unique results are required\n",
    "            if link in fetched_links and unique:\n",
    "                continue  # Skip this result if the link is not unique\n",
    "            # Add the link to the set of fetched links\n",
    "            fetched_links.add(link)\n",
    "            # Extract the title text\n",
    "            title = title_tag.text if title_tag else \"\"\n",
    "            # Extract the description text\n",
    "            description = description_tag.text if description_tag else \"\"\n",
    "            # Increment the count of fetched results\n",
    "            fetched_results += 1\n",
    "            # Increment the count of new results in this iteration\n",
    "            new_results += 1\n",
    "            # Yield the result based on the advanced flag\n",
    "            if advanced:\n",
    "                yield SearchResult(link, title, description)  # Yield a SearchResult object\n",
    "            else:\n",
    "                yield link  # Yield only the link\n",
    "\n",
    "            if fetched_results >= num_results:\n",
    "                break  # Stop if we have fetched the desired number of results\n",
    "\n",
    "        if new_results == 0:\n",
    "            #If you want to have printed to your screen that the desired amount of queries can not been fulfilled, uncomment the line below:\n",
    "            #print(f\"Only {fetched_results} results found for query requiring {num_results} results. Moving on to the next query.\")\n",
    "            break  # Break the loop if no new results were found in this iteration\n",
    "\n",
    "        start += 10  # Prepare for the next set of results\n",
    "        sleep(sleep_interval)"
   ]
  },
  {
   "cell_type": "markdown",
   "metadata": {
    "id": "ibYXB6810wLP"
   },
   "source": [
    "# Sort the Sponsor list and perform manual data integration"
   ]
  },
  {
   "cell_type": "code",
   "execution_count": null,
   "metadata": {
    "colab": {
     "base_uri": "https://localhost:8080/"
    },
    "executionInfo": {
     "elapsed": 17,
     "status": "ok",
     "timestamp": 1743037979607,
     "user": {
      "displayName": "Fengchun Fan",
      "userId": "16607154835906475343"
     },
     "user_tz": 420
    },
    "id": "Fhq4Ay9z02ci",
    "outputId": "1910dc53-61e3-4f0d-dd85-b02f614d091e"
   },
   "outputs": [
    {
     "name": "stdout",
     "output_type": "stream",
     "text": [
      "Stripped all leading/trailing spaces from string attributes.\n"
     ]
    }
   ],
   "source": [
    "# Load CSV into a Data Pool DataFrame\n",
    "# Change encoding from 'utf-8' to 'latin1' to avoid invalid continuation byte\n",
    "# df = pd.read_csv('BOC_update - Sheet1.csv', encoding='latin1')\n",
    "df = pd.read_csv('')\n",
    "\n",
    "# Apply .strip() to all string values in the DataFrame using apply with a lambda function\n",
    "df = df.apply(lambda col: col.map(lambda x: x.strip() if isinstance(x, str) else x))\n",
    "\n",
    "# Now all string values in df_pool will have leading/trailing spaces removed\n",
    "print(\"Stripped all leading/trailing spaces from string attributes.\")"
   ]
  },
  {
   "cell_type": "code",
   "execution_count": null,
   "metadata": {
    "colab": {
     "base_uri": "https://localhost:8080/",
     "height": 1000
    },
    "executionInfo": {
     "elapsed": 92,
     "status": "ok",
     "timestamp": 1743037981877,
     "user": {
      "displayName": "Fengchun Fan",
      "userId": "16607154835906475343"
     },
     "user_tz": 420
    },
    "id": "ON0G_8mO1R75",
    "outputId": "3d1f6c09-8b46-412b-be44-e2e1605dd7e6"
   },
   "outputs": [],
   "source": [
    "df"
   ]
  },
  {
   "cell_type": "code",
   "execution_count": 8,
   "metadata": {
    "executionInfo": {
     "elapsed": 4,
     "status": "ok",
     "timestamp": 1743037984396,
     "user": {
      "displayName": "Fengchun Fan",
      "userId": "16607154835906475343"
     },
     "user_tz": 420
    },
    "id": "YXGNzTM91etP"
   },
   "outputs": [],
   "source": [
    "# Sort the Pandas Dataframe by the sponsor column\n",
    "df = df.sort_values(by='Sponsors', ascending=True)\n",
    "df = df.reset_index(drop=True)"
   ]
  },
  {
   "cell_type": "code",
   "execution_count": null,
   "metadata": {
    "colab": {
     "base_uri": "https://localhost:8080/",
     "height": 1000
    },
    "executionInfo": {
     "elapsed": 62,
     "status": "ok",
     "timestamp": 1743037985294,
     "user": {
      "displayName": "Fengchun Fan",
      "userId": "16607154835906475343"
     },
     "user_tz": 420
    },
    "id": "njXiMt9D1m2w",
    "outputId": "a282c025-8580-4e04-bb54-a5912e3aabb1"
   },
   "outputs": [],
   "source": [
    "df"
   ]
  },
  {
   "cell_type": "markdown",
   "metadata": {
    "id": "BmdKA_GI12fb"
   },
   "source": [
    "Extract the sorted csv, and perform manual data integration"
   ]
  },
  {
   "cell_type": "code",
   "execution_count": null,
   "metadata": {
    "executionInfo": {
     "elapsed": 3,
     "status": "ok",
     "timestamp": 1743038040534,
     "user": {
      "displayName": "Fengchun Fan",
      "userId": "16607154835906475343"
     },
     "user_tz": 420
    },
    "id": "qgPa5b0y2OwO"
   },
   "outputs": [],
   "source": [
    "# Export to csv file\n",
    "df.to_csv('', index=False)"
   ]
  },
  {
   "cell_type": "markdown",
   "metadata": {
    "id": "bCLJbVDz1_4L"
   },
   "source": [
    "# Loop through Sponsor List, and systematically extract the homepage url for each sponsor"
   ]
  },
  {
   "cell_type": "markdown",
   "metadata": {
    "id": "oQzTEr8Wjnoj"
   },
   "source": [
    "At the point, Sponsor list should be integrated"
   ]
  },
  {
   "cell_type": "code",
   "execution_count": null,
   "metadata": {
    "executionInfo": {
     "elapsed": 37,
     "status": "ok",
     "timestamp": 1743038241603,
     "user": {
      "displayName": "Fengchun Fan",
      "userId": "16607154835906475343"
     },
     "user_tz": 420
    },
    "id": "dz6mHcar1_E2"
   },
   "outputs": [],
   "source": [
    "# Load CSV into a Data Pool DataFrame\n",
    "# Change encoding from 'utf-8' to 'latin1' to avoid invalid continuation byte\n",
    "df = pd.read_csv('')"
   ]
  },
  {
   "cell_type": "markdown",
   "metadata": {
    "id": "wTZ6uCXLmmWq"
   },
   "source": [
    "## Further Pre-processing"
   ]
  },
  {
   "cell_type": "code",
   "execution_count": 13,
   "metadata": {
    "executionInfo": {
     "elapsed": 2,
     "status": "ok",
     "timestamp": 1743038243714,
     "user": {
      "displayName": "Fengchun Fan",
      "userId": "16607154835906475343"
     },
     "user_tz": 420
    },
    "id": "DiWaf3v2mhHW"
   },
   "outputs": [],
   "source": [
    "# Cleaning function for Sponsor name\n",
    "def clean_sponsor_name(sponsor):\n",
    "  # Make a copy of sponsor's name\n",
    "  sponsor_short_name = sponsor\n",
    "\n",
    "  # Remove specific endings\n",
    "  if sponsor_short_name.endswith(\", Inc.\"):\n",
    "    sponsor_short_name = sponsor_short_name[:-6]\n",
    "  if sponsor_short_name.endswith(\" Inc.\"):\n",
    "    sponsor_short_name = sponsor_short_name[:-5]\n",
    "  if sponsor_short_name.endswith(\", Inc\"):\n",
    "    sponsor_short_name = sponsor_short_name[:-5]\n",
    "  if sponsor_short_name.endswith(\" Inc\"):\n",
    "    sponsor_short_name = sponsor_short_name[:-4]\n",
    "  if sponsor_short_name.endswith(\", LLC\"):\n",
    "    sponsor_short_name = sponsor_short_name[:-5]\n",
    "  if sponsor_short_name.endswith(\" LLC\"):\n",
    "    sponsor_short_name = sponsor_short_name[:-4]\n",
    "  if sponsor_short_name.endswith(\", LLP\"):\n",
    "    sponsor_short_name = sponsor_short_name[:-5]\n",
    "  if sponsor_short_name.endswith(\" LLP\"):\n",
    "    sponsor_short_name = sponsor_short_name[:-4]\n",
    "  if sponsor_short_name.endswith(\" Co.\"):\n",
    "    sponsor_short_name = sponsor_short_name[:-4]\n",
    "  if sponsor_short_name.endswith(\", In\"):\n",
    "    sponsor_short_name = sponsor_short_name[:-4]\n",
    "\n",
    "  return sponsor_short_name.strip()"
   ]
  },
  {
   "cell_type": "code",
   "execution_count": 14,
   "metadata": {
    "executionInfo": {
     "elapsed": 4,
     "status": "ok",
     "timestamp": 1743038246158,
     "user": {
      "displayName": "Fengchun Fan",
      "userId": "16607154835906475343"
     },
     "user_tz": 420
    },
    "id": "s61XaBHUnHA9"
   },
   "outputs": [],
   "source": [
    "# Apply the function to the \"Sponsors\" column\n",
    "df['Sponsors'] = df['Sponsors'].apply(clean_sponsor_name)"
   ]
  },
  {
   "cell_type": "code",
   "execution_count": null,
   "metadata": {
    "colab": {
     "base_uri": "https://localhost:8080/",
     "height": 488
    },
    "executionInfo": {
     "elapsed": 31,
     "status": "ok",
     "timestamp": 1743038247248,
     "user": {
      "displayName": "Fengchun Fan",
      "userId": "16607154835906475343"
     },
     "user_tz": 420
    },
    "id": "Y9xjeYGMl_7e",
    "outputId": "ac78f2d3-81a6-4078-a8e0-0a6a9e35a2a4"
   },
   "outputs": [],
   "source": [
    "df"
   ]
  },
  {
   "cell_type": "markdown",
   "metadata": {
    "id": "ERhz04dsmsNM"
   },
   "source": [
    "## Google search each sponsor"
   ]
  },
  {
   "cell_type": "markdown",
   "metadata": {
    "id": "bkoxTeX3Lp1l"
   },
   "source": [
    "AWS: https://aws.amazon.com/api-gateway/"
   ]
  },
  {
   "cell_type": "code",
   "execution_count": null,
   "metadata": {
    "colab": {
     "base_uri": "https://localhost:8080/"
    },
    "executionInfo": {
     "elapsed": 4618,
     "status": "ok",
     "timestamp": 1743040884094,
     "user": {
      "displayName": "Fengchun Fan",
      "userId": "16607154835906475343"
     },
     "user_tz": 420
    },
    "id": "s6DR_CGzmqDc",
    "outputId": "886e44df-b035-4190-aba6-5cdacc5f2af1"
   },
   "outputs": [
    {
     "name": "stdout",
     "output_type": "stream",
     "text": [
      "Starting API gateways in 10 regions.\n",
      "Using 10 endpoints with name 'https://www.google.com - IP Rotate API' (10 new).\n"
     ]
    }
   ],
   "source": [
    "# Create gateway object and initialise in AWS\n",
    "gateway = ApiGateway(\"https://www.google.com\",\n",
    "                     access_key_id=\"\",\n",
    "                     access_key_secret=\"\")\n",
    "gateway.start()\n",
    "\n",
    "# Assign gateway to session\n",
    "session = requests.Session()\n",
    "session.mount(\"https://www.google.com\", gateway)"
   ]
  },
  {
   "cell_type": "code",
   "execution_count": 110,
   "metadata": {
    "executionInfo": {
     "elapsed": 9,
     "status": "ok",
     "timestamp": 1743040884110,
     "user": {
      "displayName": "Fengchun Fan",
      "userId": "16607154835906475343"
     },
     "user_tz": 420
    },
    "id": "ytzpi-gboYxq"
   },
   "outputs": [],
   "source": [
    "# Create Sponsor list\n",
    "Sponsor_list = df['Sponsors'].tolist()\n",
    "# Create Homepage URL list\n",
    "Sponsor_URL_list = []\n",
    "# Create Homepage Domain list\n",
    "Sponsor_Domain_list = []\n",
    "# Create Sponsor Shortname list\n",
    "Sponsor_Shortname_list = []"
   ]
  },
  {
   "cell_type": "code",
   "execution_count": 111,
   "metadata": {
    "colab": {
     "base_uri": "https://localhost:8080/"
    },
    "executionInfo": {
     "elapsed": 11200,
     "status": "ok",
     "timestamp": 1743040895311,
     "user": {
      "displayName": "Fengchun Fan",
      "userId": "16607154835906475343"
     },
     "user_tz": 420
    },
    "id": "CKyoyhNcoCYE",
    "outputId": "4f7b9ded-f012-4484-f235-b2ce00189885"
   },
   "outputs": [
    {
     "name": "stderr",
     "output_type": "stream",
     "text": [
      "\r  0%|          | 0/14 [00:00<?, ?it/s]"
     ]
    },
    {
     "name": "stdout",
     "output_type": "stream",
     "text": [
      "Working on: Access to Capital for Entrepreneurs\n"
     ]
    },
    {
     "name": "stderr",
     "output_type": "stream",
     "text": [
      "\r  7%|▋         | 1/14 [00:00<00:08,  1.46it/s]"
     ]
    },
    {
     "name": "stdout",
     "output_type": "stream",
     "text": [
      "Working on: Advanced System Development\n"
     ]
    },
    {
     "name": "stderr",
     "output_type": "stream",
     "text": [
      "\r 14%|█▍        | 2/14 [00:01<00:08,  1.41it/s]"
     ]
    },
    {
     "name": "stdout",
     "output_type": "stream",
     "text": [
      "Working on: Ascend Cities\n",
      "429 Too Many Requests - will restart soon\n"
     ]
    },
    {
     "name": "stderr",
     "output_type": "stream",
     "text": [
      "\r 21%|██▏       | 3/14 [00:02<00:11,  1.07s/it]"
     ]
    },
    {
     "name": "stdout",
     "output_type": "stream",
     "text": [
      "Working on: Black Wealth Data Center\n"
     ]
    },
    {
     "name": "stderr",
     "output_type": "stream",
     "text": [
      "\r 29%|██▊       | 4/14 [00:03<00:09,  1.10it/s]"
     ]
    },
    {
     "name": "stdout",
     "output_type": "stream",
     "text": [
      "Working on: Bridge Innovate\n"
     ]
    },
    {
     "name": "stderr",
     "output_type": "stream",
     "text": [
      "\r 36%|███▌      | 5/14 [00:04<00:07,  1.28it/s]"
     ]
    },
    {
     "name": "stdout",
     "output_type": "stream",
     "text": [
      "Working on: DoD Office of Small Business Programs\n"
     ]
    },
    {
     "name": "stderr",
     "output_type": "stream",
     "text": [
      "\r 43%|████▎     | 6/14 [00:04<00:05,  1.54it/s]"
     ]
    },
    {
     "name": "stdout",
     "output_type": "stream",
     "text": [
      "Working on: General Dynamics\n",
      "429 Too Many Requests - will restart soon\n",
      "429 Too Many Requests - will restart soon\n",
      "429 Too Many Requests - will restart soon\n"
     ]
    },
    {
     "name": "stderr",
     "output_type": "stream",
     "text": [
      "\r 50%|█████     | 7/14 [00:06<00:08,  1.18s/it]"
     ]
    },
    {
     "name": "stdout",
     "output_type": "stream",
     "text": [
      "Working on: JP Morgan Chase\n"
     ]
    },
    {
     "name": "stderr",
     "output_type": "stream",
     "text": [
      "\r 57%|█████▋    | 8/14 [00:07<00:06,  1.03s/it]"
     ]
    },
    {
     "name": "stdout",
     "output_type": "stream",
     "text": [
      "Working on: LISC\n",
      "429 Too Many Requests - will restart soon\n"
     ]
    },
    {
     "name": "stderr",
     "output_type": "stream",
     "text": [
      "\r 64%|██████▍   | 9/14 [00:08<00:04,  1.01it/s]"
     ]
    },
    {
     "name": "stdout",
     "output_type": "stream",
     "text": [
      "Working on: MUFG\n"
     ]
    },
    {
     "name": "stderr",
     "output_type": "stream",
     "text": [
      "\r 71%|███████▏  | 10/14 [00:09<00:03,  1.15it/s]"
     ]
    },
    {
     "name": "stdout",
     "output_type": "stream",
     "text": [
      "Working on: ProSource\n"
     ]
    },
    {
     "name": "stderr",
     "output_type": "stream",
     "text": [
      "\r 79%|███████▊  | 11/14 [00:09<00:02,  1.39it/s]"
     ]
    },
    {
     "name": "stdout",
     "output_type": "stream",
     "text": [
      "Working on: US Department of Commerce Minority Business Development Agency\n",
      "429 Too Many Requests - will restart soon\n"
     ]
    },
    {
     "name": "stderr",
     "output_type": "stream",
     "text": [
      "\r 86%|████████▌ | 12/14 [00:10<00:01,  1.19it/s]"
     ]
    },
    {
     "name": "stdout",
     "output_type": "stream",
     "text": [
      "Working on: University of Georgia Small Business Development Center\n"
     ]
    },
    {
     "name": "stderr",
     "output_type": "stream",
     "text": [
      "\r 93%|█████████▎| 13/14 [00:10<00:00,  1.43it/s]"
     ]
    },
    {
     "name": "stdout",
     "output_type": "stream",
     "text": [
      "Working on: bip ventures\n"
     ]
    },
    {
     "name": "stderr",
     "output_type": "stream",
     "text": [
      "100%|██████████| 14/14 [00:11<00:00,  1.25it/s]\n"
     ]
    }
   ],
   "source": [
    "# define number of retries\n",
    "retries = 5\n",
    "\n",
    "# Find the homepage for each Sponsor\n",
    "for sponsor in tqdm(Sponsor_list):\n",
    "  # To track progress\n",
    "  print(\"Working on:\", sponsor)\n",
    "\n",
    "  # Call google search on each sponsor\n",
    "  for attempt in range(retries):\n",
    "    try:\n",
    "      sponsor_url_candidates = list(search(sponsor, num_results=5))\n",
    "      break\n",
    "    # Immediate retry after detecting 429 or Readtime Error\n",
    "    except HTTPError as http_err:\n",
    "      if http_err.response.status_code == 429:\n",
    "        print(\"429 Too Many Requests - will restart soon\")\n",
    "      else:\n",
    "        raise http_err\n",
    "    except ReadTimeout:\n",
    "        print(f\"ReadTimeout detected on attempt {attempt + 1}, retrying...\")\n",
    "\n",
    "  # Extract main page url, which is the highest ranked (first) returning result\n",
    "  if len(sponsor_url_candidates) > 0:\n",
    "    # Extract main page URL\n",
    "    # Assume the first returning result from google is home url for the sponsor\n",
    "    # We will take the first valid url\n",
    "    for url in sponsor_url_candidates:\n",
    "      if url and not url.startswith('/'):\n",
    "        sponsor_url = url\n",
    "        break\n",
    "    else:\n",
    "      # Very unlikely we will get non-valid url\n",
    "      raise ValueError(\"No valid sponsor URL found.\")\n",
    "\n",
    "    # Extract shortname from this url\n",
    "    # Remove all front and rear information\n",
    "    # We will actually keep the \".com\" etc, to reduce ambiguity (ex. mn vs. mn.gov)\n",
    "    sponsor_domain = sponsor_url.split('/')[2]\n",
    "\n",
    "    shortname = sponsor_domain\n",
    "    # If start with \"www.\", remove that as well\n",
    "    if shortname.startswith(\"www.\"):\n",
    "      shortname = shortname[4:]\n",
    "    # Check if shortname is one of these types:\n",
    "    if shortname == \"facebook.com\" or shortname == \"twitter.com\" or shortname == \"instagram.com\" or shortname == \"nba.com\" or shortname == \"mlb.com\" or shortname == \"nhl.com\":\n",
    "      # adopt to different format\n",
    "      shortname = sponsor_url.split('/')[3]\n",
    "      sponsor_domain = sponsor_domain + '/' + shortname\n",
    "    if shortname == \"linkedin.com\" or shortname == \"reddit.com\" or shortname == \"forbes.com\":\n",
    "      shortname = sponsor_url.split('/')[4]\n",
    "      sponsor_domain = sponsor_domain + '/' + sponsor_url.split('/')[3] + '/' + shortname\n",
    "\n",
    "    # Remove \".com\" etc in the end\n",
    "    if shortname.endswith(\".com\") or shortname.endswith(\".org\") or shortname.endswith(\".net\") or shortname.endswith(\".edu\") or shortname.endswith(\".gov\") or shortname.endswith(\".vc\"):\n",
    "      shortname = shortname[:-4]\n",
    "\n",
    "    # Append to list\n",
    "    Sponsor_URL_list.append(sponsor_url)\n",
    "    Sponsor_Domain_list.append(sponsor_domain)\n",
    "    Sponsor_Shortname_list.append(shortname)\n",
    "\n",
    "  else:\n",
    "    # No homepage url found\n",
    "    # Append to list\n",
    "    Sponsor_URL_list.append(\"None\")\n",
    "    Sponsor_Domain_list.append(\"None\")\n",
    "    Sponsor_Shortname_list.append(\"None\")"
   ]
  },
  {
   "cell_type": "code",
   "execution_count": 112,
   "metadata": {
    "colab": {
     "base_uri": "https://localhost:8080/"
    },
    "executionInfo": {
     "elapsed": 15,
     "status": "ok",
     "timestamp": 1743040895327,
     "user": {
      "displayName": "Fengchun Fan",
      "userId": "16607154835906475343"
     },
     "user_tz": 420
    },
    "id": "m0ix9u-hu4nd",
    "outputId": "b63d08be-9dd4-4ddf-f406-ff0257302d9d"
   },
   "outputs": [
    {
     "name": "stdout",
     "output_type": "stream",
     "text": [
      "Length of Sponsor_list: 14\n",
      "Length of Sponsor_urls: 14\n",
      "Length of Sponsor_url_shortnames: 14\n",
      "Length of Sponsor_shortnames: 14\n"
     ]
    }
   ],
   "source": [
    "# Check results\n",
    "print(\"Length of Sponsor_list:\", len(Sponsor_list))\n",
    "print(\"Length of Sponsor_urls:\", len(Sponsor_URL_list))\n",
    "print(\"Length of Sponsor_url_shortnames:\", len(Sponsor_Domain_list))\n",
    "print(\"Length of Sponsor_shortnames:\", len(Sponsor_Shortname_list))"
   ]
  },
  {
   "cell_type": "code",
   "execution_count": 113,
   "metadata": {
    "executionInfo": {
     "elapsed": 8,
     "status": "ok",
     "timestamp": 1743040895344,
     "user": {
      "displayName": "Fengchun Fan",
      "userId": "16607154835906475343"
     },
     "user_tz": 420
    },
    "id": "DPwFN9pwsq6P"
   },
   "outputs": [],
   "source": [
    "# Convert List to column in dataframe\n",
    "df[\"Sponsor_URL\"] = Sponsor_URL_list\n",
    "df[\"Sponsor_Domain\"] = Sponsor_Domain_list\n",
    "df[\"Sponsor_Shortname\"] = Sponsor_Shortname_list"
   ]
  },
  {
   "cell_type": "code",
   "execution_count": 114,
   "metadata": {
    "colab": {
     "base_uri": "https://localhost:8080/"
    },
    "executionInfo": {
     "elapsed": 3361,
     "status": "ok",
     "timestamp": 1743040898707,
     "user": {
      "displayName": "Fengchun Fan",
      "userId": "16607154835906475343"
     },
     "user_tz": 420
    },
    "id": "LHe51xa4oCFL",
    "outputId": "4abe8455-6b22-4bf7-93fe-71947a6e9abb"
   },
   "outputs": [
    {
     "name": "stdout",
     "output_type": "stream",
     "text": [
      "Deleting gateways for site 'https://www.google.com'.\n",
      "Deleted 10 endpoints with for site 'https://www.google.com'.\n"
     ]
    },
    {
     "data": {
      "text/plain": [
       "['bmhmyr8j91',\n",
       " 'z7cc6delpd',\n",
       " '3eg43f6cz4',\n",
       " '1a64g5tml0',\n",
       " 'qm8w1ykwck',\n",
       " '2por5eobs0',\n",
       " 'mctt6pllcg',\n",
       " '2c5b60s6ce',\n",
       " 'sr4ak718z8',\n",
       " 'wrr99tniuj']"
      ]
     },
     "execution_count": 114,
     "metadata": {},
     "output_type": "execute_result"
    }
   ],
   "source": [
    "gateway.shutdown()"
   ]
  },
  {
   "cell_type": "code",
   "execution_count": null,
   "metadata": {
    "colab": {
     "base_uri": "https://localhost:8080/",
     "height": 610
    },
    "executionInfo": {
     "elapsed": 44,
     "status": "ok",
     "timestamp": 1743040942227,
     "user": {
      "displayName": "Fengchun Fan",
      "userId": "16607154835906475343"
     },
     "user_tz": 420
    },
    "id": "CoFrQIOpq_iz",
    "outputId": "c964eeb6-8be3-43f4-ba8d-b41e280c5c2c"
   },
   "outputs": [],
   "source": [
    "df"
   ]
  },
  {
   "cell_type": "markdown",
   "metadata": {
    "id": "P0R8GMDKyqbe"
   },
   "source": [
    "# Final Check"
   ]
  },
  {
   "cell_type": "markdown",
   "metadata": {
    "id": "gEOnCp-hzwd8"
   },
   "source": [
    "Make necessary modifications"
   ]
  },
  {
   "cell_type": "markdown",
   "metadata": {
    "id": "uOJ5-8AP0C7e"
   },
   "source": [
    "## Modifier"
   ]
  },
  {
   "cell_type": "code",
   "execution_count": 122,
   "metadata": {
    "executionInfo": {
     "elapsed": 9,
     "status": "ok",
     "timestamp": 1743041098426,
     "user": {
      "displayName": "Fengchun Fan",
      "userId": "16607154835906475343"
     },
     "user_tz": 420
    },
    "id": "emcaIkg712e5"
   },
   "outputs": [],
   "source": [
    "modify_index = 0"
   ]
  },
  {
   "cell_type": "code",
   "execution_count": null,
   "metadata": {
    "id": "Lzi4u-wjzfy7"
   },
   "outputs": [],
   "source": [
    "df.loc[modify_index, \"Sponsor_URL\"] = \"None\""
   ]
  },
  {
   "cell_type": "code",
   "execution_count": null,
   "metadata": {
    "id": "YTjVbrZNzvir"
   },
   "outputs": [],
   "source": [
    "df.loc[modify_index, \"Sponsor_Domain\"] = \"\""
   ]
  },
  {
   "cell_type": "code",
   "execution_count": 123,
   "metadata": {
    "executionInfo": {
     "elapsed": 3,
     "status": "ok",
     "timestamp": 1743041099230,
     "user": {
      "displayName": "Fengchun Fan",
      "userId": "16607154835906475343"
     },
     "user_tz": 420
    },
    "id": "FZ5bakIDz1dz"
   },
   "outputs": [],
   "source": [
    "df.loc[modify_index, \"Sponsor_Shortname\"] = \"ace loans\""
   ]
  },
  {
   "cell_type": "markdown",
   "metadata": {
    "id": "P6vYDX-B0FL_"
   },
   "source": [
    "## Full Table Display"
   ]
  },
  {
   "cell_type": "code",
   "execution_count": null,
   "metadata": {
    "id": "XEx6X5PB0KQa"
   },
   "outputs": [],
   "source": [
    "# Set the option to display all rows\n",
    "pd.set_option('display.max_rows', None)"
   ]
  },
  {
   "cell_type": "code",
   "execution_count": null,
   "metadata": {
    "colab": {
     "base_uri": "https://localhost:8080/",
     "height": 610
    },
    "executionInfo": {
     "elapsed": 46,
     "status": "ok",
     "timestamp": 1743041100103,
     "user": {
      "displayName": "Fengchun Fan",
      "userId": "16607154835906475343"
     },
     "user_tz": 420
    },
    "id": "7sUIBPe7y4S7",
    "outputId": "b62cb78f-75f2-4f97-b056-3af48a89f805"
   },
   "outputs": [],
   "source": [
    "df"
   ]
  },
  {
   "cell_type": "code",
   "execution_count": null,
   "metadata": {
    "id": "Wi-6HIjczQ-8"
   },
   "outputs": [],
   "source": [
    "pd.reset_option('display.max_rows')"
   ]
  },
  {
   "cell_type": "code",
   "execution_count": null,
   "metadata": {
    "executionInfo": {
     "elapsed": 8,
     "status": "ok",
     "timestamp": 1743041134402,
     "user": {
      "displayName": "Fengchun Fan",
      "userId": "16607154835906475343"
     },
     "user_tz": 420
    },
    "id": "Q5_BGqBFqHBO"
   },
   "outputs": [],
   "source": [
    "# Export to csv file\n",
    "df.to_csv('', index=False)"
   ]
  }
 ],
 "metadata": {
  "colab": {
   "authorship_tag": "ABX9TyPnn1hFTumqH36H3GXiTbma",
   "collapsed_sections": [
    "kjoFK_WWy17F",
    "5PsD5OEqd6MQ",
    "ibYXB6810wLP",
    "bCLJbVDz1_4L",
    "ERhz04dsmsNM"
   ],
   "provenance": []
  },
  "kernelspec": {
   "display_name": "Python 3",
   "name": "python3"
  },
  "language_info": {
   "name": "python"
  }
 },
 "nbformat": 4,
 "nbformat_minor": 0
}
